{
 "cells": [
  {
   "cell_type": "markdown",
   "metadata": {},
   "source": [
    "# 파이썬 속성 강좌 1부"
   ]
  },
  {
   "cell_type": "markdown",
   "metadata": {},
   "source": [
    "### 들여쓰기"
   ]
  },
  {
   "cell_type": "markdown",
   "metadata": {},
   "source": [
    "C, Java, Javascript 등 많은 언어에서 코드의 단락을 구분하기 위해 중괄호(`{}`)를 사용한다.\n",
    "반면에 파이썬은 들여쓰기를 사용하여 코드단락(code block)을 구분한다.\n",
    "또한 문장 구조의 복잡성을 들여쓰기의 정도로 구분하여 가독성과 코드단락의 시작과 끝을 명확히 한다.\n",
    "\n",
    "예를 들어, 중첩된 `for` 반복문은 다음과 같이 작성한다.\n",
    "들여쓰기에 주의하라."
   ]
  },
  {
   "cell_type": "code",
   "execution_count": 1,
   "metadata": {},
   "outputs": [
    {
     "name": "stdout",
     "output_type": "stream",
     "text": [
      "1\n",
      "1\n",
      "2\n",
      "2\n",
      "3\n",
      "3\n",
      "4\n",
      "1\n",
      "2\n",
      "1\n",
      "3\n",
      "2\n",
      "4\n",
      "3\n",
      "5\n",
      "2\n",
      "3\n",
      "1\n",
      "4\n",
      "2\n",
      "5\n",
      "3\n",
      "6\n",
      "3\n",
      "반복 완료\n"
     ]
    }
   ],
   "source": [
    "for i in [1, 2, 3]:     \n",
    "    print(i)            \n",
    "    for j in [1, 2, 3]: \n",
    "        print(j)        \n",
    "        print(i + j)    \n",
    "    print(i)            \n",
    "print(\"반복 완료\")"
   ]
  },
  {
   "cell_type": "markdown",
   "metadata": {},
   "source": [
    "### 줄바꿈"
   ]
  },
  {
   "cell_type": "markdown",
   "metadata": {},
   "source": [
    "소괄호(`()`)와 대괄호(`{}`) 안에서는 공백문자(whitespace)가 무시된다.\n",
    "따라서 다음과 같은 긴 계산을 할 때 줄바꿈을 이용할 수 있다."
   ]
  },
  {
   "cell_type": "code",
   "execution_count": 2,
   "metadata": {},
   "outputs": [],
   "source": [
    "long_winded_computation = (1 + 2 + 3 + 4 + 5 + 6 + 7 + 8 + 9 + 10 \n",
    "                           + 11 + 12 +13 + 14 + 15 + 16 + 17 + 18 \n",
    "                           + 19 + 20)\n",
    "\n",
    "list_of_lists = [[1, 2, 3], [4, 5, 6], [7, 8, 9]]\n",
    "\n",
    "easier_to_read_list_of_lists = [[1, 2, 3],\n",
    "                                [4, 5, 6],\n",
    "                                [7, 8, 9]]"
   ]
  },
  {
   "cell_type": "raw",
   "metadata": {},
   "source": [
    "줄바꿈을 괄호가 없을 경우 사용하려면 백슬래시(backslash)을 사용한다."
   ]
  },
  {
   "cell_type": "code",
   "execution_count": 3,
   "metadata": {},
   "outputs": [],
   "source": [
    "two_plus_three = 2 + \\\n",
    "                 3"
   ]
  },
  {
   "cell_type": "markdown",
   "metadata": {},
   "source": [
    "#### 주의사항\n",
    "\n",
    "책의 설명과 달리 빈 줄을 사용해도 오류가 발생하지 않는다.\n",
    "아마도 파이썬이 업드레이드 되면서 달라진 요소로 보인다. \n",
    "그래도 사용하는 것은 추천하지 않는다."
   ]
  },
  {
   "cell_type": "code",
   "execution_count": 4,
   "metadata": {},
   "outputs": [
    {
     "name": "stdout",
     "output_type": "stream",
     "text": [
      "1\n",
      "2\n",
      "3\n",
      "4\n",
      "5\n"
     ]
    }
   ],
   "source": [
    "for i in [1, 2, 3, 4, 5]:\n",
    "\n",
    "    print(i)"
   ]
  },
  {
   "cell_type": "markdown",
   "metadata": {},
   "source": [
    "#### 들여쓰기 수준"
   ]
  },
  {
   "cell_type": "markdown",
   "metadata": {},
   "source": [
    "들여쓰기가 일정하지 않을 경우 오류가 발생하기 때문에 단락별 들여쓰기를 일정하게 유지해야 한다.\n",
    "\n",
    "아래 코드에서 `print(i)` 명령문이 한 단계 더 들어가 있으며, \n",
    "결과적으로 인덴테이션에러(`IndentationError`), 즉, 들여쓰기 오류가 발생한다."
   ]
  },
  {
   "cell_type": "code",
   "execution_count": 5,
   "metadata": {},
   "outputs": [
    {
     "ename": "IndentationError",
     "evalue": "unexpected indent (<ipython-input-5-047fe881c30a>, line 3)",
     "output_type": "error",
     "traceback": [
      "\u001b[0;36m  File \u001b[0;32m\"<ipython-input-5-047fe881c30a>\"\u001b[0;36m, line \u001b[0;32m3\u001b[0m\n\u001b[0;31m    print(i)\u001b[0m\n\u001b[0m    ^\u001b[0m\n\u001b[0;31mIndentationError\u001b[0m\u001b[0;31m:\u001b[0m unexpected indent\n"
     ]
    }
   ],
   "source": [
    "for i in [1, 2, 3, 4, 5]:\n",
    "    i = i + 1\n",
    "        print(i)"
   ]
  },
  {
   "cell_type": "markdown",
   "metadata": {},
   "source": [
    "### 모듈과 패키지"
   ]
  },
  {
   "cell_type": "markdown",
   "metadata": {},
   "source": [
    "파이썬을 실행할 때 기본적으로 사용할 있는 기능 이외의 것들을 사용하려면 관련 모듈과 패키지를 \n",
    "추가로 설치하거나 불러와야 한다. "
   ]
  },
  {
   "cell_type": "markdown",
   "metadata": {},
   "source": [
    "#### 모듈 불러오기"
   ]
  },
  {
   "cell_type": "markdown",
   "metadata": {},
   "source": [
    "예를 들어, sin, cos, log, ceil, floor 등 다양한\n",
    "수학 함수들을 사용하려면 `math` 모듈을 다음과 같이 불러와야 한다."
   ]
  },
  {
   "cell_type": "code",
   "execution_count": 6,
   "metadata": {},
   "outputs": [],
   "source": [
    "import math"
   ]
  },
  {
   "cell_type": "markdown",
   "metadata": {},
   "source": [
    "이제 `math` 모듈에 포함된 `log` 함수를 활용할 수 있다."
   ]
  },
  {
   "cell_type": "code",
   "execution_count": 7,
   "metadata": {},
   "outputs": [],
   "source": [
    "log2 = math.log(2)"
   ]
  },
  {
   "cell_type": "code",
   "execution_count": 8,
   "metadata": {},
   "outputs": [
    {
     "data": {
      "text/plain": [
       "0.6931471805599453"
      ]
     },
     "execution_count": 8,
     "metadata": {},
     "output_type": "execute_result"
    }
   ],
   "source": [
    "log2"
   ]
  },
  {
   "cell_type": "markdown",
   "metadata": {},
   "source": [
    "즉, 특정 모듈에 포함된 함수나 변수를 사용하려면 아래 형식으로 호출한다.\n",
    "\n",
    "```\n",
    "모듈이름.함수이름(변수,...)\n",
    "```"
   ]
  },
  {
   "cell_type": "markdown",
   "metadata": {},
   "source": [
    "#### 모듈 별칭 사용하기\n",
    "\n",
    "모듈이름으로 별칭(alias, 에일리어스)을 사용할 수 있다.\n",
    "별칭을 사용하는 이유는 주로, 이름을 간단하게 하기위해서이거나 이름이 중복되지 않게 하기 위해서이다."
   ]
  },
  {
   "cell_type": "markdown",
   "metadata": {},
   "source": [
    "#### 별칭예제 1\n",
    "`math` 모듈을 예를 들어 `m` 이라는 별칭으로 부를 수 있다.\n",
    "단, 별칭을 지정하면 **반드시** 별칭으로만 사용해야 한다."
   ]
  },
  {
   "cell_type": "code",
   "execution_count": 9,
   "metadata": {},
   "outputs": [
    {
     "data": {
      "text/plain": [
       "0.6931471805599453"
      ]
     },
     "execution_count": 9,
     "metadata": {},
     "output_type": "execute_result"
    }
   ],
   "source": [
    "import math as m\n",
    "log2 = m.log(2)\n",
    "log2"
   ]
  },
  {
   "cell_type": "markdown",
   "metadata": {},
   "source": [
    "#### 관습적 별칭\n",
    "\n",
    "자주 사용되는 모듈에 대한 별칭은 관련 커뮤너티에서 관습적으로 사용하는 별칭이 있다.\n",
    "별칭에 대한 규정이 있지는 않지만 관습을 따르는 것이 혼동을 방지하며,\n",
    "소스코드의 가독성과 협업의 효율성을 증대시킨다."
   ]
  },
  {
   "cell_type": "markdown",
   "metadata": {},
   "source": [
    "**주의:**\n",
    "`math` 모듈은 굳이 별칭을 사용하지 않는다. \n",
    "앞에서는 별칭을 사용할 수 있다는 것을 보여주기 위함이었다."
   ]
  },
  {
   "cell_type": "markdown",
   "metadata": {},
   "source": [
    "#### 별칭예제 2\n",
    "\n",
    "데이터를 시각화할 때는 맷플롯립(`matplotlib`) 패키지에 포함된 \n",
    "파이플롯(`pyplot`)이라는 모듈을 많이 사용하며,\n",
    "관습적으로 `plt`라고 지칭한다.\n",
    "\n",
    "아래 그래프는 대한민국 1인당 국민총소득(GNI)의 변천사를 1960년부터 5년 단위로 보여준다.\n",
    "\n",
    "출처: 한국은행,「국민계정」, 통계청,「장래인구추계」"
   ]
  },
  {
   "cell_type": "code",
   "execution_count": 10,
   "metadata": {},
   "outputs": [],
   "source": [
    "import matplotlib.pyplot as plt"
   ]
  },
  {
   "cell_type": "code",
   "execution_count": 11,
   "metadata": {},
   "outputs": [
    {
     "data": {
      "text/plain": [
       "[<matplotlib.lines.Line2D at 0x7f952b986e10>]"
      ]
     },
     "execution_count": 11,
     "metadata": {},
     "output_type": "execute_result"
    },
    {
     "data": {
      "image/png": "[encoded data removed]",
      "text/plain": [
       "<Figure size 432x288 with 1 Axes>"
      ]
     },
     "metadata": {
      "needs_background": "light"
     },
     "output_type": "display_data"
    }
   ],
   "source": [
    "years = [1960, 1965, 1970, 1975, 1980, \n",
    "         1985, 1990, 1995, 2000, 2005, \n",
    "         2010, 2015, 2018]\n",
    "gdp = [1290000, 1600000, 2470000, 3310000, 4670000, \n",
    "       6770000, 11340000, 16100000, 18380000, 23310000, \n",
    "       26330000, 30830000, 34930000]\n",
    "\n",
    "# 선그래프 그리기\n",
    "plt.plot(years, gdp, color='green', marker='o', linestyle='solid')"
   ]
  },
  {
   "cell_type": "markdown",
   "metadata": {},
   "source": [
    "#### 패키지와 모듈"
   ]
  },
  {
   "cell_type": "markdown",
   "metadata": {},
   "source": [
    "모듈은 파이썬 소스코드 파일을 가리키며 확장자가 `py`이다. \n",
    "반면에 패키지는 여러 개의 모듈을 담고 있는 디렉토리, 즉 폴더를 가리킨다. \n",
    "단, 폴더 안에 `__init__.py` 라는 특수 역할을 수행하는 파이썬 파일이 포함되어 있어야 한다.\n",
    "\n",
    "* `__init__.py`는 해당 패키지와 관련된 여러 속성을 담는다.\n",
    "    특별한 속성이 필요하지 않을 경우 빈 파일로 두어도 된다."
   ]
  },
  {
   "cell_type": "markdown",
   "metadata": {},
   "source": [
    "예를 들어, `matplotlib` 패키지 (폴더) 안에는 `pyplot` 이외에 `path`, `patches`, `date` 등 \n",
    "사용 기능별로 구분된 함수와 변수들을 담은 모듈들이 포함되어 있다.\n",
    "\n",
    "* 참조: 파이썬 모듈과 패키지에 대한 보다 자세한 설명은 아래 내용을 참조할 것을 추천한다.\n",
    "    * 모듈: [점푸투파이썬 모듈](https://wikidocs.net/29)\n",
    "    * 패키지: [점푸투파이썬 패키지](https://wikidocs.net/1418)"
   ]
  },
  {
   "cell_type": "markdown",
   "metadata": {},
   "source": [
    "#### 모듈의 특정 기능만 불러오기"
   ]
  },
  {
   "cell_type": "markdown",
   "metadata": {},
   "source": [
    "모듈에 포함된 기능들 중에서 특정 기능 몇 개만 불러올 경우 해당 기능만 명시해서 불러올 수 있다.\n",
    "\n",
    "아래 코드는 컬렉션즈(`collections`) 모듈에서 \n",
    "디폴트딕트(`defaultdict`) 함수와 카운터(`Counter`) 클래스만 불러온다. \n",
    "\n",
    "**주의:** 모듈에서 특정 기능만 불러올 경우 모듈의 이름을 명시하지 않는다."
   ]
  },
  {
   "cell_type": "code",
   "execution_count": 12,
   "metadata": {},
   "outputs": [],
   "source": [
    "from collections import defaultdict, Counter\n",
    "lookup = defaultdict(int)\n",
    "my_counter = Counter()"
   ]
  },
  {
   "cell_type": "markdown",
   "metadata": {},
   "source": [
    "디폴트딕트(`defaultdict`) 함수와 카운터(`Counter`) 클래스의 활용은 이후에 자세히 살펴볼 예정이다."
   ]
  },
  {
   "cell_type": "markdown",
   "metadata": {},
   "source": [
    "#### 좋지 않은 습관: \n",
    "\n",
    "특정 모듈에 포함된 모든 기능을 한꺼번에 불러오는 것은 매우 좋지 않은 습관이다.\n",
    "이유는 서로 다른 모듈에 동일한 이름의 중복되어 사용될 수도 있고 또 기존에 사용된 이름을 덮어쓰는 위험이 도사리기 때문이다. \n",
    "\n",
    "아래 예제는 매치(`match`)라고 이미 선언된 변수가 정규표현식 모듈 `re`에 포함된 `match` 라는 다른 기능의 함수에 의해\n",
    "덮어씌어지는 문제를 보여준다.\n",
    "\n",
    "**주의:** 프로그래밍 언어에서 별표(`*`)는 일반적으로 모든 것(all)을 의미한다."
   ]
  },
  {
   "cell_type": "code",
   "execution_count": 13,
   "metadata": {},
   "outputs": [
    {
     "name": "stdout",
     "output_type": "stream",
     "text": [
      "<function match at 0x7f952ec32158>\n"
     ]
    }
   ],
   "source": [
    "match = 10\n",
    "from re import *\n",
    "print(match)"
   ]
  },
  {
   "cell_type": "markdown",
   "metadata": {},
   "source": [
    "### 함수"
   ]
  },
  {
   "cell_type": "markdown",
   "metadata": {},
   "source": [
    "임의의 개수의 인자를 받아 연산을 실행 한 후 특정 결과를 반환하는(return) \n",
    "일종의 규칙을 함수라 부르며,\n",
    "파이썬에서는 데프(`def`)라는 키워드를 사용하여 함수 선언을 명시한다. \n",
    "\n",
    "입력 인자 개수는 함수 선언에서 사용되는 매개변수의 개수로 지정된다.\n",
    "아래에서 선언되는 함수 `double`은 매개변수를 `x` 하나만 사용한다.\n",
    "즉, 인자를 하나 입력 받아 그 인자의 두 배를 반환하는 함수인 더블(`double`)을 선언한다."
   ]
  },
  {
   "cell_type": "code",
   "execution_count": 14,
   "metadata": {},
   "outputs": [],
   "source": [
    "def my_double(x):\n",
    "    \"\"\"\n",
    "    입력된 값을 두 배하여 반환한다.\n",
    "    \"\"\"\n",
    "    return x * 2"
   ]
  },
  {
   "cell_type": "markdown",
   "metadata": {},
   "source": [
    "**주의:** \n",
    "\n",
    "* 함수 선언은 함수 이름과 해당 함수의 기능을 지정 하고 저장만 하며 실행하지는 않는다.\n",
    "\n",
    "* 파이썬의 경우 매개변수의 자료형을 명시하지 않는다. \n",
    "    대신에 함수를 호출해서 실행할 때 적절하지 않는 인자가 입력되는 경우 오류를 발생시킨다.\n",
    "\n",
    "* 물론 함수를 선언할 때는 특정 입력 인자들의 자료형을 생각하며 함수 본체를 구현한다.\n",
    "    따라서 함수를 호출할 때는 사용할 수 있는 인자의 개수와 각 인자들의 자료형을 \n",
    "    알고 있어야 한다."
   ]
  },
  {
   "cell_type": "markdown",
   "metadata": {},
   "source": [
    "#### 문서화 문자열(docstring)"
   ]
  },
  {
   "cell_type": "markdown",
   "metadata": {},
   "source": [
    "함수 선언 본체(body)에 사용된 세 개의 큰따옴표는 주석을 지정할 때 사용되며,\n",
    "함수의 기능을 설명하는 설명서 역할을 수행한다.\n",
    "전문 용어로 문서화 문자열(docstring, 독스트링)이라 불리며, \n",
    "소스코드의 구성과 구현과 관련된 내용을 문서화를 할 때 매우 유용하게 사용되는 기능이다. \n",
    "\n",
    "예를 들어 `double` 함수에 대한 정보를 요구할 때 큰따옴표 안의 설명이 보여지며,\n",
    "이를 위해 헬프(`help`) 함수를 이용한다."
   ]
  },
  {
   "cell_type": "code",
   "execution_count": 15,
   "metadata": {},
   "outputs": [
    {
     "name": "stdout",
     "output_type": "stream",
     "text": [
      "Help on function my_double in module __main__:\n",
      "\n",
      "my_double(x)\n",
      "    입력된 값을 두 배하여 반환한다.\n",
      "\n"
     ]
    }
   ],
   "source": [
    "help(my_double)"
   ]
  },
  {
   "cell_type": "markdown",
   "metadata": {},
   "source": [
    "#### 매개변수와 인자"
   ]
  },
  {
   "cell_type": "markdown",
   "metadata": {},
   "source": [
    "함수를 선언할 때 입력받을 인자들을 저장하는 역할을 수행하는 변수를 **매개변수**(parameter)라 한다.\n",
    "즉, 매개변수는 함수의 본체로 들어오는 값들의 입구들의 이름 역할을 수행한다.\n",
    "반면에 인자(argument, 아규먼트)는 함수를 호출할 때 해당 함수의 매개변수를 통해 함수 본체에 전달되는 값을 가리킨다.\n",
    "즉, 매개변수는 일종의 변수이고, 인자는 매개변수에 저장될 구체적인 값을 가리킨다."
   ]
  },
  {
   "cell_type": "markdown",
   "metadata": {},
   "source": [
    "#### 키워드 인자(keyword argument)와 기본값"
   ]
  },
  {
   "cell_type": "markdown",
   "metadata": {},
   "source": [
    "함수의 매개변수에 기본값을 지정할 수 있으며, 그런 인자를 **키워드 인자**\n",
    "또는 **이름 있는 인자**라고 부른다.\n",
    "\n",
    "이렇게 하면 특정 매개변수에 대한 인자를 지정하지 않은 채 함수를 호출할 수 있으며,\n",
    "그럴 경우 기본값으로 지정된 키워드 인자가 해당 매개변수의 인자로 사용된다.\n",
    "\n",
    "다음 `my_print` 함수의 둘째 매개변수 `message`의 키워드 인자는 `\"hello!\"` 이다."
   ]
  },
  {
   "cell_type": "code",
   "execution_count": 16,
   "metadata": {},
   "outputs": [
    {
     "name": "stdout",
     "output_type": "stream",
     "text": [
      "say hi!\n",
      "say hi!\n",
      "say hello!\n"
     ]
    }
   ],
   "source": [
    "def my_print(do, message = \"hello!\"):\n",
    "    print(do + ' ' + message)\n",
    "\n",
    "my_print(\"say\", \"hi!\")\n",
    "my_print(\"say\", message=\"hi!\")\n",
    "my_print(\"say\")"
   ]
  },
  {
   "cell_type": "markdown",
   "metadata": {},
   "source": [
    "**주의:** \n",
    "* 문자열들의 덧셈은 문자열 이어붙히기를 의미한다.\n",
    "* `' '` 또는 `\" \"`는 스페이스 한 칸을 의미하는 문자열이다."
   ]
  },
  {
   "cell_type": "markdown",
   "metadata": {},
   "source": [
    "함수를 호출할 때 매개변수 이름을 함께 사용해도 된다."
   ]
  },
  {
   "cell_type": "code",
   "execution_count": 17,
   "metadata": {},
   "outputs": [
    {
     "name": "stdout",
     "output_type": "stream",
     "text": [
      "홍 길동\n",
      "홍 아무개\n",
      "이름은 길동\n"
     ]
    }
   ],
   "source": [
    "def full_name(last = \"이름은\", first = \"아무개\"):\n",
    "    return last + \" \" + first\n",
    "\n",
    "print(full_name(\"홍\", \"길동\"))\n",
    "print(full_name(\"홍\"))\n",
    "print(full_name(first=\"길동\"))"
   ]
  },
  {
   "cell_type": "markdown",
   "metadata": {},
   "source": [
    "### 문자열 자료형"
   ]
  },
  {
   "cell_type": "markdown",
   "metadata": {},
   "source": [
    "문자열은 말 그래도 문자들을 나열해 놓은 것이며 아무런 의미를 갖지 않는다.\n",
    "즉, 파이썬은 문자열을 보면 아무런 해석을 하지 않으며 그냥 명령에 따라 주어진 문자열을 조작한다.\n",
    "물론 이런 문자열들을 잘 조작하여 필요한 정보를 얻어내는 것이 데이터 분석의 기본 목표이다.\n",
    "\n",
    "문자열은 작은 따옴표(`'`) 또는 큰 따옴표(`\"`)로 감싸져야 한다.\n",
    "다만 앞 뒤로 동일한 종류의 따옴표가 사용되어야 한다."
   ]
  },
  {
   "cell_type": "code",
   "execution_count": 18,
   "metadata": {},
   "outputs": [],
   "source": [
    "single_quoted_string = 'data science'\n",
    "double_quoted_string = \"data science\""
   ]
  },
  {
   "cell_type": "markdown",
   "metadata": {},
   "source": [
    "두 변수가 동일한 값을 저장하고 있다는 것을 확인할 수 있다."
   ]
  },
  {
   "cell_type": "code",
   "execution_count": 19,
   "metadata": {},
   "outputs": [
    {
     "data": {
      "text/plain": [
       "True"
      ]
     },
     "execution_count": 19,
     "metadata": {},
     "output_type": "execute_result"
    }
   ],
   "source": [
    "single_quoted_string == double_quoted_string"
   ]
  },
  {
   "cell_type": "markdown",
   "metadata": {},
   "source": [
    "**주의:** 위에서 사용된 기호 `==`는 양측의 값이 동일함을 판단하는 함수이다.\n",
    "즉, 양측의 (변수에 저장된) 값이 동일하면 참(`True`)을,\n",
    "다르면 거짓(`False`)를 반환하는 함수이다."
   ]
  },
  {
   "cell_type": "markdown",
   "metadata": {},
   "source": [
    "#### 특수 문자"
   ]
  },
  {
   "cell_type": "markdown",
   "metadata": {},
   "source": [
    "파이썬에서 백슬래시(`\\`)는 특별한 역할을 수행한다. \n",
    "예를 들어 `\\t`는 탭을 가리킨다.\n",
    "여기서 탭은 탭 키를 눌렀을 경우 커서(cursor)가 지정된 크기만큼 움직이도록 하는 것을 가리킨다."
   ]
  },
  {
   "cell_type": "code",
   "execution_count": 20,
   "metadata": {},
   "outputs": [
    {
     "name": "stdout",
     "output_type": "stream",
     "text": [
      "Hello,\tPython\n"
     ]
    }
   ],
   "source": [
    "print(\"Hello,\\tPython\")"
   ]
  },
  {
   "cell_type": "markdown",
   "metadata": {},
   "source": [
    "**주의:** 탭은 보통 스페이스 두 칸 또는 네 칸을 가리킨다. 언어마다 조금 다를 수 있다."
   ]
  },
  {
   "cell_type": "code",
   "execution_count": 21,
   "metadata": {},
   "outputs": [
    {
     "name": "stdout",
     "output_type": "stream",
     "text": [
      "Hello,  Python\n"
     ]
    }
   ],
   "source": [
    "print(\"Hello,  Python\") # 스페이스 두 칸"
   ]
  },
  {
   "cell_type": "code",
   "execution_count": 22,
   "metadata": {},
   "outputs": [
    {
     "name": "stdout",
     "output_type": "stream",
     "text": [
      "Hello,    Python\n"
     ]
    }
   ],
   "source": [
    "print(\"Hello,    Python\") # 스페이스 네 칸"
   ]
  },
  {
   "cell_type": "markdown",
   "metadata": {},
   "source": [
    "즉, 탭은 여기서는 스페이스 두 칸에 해당함을 알 수 있다.\n",
    "\n",
    "백슬래시 자체를 문자열에 포함하고 싶을 때는 **무가공 문자열(raw string)**이란\n",
    "의미로 `r` 기호을 문자열 앞에 붙혀서 사용한다.\n",
    "그러면 백슬래시의 특수성이 무시되면 하나의 문자로 인식된다."
   ]
  },
  {
   "cell_type": "code",
   "execution_count": 23,
   "metadata": {},
   "outputs": [
    {
     "name": "stdout",
     "output_type": "stream",
     "text": [
      "Hello,\\tPython\n"
     ]
    }
   ],
   "source": [
    "print(r'Hello,\\tPython')"
   ]
  },
  {
   "cell_type": "markdown",
   "metadata": {},
   "source": [
    "#### 여러 줄로 구성된 문자열"
   ]
  },
  {
   "cell_type": "markdown",
   "metadata": {},
   "source": [
    "문자열을 여러 줄에 걸쳐서 작성하고 싶으면 세 개의 큰 따옴표(`\"\"\"`)를 앞뒤로 감싼다."
   ]
  },
  {
   "cell_type": "code",
   "execution_count": 24,
   "metadata": {},
   "outputs": [],
   "source": [
    "multi_line_string = \"\"\"첫째줄입니다.\n",
    "둘째줄입니다.\n",
    "셋째줄입니다.\"\"\""
   ]
  },
  {
   "cell_type": "code",
   "execution_count": 25,
   "metadata": {},
   "outputs": [
    {
     "name": "stdout",
     "output_type": "stream",
     "text": [
      "첫째줄입니다.\n",
      "둘째줄입니다.\n",
      "셋째줄입니다.\n"
     ]
    }
   ],
   "source": [
    "print(multi_line_string)"
   ]
  },
  {
   "cell_type": "markdown",
   "metadata": {},
   "source": [
    "파이썬 해석기에 내부에서는 사실 `\\n` 이라는 특수 문자열이 추가되어 하나의 문자열로 저장된다.\n",
    "여기서 `\\n` 은 뉴 라인(new line, 줄바꿈)을 가리키는 특수 문자열이다.\n",
    "역시 여기서도 백슬래시의 특수 기능이 활용된다."
   ]
  },
  {
   "cell_type": "code",
   "execution_count": 26,
   "metadata": {},
   "outputs": [
    {
     "data": {
      "text/plain": [
       "'첫째줄입니다.\\n둘째줄입니다.\\n셋째줄입니다.'"
      ]
     },
     "execution_count": 26,
     "metadata": {},
     "output_type": "execute_result"
    }
   ],
   "source": [
    "multi_line_string"
   ]
  },
  {
   "cell_type": "markdown",
   "metadata": {},
   "source": [
    "#### 포맷 문자열(format string)"
   ]
  },
  {
   "cell_type": "markdown",
   "metadata": {},
   "source": [
    "문자열 내에 지정된 값을 삽입하여 보다 유연한 문자열을 생성할 수 있도록\n",
    "도와주는 문자열을 포맷 문자열이라 부르며,\n",
    "값을 인자로 입력받아 새로운 문자열을 생성하는 일종의 틀의 역할을 수행한다.\n",
    "\n",
    "예를 들어, 성과 이름이 각각 `last_name`과 `first_name` 변수에 저장되어 있다."
   ]
  },
  {
   "cell_type": "code",
   "execution_count": 27,
   "metadata": {},
   "outputs": [],
   "source": [
    "last_name = \"홍\"\n",
    "first_name = \"길동\""
   ]
  },
  {
   "cell_type": "markdown",
   "metadata": {},
   "source": [
    "그러면 다음과 같이 문자열 덧셈을 이용하여 `'홍 길동'`을 생성할 수 있다."
   ]
  },
  {
   "cell_type": "code",
   "execution_count": 28,
   "metadata": {},
   "outputs": [
    {
     "data": {
      "text/plain": [
       "'홍 길동'"
      ]
     },
     "execution_count": 28,
     "metadata": {},
     "output_type": "execute_result"
    }
   ],
   "source": [
    "last_name + \" \"+ first_name"
   ]
  },
  {
   "cell_type": "markdown",
   "metadata": {},
   "source": [
    "또한 포맷 문자열을 이용하여 좀 더 유연하게 문자열을 다룰 수 있다."
   ]
  },
  {
   "cell_type": "code",
   "execution_count": 29,
   "metadata": {},
   "outputs": [
    {
     "data": {
      "text/plain": [
       "'홍 길동'"
      ]
     },
     "execution_count": 29,
     "metadata": {},
     "output_type": "execute_result"
    }
   ],
   "source": [
    "\"{1} {0}\".format(first_name, last_name)"
   ]
  },
  {
   "cell_type": "markdown",
   "metadata": {},
   "source": [
    "변수 값이 바뀌면 다르게 출력된다."
   ]
  },
  {
   "cell_type": "code",
   "execution_count": 30,
   "metadata": {},
   "outputs": [
    {
     "data": {
      "text/plain": [
       "'박 길동'"
      ]
     },
     "execution_count": 30,
     "metadata": {},
     "output_type": "execute_result"
    }
   ],
   "source": [
    "last_name = \"박\"\n",
    "\"{1} {0}\".format(first_name, last_name)"
   ]
  },
  {
   "cell_type": "markdown",
   "metadata": {},
   "source": [
    "#### f-문자열(f-string)"
   ]
  },
  {
   "cell_type": "markdown",
   "metadata": {},
   "source": [
    "파이썬 최신 버젼부터는 **f-문자열**이 제공되며 편리성이 보다 높다.\n",
    "이 강의에서는 주로 f-문자열을 사용할 것이다."
   ]
  },
  {
   "cell_type": "code",
   "execution_count": 31,
   "metadata": {},
   "outputs": [
    {
     "data": {
      "text/plain": [
       "'박 길동'"
      ]
     },
     "execution_count": 31,
     "metadata": {},
     "output_type": "execute_result"
    }
   ],
   "source": [
    "f\"{last_name} {first_name}\""
   ]
  },
  {
   "cell_type": "markdown",
   "metadata": {},
   "source": [
    "### 리스트 자료형\n",
    "\n",
    "파이썬에서 제공하는 자료형 중에서 가장 기본적인 자료형이다. \n",
    "리스트는 여러 개의 값을 하나의 모둠(collection)으로 묶는다.\n",
    "또한 리스트에 포함된 값들 사이의 순서가 있으며,\n",
    "순서는 인덱스(index)로 지정된다.\n",
    "\n",
    "**주의:** 인덱스는 0번 부터 시작하며, 0, 1, 2, 3, ... 등으로 리스트 왼편에 위치한 항목부터\n",
    "인덱스를 센다.\n",
    "\n",
    "리스트 항목은 아무 자료형이나 섞어서 사용될 수 있다."
   ]
  },
  {
   "cell_type": "markdown",
   "metadata": {},
   "source": [
    "#### 동일 자료형 리스트"
   ]
  },
  {
   "cell_type": "code",
   "execution_count": 32,
   "metadata": {},
   "outputs": [],
   "source": [
    "integer_list = [1, 2, 3]"
   ]
  },
  {
   "cell_type": "markdown",
   "metadata": {},
   "source": [
    "#### 섞인 자료형 리스트"
   ]
  },
  {
   "cell_type": "code",
   "execution_count": 33,
   "metadata": {},
   "outputs": [],
   "source": [
    "heterogeneous_list = [\"string\", 0.1, True]"
   ]
  },
  {
   "cell_type": "markdown",
   "metadata": {},
   "source": [
    "#### 중첩 리스트\n",
    "\n",
    "리스트가 다른 리스트의 항목으로 사용될 수 있으며,\n",
    "중첩 정도에 아무런 제한이 없다.\n",
    "\n",
    "**주의:** `[]`는 아무런 항목이 없는 공리스트(empty list)를 가리킨다. "
   ]
  },
  {
   "cell_type": "code",
   "execution_count": 34,
   "metadata": {},
   "outputs": [],
   "source": [
    "list_of_lists = [integer_list, heterogeneous_list, []]"
   ]
  },
  {
   "cell_type": "markdown",
   "metadata": {},
   "source": [
    "리스를 활용하는 많은 도구들이 있다."
   ]
  },
  {
   "cell_type": "markdown",
   "metadata": {},
   "source": [
    "#### 리스트 길이\n",
    "\n",
    "`len` 함수는 리스트의 길이를 반환한다."
   ]
  },
  {
   "cell_type": "code",
   "execution_count": 35,
   "metadata": {},
   "outputs": [
    {
     "data": {
      "text/plain": [
       "3"
      ]
     },
     "execution_count": 35,
     "metadata": {},
     "output_type": "execute_result"
    }
   ],
   "source": [
    "len(integer_list)"
   ]
  },
  {
   "cell_type": "markdown",
   "metadata": {},
   "source": [
    "#### 리스트 항목들의 덧셈\n",
    "\n",
    "리스트 항목이 모두 숫자일 경우 모든 항목을 한꺼번에 더한 결과를 구할 수 있다."
   ]
  },
  {
   "cell_type": "code",
   "execution_count": 36,
   "metadata": {},
   "outputs": [
    {
     "data": {
      "text/plain": [
       "6"
      ]
     },
     "execution_count": 36,
     "metadata": {},
     "output_type": "execute_result"
    }
   ],
   "source": [
    "sum(integer_list)"
   ]
  },
  {
   "cell_type": "markdown",
   "metadata": {},
   "source": [
    "#### 인덱싱\n",
    "\n",
    "리스트의 특정 인덱스에 위치한 값을 확인하거나 수정할 수 있으며, 이를 **인덱싱**이라 부른다.\n",
    "기호는 대괄호(`[]`)를 사용한다."
   ]
  },
  {
   "cell_type": "code",
   "execution_count": 37,
   "metadata": {},
   "outputs": [
    {
     "name": "stdout",
     "output_type": "stream",
     "text": [
      "zero\t = 0,\n",
      "one\t = 1,\n",
      "nine\t = 9,\n",
      "eight\t = 8,\n",
      "x\t = [-1, 1, 2, 3, 4, 5, 6, 7, 8, 9]\n"
     ]
    }
   ],
   "source": [
    "x = [0, 1, 2, 3, 4, 5, 6, 7, 8, 9]\n",
    "\n",
    "zero = x[0]\n",
    "one = x[1] \n",
    "nine = x[-1]\n",
    "eight = x[-2]\n",
    "x[0] = -1\n",
    "\n",
    "print(f\"zero\\t = {zero}\", \n",
    "      f\"one\\t = {one}\", \n",
    "      f\"nine\\t = {nine}\", \n",
    "      f\"eight\\t = {eight}\", \n",
    "      f\"x\\t = {x}\", \n",
    "      sep=',\\n')"
   ]
  },
  {
   "cell_type": "markdown",
   "metadata": {},
   "source": [
    "**주의:** \n",
    "\n",
    "* 프린트(`print`) 함수는 인자를 여러 개 받을 수 있으며, 각 인자를 모두 화면에 출력해 주는 함수이다.\n",
    "    `print` 함수의 각 인자들은 기본적으로 스페이스를 기준으로 한 줄에 출력되지만, \n",
    "    각 인자를 어떻게 구분해서 출력할지를 `sep`이라는 인자의 값을 조정하여 지정할 수 있다.\n",
    "    위에서는 줄바꿈(`\\n`)을 `sep`에 대한 인자값으로 지정하여서 각 인자들이 여러 줄로 나뉘어 출력되었다.\n",
    "\n",
    "* **역순 인덱스**(reverse index): 앞서 설명한 대로 인덱스는 리스트의 맨 왼편 항목부터 \n",
    "    0, 1, 2, 3, ... 식으로 번호를 매긴다.\n",
    "    반면에 리스트의 맨 오른편 항목부터 -1, -2, -3, ... 을 이용하여 역순으로 인덱스를 매길 수도 있다.\n",
    "    따라서 -1은 리스트의 오른편 마지막 항목을 가리키며 종종 활용된다."
   ]
  },
  {
   "cell_type": "markdown",
   "metadata": {},
   "source": [
    "#### 인(`in`) 연산자"
   ]
  },
  {
   "cell_type": "markdown",
   "metadata": {},
   "source": [
    "`in`은 항목의 포함여부를 판단해 주는 연산자이다.\n",
    "반환값은 `True` 또는 `False`이다.\n",
    "\n",
    "**주의:** `True`와 `False`는 부울(`bool`) 자료형에 속하는 값들이다."
   ]
  },
  {
   "cell_type": "code",
   "execution_count": 38,
   "metadata": {},
   "outputs": [
    {
     "data": {
      "text/plain": [
       "True"
      ]
     },
     "execution_count": 38,
     "metadata": {},
     "output_type": "execute_result"
    }
   ],
   "source": [
    "1 in [1, 2, 3]"
   ]
  },
  {
   "cell_type": "code",
   "execution_count": 39,
   "metadata": {},
   "outputs": [
    {
     "data": {
      "text/plain": [
       "False"
      ]
     },
     "execution_count": 39,
     "metadata": {},
     "output_type": "execute_result"
    }
   ],
   "source": [
    "0 in [1, 2, 3]"
   ]
  },
  {
   "cell_type": "markdown",
   "metadata": {},
   "source": [
    "#### 리스트 풀어헤치기(unpacking)\n",
    "\n",
    "리스트의 길이를 정확히 알고 있는 경우 각각의 항목을 따로따로 떼어내어 변수에 저장할 수 있다."
   ]
  },
  {
   "cell_type": "code",
   "execution_count": 40,
   "metadata": {},
   "outputs": [
    {
     "name": "stdout",
     "output_type": "stream",
     "text": [
      "x = 1\n",
      "y = 2\n",
      "z = 3\n"
     ]
    }
   ],
   "source": [
    "x, y, z = [1, 2, 3]\n",
    "print(f\"x = {x}\", \n",
    "      f\"y = {y}\",\n",
    "      f\"z = {z}\",\n",
    "      sep='\\n')"
   ]
  },
  {
   "cell_type": "markdown",
   "metadata": {},
   "source": [
    "**주의:** 리스트의 길이와 변수의 개수가 다르면 오류가 발생한다."
   ]
  },
  {
   "cell_type": "code",
   "execution_count": 41,
   "metadata": {},
   "outputs": [
    {
     "ename": "ValueError",
     "evalue": "too many values to unpack (expected 2)",
     "output_type": "error",
     "traceback": [
      "\u001b[0;31m---------------------------------------------------------------------------\u001b[0m",
      "\u001b[0;31mValueError\u001b[0m                                Traceback (most recent call last)",
      "\u001b[0;32m<ipython-input-41-43d2015d9ce2>\u001b[0m in \u001b[0;36m<module>\u001b[0;34m\u001b[0m\n\u001b[0;32m----> 1\u001b[0;31m \u001b[0mx\u001b[0m\u001b[0;34m,\u001b[0m \u001b[0my\u001b[0m \u001b[0;34m=\u001b[0m \u001b[0;34m[\u001b[0m\u001b[0;36m1\u001b[0m\u001b[0;34m,\u001b[0m \u001b[0;36m2\u001b[0m\u001b[0;34m,\u001b[0m \u001b[0;36m3\u001b[0m\u001b[0;34m]\u001b[0m\u001b[0;34m\u001b[0m\u001b[0;34m\u001b[0m\u001b[0m\n\u001b[0m",
      "\u001b[0;31mValueError\u001b[0m: too many values to unpack (expected 2)"
     ]
    }
   ],
   "source": [
    "x, y = [1, 2, 3]"
   ]
  },
  {
   "cell_type": "code",
   "execution_count": 42,
   "metadata": {},
   "outputs": [
    {
     "ename": "ValueError",
     "evalue": "not enough values to unpack (expected 4, got 3)",
     "output_type": "error",
     "traceback": [
      "\u001b[0;31m---------------------------------------------------------------------------\u001b[0m",
      "\u001b[0;31mValueError\u001b[0m                                Traceback (most recent call last)",
      "\u001b[0;32m<ipython-input-42-6891ae448c90>\u001b[0m in \u001b[0;36m<module>\u001b[0;34m\u001b[0m\n\u001b[0;32m----> 1\u001b[0;31m \u001b[0mx\u001b[0m\u001b[0;34m,\u001b[0m \u001b[0my\u001b[0m\u001b[0;34m,\u001b[0m \u001b[0mz\u001b[0m\u001b[0;34m,\u001b[0m \u001b[0mw\u001b[0m \u001b[0;34m=\u001b[0m \u001b[0;34m[\u001b[0m\u001b[0;36m1\u001b[0m\u001b[0;34m,\u001b[0m \u001b[0;36m2\u001b[0m\u001b[0;34m,\u001b[0m \u001b[0;36m3\u001b[0m\u001b[0;34m]\u001b[0m\u001b[0;34m\u001b[0m\u001b[0;34m\u001b[0m\u001b[0m\n\u001b[0m",
      "\u001b[0;31mValueError\u001b[0m: not enough values to unpack (expected 4, got 3)"
     ]
    }
   ],
   "source": [
    "x, y, z, w = [1, 2, 3]"
   ]
  },
  {
   "cell_type": "markdown",
   "metadata": {},
   "source": [
    "리스트를 해제하면서 앞으로 사용하지 않고 버릴 항목은 굳이 이름을 주지 않아도 된다.\n",
    "이를 위해 밑줄(`underscore`, 언더스코어) 기호를 사용한다."
   ]
  },
  {
   "cell_type": "code",
   "execution_count": 43,
   "metadata": {},
   "outputs": [
    {
     "name": "stdout",
     "output_type": "stream",
     "text": [
      "x = 1\n",
      "z = 3\n"
     ]
    }
   ],
   "source": [
    "x, _, z = [1, 2, 3]\n",
    "print(f\"x = {x}\", \n",
    "      f\"z = {z}\",\n",
    "      sep='\\n')"
   ]
  },
  {
   "cell_type": "markdown",
   "metadata": {},
   "source": [
    "### 튜플(tuple) 자료형\n",
    "\n",
    "튜를 자료형은 리스트와 거의 같다. 다만 튜플 자료형은 한 번 생성되면 수정이 불가능하다.\n",
    "즉, 앞서 리스트 인덱싱을 통해 기존 리스트의 항목을 수정할 수 있었지만 \n",
    "튜플의 경의 인덱싱을 통해 튜플의 항목을 확인하고 읽을 수만 있어서 수정은 불가능하다.\n",
    "수정불가능성을 제외하고는 리스트와 기본적으로 동일하게 작동한다.\n",
    "\n",
    "리스트 자료형을 나타내는 기호는 소괄호(`()`)를 사용한다."
   ]
  },
  {
   "cell_type": "code",
   "execution_count": 44,
   "metadata": {},
   "outputs": [],
   "source": [
    "my_list = [1, 2]   # 리스트\n",
    "my_tuple = (1, 2)  # 튜플"
   ]
  },
  {
   "cell_type": "markdown",
   "metadata": {},
   "source": [
    "#### 수정 가능성\n",
    "\n",
    "리스트는 인덱싱을 통해 특정 인덱스의 항목 수정이 가능하다."
   ]
  },
  {
   "cell_type": "code",
   "execution_count": 45,
   "metadata": {},
   "outputs": [
    {
     "name": "stdout",
     "output_type": "stream",
     "text": [
      "[1, 3]\n"
     ]
    }
   ],
   "source": [
    "my_list[-1] = 3\n",
    "print(my_list)"
   ]
  },
  {
   "cell_type": "markdown",
   "metadata": {},
   "source": [
    "반면에 튜플의 경우 수정을 시도하면 오류가 발생한다."
   ]
  },
  {
   "cell_type": "code",
   "execution_count": 46,
   "metadata": {},
   "outputs": [
    {
     "ename": "TypeError",
     "evalue": "'tuple' object does not support item assignment",
     "output_type": "error",
     "traceback": [
      "\u001b[0;31m---------------------------------------------------------------------------\u001b[0m",
      "\u001b[0;31mTypeError\u001b[0m                                 Traceback (most recent call last)",
      "\u001b[0;32m<ipython-input-46-0a2170fd1534>\u001b[0m in \u001b[0;36m<module>\u001b[0;34m\u001b[0m\n\u001b[0;32m----> 1\u001b[0;31m \u001b[0mmy_tuple\u001b[0m\u001b[0;34m[\u001b[0m\u001b[0;36m1\u001b[0m\u001b[0;34m]\u001b[0m \u001b[0;34m=\u001b[0m \u001b[0;36m3\u001b[0m\u001b[0;34m\u001b[0m\u001b[0;34m\u001b[0m\u001b[0m\n\u001b[0m",
      "\u001b[0;31mTypeError\u001b[0m: 'tuple' object does not support item assignment"
     ]
    }
   ],
   "source": [
    "my_tuple[1] = 3"
   ]
  },
  {
   "cell_type": "markdown",
   "metadata": {},
   "source": [
    "인덱싱을 통해 항목을 확인하여 활용할 수는 있다."
   ]
  },
  {
   "cell_type": "code",
   "execution_count": 47,
   "metadata": {},
   "outputs": [
    {
     "name": "stdout",
     "output_type": "stream",
     "text": [
      "1\n"
     ]
    }
   ],
   "source": [
    "x1 = my_tuple[0]\n",
    "print(x1)"
   ]
  },
  {
   "cell_type": "markdown",
   "metadata": {},
   "source": [
    "소괄호 없이 쉼표(comma, 콤마)를 이용하여 항목을 나열해도 튜플로 인식된다."
   ]
  },
  {
   "cell_type": "code",
   "execution_count": 48,
   "metadata": {},
   "outputs": [
    {
     "name": "stdout",
     "output_type": "stream",
     "text": [
      "(3, 4)\n"
     ]
    }
   ],
   "source": [
    "other_tuple = 3, 4\n",
    "print(other_tuple)"
   ]
  },
  {
   "cell_type": "markdown",
   "metadata": {},
   "source": [
    "#### 함수 반환값과 튜플\n",
    "\n",
    "함수는 실행과정에서 하나의 값만 반환할 수 있다.\n",
    "하지만 튜플을 사용하면 여러 개의 값을 동시에 반환할 수 있다."
   ]
  },
  {
   "cell_type": "code",
   "execution_count": 49,
   "metadata": {},
   "outputs": [
    {
     "name": "stdout",
     "output_type": "stream",
     "text": [
      "sp = (5, 6)\n",
      "s  = 5\n",
      "p  = 6\n"
     ]
    }
   ],
   "source": [
    "def sum_and_product(x, y):\n",
    "    return (x + y), (x * y)\n",
    "\n",
    "sp = sum_and_product(2, 3)\n",
    "s, p = sum_and_product(2, 3)\n",
    "\n",
    "print(f\"sp = {sp}\", f\"s  = {s}\", f\"p  = {p}\", sep='\\n')"
   ]
  },
  {
   "cell_type": "markdown",
   "metadata": {},
   "source": [
    "#### 튜플 풀어헤치기(unpacking)\n",
    "\n",
    "리스트의 경우와 동일하게 작동한다."
   ]
  },
  {
   "cell_type": "code",
   "execution_count": 50,
   "metadata": {},
   "outputs": [
    {
     "name": "stdout",
     "output_type": "stream",
     "text": [
      "x = 1,\n",
      "y = 2,\n",
      "z = 3\n"
     ]
    }
   ],
   "source": [
    "x, y, z = (1, 2, 3)\n",
    "print(f\"x = {x}\", \n",
    "      f\"y = {y}\",\n",
    "      f\"z = {z}\",\n",
    "      sep=',\\n')"
   ]
  },
  {
   "cell_type": "markdown",
   "metadata": {},
   "source": [
    "**주의:** 튜플의 길이와 변수의 개수가 다르면 오류가 발생한다."
   ]
  },
  {
   "cell_type": "code",
   "execution_count": 51,
   "metadata": {},
   "outputs": [
    {
     "ename": "ValueError",
     "evalue": "too many values to unpack (expected 2)",
     "output_type": "error",
     "traceback": [
      "\u001b[0;31m---------------------------------------------------------------------------\u001b[0m",
      "\u001b[0;31mValueError\u001b[0m                                Traceback (most recent call last)",
      "\u001b[0;32m<ipython-input-51-1e828543ccb3>\u001b[0m in \u001b[0;36m<module>\u001b[0;34m\u001b[0m\n\u001b[0;32m----> 1\u001b[0;31m \u001b[0mx\u001b[0m\u001b[0;34m,\u001b[0m \u001b[0my\u001b[0m \u001b[0;34m=\u001b[0m \u001b[0;34m(\u001b[0m\u001b[0;36m1\u001b[0m\u001b[0;34m,\u001b[0m \u001b[0;36m2\u001b[0m\u001b[0;34m,\u001b[0m \u001b[0;36m3\u001b[0m\u001b[0;34m)\u001b[0m\u001b[0;34m\u001b[0m\u001b[0;34m\u001b[0m\u001b[0m\n\u001b[0m",
      "\u001b[0;31mValueError\u001b[0m: too many values to unpack (expected 2)"
     ]
    }
   ],
   "source": [
    "x, y = (1, 2, 3)"
   ]
  },
  {
   "cell_type": "code",
   "execution_count": 52,
   "metadata": {},
   "outputs": [
    {
     "ename": "ValueError",
     "evalue": "not enough values to unpack (expected 4, got 3)",
     "output_type": "error",
     "traceback": [
      "\u001b[0;31m---------------------------------------------------------------------------\u001b[0m",
      "\u001b[0;31mValueError\u001b[0m                                Traceback (most recent call last)",
      "\u001b[0;32m<ipython-input-52-cef1efa99347>\u001b[0m in \u001b[0;36m<module>\u001b[0;34m\u001b[0m\n\u001b[0;32m----> 1\u001b[0;31m \u001b[0mx\u001b[0m\u001b[0;34m,\u001b[0m \u001b[0my\u001b[0m\u001b[0;34m,\u001b[0m \u001b[0mz\u001b[0m\u001b[0;34m,\u001b[0m \u001b[0mw\u001b[0m \u001b[0;34m=\u001b[0m \u001b[0;34m(\u001b[0m\u001b[0;36m1\u001b[0m\u001b[0;34m,\u001b[0m \u001b[0;36m2\u001b[0m\u001b[0;34m,\u001b[0m \u001b[0;36m3\u001b[0m\u001b[0;34m)\u001b[0m\u001b[0;34m\u001b[0m\u001b[0;34m\u001b[0m\u001b[0m\n\u001b[0m",
      "\u001b[0;31mValueError\u001b[0m: not enough values to unpack (expected 4, got 3)"
     ]
    }
   ],
   "source": [
    "x, y, z, w = (1, 2, 3)"
   ]
  },
  {
   "cell_type": "markdown",
   "metadata": {},
   "source": [
    "튜플을 해제하면서 앞으로 사용하지 않고 버릴 항목은 굳이 이름을 주지 않아도 된다.\n",
    "이를 위해 밑줄(`underscore`, 언더스코어) 기호를 사용한다."
   ]
  },
  {
   "cell_type": "code",
   "execution_count": 53,
   "metadata": {},
   "outputs": [
    {
     "name": "stdout",
     "output_type": "stream",
     "text": [
      "x = 1\n",
      "z = 3\n"
     ]
    }
   ],
   "source": [
    "x, _, z = (1, 2, 3)\n",
    "print(f\"x = {x}\", \n",
    "      f\"z = {z}\",\n",
    "      sep='\\n')"
   ]
  },
  {
   "cell_type": "markdown",
   "metadata": {},
   "source": [
    "#### 변수 다중 할당\n",
    "\n",
    "여러 개의 변수에 동시에 값을 할당하며 변수를 선언할 수 있다."
   ]
  },
  {
   "cell_type": "code",
   "execution_count": 54,
   "metadata": {},
   "outputs": [
    {
     "name": "stdout",
     "output_type": "stream",
     "text": [
      "x = 1\n",
      "y = 2\n",
      "z = 3\n"
     ]
    }
   ],
   "source": [
    "x, y, z = 1, 2, 3\n",
    "print(f\"x = {x}\", f\"y = {y}\", f\"z = {z}\", sep='\\n')"
   ]
  },
  {
   "cell_type": "markdown",
   "metadata": {},
   "source": [
    "두 개 이상의 변수에 할당된 값들을 아래와 같이 교환할 수 있다."
   ]
  },
  {
   "cell_type": "code",
   "execution_count": 55,
   "metadata": {},
   "outputs": [],
   "source": [
    "x, y, z = z, y, x"
   ]
  },
  {
   "cell_type": "code",
   "execution_count": 56,
   "metadata": {},
   "outputs": [
    {
     "name": "stdout",
     "output_type": "stream",
     "text": [
      "x = 3\n",
      "y = 2\n",
      "z = 1\n"
     ]
    }
   ],
   "source": [
    "print(f\"x = {x}\", f\"y = {y}\", f\"z = {z}\", sep='\\n')"
   ]
  },
  {
   "cell_type": "markdown",
   "metadata": {},
   "source": [
    "**주의:** 위 교환방식은 파이썬과 최신 버전의 Javascript에서는 지원되지만 \n",
    "예를 들어 C, Java 에서는 지원되지 않는다. "
   ]
  },
  {
   "cell_type": "markdown",
   "metadata": {},
   "source": [
    "### 사전(`dict`) 자료형"
   ]
  },
  {
   "cell_type": "markdown",
   "metadata": {},
   "source": [
    "딕트(`dict`, dictionary, 사전) 자료형은 키(key)와 키에 할당된 값(value)으로 \n",
    "이루어진 쌍들의 집합으로 생각할 수 있다.\n",
    "\n",
    "영어 사전을 '영어 단어'와 '단어의 뜻'으로 이루어진 쌍들의 집합으로 볼 수 있다는 것과\n",
    "유사하다는 의미에서 사전 자료형이라 불린다.\n",
    "실제로 '영어 단어'를 키(key)로, '단어의 뜻'을 해당 단어의 값으로 이해할 수 있다."
   ]
  },
  {
   "cell_type": "markdown",
   "metadata": {},
   "source": [
    "사전 자료형을 나타내는 기호는 집합기호인 중괄호(`{}`)이며, 빈 사전은 공집합을 나타내는 기호와 동일하다."
   ]
  },
  {
   "cell_type": "code",
   "execution_count": 57,
   "metadata": {},
   "outputs": [
    {
     "name": "stdout",
     "output_type": "stream",
     "text": [
      "{}\n"
     ]
    }
   ],
   "source": [
    "empty_dict = {} \n",
    "print(empty_dict)"
   ]
  },
  {
   "cell_type": "markdown",
   "metadata": {},
   "source": [
    "빈 사전을 아래와 같이 생성할 수도 있다."
   ]
  },
  {
   "cell_type": "code",
   "execution_count": 58,
   "metadata": {},
   "outputs": [],
   "source": [
    "empty_dict2 = dict()"
   ]
  },
  {
   "cell_type": "markdown",
   "metadata": {},
   "source": [
    "`dict` 자료형은 보통 아래 형태이다."
   ]
  },
  {
   "cell_type": "code",
   "execution_count": 59,
   "metadata": {},
   "outputs": [],
   "source": [
    "grades = {\"Joel\": 80, \"Tim\": 95}"
   ]
  },
  {
   "cell_type": "markdown",
   "metadata": {},
   "source": [
    "특정 키에 해당하는 값을 확인하려면 리스트의 인덱싱처럼 대괄호를 사용한다.\n",
    "다만 인덱스 숫자 대신에 키 이름을 사용한다.\n",
    "\n",
    "예를 들어, `\"Joel\"`의 점수(grade)를 확인하려면 다음과 같이 실행한다."
   ]
  },
  {
   "cell_type": "code",
   "execution_count": 60,
   "metadata": {},
   "outputs": [
    {
     "data": {
      "text/plain": [
       "80"
      ]
     },
     "execution_count": 60,
     "metadata": {},
     "output_type": "execute_result"
    }
   ],
   "source": [
    "grades[\"Joel\"]"
   ]
  },
  {
   "cell_type": "markdown",
   "metadata": {},
   "source": [
    "없는 키를 사용하면 오류가 발생한다."
   ]
  },
  {
   "cell_type": "code",
   "execution_count": 61,
   "metadata": {},
   "outputs": [
    {
     "ename": "KeyError",
     "evalue": "'Kate'",
     "output_type": "error",
     "traceback": [
      "\u001b[0;31m---------------------------------------------------------------------------\u001b[0m",
      "\u001b[0;31mKeyError\u001b[0m                                  Traceback (most recent call last)",
      "\u001b[0;32m<ipython-input-61-d6bea84c37ed>\u001b[0m in \u001b[0;36m<module>\u001b[0;34m\u001b[0m\n\u001b[0;32m----> 1\u001b[0;31m \u001b[0mkates_grade\u001b[0m \u001b[0;34m=\u001b[0m \u001b[0mgrades\u001b[0m\u001b[0;34m[\u001b[0m\u001b[0;34m\"Kate\"\u001b[0m\u001b[0;34m]\u001b[0m\u001b[0;34m\u001b[0m\u001b[0;34m\u001b[0m\u001b[0m\n\u001b[0m",
      "\u001b[0;31mKeyError\u001b[0m: 'Kate'"
     ]
    }
   ],
   "source": [
    "kates_grade = grades[\"Kate\"]"
   ]
  },
  {
   "cell_type": "markdown",
   "metadata": {},
   "source": [
    "키의 존재여부는 `in` 연산자를 이용해서 확인한다."
   ]
  },
  {
   "cell_type": "code",
   "execution_count": 62,
   "metadata": {},
   "outputs": [
    {
     "data": {
      "text/plain": [
       "True"
      ]
     },
     "execution_count": 62,
     "metadata": {},
     "output_type": "execute_result"
    }
   ],
   "source": [
    "\"Joel\" in grades"
   ]
  },
  {
   "cell_type": "code",
   "execution_count": 63,
   "metadata": {},
   "outputs": [
    {
     "data": {
      "text/plain": [
       "False"
      ]
     },
     "execution_count": 63,
     "metadata": {},
     "output_type": "execute_result"
    }
   ],
   "source": [
    "\"Kate\" in grades"
   ]
  },
  {
   "cell_type": "markdown",
   "metadata": {},
   "source": [
    "`dict` 자료형의 `get` 메소드를 사용하면 키가 존재하지 않아도 오류가 발생하지 않는다.\n",
    "\n",
    "키가 존재하면 해당 값을 리턴한다."
   ]
  },
  {
   "cell_type": "code",
   "execution_count": 64,
   "metadata": {},
   "outputs": [
    {
     "data": {
      "text/plain": [
       "80"
      ]
     },
     "execution_count": 64,
     "metadata": {},
     "output_type": "execute_result"
    }
   ],
   "source": [
    "grades.get(\"Joel\")"
   ]
  },
  {
   "cell_type": "markdown",
   "metadata": {},
   "source": [
    "키가 존재하지 않으면 논(`None`)을 리턴한다."
   ]
  },
  {
   "cell_type": "code",
   "execution_count": 65,
   "metadata": {},
   "outputs": [],
   "source": [
    "grades.get(\"Kate\")"
   ]
  },
  {
   "cell_type": "markdown",
   "metadata": {},
   "source": [
    "**주의:** \n",
    "* `None`은 '아무 값도 아니다'를 의미하는 일종의 값이다. C, Javd 등의 널(null) 값에 해당한다.\n",
    "    따라서 함수를 실행해도 아무 것도 보여주지 않는다.\n",
    "* 파이썬의 모든 함수는 반환값이 있다. 다만, 함수를 정의할 때 리턴(`return`) 키워드가 없는 경우\n",
    "    `None`을 반환값으로 사용한다.\n",
    "* `get` 메소드는 둘째 인자를 받을 수 있으며, 해당 키가 존재하지 않을 경우 `None` 대신에 지정된 둘째 인자를 반환한다.\n",
    "    키가 존재하면 둘째 인자는 무시된다."
   ]
  },
  {
   "cell_type": "code",
   "execution_count": 66,
   "metadata": {},
   "outputs": [
    {
     "data": {
      "text/plain": [
       "'해당 키가 없어요'"
      ]
     },
     "execution_count": 66,
     "metadata": {},
     "output_type": "execute_result"
    }
   ],
   "source": [
    "grades.get(\"Kate\", \"해당 키가 없어요\")"
   ]
  },
  {
   "cell_type": "code",
   "execution_count": 67,
   "metadata": {},
   "outputs": [
    {
     "data": {
      "text/plain": [
       "80"
      ]
     },
     "execution_count": 67,
     "metadata": {},
     "output_type": "execute_result"
    }
   ],
   "source": [
    "grades.get(\"Joel\", 0)"
   ]
  },
  {
   "cell_type": "markdown",
   "metadata": {},
   "source": [
    "#### 키(key)로 사용될 수 있는 자료형\n",
    "\n",
    "수정할 수 없는 자료형만 사용할 수 있다.\n",
    "\n",
    "* 숫자\n",
    "* 문자열\n",
    "* 튜플\n",
    "\n",
    "반면에, 리스트, 사전 자료형은 키로 사용될 수 없다."
   ]
  },
  {
   "cell_type": "markdown",
   "metadata": {},
   "source": [
    "#### 사전 자료형 수정\n",
    "\n",
    "대괄호(`[]`)를 사용하여 기존 키 값을 수정하거나 새로운 항목을 추가할 수 있다.\n",
    "\n",
    "**주의:** 사전 자료형은 순서는 아무런 의미가 없다. "
   ]
  },
  {
   "cell_type": "code",
   "execution_count": 68,
   "metadata": {},
   "outputs": [
    {
     "name": "stdout",
     "output_type": "stream",
     "text": [
      "{'Joel': 80, 'Tim': 95}\n"
     ]
    }
   ],
   "source": [
    "print(grades)"
   ]
  },
  {
   "cell_type": "code",
   "execution_count": 69,
   "metadata": {},
   "outputs": [
    {
     "name": "stdout",
     "output_type": "stream",
     "text": [
      "{'Joel': 80, 'Tim': 99, 'Kate': 100}\n"
     ]
    }
   ],
   "source": [
    "grades[\"Tim\"] = 99\n",
    "grades[\"Kate\"] = 100 \n",
    "print(grades)"
   ]
  },
  {
   "cell_type": "markdown",
   "metadata": {},
   "source": [
    "#### 사전 자료형 활용\n",
    "\n",
    "사전 자료형은 체계적으로 정리된 자료들을 효율적으로 다룬다."
   ]
  },
  {
   "cell_type": "code",
   "execution_count": 70,
   "metadata": {},
   "outputs": [],
   "source": [
    "tweet = {\n",
    "    \"사용자\" : \"길동\",\n",
    "    \"문장\" : \"데이터 과학 멋져요!\",\n",
    "    \"리트윗 수\" : 100,\n",
    "    \"해시태그\" : [\"#데이터\", \"#과학\", \"#데이터과학\", \"#멋져요\"]\n",
    "}"
   ]
  },
  {
   "cell_type": "code",
   "execution_count": 71,
   "metadata": {},
   "outputs": [
    {
     "data": {
      "text/plain": [
       "{'사용자': '길동',\n",
       " '문장': '데이터 과학 멋져요!',\n",
       " '리트윗 수': 100,\n",
       " '해시태그': ['#데이터', '#과학', '#데이터과학', '#멋져요']}"
      ]
     },
     "execution_count": 71,
     "metadata": {},
     "output_type": "execute_result"
    }
   ],
   "source": [
    "tweet"
   ]
  },
  {
   "cell_type": "markdown",
   "metadata": {},
   "source": [
    "키만 또는 값만 따로따로 모아서 확인 및 활용할 수 있다."
   ]
  },
  {
   "cell_type": "code",
   "execution_count": 72,
   "metadata": {},
   "outputs": [
    {
     "data": {
      "text/plain": [
       "dict_keys(['사용자', '문장', '리트윗 수', '해시태그'])"
      ]
     },
     "execution_count": 72,
     "metadata": {},
     "output_type": "execute_result"
    }
   ],
   "source": [
    "tweet_keys = tweet.keys()\n",
    "tweet_keys"
   ]
  },
  {
   "cell_type": "code",
   "execution_count": 73,
   "metadata": {},
   "outputs": [
    {
     "data": {
      "text/plain": [
       "dict_values(['길동', '데이터 과학 멋져요!', 100, ['#데이터', '#과학', '#데이터과학', '#멋져요']])"
      ]
     },
     "execution_count": 73,
     "metadata": {},
     "output_type": "execute_result"
    }
   ],
   "source": [
    "tweet_values= tweet.values()\n",
    "tweet_values"
   ]
  },
  {
   "cell_type": "markdown",
   "metadata": {},
   "source": [
    "사전 자료형에 포함된 키와 값으로 이루어진 쌍들을 일종의 리스트로 확인할 수도 있다."
   ]
  },
  {
   "cell_type": "code",
   "execution_count": 74,
   "metadata": {},
   "outputs": [
    {
     "data": {
      "text/plain": [
       "dict_items([('사용자', '길동'), ('문장', '데이터 과학 멋져요!'), ('리트윗 수', 100), ('해시태그', ['#데이터', '#과학', '#데이터과학', '#멋져요'])])"
      ]
     },
     "execution_count": 74,
     "metadata": {},
     "output_type": "execute_result"
    }
   ],
   "source": [
    "tweet_items = tweet.items()\n",
    "tweet_items"
   ]
  },
  {
   "cell_type": "markdown",
   "metadata": {},
   "source": [
    "**주의:** `dict_keys`, `dict_values`, `dict_items`는 사전 자료형에 포함된 새로운 자료형들이지만,\n",
    "여기서는 자세히 알 필요가 없다. 다만 리스트와 유사하게 활용할 수 있음만 기억하면 된다."
   ]
  },
  {
   "cell_type": "markdown",
   "metadata": {},
   "source": [
    "#### 키와 값의 포함여부 확인"
   ]
  },
  {
   "cell_type": "markdown",
   "metadata": {},
   "source": [
    "키의 존재여부 확인"
   ]
  },
  {
   "cell_type": "code",
   "execution_count": 75,
   "metadata": {},
   "outputs": [
    {
     "data": {
      "text/plain": [
       "True"
      ]
     },
     "execution_count": 75,
     "metadata": {},
     "output_type": "execute_result"
    }
   ],
   "source": [
    "\"사용자\" in tweet"
   ]
  },
  {
   "cell_type": "markdown",
   "metadata": {},
   "source": [
    "아래 방식도 가능하지만 추천하지 않는다."
   ]
  },
  {
   "cell_type": "code",
   "execution_count": 76,
   "metadata": {},
   "outputs": [
    {
     "data": {
      "text/plain": [
       "True"
      ]
     },
     "execution_count": 76,
     "metadata": {},
     "output_type": "execute_result"
    }
   ],
   "source": [
    "\"사용자\" in tweet_keys"
   ]
  },
  {
   "cell_type": "markdown",
   "metadata": {},
   "source": [
    "값의 존재여부 확인"
   ]
  },
  {
   "cell_type": "code",
   "execution_count": 77,
   "metadata": {},
   "outputs": [
    {
     "data": {
      "text/plain": [
       "True"
      ]
     },
     "execution_count": 77,
     "metadata": {},
     "output_type": "execute_result"
    }
   ],
   "source": [
    "\"길동\" in tweet_values"
   ]
  },
  {
   "cell_type": "markdown",
   "metadata": {},
   "source": [
    "### 흐름 제어: `if` 조건문 활용"
   ]
  },
  {
   "cell_type": "markdown",
   "metadata": {},
   "source": [
    "이프(`if`) 조건문을 이용하여 상황에 따른 프로그램을 수행하도록 하는 것은 여느 프로그래밍 언어와 유사하다.\n",
    "\n",
    "**주의:** \n",
    "* 들여쓰기와 콜론(`:`) 사용에 주의해야 한다.\n",
    "* 중괄호(`{}`)는 사용하지 않는다."
   ]
  },
  {
   "cell_type": "code",
   "execution_count": 78,
   "metadata": {},
   "outputs": [
    {
     "name": "stdout",
     "output_type": "stream",
     "text": [
      "앞서 언급된 조건이 모두 적용되지 않을 때 사용\n"
     ]
    }
   ],
   "source": [
    "if 1 > 2:\n",
    "    message = \"1이 2보다 크기를 바라지만...\"\n",
    "elif 1 > 3:\n",
    "    message = \"elif는 'else if'의 줄임말임.\"\n",
    "else:\n",
    "    message = \"앞서 언급된 조건이 모두 적용되지 않을 때 사용\"\n",
    "    \n",
    "print(message)"
   ]
  },
  {
   "cell_type": "markdown",
   "metadata": {},
   "source": [
    "#### 한 줄 `if` 조건문\n",
    "\n",
    "간단한 한 줄 조건문을 종종 사용할 것이다."
   ]
  },
  {
   "cell_type": "code",
   "execution_count": 79,
   "metadata": {},
   "outputs": [
    {
     "name": "stdout",
     "output_type": "stream",
     "text": [
      "짝수\n"
     ]
    }
   ],
   "source": [
    "x = 10\n",
    "parity = \"짝수\" if x % 2 == 0 else \"홀수\"\n",
    "\n",
    "print(parity)"
   ]
  },
  {
   "cell_type": "markdown",
   "metadata": {},
   "source": [
    "### 흐름 제어: `while` 반복문 활용\n",
    "\n",
    "여느 프로그래밍 언어에서처럼 `while` 반복문도 제공된다.\n",
    "역시 콜론과 들여쓰기에 주의한다."
   ]
  },
  {
   "cell_type": "code",
   "execution_count": 80,
   "metadata": {},
   "outputs": [
    {
     "name": "stdout",
     "output_type": "stream",
     "text": [
      "0는(은) 10보다 작다.\n",
      "1는(은) 10보다 작다.\n",
      "2는(은) 10보다 작다.\n",
      "3는(은) 10보다 작다.\n",
      "4는(은) 10보다 작다.\n",
      "5는(은) 10보다 작다.\n",
      "6는(은) 10보다 작다.\n",
      "7는(은) 10보다 작다.\n",
      "8는(은) 10보다 작다.\n",
      "9는(은) 10보다 작다.\n"
     ]
    }
   ],
   "source": [
    "x = 0\n",
    "while x < 10:\n",
    "    print(f\"{x}는(은) 10보다 작다.\")\n",
    "    x += 1"
   ]
  },
  {
   "cell_type": "markdown",
   "metadata": {},
   "source": [
    "### 흐름 제어: `for ... in ...` 반복문 활용\n",
    "\n",
    "`while` 반복문 보다 `for ... in ...` 반복문을 보다 많이 사용할 것이다.\n",
    "특히, `range` 함수와 찰떡궁합이라서 활용도가 매우 높다."
   ]
  },
  {
   "cell_type": "markdown",
   "metadata": {},
   "source": [
    "#### `range` 함수\n",
    "\n",
    "지정된 범위의 정수 수열을 생성하는 함수이다. 자료형은 리스트와 비슷하다.\n",
    "\n",
    "0부터 9까지의 정수로 구성된 수열을 생성하기:"
   ]
  },
  {
   "cell_type": "code",
   "execution_count": 81,
   "metadata": {},
   "outputs": [
    {
     "data": {
      "text/plain": [
       "range(0, 10)"
      ]
     },
     "execution_count": 81,
     "metadata": {},
     "output_type": "execute_result"
    }
   ],
   "source": [
    "range(10)"
   ]
  },
  {
   "cell_type": "code",
   "execution_count": 82,
   "metadata": {},
   "outputs": [
    {
     "name": "stdout",
     "output_type": "stream",
     "text": [
      "0 is less than 10\n",
      "1 is less than 10\n",
      "2 is less than 10\n",
      "3 is less than 10\n",
      "4 is less than 10\n",
      "5 is less than 10\n",
      "6 is less than 10\n",
      "7 is less than 10\n",
      "8 is less than 10\n",
      "9 is less than 10\n"
     ]
    }
   ],
   "source": [
    "for x in range(10):\n",
    "    # x 는 0부터 9까지 움직이며 가리킨다.\n",
    "    print(f\"{x} is less than 10\")"
   ]
  },
  {
   "cell_type": "markdown",
   "metadata": {},
   "source": [
    "#### `continue`와 `break`\n",
    "\n",
    "`for ... in ...` 반복문을 이용하여 좀 더 복잡한 알고리즘을 구성하려면 `continue`와 `break`를 잘 활용하면 된다."
   ]
  },
  {
   "cell_type": "code",
   "execution_count": 83,
   "metadata": {},
   "outputs": [
    {
     "name": "stdout",
     "output_type": "stream",
     "text": [
      "0\n",
      "1\n",
      "2\n",
      "4\n"
     ]
    }
   ],
   "source": [
    "for x in range(10):\n",
    "    if x == 3:\n",
    "        continue  # 반복이 다음 단계로 넘어 간다. \n",
    "                  # 즉, x가 바로 다음 값으로 변하고 아래 명령문은 실행하지 않는다.\n",
    "                  # 따라서 x = 3 인 경우를 건너뛴다. \n",
    "    if x == 5:\n",
    "        break     # 이 명령문을 감싸는 for 반복문을 바로 종료한다.\n",
    "    print(x)"
   ]
  },
  {
   "cell_type": "markdown",
   "metadata": {},
   "source": [
    "### 조건제시법(list comprehension)"
   ]
  },
  {
   "cell_type": "markdown",
   "metadata": {},
   "source": [
    "집합을 정의하기 위해 사용하는 조건제시법을 리스트, 집합, 사전(`dict`)에도 적용할 수 있다.\n",
    "\n",
    "예를 들어 0 ~ 4 까지의 정수 중에서 짝수만으로 이루어진 집합을 다음과 같이 \n",
    "조건제시법으로 정의할 수 있다.\n",
    "\n",
    "$$\\{x \\mid 0 \\le x < 5, \\text{단 } x는 짝수\\}$$\n",
    "\n",
    "동일한 조건으로 리스트를 생성하려면 다음과 같이 `for ... in ... if ...`문을 활용한다.\n",
    "형식은 다음과 같다. \n",
    "\n",
    "```python\n",
    "[x for x in range(5) if x % 2 == 0]\n",
    "```\n",
    "* `for`: 파이프($|$, 일명 짝대기) 기호에 대응.\n",
    "* `x in range(5)`: '$0 \\le x < 5$ 이며, $x$'는 정수를 표현.\n",
    "* `if` : '단', 즉, 조건부에 대응.\n",
    "* `x % 2 == 0`: `x`를 2로 나눈 나머지가 0과 같아야 한다는 조건, 즉, 짝수 조건 표현."
   ]
  },
  {
   "cell_type": "code",
   "execution_count": 84,
   "metadata": {},
   "outputs": [
    {
     "name": "stdout",
     "output_type": "stream",
     "text": [
      "[0, 2, 4]\n"
     ]
    }
   ],
   "source": [
    "even_numbers = [x for x in range(5) if x % 2 == 0]\n",
    "print(even_numbers)"
   ]
  },
  {
   "cell_type": "markdown",
   "metadata": {},
   "source": [
    "집합에 대한 조건제시법 적용은 다음과 같다."
   ]
  },
  {
   "cell_type": "code",
   "execution_count": 85,
   "metadata": {},
   "outputs": [
    {
     "name": "stdout",
     "output_type": "stream",
     "text": [
      "{0, 2, 4}\n"
     ]
    }
   ],
   "source": [
    "even_numbers_set = {x for x in range(5) if x % 2 == 0}\n",
    "print(even_numbers_set)"
   ]
  },
  {
   "cell_type": "markdown",
   "metadata": {},
   "source": [
    "아래 `squares`는 다음 집합에 대응한다.\n",
    "\n",
    "$$\\{x^2 \\mid 0 \\le x < 5 \\text{ 이고 } x \\text{ 는 정수}\\} = \\{0, 1, 4, 9, 16\\}$$\n"
   ]
  },
  {
   "cell_type": "code",
   "execution_count": 86,
   "metadata": {},
   "outputs": [
    {
     "name": "stdout",
     "output_type": "stream",
     "text": [
      "[0, 1, 4, 9, 16]\n"
     ]
    }
   ],
   "source": [
    "squares = [x * x for x in range(5)]\n",
    "print(squares)"
   ]
  },
  {
   "cell_type": "markdown",
   "metadata": {},
   "source": [
    "아래 `even_squares`는 다음 집합에 대응한다.\n",
    "\n",
    "$$\\{x^2 \\mid x \\in \\text{even_numbers}\\} = \\{0, 4,16\\}$$\n"
   ]
  },
  {
   "cell_type": "code",
   "execution_count": 87,
   "metadata": {},
   "outputs": [
    {
     "name": "stdout",
     "output_type": "stream",
     "text": [
      "[0, 4, 16]\n"
     ]
    }
   ],
   "source": [
    "even_squares = [x * x for x in even_numbers]\n",
    "print(even_squares)"
   ]
  },
  {
   "cell_type": "markdown",
   "metadata": {},
   "source": [
    "사전(`dict`) 자료형에 대해서도 조건제시법을 적용할 수 있다."
   ]
  },
  {
   "cell_type": "code",
   "execution_count": 88,
   "metadata": {},
   "outputs": [
    {
     "name": "stdout",
     "output_type": "stream",
     "text": [
      "{0: 0, 1: 1, 2: 4, 3: 9, 4: 16}\n"
     ]
    }
   ],
   "source": [
    "square_dict = {x: x * x for x in range(5)}\n",
    "print(square_dict)"
   ]
  },
  {
   "cell_type": "markdown",
   "metadata": {},
   "source": [
    "* 키: `range(5)`의 항목들, 즉, 0, 1, 2, 3, 4\n",
    "* 키값: 키의 제곱, 즉, 각각 0, 1, 4, 9, 16"
   ]
  },
  {
   "cell_type": "markdown",
   "metadata": {},
   "source": [
    "조건제시법에서 불필요한 것은 밑줄(`_`)로 처리한다.\n",
    "\n",
    "예를 들어, 동일한 항복을 반복 생성하고자 할 때 아래와 같이 할 수 있다."
   ]
  },
  {
   "cell_type": "code",
   "execution_count": 89,
   "metadata": {},
   "outputs": [
    {
     "name": "stdout",
     "output_type": "stream",
     "text": [
      "[0, 0, 0]\n"
     ]
    }
   ],
   "source": [
    "zeros = [0 for _ in even_numbers]\n",
    "print(zeros)"
   ]
  },
  {
   "cell_type": "markdown",
   "metadata": {},
   "source": [
    "**주의:** 위와 같이 하면 `even_numbers`와 동일한 길이의 리스트가 생성되며, \n",
    "모든 항목은 0으로 동일하다. 따라서 `for ... in ...`에 사용되어야 하는 변수가\n",
    "아무런 역할도 수행하지 않는다. 따라서 밑줄로 처리하는 것이다.\n",
    "\n",
    "실제로 아래와 같이 해도 동일한 결과를 얻는다.\n",
    "이유는 `x`가 리스트의 항목을 생성하는데 아무런 역할도 수행하지 않기 때문이다."
   ]
  },
  {
   "cell_type": "code",
   "execution_count": 90,
   "metadata": {},
   "outputs": [
    {
     "name": "stdout",
     "output_type": "stream",
     "text": [
      "[0, 0, 0]\n"
     ]
    }
   ],
   "source": [
    "zeros = [0 for x in even_numbers]\n",
    "print(zeros)"
   ]
  },
  {
   "cell_type": "markdown",
   "metadata": {},
   "source": [
    "조건제시법에 여러 개의 `for ... in ...` 문을 사용할 수 있다."
   ]
  },
  {
   "cell_type": "code",
   "execution_count": 91,
   "metadata": {},
   "outputs": [],
   "source": [
    "pairs = [(x, y)\n",
    "         for x in range(10)\n",
    "         for y in range(10)]"
   ]
  },
  {
   "cell_type": "markdown",
   "metadata": {},
   "source": [
    "`pairs`는 아래 집합에 대응한다.\n",
    "\n",
    "$$\\{(x, y) \\mid 0 \\le x, y < 10 \\text{ 이고 } x, y \\text{는 정수} \\}$$\n",
    "\n",
    "따라서 `pairs`에는 총 100개의 순서쌍이 들어 있다. \n",
    "첫 10개의 항목을 확인해보자."
   ]
  },
  {
   "cell_type": "code",
   "execution_count": 92,
   "metadata": {},
   "outputs": [
    {
     "data": {
      "text/plain": [
       "[(0, 0),\n",
       " (0, 1),\n",
       " (0, 2),\n",
       " (0, 3),\n",
       " (0, 4),\n",
       " (0, 5),\n",
       " (0, 6),\n",
       " (0, 7),\n",
       " (0, 8),\n",
       " (0, 9)]"
      ]
     },
     "execution_count": 92,
     "metadata": {},
     "output_type": "execute_result"
    }
   ],
   "source": [
    "pairs[:10]"
   ]
  },
  {
   "cell_type": "markdown",
   "metadata": {},
   "source": [
    "그 다음 10개를 아래와 같다."
   ]
  },
  {
   "cell_type": "code",
   "execution_count": 93,
   "metadata": {},
   "outputs": [
    {
     "data": {
      "text/plain": [
       "[(1, 0),\n",
       " (1, 1),\n",
       " (1, 2),\n",
       " (1, 3),\n",
       " (1, 4),\n",
       " (1, 5),\n",
       " (1, 6),\n",
       " (1, 7),\n",
       " (1, 8),\n",
       " (1, 9)]"
      ]
     },
     "execution_count": 93,
     "metadata": {},
     "output_type": "execute_result"
    }
   ],
   "source": [
    "pairs[10:20]"
   ]
  },
  {
   "cell_type": "markdown",
   "metadata": {},
   "source": [
    "마지막 10개를 확인해보자."
   ]
  },
  {
   "cell_type": "code",
   "execution_count": 94,
   "metadata": {},
   "outputs": [
    {
     "data": {
      "text/plain": [
       "[(9, 0),\n",
       " (9, 1),\n",
       " (9, 2),\n",
       " (9, 3),\n",
       " (9, 4),\n",
       " (9, 5),\n",
       " (9, 6),\n",
       " (9, 7),\n",
       " (9, 8),\n",
       " (9, 9)]"
      ]
     },
     "execution_count": 94,
     "metadata": {},
     "output_type": "execute_result"
    }
   ],
   "source": [
    "pairs[-10:]"
   ]
  },
  {
   "cell_type": "markdown",
   "metadata": {},
   "source": [
    "두 개의 `for ... in ...` 문이 어떻게 움직이는지 감잡았을 것이다.\n",
    "\n",
    "* `x`를 0부터 시작하여 1씩 증가시켜 9까지 변경할 때마다\n",
    "    `y`를 0부터 9까지 변화시킨다."
   ]
  },
  {
   "cell_type": "markdown",
   "metadata": {},
   "source": [
    "`pairs`를 이중 `for ... in ...` 문을 이용하여 작성하면 다음과 같다."
   ]
  },
  {
   "cell_type": "code",
   "execution_count": 95,
   "metadata": {},
   "outputs": [],
   "source": [
    "pairs = []\n",
    "\n",
    "for x in range(10):\n",
    "    for y in range(10):\n",
    "        pairs.append((x,y))"
   ]
  },
  {
   "cell_type": "code",
   "execution_count": 96,
   "metadata": {},
   "outputs": [
    {
     "data": {
      "text/plain": [
       "[(0, 0),\n",
       " (0, 1),\n",
       " (0, 2),\n",
       " (0, 3),\n",
       " (0, 4),\n",
       " (0, 5),\n",
       " (0, 6),\n",
       " (0, 7),\n",
       " (0, 8),\n",
       " (0, 9)]"
      ]
     },
     "execution_count": 96,
     "metadata": {},
     "output_type": "execute_result"
    }
   ],
   "source": [
    "pairs[:10]"
   ]
  },
  {
   "cell_type": "code",
   "execution_count": 97,
   "metadata": {},
   "outputs": [
    {
     "data": {
      "text/plain": [
       "[(9, 0),\n",
       " (9, 1),\n",
       " (9, 2),\n",
       " (9, 3),\n",
       " (9, 4),\n",
       " (9, 5),\n",
       " (9, 6),\n",
       " (9, 7),\n",
       " (9, 8),\n",
       " (9, 9)]"
      ]
     },
     "execution_count": 97,
     "metadata": {},
     "output_type": "execute_result"
    }
   ],
   "source": [
    "pairs[-10:]"
   ]
  },
  {
   "cell_type": "markdown",
   "metadata": {},
   "source": [
    "**주의:** 리스트 조건제시법 정의가 훨씬 간편하다."
   ]
  },
  {
   "cell_type": "markdown",
   "metadata": {},
   "source": [
    "다음 예제는 조금 다르게 작동한다.\n",
    "\n",
    "* `x`를 0부터 시작하여 1씩 증가시켜 9까지 변경할 때마다\n",
    "    `y`를 `x`+1부터 9까지 변화시킨다."
   ]
  },
  {
   "cell_type": "code",
   "execution_count": 98,
   "metadata": {},
   "outputs": [],
   "source": [
    "increasing_pairs = [(x, y)                       \n",
    "                    for x in range(10)           \n",
    "                    for y in range(x + 1, 10)]   "
   ]
  },
  {
   "cell_type": "code",
   "execution_count": 99,
   "metadata": {},
   "outputs": [
    {
     "data": {
      "text/plain": [
       "[(0, 1), (0, 2), (0, 3), (0, 4), (0, 5), (0, 6), (0, 7), (0, 8), (0, 9)]"
      ]
     },
     "execution_count": 99,
     "metadata": {},
     "output_type": "execute_result"
    }
   ],
   "source": [
    "increasing_pairs[:9]"
   ]
  },
  {
   "cell_type": "code",
   "execution_count": 100,
   "metadata": {},
   "outputs": [
    {
     "data": {
      "text/plain": [
       "[(1, 3), (1, 4), (1, 5), (1, 6), (1, 7), (1, 8), (1, 9)]"
      ]
     },
     "execution_count": 100,
     "metadata": {},
     "output_type": "execute_result"
    }
   ],
   "source": [
    "increasing_pairs[10:17]"
   ]
  },
  {
   "cell_type": "code",
   "execution_count": 101,
   "metadata": {},
   "outputs": [
    {
     "data": {
      "text/plain": [
       "[(7, 9), (8, 9)]"
      ]
     },
     "execution_count": 101,
     "metadata": {},
     "output_type": "execute_result"
    }
   ],
   "source": [
    "increasing_pairs[-2:]"
   ]
  },
  {
   "cell_type": "markdown",
   "metadata": {},
   "source": [
    "`increasing_pairs`의 길이는 9 + 8 + 7 + 6 + 5 + 4 + 3 + 2 + 1, 즉, 45이다."
   ]
  },
  {
   "cell_type": "code",
   "execution_count": 102,
   "metadata": {},
   "outputs": [
    {
     "data": {
      "text/plain": [
       "45"
      ]
     },
     "execution_count": 102,
     "metadata": {},
     "output_type": "execute_result"
    }
   ],
   "source": [
    "len(increasing_pairs)"
   ]
  },
  {
   "cell_type": "markdown",
   "metadata": {},
   "source": [
    "역시 2중 `for ... in ...` 반복문으로 구현할 수 있다."
   ]
  },
  {
   "cell_type": "code",
   "execution_count": 103,
   "metadata": {},
   "outputs": [],
   "source": [
    "increasing_pairs = []\n",
    "\n",
    "for x in range(10):\n",
    "    for y in range(x+1,10):\n",
    "        increasing_pairs.append((x,y))"
   ]
  },
  {
   "cell_type": "code",
   "execution_count": 104,
   "metadata": {},
   "outputs": [
    {
     "data": {
      "text/plain": [
       "[(0, 1), (0, 2), (0, 3), (0, 4), (0, 5), (0, 6), (0, 7), (0, 8), (0, 9)]"
      ]
     },
     "execution_count": 104,
     "metadata": {},
     "output_type": "execute_result"
    }
   ],
   "source": [
    "increasing_pairs[:9]"
   ]
  },
  {
   "cell_type": "code",
   "execution_count": 105,
   "metadata": {},
   "outputs": [
    {
     "data": {
      "text/plain": [
       "[(7, 9), (8, 9)]"
      ]
     },
     "execution_count": 105,
     "metadata": {},
     "output_type": "execute_result"
    }
   ],
   "source": [
    "increasing_pairs[-2:]"
   ]
  },
  {
   "cell_type": "code",
   "execution_count": 106,
   "metadata": {},
   "outputs": [
    {
     "data": {
      "text/plain": [
       "45"
      ]
     },
     "execution_count": 106,
     "metadata": {},
     "output_type": "execute_result"
    }
   ],
   "source": [
    "len(increasing_pairs)"
   ]
  },
  {
   "cell_type": "markdown",
   "metadata": {},
   "source": [
    "#### 소극적(lazy) 계산과 적극적(eager) 계산\n",
    "\n",
    "`range` 처럼 모든 값을 미리 생성해서 준비해 놓는 대신에 필요할 때 필요한 항목을 생성하는 함수를 \n",
    "소극적 함수(lazy function)이라 부른다.\n",
    "\n",
    "**주의:** 파이썬에서 정의되는 함수는 실행될 때 기본적으로 적극적으로 값을 생성하며 계산한다.\n"
   ]
  },
  {
   "cell_type": "markdown",
   "metadata": {},
   "source": [
    "#### 제너레이터 조건제시법"
   ]
  },
  {
   "cell_type": "markdown",
   "metadata": {},
   "source": [
    "리스트와 사전 자료형의 경우에서처럼 조건제시법으로 **제너레이터**를 생성할 수 있다.\n",
    "사용하는 기호는 소괄호 `'()'`이며, 마치 조건제시법으로 튜플을 생성하는 것처럼 보인다.\n",
    "\n",
    "**주의:** 제너레이터에 대해서는 나중에 다시 설명한다."
   ]
  },
  {
   "cell_type": "code",
   "execution_count": 107,
   "metadata": {},
   "outputs": [],
   "source": [
    "evens_below_20 = (i for i in range(20) if i % 2 == 0)"
   ]
  },
  {
   "cell_type": "markdown",
   "metadata": {},
   "source": [
    "화면에 출력하고 싶어도 할 수 없다.\n",
    "제너레이터는 정의만 되어 있을 뿐이며, 아무 것도 생성하지 않았기 때문이다.\n",
    "즉, 소극적 계산을 지원한다."
   ]
  },
  {
   "cell_type": "code",
   "execution_count": 108,
   "metadata": {},
   "outputs": [
    {
     "name": "stdout",
     "output_type": "stream",
     "text": [
      "<generator object <genexpr> at 0x7f94ffdcf200>\n"
     ]
    }
   ],
   "source": [
    "print(evens_below_20)"
   ]
  },
  {
   "cell_type": "markdown",
   "metadata": {},
   "source": [
    "하지만 `for ... in ...` 반복문을 이용하여 원소들을 확인할 수 있다."
   ]
  },
  {
   "cell_type": "code",
   "execution_count": 109,
   "metadata": {},
   "outputs": [
    {
     "name": "stdout",
     "output_type": "stream",
     "text": [
      "0\n",
      "2\n",
      "4\n",
      "6\n",
      "8\n",
      "10\n",
      "12\n",
      "14\n",
      "16\n",
      "18\n"
     ]
    }
   ],
   "source": [
    "for x in evens_below_20:\n",
    "    print(x)"
   ]
  },
  {
   "cell_type": "markdown",
   "metadata": {},
   "source": [
    "### 난수 생성"
   ]
  },
  {
   "cell_type": "markdown",
   "metadata": {},
   "source": [
    "무작위 수를 생성할 필요가 종종 있다.\n",
    "무작위로 생성된 수를 난수(random number)라 부르며,\n",
    "난수 생성을 위해 랜덤(`random`) 모듈을 사용할 수 있다."
   ]
  },
  {
   "cell_type": "code",
   "execution_count": 110,
   "metadata": {},
   "outputs": [],
   "source": [
    "import random"
   ]
  },
  {
   "cell_type": "markdown",
   "metadata": {},
   "source": [
    "#### `random` 함수\n",
    "\n",
    "0과 1 사이의 실수를 무작위로, 하지만 균등하게(uniformly) 선택한다.\n",
    "여기서 균등성은 한 영역에 치우치지 전 영역에서 골고루 선택함을 의미한다."
   ]
  },
  {
   "cell_type": "code",
   "execution_count": 111,
   "metadata": {},
   "outputs": [
    {
     "data": {
      "text/plain": [
       "[0.9434338690912478,\n",
       " 0.32727467152592427,\n",
       " 0.19538170453772086,\n",
       " 0.7980346539136105,\n",
       " 0.9597485523341756,\n",
       " 0.5364600671680712,\n",
       " 0.6804190328808621,\n",
       " 0.7178484864534475,\n",
       " 0.4121389278053943,\n",
       " 0.7153841764059806]"
      ]
     },
     "execution_count": 111,
     "metadata": {},
     "output_type": "execute_result"
    }
   ],
   "source": [
    "[random.random() for _ in range(10)]"
   ]
  },
  {
   "cell_type": "markdown",
   "metadata": {},
   "source": [
    "**주의:** 난수 생성이 엄밀히 말하면 완전히 무작위는 아니다. \n",
    "모든 컴퓨터 안에 난수표가 있어서 `random` 같은 함수를 실행할 때마다\n",
    "난수표에서 차례대로 읽어서 보여주는 것에 불과하다.\n",
    "하지만 우리 인간에게는 무작위적으로 보이며, 실제로 매우 유용하게 활용된다."
   ]
  },
  {
   "cell_type": "markdown",
   "metadata": {},
   "source": [
    "#### 시드(`seed`) 함수\n",
    "\n",
    "코드를 실행할 때 마다 동일한 난수를 얻으려면,\n",
    "즉, 동일한 환경에서 데이터 분석 실험을 반복하려면 \n",
    "`seed` 함수를 먼저 실행해야 한다.\n",
    "\n",
    "간단한게 설명하면, `seed` 함수에 입력된 정수 인자가\n",
    "난수를 생성하는 기준을 제시한다.\n",
    "따라서 어떤 환경에서도 `seed` 함수의 입력값이 동일하면 \n",
    "동일한 난수가 생성된다."
   ]
  },
  {
   "cell_type": "code",
   "execution_count": 112,
   "metadata": {},
   "outputs": [
    {
     "name": "stdout",
     "output_type": "stream",
     "text": [
      "0.5714025946899135\n",
      "0.5714025946899135\n"
     ]
    }
   ],
   "source": [
    "random.seed(10)         # 시드를 10으로 지정\n",
    "print(random.random())\n",
    "random.seed(10)       \n",
    "print(random.random())"
   ]
  },
  {
   "cell_type": "markdown",
   "metadata": {},
   "source": [
    "시드를 지정하지 않으면 `random` 함수가 매번 다른 값을 생성한다."
   ]
  },
  {
   "cell_type": "code",
   "execution_count": 113,
   "metadata": {},
   "outputs": [
    {
     "name": "stdout",
     "output_type": "stream",
     "text": [
      "0.4288890546751146\n"
     ]
    }
   ],
   "source": [
    "print(random.random())"
   ]
  },
  {
   "cell_type": "code",
   "execution_count": 114,
   "metadata": {},
   "outputs": [
    {
     "name": "stdout",
     "output_type": "stream",
     "text": [
      "0.5780913011344704\n"
     ]
    }
   ],
   "source": [
    "print(random.random())"
   ]
  },
  {
   "cell_type": "code",
   "execution_count": 115,
   "metadata": {},
   "outputs": [
    {
     "name": "stdout",
     "output_type": "stream",
     "text": [
      "0.20609823213950174\n"
     ]
    }
   ],
   "source": [
    "print(random.random())"
   ]
  },
  {
   "cell_type": "markdown",
   "metadata": {},
   "source": [
    "#### `randrange` 함수\n",
    "\n",
    "지정된 범위 안에서 정수를 무작위로 선택하는 함수이다. \n",
    "\n",
    "예를 들어, 0부터 9 사이의 정수중에서 임의로 하나의 수를 선택하려면 다음과 같이 실행한다."
   ]
  },
  {
   "cell_type": "code",
   "execution_count": 116,
   "metadata": {},
   "outputs": [
    {
     "data": {
      "text/plain": [
       "7"
      ]
     },
     "execution_count": 116,
     "metadata": {},
     "output_type": "execute_result"
    }
   ],
   "source": [
    "random.randrange(10)"
   ]
  },
  {
   "cell_type": "markdown",
   "metadata": {},
   "source": [
    "실행할 때마다 다른 값을 반환한다."
   ]
  },
  {
   "cell_type": "code",
   "execution_count": 117,
   "metadata": {},
   "outputs": [
    {
     "data": {
      "text/plain": [
       "4"
      ]
     },
     "execution_count": 117,
     "metadata": {},
     "output_type": "execute_result"
    }
   ],
   "source": [
    "random.randrange(10)"
   ]
  },
  {
   "cell_type": "markdown",
   "metadata": {},
   "source": [
    "그리고, 예를 들어, 3과 7 사이의 정수 중에서 임의로 하나를 선택하려면 다음과 같이 실행한다."
   ]
  },
  {
   "cell_type": "code",
   "execution_count": 118,
   "metadata": {},
   "outputs": [
    {
     "data": {
      "text/plain": [
       "4"
      ]
     },
     "execution_count": 118,
     "metadata": {},
     "output_type": "execute_result"
    }
   ],
   "source": [
    "random.randrange(3, 7)"
   ]
  },
  {
   "cell_type": "markdown",
   "metadata": {},
   "source": [
    "역시 실행할 때마다 다른 값을 반환한다."
   ]
  },
  {
   "cell_type": "code",
   "execution_count": 119,
   "metadata": {},
   "outputs": [
    {
     "data": {
      "text/plain": [
       "3"
      ]
     },
     "execution_count": 119,
     "metadata": {},
     "output_type": "execute_result"
    }
   ],
   "source": [
    "random.randrange(3, 7)"
   ]
  },
  {
   "cell_type": "markdown",
   "metadata": {},
   "source": [
    "하지만 `seed` 를 지정하면 매번 동일한 값을 반환한다."
   ]
  },
  {
   "cell_type": "code",
   "execution_count": 120,
   "metadata": {},
   "outputs": [
    {
     "data": {
      "text/plain": [
       "6"
      ]
     },
     "execution_count": 120,
     "metadata": {},
     "output_type": "execute_result"
    }
   ],
   "source": [
    "random.seed(0)\n",
    "random.randrange(3,7)"
   ]
  },
  {
   "cell_type": "code",
   "execution_count": 121,
   "metadata": {},
   "outputs": [
    {
     "data": {
      "text/plain": [
       "6"
      ]
     },
     "execution_count": 121,
     "metadata": {},
     "output_type": "execute_result"
    }
   ],
   "source": [
    "random.seed(0)\n",
    "random.randrange(3,7)"
   ]
  },
  {
   "cell_type": "code",
   "execution_count": 122,
   "metadata": {},
   "outputs": [
    {
     "data": {
      "text/plain": [
       "6"
      ]
     },
     "execution_count": 122,
     "metadata": {},
     "output_type": "execute_result"
    }
   ],
   "source": [
    "random.seed(0)\n",
    "random.randrange(3,7)"
   ]
  },
  {
   "cell_type": "markdown",
   "metadata": {},
   "source": [
    "#### `shuffle` 함수\n",
    "\n",
    "리스트의 항목들을 무작위로 섞고자 할 때 사용한다."
   ]
  },
  {
   "cell_type": "code",
   "execution_count": 123,
   "metadata": {},
   "outputs": [
    {
     "name": "stdout",
     "output_type": "stream",
     "text": [
      "[9, 10, 2, 3, 6, 4, 8, 5, 1, 7]\n"
     ]
    }
   ],
   "source": [
    "up_to_ten = [1, 2, 3, 4, 5, 6, 7, 8, 9, 10]\n",
    "random.shuffle(up_to_ten)\n",
    "print(up_to_ten)"
   ]
  },
  {
   "cell_type": "markdown",
   "metadata": {},
   "source": [
    "역시 실행할 때마다 다르게 섞는다."
   ]
  },
  {
   "cell_type": "code",
   "execution_count": 124,
   "metadata": {},
   "outputs": [
    {
     "name": "stdout",
     "output_type": "stream",
     "text": [
      "[6, 5, 9, 7, 1, 2, 8, 3, 4, 10]\n"
     ]
    }
   ],
   "source": [
    "up_to_ten = [1, 2, 3, 4, 5, 6, 7, 8, 9, 10]\n",
    "random.shuffle(up_to_ten)\n",
    "print(up_to_ten)"
   ]
  },
  {
   "cell_type": "markdown",
   "metadata": {},
   "source": [
    "하지만 시드를 지정하면 항상 동일한 결과를 보인다."
   ]
  },
  {
   "cell_type": "code",
   "execution_count": 125,
   "metadata": {},
   "outputs": [
    {
     "name": "stdout",
     "output_type": "stream",
     "text": [
      "[9, 7, 1, 3, 4, 2, 10, 6, 5, 8]\n"
     ]
    }
   ],
   "source": [
    "random.seed(50)\n",
    "up_to_ten = [1, 2, 3, 4, 5, 6, 7, 8, 9, 10]\n",
    "random.shuffle(up_to_ten)\n",
    "print(up_to_ten)"
   ]
  },
  {
   "cell_type": "code",
   "execution_count": 126,
   "metadata": {},
   "outputs": [
    {
     "name": "stdout",
     "output_type": "stream",
     "text": [
      "[9, 7, 1, 3, 4, 2, 10, 6, 5, 8]\n"
     ]
    }
   ],
   "source": [
    "random.seed(50)\n",
    "up_to_ten = [1, 2, 3, 4, 5, 6, 7, 8, 9, 10]\n",
    "random.shuffle(up_to_ten)\n",
    "print(up_to_ten)"
   ]
  },
  {
   "cell_type": "markdown",
   "metadata": {},
   "source": [
    "#### `choice` 함수\n",
    "\n",
    "리스트에서 임의로 하나의 항목을 선택할 때 사용한다."
   ]
  },
  {
   "cell_type": "code",
   "execution_count": 127,
   "metadata": {},
   "outputs": [
    {
     "data": {
      "text/plain": [
       "'Alice'"
      ]
     },
     "execution_count": 127,
     "metadata": {},
     "output_type": "execute_result"
    }
   ],
   "source": [
    "random.choice([\"Alice\", \"Bob\", \"Charlie\"])"
   ]
  },
  {
   "cell_type": "markdown",
   "metadata": {},
   "source": [
    "실행할 때마다 값이 달라질 수 있다. 그리고 중복 선택이 가능하다."
   ]
  },
  {
   "cell_type": "code",
   "execution_count": 128,
   "metadata": {},
   "outputs": [
    {
     "data": {
      "text/plain": [
       "'Charlie'"
      ]
     },
     "execution_count": 128,
     "metadata": {},
     "output_type": "execute_result"
    }
   ],
   "source": [
    "random.choice([\"Alice\", \"Bob\", \"Charlie\"])"
   ]
  },
  {
   "cell_type": "code",
   "execution_count": 129,
   "metadata": {},
   "outputs": [
    {
     "data": {
      "text/plain": [
       "'Charlie'"
      ]
     },
     "execution_count": 129,
     "metadata": {},
     "output_type": "execute_result"
    }
   ],
   "source": [
    "random.choice([\"Alice\", \"Bob\", \"Charlie\"])"
   ]
  },
  {
   "cell_type": "markdown",
   "metadata": {},
   "source": [
    "시드를 지정하면 동일한 결과를 얻는다."
   ]
  },
  {
   "cell_type": "code",
   "execution_count": 130,
   "metadata": {},
   "outputs": [
    {
     "data": {
      "text/plain": [
       "'Alice'"
      ]
     },
     "execution_count": 130,
     "metadata": {},
     "output_type": "execute_result"
    }
   ],
   "source": [
    "random.seed(100)\n",
    "random.choice([\"Alice\", \"Bob\", \"Charlie\"])"
   ]
  },
  {
   "cell_type": "code",
   "execution_count": 131,
   "metadata": {},
   "outputs": [
    {
     "data": {
      "text/plain": [
       "'Alice'"
      ]
     },
     "execution_count": 131,
     "metadata": {},
     "output_type": "execute_result"
    }
   ],
   "source": [
    "random.seed(100)\n",
    "random.choice([\"Alice\", \"Bob\", \"Charlie\"])"
   ]
  },
  {
   "cell_type": "code",
   "execution_count": 132,
   "metadata": {},
   "outputs": [
    {
     "data": {
      "text/plain": [
       "'Alice'"
      ]
     },
     "execution_count": 132,
     "metadata": {},
     "output_type": "execute_result"
    }
   ],
   "source": [
    "random.seed(100)\n",
    "random.choice([\"Alice\", \"Bob\", \"Charlie\"])"
   ]
  },
  {
   "cell_type": "markdown",
   "metadata": {},
   "source": [
    "#### `sample`  함수\n",
    "\n",
    "리스트에서 지정한 개수만큼의 항목을 무작위로 선택해서 새로운 리스트를 생성할 수도 있다.\n",
    "**중복선택이 없다**. 따라서 일종의 로또 뽑기와 비슷하게 작동한다."
   ]
  },
  {
   "cell_type": "code",
   "execution_count": 133,
   "metadata": {},
   "outputs": [
    {
     "data": {
      "text/plain": [
       "[29, 59, 49, 11, 45, 25]"
      ]
     },
     "execution_count": 133,
     "metadata": {},
     "output_type": "execute_result"
    }
   ],
   "source": [
    "lottery_numbers = range(60)\n",
    "random.sample(lottery_numbers, 6)"
   ]
  },
  {
   "cell_type": "markdown",
   "metadata": {},
   "source": [
    "실행할 때 마다 다르게 선택한다."
   ]
  },
  {
   "cell_type": "code",
   "execution_count": 134,
   "metadata": {},
   "outputs": [
    {
     "data": {
      "text/plain": [
       "[46, 22, 27, 32, 51, 7]"
      ]
     },
     "execution_count": 134,
     "metadata": {},
     "output_type": "execute_result"
    }
   ],
   "source": [
    "lottery_numbers = range(60)\n",
    "random.sample(lottery_numbers, 6)"
   ]
  },
  {
   "cell_type": "markdown",
   "metadata": {},
   "source": [
    "시드를 지정하면 변하지 않는다."
   ]
  },
  {
   "cell_type": "code",
   "execution_count": 135,
   "metadata": {},
   "outputs": [
    {
     "data": {
      "text/plain": [
       "[54, 24, 48, 56, 26, 2]"
      ]
     },
     "execution_count": 135,
     "metadata": {},
     "output_type": "execute_result"
    }
   ],
   "source": [
    "random.seed(0)\n",
    "lottery_numbers = range(60)\n",
    "random.sample(lottery_numbers, 6)"
   ]
  },
  {
   "cell_type": "code",
   "execution_count": 136,
   "metadata": {},
   "outputs": [
    {
     "data": {
      "text/plain": [
       "[54, 24, 48, 56, 26, 2]"
      ]
     },
     "execution_count": 136,
     "metadata": {},
     "output_type": "execute_result"
    }
   ],
   "source": [
    "random.seed(0)\n",
    "lottery_numbers = range(60)\n",
    "random.sample(lottery_numbers, 6)"
   ]
  },
  {
   "cell_type": "markdown",
   "metadata": {},
   "source": [
    "#### `choice`와 `range`의 합작\n",
    "\n",
    "두 함수를 합작하면 `sample` 유사하게 작동하는 코드를 구현할 수 있다.\n",
    "차이점은 **중복 선택이 가능**하다라는 점이다.\n",
    "\n",
    "예를 들어, 0부터 99 사이의 정수 중에서 중복을 허락하면서 무작위로 10개의 정수를 선택하고자 \n",
    "할 때 다음과 같이 실행한다."
   ]
  },
  {
   "cell_type": "code",
   "execution_count": 137,
   "metadata": {},
   "outputs": [
    {
     "name": "stdout",
     "output_type": "stream",
     "text": [
      "[33, 65, 62, 51, 38, 61, 45, 74, 27, 64]\n"
     ]
    }
   ],
   "source": [
    "four_with_replacement = [random.choice(range(100)) for _ in range(10)]\n",
    "print(four_with_replacement)"
   ]
  },
  {
   "cell_type": "markdown",
   "metadata": {},
   "source": [
    "실행할 때마다 결과가 다르다."
   ]
  },
  {
   "cell_type": "code",
   "execution_count": 138,
   "metadata": {},
   "outputs": [
    {
     "name": "stdout",
     "output_type": "stream",
     "text": [
      "[17, 36, 17, 96, 12, 79, 32, 68, 90, 77]\n"
     ]
    }
   ],
   "source": [
    "four_with_replacement = [random.choice(range(100)) for _ in range(10)]\n",
    "print(four_with_replacement)"
   ]
  },
  {
   "cell_type": "markdown",
   "metadata": {},
   "source": [
    "시드를 지정하면 항상 동일하다."
   ]
  },
  {
   "cell_type": "code",
   "execution_count": 139,
   "metadata": {},
   "outputs": [
    {
     "name": "stdout",
     "output_type": "stream",
     "text": [
      "[79, 32, 94, 45, 88, 94, 83, 67, 3, 59]\n"
     ]
    }
   ],
   "source": [
    "random.seed(5)\n",
    "four_with_replacement = [random.choice(range(100)) for _ in range(10)]\n",
    "print(four_with_replacement)"
   ]
  },
  {
   "cell_type": "code",
   "execution_count": 140,
   "metadata": {},
   "outputs": [
    {
     "name": "stdout",
     "output_type": "stream",
     "text": [
      "[79, 32, 94, 45, 88, 94, 83, 67, 3, 59]\n"
     ]
    }
   ],
   "source": [
    "random.seed(5)\n",
    "four_with_replacement = [random.choice(range(100)) for _ in range(10)]\n",
    "print(four_with_replacement)"
   ]
  }
 ],
 "metadata": {
  "kernelspec": {
   "display_name": "Python 3",
   "language": "python",
   "name": "python3"
  },
  "language_info": {
   "codemirror_mode": {
    "name": "ipython",
    "version": 3
   },
   "file_extension": ".py",
   "mimetype": "text/x-python",
   "name": "python",
   "nbconvert_exporter": "python",
   "pygments_lexer": "ipython3",
   "version": "3.6.8"
  }
 },
 "nbformat": 4,
 "nbformat_minor": 2
}
