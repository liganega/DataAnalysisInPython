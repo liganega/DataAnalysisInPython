{
 "cells": [
  {
   "cell_type": "markdown",
   "metadata": {},
   "source": [
    "# 가설과 추론"
   ]
  },
  {
   "cell_type": "markdown",
   "metadata": {},
   "source": [
    "이번 비디오에서는 지금까지 배운 통계와 확률 이론을 활용하여\n",
    "가설을 세우고 검정하는 방법을 배운다.\n",
    "\n",
    "여기서 다루는 주제는 다음과 같다.\n",
    "\n",
    "1. 통계적 가설검정\n",
    "1. $p$-값\n",
    "1. 신뢰구간\n",
    "1. A/B 테스트\n",
    "1. 베이지안 추론"
   ]
  },
  {
   "cell_type": "markdown",
   "metadata": {},
   "source": [
    "## 통계적 가설 검정"
   ]
  },
  {
   "cell_type": "markdown",
   "metadata": {},
   "source": [
    "통계적 가설 검정은 \n",
    "모집단에 대한 가설을 세운 후 표본을 통해 얻은 통계를 이용하여 \n",
    "해당 가설을 검정(test)하는 것을 의미한다."
   ]
  },
  {
   "cell_type": "markdown",
   "metadata": {},
   "source": [
    "### 귀무가설과 대립가설\n",
    "\n",
    "검정 대상인 가설을 **귀무가설**($H_0$, null hypothesis), \n",
    "그에 대립되는 가설을 **대립가설**($H_1$, alternative hypothesis)라 부른다. \n",
    "\n",
    "통계를 사용하여 귀무가설 $H_0$를 받아들일지, 아니면 기각하고 대립가설 $H_1$을 받아들일지를 결정한다.\n",
    "귀무가설을 검정할 때 발생할 수 있는 오류에는 두 종류가 있다. \n",
    "\n",
    "* **1종 오류**: 귀무가설 $H_0$가 참이지만 기각하는 오류\n",
    "* **2종 오류**: 귀무가설 $H_0$가 거짓이지만 받아들이는 오류\n",
    "\n",
    "그리고 2종 오류가 발생하지 않을 확률을 **검정력**이라 부른다."
   ]
  },
  {
   "cell_type": "markdown",
   "metadata": {},
   "source": [
    "### 동전 던지기 예제\n",
    "\n",
    "동전 던지기를 이용하여 가설검정 방법을 설명한다. \n",
    "\n",
    "지금까지는 동전이 정상적인 동전인지 아니면 앞면 또는 뒷면이 보다 많이 나오는 편향된 동전인지 \n",
    "알고서 특정 사건이 발생할 확률을 구했다. \n",
    "\n",
    "그런데 이제는 동전에 대한 정보를 모른다고 가정한다.\n",
    "그리고 나서 모의실험 결과를 보고 동전에 대한 정보를 통계적으로 추정한다.\n",
    "바로 **통계적 가설 검정**이라고 부르는 이유이다. "
   ]
  },
  {
   "cell_type": "markdown",
   "metadata": {},
   "source": [
    "동전을 $n$번 던져서 앞면이 나오는 횟수를 가리키는 확률 변수 $X$를 세는\n",
    "모의실험을 통해 동전에 대한 가설을 검정해보자.\n",
    "\n",
    "이전 비디오에서 살펴보았듯이 $n$값이 충분히 크면\n",
    "$X$는 정규분포를 따른다. \n",
    "동전을 한 번 던져서 앞면이 나올 확률을 $p$라 할 때,\n",
    "실제로 다음이 성립한다.\n",
    "\n",
    "$$X \\sim N(n\\cdot p, n\\cdot p\\cdot (1-p))$$\n",
    "\n",
    "즉, 평균은 $\\mu = n\\cdot p$ 이고 표준편차는 $\\sigma = \\sqrt{n \\cdot p \\cdot (1-p)}$ 인\n",
    "정규분포이다."
   ]
  },
  {
   "cell_type": "markdown",
   "metadata": {},
   "source": [
    "이제 동전을 1,000번 던졌다고 가정하자. \n",
    "즉, $n = 1000$ 이다.\n",
    "\n",
    "그리고 검정해야할 귀무가설 $H_0$는 '동전이 정상이다'로 정한다.\n",
    "\n",
    "* $H_0$: $p = 0.5$\n",
    "\n",
    "그러면 다음이 성립해야 한다.\n",
    "\n",
    "$$X \\sim N(\\mu_0, \\sigma_0^2) = N(500, 250) = N(500, 15.8^2)$$"
   ]
  },
  {
   "cell_type": "markdown",
   "metadata": {},
   "source": [
    "$\\mu_0$와 $\\sigma_0$ 계산은 매우 쉽다."
   ]
  },
  {
   "cell_type": "code",
   "execution_count": 20,
   "metadata": {},
   "outputs": [
    {
     "name": "stdout",
     "output_type": "stream",
     "text": [
      "mu_0\t = 500.0\n",
      "sigma_0\t = 15.811388300841896\n"
     ]
    }
   ],
   "source": [
    "from typing import Tuple\n",
    "import math\n",
    "\n",
    "def normal_approximation_to_binomial(n: int, p: float) -> Tuple[float, float]:\n",
    "    \"\"\"Returns mu and sigma corresponding to a Binomial(n, p)\"\"\"\n",
    "    mu = p * n\n",
    "    sigma = math.sqrt(p * (1 - p) * n)\n",
    "    return mu, sigma\n",
    "\n",
    "# '../scratch' 폴더에 있는 파이썬 모듈을 사용하기 위해 아래 명령이 필요\n",
    "\n",
    "import os\n",
    "import sys\n",
    "sys.path.insert(0, os.path.abspath('..'))\n",
    "\n",
    "from scratch.probability import normal_cdf\n",
    "\n",
    "normal_probability_below = normal_cdf\n",
    "\n",
    "def normal_probability_above(lo: float,\n",
    "                             mu: float = 0,\n",
    "                             sigma: float = 1) -> float:\n",
    "    return 1 - normal_cdf(lo, mu, sigma)\n",
    "\n",
    "def normal_probability_between(lo: float,\n",
    "                               hi: float,\n",
    "                               mu: float = 0,\n",
    "                               sigma: float = 1) -> float:\n",
    "    return normal_cdf(hi, mu, sigma) - normal_cdf(lo, mu, sigma)\n",
    "\n",
    "def normal_probability_outside(lo: float,\n",
    "                               hi: float,\n",
    "                               mu: float = 0,\n",
    "                               sigma: float = 1) -> float:\n",
    "    return 1 - normal_probability_between(lo, hi, mu, sigma)\n",
    "\n",
    "from scratch.probability import inverse_normal_cdf\n",
    "\n",
    "def normal_upper_bound(probability: float,\n",
    "                       mu: float = 0,\n",
    "                       sigma: float = 1) -> float:\n",
    "    return inverse_normal_cdf(probability, mu, sigma)\n",
    "\n",
    "def normal_lower_bound(probability: float,\n",
    "                       mu: float = 0,\n",
    "                       sigma: float = 1) -> float:\n",
    "    return inverse_normal_cdf(1 - probability, mu, sigma)\n",
    "\n",
    "def normal_two_sided_bounds(probability: float,\n",
    "                            mu: float = 0,\n",
    "                            sigma: float = 1) -> Tuple[float, float]:\n",
    "    tail_probability = (1 - probability) / 2\n",
    "\n",
    "    upper_bound = normal_lower_bound(tail_probability, mu, sigma)\n",
    "\n",
    "    lower_bound = normal_upper_bound(tail_probability, mu, sigma)\n",
    "\n",
    "    return lower_bound, upper_bound\n",
    "\n",
    "mu_0, sigma_0 = normal_approximation_to_binomial(1000, 0.5)\n",
    "print(f\"mu_0\\t = {mu_0}\",\n",
    "      f\"sigma_0\\t = {sigma_0}\", sep='\\n')"
   ]
  },
  {
   "cell_type": "markdown",
   "metadata": {},
   "source": [
    "### 유의수준\n",
    "\n",
    "귀무가설을 검정하려면 먼저 **유의수준**(significance)을 지정해야 한다.\n",
    "유의수준은 보통 5% 또는 1%로 정하며, 여기서는 5%를 사용한다.\n",
    "\n",
    "유의수준이 5%라는 것은 \n",
    "귀무가설이 정말로 참이라고 해도 \n",
    "발생확률이 5%가 안되는 사건이 모의실험에서 발생하면 \n",
    "어쩔 수 없이 귀무가설을 기각해야 한다는 것을 의미한다.\n",
    "즉, 1종오류로 인정되는 범위의 기준이 5%라는 것이다. "
   ]
  },
  {
   "cell_type": "markdown",
   "metadata": {},
   "source": [
    "### 양측검점과 단측검정\n",
    "\n",
    "가설검정 방법에 크게 세 가지 방법이 있다.\n",
    "\n",
    "* **양측검정**(two_sided test): 대립가설이 '...가 아니다'의 형식인 경우 주로 사용\n",
    "* **단측검정**(one-sided test)\n",
    "    * 하단측검정: 대립가설이 '...보다 작다'의 형식인 경우 주로 사용\n",
    "    * 상단측검정: 대립가설이 '...보다 크다'의 형식인 경우 주로 사용"
   ]
  },
  {
   "cell_type": "markdown",
   "metadata": {},
   "source": [
    "### 기각역\n",
    "\n",
    "유의수준에 따라 귀무가설을 기각하기 위한 기준으로 사용되는 값들의 집합을 기각역이라 하며,\n",
    "가설검정 방식에 따라 위치와 크기가 달라진다.\n",
    "\n",
    "아래 그래프는 차례대로 유의수준 5%에서 양측검정, 하단측검정, 상단측검정의 기각역을 보여준다."
   ]
  },
  {
   "cell_type": "markdown",
   "metadata": {},
   "source": [
    "<p>\n",
    "<table cellspacing=\"20\">\n",
    "<tr>\n",
    "    <td><img src=\"../images/two-sided-region.png\"></td>\n",
    "    <td><img src=\"../images/one-sided-region-down.png\"></td>\n",
    "    <td><img src=\"../images/one-sided-region-up.png\"></td>\n",
    "</tr>\n",
    "</table>\n",
    "</p>"
   ]
  },
  {
   "cell_type": "code",
   "execution_count": 2,
   "metadata": {},
   "outputs": [],
   "source": [
    "# (469, 531)\n",
    "lower_bound, upper_bound = normal_two_sided_bounds(0.95, mu_0, sigma_0)\n",
    "\n",
    "\n",
    "assert 468.5 < lower_bound < 469.5\n",
    "assert 530.5 < upper_bound < 531.5\n",
    "\n",
    "# 95% bounds based on assumption p is 0.5\n",
    "lo, hi = normal_two_sided_bounds(0.95, mu_0, sigma_0)\n",
    "\n",
    "# actual mu and sigma based on p = 0.55\n",
    "mu_1, sigma_1 = normal_approximation_to_binomial(1000, 0.55)\n",
    "\n",
    "# a type 2 error means we fail to reject the null hypothesis\n",
    "# which will happen when X is still in our original interval\n",
    "type_2_probability = normal_probability_between(lo, hi, mu_1, sigma_1)\n",
    "power = 1 - type_2_probability      # 0.887\n",
    "\n",
    "\n",
    "assert 0.886 < power < 0.888\n",
    "\n",
    "hi = normal_upper_bound(0.95, mu_0, sigma_0)\n",
    "# is 526 (< 531, since we need more probability in the upper tail)\n",
    "\n",
    "type_2_probability = normal_probability_below(hi, mu_1, sigma_1)\n",
    "power = 1 - type_2_probability      # 0.936\n",
    "\n",
    "\n",
    "assert 526 < hi < 526.1\n",
    "assert 0.9363 < power < 0.9364"
   ]
  },
  {
   "cell_type": "code",
   "execution_count": 3,
   "metadata": {},
   "outputs": [
    {
     "ename": "AssertionError",
     "evalue": "70",
     "output_type": "error",
     "traceback": [
      "\u001b[0;31m---------------------------------------------------------------------------\u001b[0m",
      "\u001b[0;31mAssertionError\u001b[0m                            Traceback (most recent call last)",
      "\u001b[0;32m<ipython-input-3-12fcfe73c370>\u001b[0m in \u001b[0;36m<module>\u001b[0;34m\u001b[0m\n\u001b[1;32m    119\u001b[0m \u001b[0;34m\u001b[0m\u001b[0m\n\u001b[1;32m    120\u001b[0m \u001b[0;31m# p-value was 0.062 => ~62 extreme values out of 1000\u001b[0m\u001b[0;34m\u001b[0m\u001b[0;34m\u001b[0m\u001b[0;34m\u001b[0m\u001b[0m\n\u001b[0;32m--> 121\u001b[0;31m \u001b[0;32massert\u001b[0m \u001b[0;36m59\u001b[0m \u001b[0;34m<\u001b[0m \u001b[0mextreme_value_count\u001b[0m \u001b[0;34m<\u001b[0m \u001b[0;36m65\u001b[0m\u001b[0;34m,\u001b[0m \u001b[0;34mf\"{extreme_value_count}\"\u001b[0m\u001b[0;34m\u001b[0m\u001b[0;34m\u001b[0m\u001b[0m\n\u001b[0m\u001b[1;32m    122\u001b[0m \u001b[0;34m\u001b[0m\u001b[0m\n\u001b[1;32m    123\u001b[0m \u001b[0mtwo_sided_p_value\u001b[0m\u001b[0;34m(\u001b[0m\u001b[0;36m531.5\u001b[0m\u001b[0;34m,\u001b[0m \u001b[0mmu_0\u001b[0m\u001b[0;34m,\u001b[0m \u001b[0msigma_0\u001b[0m\u001b[0;34m)\u001b[0m   \u001b[0;31m# 0.0463\u001b[0m\u001b[0;34m\u001b[0m\u001b[0;34m\u001b[0m\u001b[0m\n",
      "\u001b[0;31mAssertionError\u001b[0m: 70"
     ]
    }
   ],
   "source": [
    "def two_sided_p_value(x: float, mu: float = 0, sigma: float = 1) -> float:\n",
    "    \"\"\"\n",
    "    How likely are we to see a value at least as extreme as x (in either\n",
    "    direction) if our values are from a N(mu, sigma)?\n",
    "    \"\"\"\n",
    "    if x >= mu:\n",
    "        # x is greater than the mean, so the tail is everything greater than x\n",
    "        return 2 * normal_probability_above(x, mu, sigma)\n",
    "    else:\n",
    "        # x is less than the mean, so the tail is everything less than x\n",
    "        return 2 * normal_probability_below(x, mu, sigma)\n",
    "\n",
    "two_sided_p_value(529.5, mu_0, sigma_0)   # 0.062\n",
    "\n",
    "import random\n",
    "\n",
    "extreme_value_count = 0\n",
    "for _ in range(1000):\n",
    "    num_heads = sum(1 if random.random() < 0.5 else 0    # Count # of heads\n",
    "                    for _ in range(1000))                # in 1000 flips,\n",
    "    if num_heads >= 530 or num_heads <= 470:             # and count how often\n",
    "        extreme_value_count += 1                         # the # is 'extreme'\n",
    "\n",
    "# p-value was 0.062 => ~62 extreme values out of 1000\n",
    "assert 59 < extreme_value_count < 65, f\"{extreme_value_count}\"\n",
    "\n",
    "two_sided_p_value(531.5, mu_0, sigma_0)   # 0.0463\n",
    "\n",
    "\n",
    "tspv = two_sided_p_value(531.5, mu_0, sigma_0)\n",
    "assert 0.0463 < tspv < 0.0464\n",
    "\n",
    "upper_p_value = normal_probability_above\n",
    "lower_p_value = normal_probability_below\n",
    "\n",
    "upper_p_value(524.5, mu_0, sigma_0) # 0.061\n",
    "\n",
    "upper_p_value(526.5, mu_0, sigma_0) # 0.047\n",
    "\n",
    "p_hat = 525 / 1000\n",
    "mu = p_hat\n",
    "sigma = math.sqrt(p_hat * (1 - p_hat) / 1000)   # 0.0158\n",
    "\n",
    "normal_two_sided_bounds(0.95, mu, sigma)        # [0.4940, 0.5560]\n",
    "\n",
    "p_hat = 540 / 1000\n",
    "mu = p_hat\n",
    "sigma = math.sqrt(p_hat * (1 - p_hat) / 1000) # 0.0158\n",
    "normal_two_sided_bounds(0.95, mu, sigma) # [0.5091, 0.5709]\n",
    "\n",
    "from typing import List\n",
    "\n",
    "def run_experiment() -> List[bool]:\n",
    "    \"\"\"Flips a fair coin 1000 times, True = heads, False = tails\"\"\"\n",
    "    return [random.random() < 0.5 for _ in range(1000)]\n",
    "\n",
    "def reject_fairness(experiment: List[bool]) -> bool:\n",
    "    \"\"\"Using the 5% significance levels\"\"\"\n",
    "    num_heads = len([flip for flip in experiment if flip])\n",
    "    return num_heads < 469 or num_heads > 531\n",
    "\n",
    "random.seed(0)\n",
    "experiments = [run_experiment() for _ in range(1000)]\n",
    "num_rejections = len([experiment\n",
    "                      for experiment in experiments\n",
    "                      if reject_fairness(experiment)])\n",
    "\n",
    "assert num_rejections == 46\n",
    "\n",
    "def estimated_parameters(N: int, n: int) -> Tuple[float, float]:\n",
    "    p = n / N\n",
    "    sigma = math.sqrt(p * (1 - p) / N)\n",
    "    return p, sigma\n",
    "\n",
    "def a_b_test_statistic(N_A: int, n_A: int, N_B: int, n_B: int) -> float:\n",
    "    p_A, sigma_A = estimated_parameters(N_A, n_A)\n",
    "    p_B, sigma_B = estimated_parameters(N_B, n_B)\n",
    "    return (p_B - p_A) / math.sqrt(sigma_A ** 2 + sigma_B ** 2)\n",
    "\n",
    "z = a_b_test_statistic(1000, 200, 1000, 180)    # -1.14\n",
    "\n",
    "\n",
    "assert -1.15 < z < -1.13\n",
    "\n",
    "two_sided_p_value(z)                            # 0.254\n",
    "\n",
    "\n",
    "assert 0.253 < two_sided_p_value(z) < 0.255\n",
    "\n",
    "z = a_b_test_statistic(1000, 200, 1000, 150)    # -2.94\n",
    "two_sided_p_value(z)                            # 0.003\n",
    "\n",
    "def B(alpha: float, beta: float) -> float:\n",
    "    \"\"\"A normalizing constant so that the total probability is 1\"\"\"\n",
    "    return math.gamma(alpha) * math.gamma(beta) / math.gamma(alpha + beta)\n",
    "\n",
    "def beta_pdf(x: float, alpha: float, beta: float) -> float:\n",
    "    if x <= 0 or x >= 1:          # no weight outside of [0, 1]\n",
    "        return 0\n",
    "    return x ** (alpha - 1) * (1 - x) ** (beta - 1) / B(alpha, beta)"
   ]
  }
 ],
 "metadata": {
  "kernelspec": {
   "display_name": "Python 3",
   "language": "python",
   "name": "python3"
  },
  "language_info": {
   "codemirror_mode": {
    "name": "ipython",
    "version": 3
   },
   "file_extension": ".py",
   "mimetype": "text/x-python",
   "name": "python",
   "nbconvert_exporter": "python",
   "pygments_lexer": "ipython3",
   "version": "3.6.8"
  }
 },
 "nbformat": 4,
 "nbformat_minor": 2
}
