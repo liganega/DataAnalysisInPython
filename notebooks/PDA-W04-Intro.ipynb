{
 "cells": [
  {
   "cell_type": "markdown",
   "metadata": {},
   "source": [
    "# 4장 선형대수"
   ]
  },
  {
   "cell_type": "markdown",
   "metadata": {},
   "source": [
    "이번 비디오에서는 4장의 주제인 **선형대수**를 다룬다.\n",
    "\n",
    "선형대수는 벡터와 행렬의 성질을 연구하는 수학의 한 분야이다.\n",
    "여기서는 데이터 분석 기술의 기초를 제공하는 벡터와 행렬의 기본 개념을 소개한다. "
   ]
  },
  {
   "cell_type": "markdown",
   "metadata": {},
   "source": [
    "## 벡터\n",
    "\n",
    "벡터는 보통 유한 개의 숫자를 담고 있으며,\n",
    "통계 및 물리학에서 많이 사용된다.\n",
    "\n",
    "* 물리학 예제: 방향과 크기를 표현할 때 벡터 사용\n",
    "    * 2차원 벡터 형식: (x, y)\n",
    "\n",
    "\n",
    "* 통계 예제: 사람들의 키, 몸무게, 나이로 이루어진 벡터\n",
    "    * 3차원 벡터 형식: (키, 몸무게, 나이)\n",
    "\n",
    "\n",
    "* 통계 예제: 네 번의 시험 점수로 이루어진 벡터\n",
    "    * 4차원 벡터 형식: (1차점수, 2차점수, 3차점수, 4차점수)"
   ]
  },
  {
   "cell_type": "markdown",
   "metadata": {},
   "source": [
    "### 벡터 덧셈\n",
    "\n",
    "차원이 같은 벡터 두 개의 덧셈은 같은 위치에 있는 항목끼기 더한 결과로 이루어진 벡터를 생성한다."
   ]
  },
  {
   "cell_type": "markdown",
   "metadata": {},
   "source": [
    "$$(1, 2) + (2, 1) = (1+2, 2+1) = (3, 3)$$\n",
    "\n",
    "$$(165, 53, 20) + (177, 71, 20) = (165+177, 53+71, 20+20) = (342, 124, 40)$$\n",
    "\n",
    "$$(55, 67, 86, 94) + (80, 83, 81, 79) = (55+80, 67+83, 86+81, 94+79) = (135, 150, 167, 173)$$"
   ]
  },
  {
   "cell_type": "markdown",
   "metadata": {},
   "source": [
    "#### 벡터 덧셈의 기하학적 의미\n",
    "\n",
    "벡터 $a$와 벡터 $b$의 합 $a+b$의 의미를 아래 그래프에서처럼 해석할 수 있다."
   ]
  },
  {
   "cell_type": "markdown",
   "metadata": {},
   "source": [
    "<img src=\"../images/vector_addition.png\" width=\"40%\">\n",
    "\n",
    "출처: [위키백과](https://en.wikipedia.org/wiki/Euclidean_vector)"
   ]
  },
  {
   "cell_type": "markdown",
   "metadata": {},
   "source": [
    "### 벡터 뺄셈\n",
    "\n",
    "차원이 같은 벡터 두 개의 덧셈은 같은 위치에 있는 항목끼기 뺀 결과로 이루어진 벡터를 생성한다."
   ]
  },
  {
   "cell_type": "markdown",
   "metadata": {},
   "source": [
    "$$(1, 2) - (2, 1) = (1-2, 2-1) = (-1, 1)$$\n",
    "\n",
    "$$(165, 53, 20) - (177, 71, 20) = (165-177, 53-71, 20-20) = (-12, -18, 0)$$\n",
    "\n",
    "$$(55, 67, 86, 94) - (80, 83, 81, 79) = (55-80, 67-83, 86-81, 94-79) = (-25, -16, 5, 15)$$"
   ]
  },
  {
   "cell_type": "markdown",
   "metadata": {},
   "source": [
    "#### 벡터 뺄셈의 기하학적 의미\n",
    "\n",
    "벡터 $a$와 벡터 $b$의 합 $a-b$의 의미를 아래 그래프에서처럼 해석할 수 있다."
   ]
  },
  {
   "cell_type": "markdown",
   "metadata": {},
   "source": [
    "<img src=\"../images/vector_subtraction.png\" width=\"20%\">\n",
    "\n",
    "출처: [위키백과](https://en.wikipedia.org/wiki/Euclidean_vector)"
   ]
  },
  {
   "cell_type": "markdown",
   "metadata": {},
   "source": [
    "### 스칼라 곱셈\n",
    "\n",
    "숫자 하나와 벡터의 곱셈을 스칼라 곱셈이라 부른다. \n",
    "스칼라 곱셈은 벡터의 각 항목을 지정된 숫자로 곱해 새로운 벡터를 생성한다. "
   ]
  },
  {
   "cell_type": "markdown",
   "metadata": {},
   "source": [
    "$$3 \\cdot (1, 2) = (3\\cdot 1, 3\\cdot 2) = (3, 6)$$\n",
    "\n",
    "$$2 \\cdot (165, 53, 20) = (2\\cdot 165, 2\\cdot 53, 2\\cdot 20) = (330, 106, 40)$$\n",
    "\n",
    "$$5\\cdot (55, 67, 86, 94) = (5\\cdot 55, 5\\cdot 67, 5\\cdot 86, 5\\cdot 94) = (275, 335, 430, 470)$$"
   ]
  },
  {
   "cell_type": "markdown",
   "metadata": {},
   "source": [
    "#### 스칼라 곱셈의 기하학적 의미\n",
    "\n",
    "<table>\n",
    "<tr>\n",
    "    <td><img src=\"../images/Scalar_mult_3.png\" width=\"50%\"></td>\n",
    "    <td><img src=\"../images/Scalar_mult_2.png\" width=\"50%\"></td>\n",
    "</tr>\n",
    "</table>\n",
    "\n",
    "출처: [위키백과](https://en.wikipedia.org/wiki/Euclidean_vector)"
   ]
  },
  {
   "cell_type": "markdown",
   "metadata": {},
   "source": [
    "### 예제: 벡터 항목별 평균\n",
    "\n",
    "같은 길의의 벡터가 여러 개 주어졌을 때 항목별 평균을 구할 수도 있다.\n",
    "항목별 평균은 항목끼리 모두 더한 후 벡터의 개수로 나누면 된다.\n",
    "즉, 벡터의 덧셈과 스칼라 곱셈을 이용하면 된다."
   ]
  },
  {
   "cell_type": "markdown",
   "metadata": {},
   "source": [
    "$$\\frac 1 3 \\cdot ((1, 2) + (2, 1) + (2, 3)) = \\frac 1 3 \\cdot (1+2+2, 2+1+3) = (\\frac 5 3, \\frac 6 3) = (\\frac 5 3, 2)$$"
   ]
  },
  {
   "cell_type": "markdown",
   "metadata": {},
   "source": [
    "### 내적\n",
    "\n",
    "차원이 같은 벡터 두 개의 내적은 같은 위치에 있는 항목끼기 곱한 후 모두 더한 결과를 의미한다."
   ]
  },
  {
   "cell_type": "markdown",
   "metadata": {},
   "source": [
    "#### 벡터 내적의 기하학적 의미\n",
    "\n",
    "두 개의 벡터 $A$와 $B$가 주어졌고, 벡터 $B$의 길이가 1이라고 가정하자.\n",
    "그러면 내적 $A \\cdot B$는 벡터 $A$가 벡터 $B$ 방향으로 사영되었을 때의 길이를 나타낸다. "
   ]
  },
  {
   "cell_type": "markdown",
   "metadata": {},
   "source": [
    "<img src=\"../images/dot_product.png\" width=\"20%\">\n",
    "\n",
    "출처: [위키백과](https://en.wikipedia.org/wiki/Dot_product)"
   ]
  },
  {
   "cell_type": "markdown",
   "metadata": {},
   "source": [
    "### 예제: 벡터 항목별 제곱의 합\n",
    "\n",
    "내적을 이용하여 벡터 항목별 제곱의 합을 쉽게 구할 수 있다.\n",
    "$v = (v_1, \\cdots, v_n)$ 일 때 각 항목별 제곱의 합은 $v$와 $v$ 자신의 내적과 같다.\n",
    "\n",
    "$$v \\cdot v = v_1^2 + \\cdots + v_n^2$$"
   ]
  },
  {
   "cell_type": "markdown",
   "metadata": {},
   "source": [
    "$$(1, 2) \\cdot (1, 2) = 1^2 + 2^2 = 5$$"
   ]
  },
  {
   "cell_type": "markdown",
   "metadata": {},
   "source": [
    "### 예제: 벡터의 크기\n",
    "\n",
    "$v = (v_1, \\cdots, v_n)$ 일 때 벡터 $v$의 크기 $\\|v\\|$는 각 항목별 제곱을 합한 결과의 제곱근이다. 즉, \n",
    "\n",
    "$$\\|v\\| = \\sqrt{v \\cdot v} = \\sqrt{v_1^2 + \\cdots + v_n^2}$$"
   ]
  },
  {
   "cell_type": "markdown",
   "metadata": {},
   "source": [
    "$$\\|(1, 2)\\| = \\sqrt{1^2 + 2^2} = \\sqrt{5}$$"
   ]
  },
  {
   "cell_type": "markdown",
   "metadata": {},
   "source": [
    "### 예제: 벡터 사이의 거리\n",
    "\n",
    "$v = (v_1, \\cdots, v_n)$이고 $w = (w_1, \\cdots, w_n)$ 일 때 \n",
    "벡터 $v$와 벡터 $w$ 사이의 거리는 벡터 $v-w$의 크기이다. 즉, \n",
    "\n",
    "$$\\|v - w\\| = \\sqrt{(v-w) \\cdot (v-w)} = \\sqrt{(v_1-w_1)^2 + \\cdots + (v_n-w_n)^2}$$"
   ]
  },
  {
   "cell_type": "markdown",
   "metadata": {},
   "source": [
    "$$\\|(1, 2) - (2, 1)\\| = \\sqrt{((-1)^2 + 1^2} = \\sqrt{2}$$"
   ]
  },
  {
   "cell_type": "markdown",
   "metadata": {},
   "source": [
    "## 행렬\n",
    "\n",
    "벡터는 보통 유한 개의 숫자를 담고 있다. "
   ]
  }
 ],
 "metadata": {
  "kernelspec": {
   "display_name": "Python 3",
   "language": "python",
   "name": "python3"
  },
  "language_info": {
   "codemirror_mode": {
    "name": "ipython",
    "version": 3
   },
   "file_extension": ".py",
   "mimetype": "text/x-python",
   "name": "python",
   "nbconvert_exporter": "python",
   "pygments_lexer": "ipython3",
   "version": "3.6.8"
  }
 },
 "nbformat": 4,
 "nbformat_minor": 2
}
