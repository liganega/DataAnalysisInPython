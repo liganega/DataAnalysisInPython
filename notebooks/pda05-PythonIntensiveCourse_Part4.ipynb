{
 "cells": [
  {
   "cell_type": "markdown",
   "metadata": {},
   "source": [
    "# 파이썬 특강 4부"
   ]
  },
  {
   "cell_type": "markdown",
   "metadata": {},
   "source": [
    "### 난수 생성"
   ]
  },
  {
   "cell_type": "markdown",
   "metadata": {},
   "source": [
    "무작위 수를 생성할 필요가 종종 있다.\n",
    "무작위로 생성된 수를 난수(random number)라 부르며,\n",
    "난수 생성을 위해 랜덤(`random`) 모듈을 사용할 수 있다."
   ]
  },
  {
   "cell_type": "code",
   "execution_count": 1,
   "metadata": {},
   "outputs": [],
   "source": [
    "import random"
   ]
  },
  {
   "cell_type": "markdown",
   "metadata": {},
   "source": [
    "#### `random` 함수\n",
    "\n",
    "0과 1 사이의 실수를 무작위로, 하지만 균등하게(uniformly) 선택한다.\n",
    "여기서 균등성은 한 영역에 치우치지 전 영역에서 골고루 선택함을 의미한다."
   ]
  },
  {
   "cell_type": "code",
   "execution_count": 2,
   "metadata": {},
   "outputs": [
    {
     "data": {
      "text/plain": [
       "[0.12044402643310836,\n",
       " 0.33736863656656824,\n",
       " 0.283842337868617,\n",
       " 0.24763133384509572,\n",
       " 0.025849119270199505,\n",
       " 0.2602978696459698,\n",
       " 0.4614004281893419,\n",
       " 0.765747470854776,\n",
       " 0.8437055370231042,\n",
       " 0.7934196445949518]"
      ]
     },
     "execution_count": 2,
     "metadata": {},
     "output_type": "execute_result"
    }
   ],
   "source": [
    "[random.random() for _ in range(10)]"
   ]
  },
  {
   "cell_type": "markdown",
   "metadata": {},
   "source": [
    "**주의:** 난수 생성이 엄밀히 말하면 완전히 무작위는 아니다. \n",
    "모든 컴퓨터 안에 난수표가 있어서 `random` 같은 함수를 실행할 때마다\n",
    "난수표에서 차례대로 읽어서 보여주는 것에 불과하다.\n",
    "하지만 우리 인간에게는 무작위적으로 보이며, 실제로 매우 유용하게 활용된다."
   ]
  },
  {
   "cell_type": "markdown",
   "metadata": {},
   "source": [
    "#### 시드(`seed`) 함수\n",
    "\n",
    "코드를 실행할 때 마다 동일한 난수를 얻으려면,\n",
    "즉, 동일한 환경에서 데이터 분석 실험을 반복하려면 \n",
    "`seed` 함수를 먼저 실행해야 한다.\n",
    "\n",
    "간단한게 설명하면, `seed` 함수에 입력된 정수 인자가\n",
    "난수를 생성하는 기준을 제시한다.\n",
    "따라서 어떤 환경에서도 `seed` 함수의 입력값이 동일하면 \n",
    "동일한 난수가 생성된다."
   ]
  },
  {
   "cell_type": "code",
   "execution_count": 3,
   "metadata": {},
   "outputs": [
    {
     "name": "stdout",
     "output_type": "stream",
     "text": [
      "0.5714025946899135\n",
      "0.5714025946899135\n"
     ]
    }
   ],
   "source": [
    "random.seed(10)         # 시드를 10으로 지정\n",
    "print(random.random())\n",
    "random.seed(10)       \n",
    "print(random.random())"
   ]
  },
  {
   "cell_type": "markdown",
   "metadata": {},
   "source": [
    "시드를 지정하지 않으면 `random` 함수가 매번 다른 값을 생성한다."
   ]
  },
  {
   "cell_type": "code",
   "execution_count": 4,
   "metadata": {},
   "outputs": [
    {
     "name": "stdout",
     "output_type": "stream",
     "text": [
      "0.4288890546751146\n"
     ]
    }
   ],
   "source": [
    "print(random.random())"
   ]
  },
  {
   "cell_type": "code",
   "execution_count": 5,
   "metadata": {},
   "outputs": [
    {
     "name": "stdout",
     "output_type": "stream",
     "text": [
      "0.5780913011344704\n"
     ]
    }
   ],
   "source": [
    "print(random.random())"
   ]
  },
  {
   "cell_type": "code",
   "execution_count": 6,
   "metadata": {},
   "outputs": [
    {
     "name": "stdout",
     "output_type": "stream",
     "text": [
      "0.20609823213950174\n"
     ]
    }
   ],
   "source": [
    "print(random.random())"
   ]
  },
  {
   "cell_type": "markdown",
   "metadata": {},
   "source": [
    "#### `randrange` 함수\n",
    "\n",
    "지정된 범위 안에서 정수를 무작위로 선택하는 함수이다. \n",
    "\n",
    "예를 들어, 0부터 9 사이의 정수중에서 임의로 하나의 수를 선택하려면 다음과 같이 실행한다."
   ]
  },
  {
   "cell_type": "code",
   "execution_count": 7,
   "metadata": {},
   "outputs": [
    {
     "data": {
      "text/plain": [
       "7"
      ]
     },
     "execution_count": 7,
     "metadata": {},
     "output_type": "execute_result"
    }
   ],
   "source": [
    "random.randrange(10)"
   ]
  },
  {
   "cell_type": "markdown",
   "metadata": {},
   "source": [
    "실행할 때마다 다른 값을 반환한다."
   ]
  },
  {
   "cell_type": "code",
   "execution_count": 8,
   "metadata": {},
   "outputs": [
    {
     "data": {
      "text/plain": [
       "4"
      ]
     },
     "execution_count": 8,
     "metadata": {},
     "output_type": "execute_result"
    }
   ],
   "source": [
    "random.randrange(10)"
   ]
  },
  {
   "cell_type": "markdown",
   "metadata": {},
   "source": [
    "그리고, 예를 들어, 3과 7 사이의 정수 중에서 임의로 하나를 선택하려면 다음과 같이 실행한다."
   ]
  },
  {
   "cell_type": "code",
   "execution_count": 9,
   "metadata": {},
   "outputs": [
    {
     "data": {
      "text/plain": [
       "4"
      ]
     },
     "execution_count": 9,
     "metadata": {},
     "output_type": "execute_result"
    }
   ],
   "source": [
    "random.randrange(3, 7)"
   ]
  },
  {
   "cell_type": "markdown",
   "metadata": {},
   "source": [
    "역시 실행할 때마다 다른 값을 반환한다."
   ]
  },
  {
   "cell_type": "code",
   "execution_count": 10,
   "metadata": {},
   "outputs": [
    {
     "data": {
      "text/plain": [
       "3"
      ]
     },
     "execution_count": 10,
     "metadata": {},
     "output_type": "execute_result"
    }
   ],
   "source": [
    "random.randrange(3, 7)"
   ]
  },
  {
   "cell_type": "markdown",
   "metadata": {},
   "source": [
    "하지만 `seed` 를 지정하면 매번 동일한 값을 반환한다."
   ]
  },
  {
   "cell_type": "code",
   "execution_count": 11,
   "metadata": {},
   "outputs": [
    {
     "data": {
      "text/plain": [
       "6"
      ]
     },
     "execution_count": 11,
     "metadata": {},
     "output_type": "execute_result"
    }
   ],
   "source": [
    "random.seed(0)\n",
    "random.randrange(3,7)"
   ]
  },
  {
   "cell_type": "code",
   "execution_count": 12,
   "metadata": {},
   "outputs": [
    {
     "data": {
      "text/plain": [
       "6"
      ]
     },
     "execution_count": 12,
     "metadata": {},
     "output_type": "execute_result"
    }
   ],
   "source": [
    "random.seed(0)\n",
    "random.randrange(3,7)"
   ]
  },
  {
   "cell_type": "code",
   "execution_count": 13,
   "metadata": {},
   "outputs": [
    {
     "data": {
      "text/plain": [
       "6"
      ]
     },
     "execution_count": 13,
     "metadata": {},
     "output_type": "execute_result"
    }
   ],
   "source": [
    "random.seed(0)\n",
    "random.randrange(3,7)"
   ]
  },
  {
   "cell_type": "markdown",
   "metadata": {},
   "source": [
    "#### `shuffle` 함수\n",
    "\n",
    "리스트의 항목들을 무작위로 섞고자 할 때 사용한다."
   ]
  },
  {
   "cell_type": "code",
   "execution_count": 14,
   "metadata": {},
   "outputs": [
    {
     "name": "stdout",
     "output_type": "stream",
     "text": [
      "[9, 10, 2, 3, 6, 4, 8, 5, 1, 7]\n"
     ]
    }
   ],
   "source": [
    "up_to_ten = [1, 2, 3, 4, 5, 6, 7, 8, 9, 10]\n",
    "random.shuffle(up_to_ten)\n",
    "print(up_to_ten)"
   ]
  },
  {
   "cell_type": "markdown",
   "metadata": {},
   "source": [
    "역시 실행할 때마다 다르게 섞는다."
   ]
  },
  {
   "cell_type": "code",
   "execution_count": 15,
   "metadata": {},
   "outputs": [
    {
     "name": "stdout",
     "output_type": "stream",
     "text": [
      "[6, 5, 9, 7, 1, 2, 8, 3, 4, 10]\n"
     ]
    }
   ],
   "source": [
    "up_to_ten = [1, 2, 3, 4, 5, 6, 7, 8, 9, 10]\n",
    "random.shuffle(up_to_ten)\n",
    "print(up_to_ten)"
   ]
  },
  {
   "cell_type": "markdown",
   "metadata": {},
   "source": [
    "하지만 시드를 지정하면 항상 동일한 결과를 보인다."
   ]
  },
  {
   "cell_type": "code",
   "execution_count": 16,
   "metadata": {},
   "outputs": [
    {
     "name": "stdout",
     "output_type": "stream",
     "text": [
      "[9, 7, 1, 3, 4, 2, 10, 6, 5, 8]\n"
     ]
    }
   ],
   "source": [
    "random.seed(50)\n",
    "up_to_ten = [1, 2, 3, 4, 5, 6, 7, 8, 9, 10]\n",
    "random.shuffle(up_to_ten)\n",
    "print(up_to_ten)"
   ]
  },
  {
   "cell_type": "code",
   "execution_count": 17,
   "metadata": {},
   "outputs": [
    {
     "name": "stdout",
     "output_type": "stream",
     "text": [
      "[9, 7, 1, 3, 4, 2, 10, 6, 5, 8]\n"
     ]
    }
   ],
   "source": [
    "random.seed(50)\n",
    "up_to_ten = [1, 2, 3, 4, 5, 6, 7, 8, 9, 10]\n",
    "random.shuffle(up_to_ten)\n",
    "print(up_to_ten)"
   ]
  },
  {
   "cell_type": "markdown",
   "metadata": {},
   "source": [
    "#### `choice` 함수\n",
    "\n",
    "리스트에서 임의로 하나의 항목을 선택할 때 사용한다."
   ]
  },
  {
   "cell_type": "code",
   "execution_count": 18,
   "metadata": {},
   "outputs": [
    {
     "data": {
      "text/plain": [
       "'Alice'"
      ]
     },
     "execution_count": 18,
     "metadata": {},
     "output_type": "execute_result"
    }
   ],
   "source": [
    "random.choice([\"Alice\", \"Bob\", \"Charlie\"])"
   ]
  },
  {
   "cell_type": "markdown",
   "metadata": {},
   "source": [
    "실행할 때마다 값이 달라질 수 있다. 그리고 중복 선택이 가능하다."
   ]
  },
  {
   "cell_type": "code",
   "execution_count": 19,
   "metadata": {},
   "outputs": [
    {
     "data": {
      "text/plain": [
       "'Charlie'"
      ]
     },
     "execution_count": 19,
     "metadata": {},
     "output_type": "execute_result"
    }
   ],
   "source": [
    "random.choice([\"Alice\", \"Bob\", \"Charlie\"])"
   ]
  },
  {
   "cell_type": "code",
   "execution_count": 20,
   "metadata": {},
   "outputs": [
    {
     "data": {
      "text/plain": [
       "'Charlie'"
      ]
     },
     "execution_count": 20,
     "metadata": {},
     "output_type": "execute_result"
    }
   ],
   "source": [
    "random.choice([\"Alice\", \"Bob\", \"Charlie\"])"
   ]
  },
  {
   "cell_type": "markdown",
   "metadata": {},
   "source": [
    "시드를 지정하면 동일한 결과를 얻는다."
   ]
  },
  {
   "cell_type": "code",
   "execution_count": 21,
   "metadata": {},
   "outputs": [
    {
     "data": {
      "text/plain": [
       "'Alice'"
      ]
     },
     "execution_count": 21,
     "metadata": {},
     "output_type": "execute_result"
    }
   ],
   "source": [
    "random.seed(100)\n",
    "random.choice([\"Alice\", \"Bob\", \"Charlie\"])"
   ]
  },
  {
   "cell_type": "code",
   "execution_count": 22,
   "metadata": {},
   "outputs": [
    {
     "data": {
      "text/plain": [
       "'Alice'"
      ]
     },
     "execution_count": 22,
     "metadata": {},
     "output_type": "execute_result"
    }
   ],
   "source": [
    "random.seed(100)\n",
    "random.choice([\"Alice\", \"Bob\", \"Charlie\"])"
   ]
  },
  {
   "cell_type": "code",
   "execution_count": 23,
   "metadata": {},
   "outputs": [
    {
     "data": {
      "text/plain": [
       "'Alice'"
      ]
     },
     "execution_count": 23,
     "metadata": {},
     "output_type": "execute_result"
    }
   ],
   "source": [
    "random.seed(100)\n",
    "random.choice([\"Alice\", \"Bob\", \"Charlie\"])"
   ]
  },
  {
   "cell_type": "markdown",
   "metadata": {},
   "source": [
    "#### `sample`  함수\n",
    "\n",
    "리스트에서 지정한 개수만큼의 항목을 무작위로 선택해서 새로운 리스트를 생성할 수도 있다.\n",
    "중복선택이 없다. 따라서 일종의 로또 뽑기와 비슷하게 작동한다."
   ]
  },
  {
   "cell_type": "code",
   "execution_count": 24,
   "metadata": {},
   "outputs": [
    {
     "data": {
      "text/plain": [
       "[29, 59, 49, 11, 45, 25]"
      ]
     },
     "execution_count": 24,
     "metadata": {},
     "output_type": "execute_result"
    }
   ],
   "source": [
    "lottery_numbers = range(60)\n",
    "random.sample(lottery_numbers, 6)"
   ]
  },
  {
   "cell_type": "markdown",
   "metadata": {},
   "source": [
    "실행할 때 마다 다르게 선택한다."
   ]
  },
  {
   "cell_type": "code",
   "execution_count": 25,
   "metadata": {},
   "outputs": [
    {
     "data": {
      "text/plain": [
       "[46, 22, 27, 32, 51, 7]"
      ]
     },
     "execution_count": 25,
     "metadata": {},
     "output_type": "execute_result"
    }
   ],
   "source": [
    "lottery_numbers = range(60)\n",
    "random.sample(lottery_numbers, 6)"
   ]
  },
  {
   "cell_type": "markdown",
   "metadata": {},
   "source": [
    "시드를 지정하면 변하지 않는다."
   ]
  },
  {
   "cell_type": "code",
   "execution_count": 26,
   "metadata": {},
   "outputs": [
    {
     "data": {
      "text/plain": [
       "[54, 24, 48, 56, 26, 2]"
      ]
     },
     "execution_count": 26,
     "metadata": {},
     "output_type": "execute_result"
    }
   ],
   "source": [
    "random.seed(0)\n",
    "lottery_numbers = range(60)\n",
    "random.sample(lottery_numbers, 6)"
   ]
  },
  {
   "cell_type": "code",
   "execution_count": 27,
   "metadata": {},
   "outputs": [
    {
     "data": {
      "text/plain": [
       "[54, 24, 48, 56, 26, 2]"
      ]
     },
     "execution_count": 27,
     "metadata": {},
     "output_type": "execute_result"
    }
   ],
   "source": [
    "random.seed(0)\n",
    "lottery_numbers = range(60)\n",
    "random.sample(lottery_numbers, 6)"
   ]
  },
  {
   "cell_type": "markdown",
   "metadata": {},
   "source": [
    "#### `choice`와 `range`의 합작\n",
    "\n",
    "두 함수를 합작하면 `sample` 유사하게 작동하는 코드를 구현할 수 있다.\n",
    "차이점은 중복 선택이 가능하다라는 점이다.\n",
    "\n",
    "예를 들어, 0부터 99 사이의 정수 중에서 중복을 허락하면서 무작위로 10개의 정수를 선택하고자 \n",
    "할 때 다음과 같이 실행한다."
   ]
  },
  {
   "cell_type": "code",
   "execution_count": 28,
   "metadata": {},
   "outputs": [
    {
     "name": "stdout",
     "output_type": "stream",
     "text": [
      "[33, 65, 62, 51, 38, 61, 45, 74, 27, 64]\n"
     ]
    }
   ],
   "source": [
    "four_with_replacement = [random.choice(range(100)) for _ in range(10)]\n",
    "print(four_with_replacement)"
   ]
  },
  {
   "cell_type": "markdown",
   "metadata": {},
   "source": [
    "실행할 때마다 결과가 다르다."
   ]
  },
  {
   "cell_type": "code",
   "execution_count": 29,
   "metadata": {},
   "outputs": [
    {
     "name": "stdout",
     "output_type": "stream",
     "text": [
      "[17, 36, 17, 96, 12, 79, 32, 68, 90, 77]\n"
     ]
    }
   ],
   "source": [
    "four_with_replacement = [random.choice(range(100)) for _ in range(10)]\n",
    "print(four_with_replacement)"
   ]
  },
  {
   "cell_type": "markdown",
   "metadata": {},
   "source": [
    "시드를 지정하면 항상 동일하다."
   ]
  },
  {
   "cell_type": "code",
   "execution_count": 30,
   "metadata": {},
   "outputs": [
    {
     "name": "stdout",
     "output_type": "stream",
     "text": [
      "[79, 32, 94, 45, 88, 94, 83, 67, 3, 59]\n"
     ]
    }
   ],
   "source": [
    "random.seed(5)\n",
    "four_with_replacement = [random.choice(range(100)) for _ in range(10)]\n",
    "print(four_with_replacement)"
   ]
  },
  {
   "cell_type": "code",
   "execution_count": 31,
   "metadata": {},
   "outputs": [
    {
     "name": "stdout",
     "output_type": "stream",
     "text": [
      "[79, 32, 94, 45, 88, 94, 83, 67, 3, 59]\n"
     ]
    }
   ],
   "source": [
    "random.seed(5)\n",
    "four_with_replacement = [random.choice(range(100)) for _ in range(10)]\n",
    "print(four_with_replacement)"
   ]
  },
  {
   "cell_type": "markdown",
   "metadata": {},
   "source": [
    "### 정규표현식"
   ]
  },
  {
   "cell_type": "markdown",
   "metadata": {},
   "source": [
    "정규표현식은 문장을 탐색할 때 매우 유용하며, 탐색 대상의 패턴(pattern, 형태)을 지정한다.\n",
    "하지만 사용법이 꽤 복잡하기도 해서 한 권의 책으로 나올 정도이다.\n",
    "따라서 앞으로 정규표현식 예제가 나올 때마다 필요한 정도만 자세히 다룰 것이며,\n",
    "여기서는 간단하 예제를 통해 정규표현식의 역할을 살펴본다.\n",
    "\n",
    "먼저, 정규표현식 탐색에 필요한 도구를 모아놓은 `re` 모듈을 불러와야 한다."
   ]
  },
  {
   "cell_type": "code",
   "execution_count": 32,
   "metadata": {},
   "outputs": [],
   "source": [
    "import re"
   ]
  },
  {
   "cell_type": "markdown",
   "metadata": {},
   "source": [
    "#### `match` 함수\n",
    "\n",
    "* 사용법\n",
    "    ```python\n",
    "    re.match(패턴, 문자열)\n",
    "    ```\n",
    "    \n",
    "* 의미: 문자열이 정규표현식이 지정한 문자열로 시작하는지 여부를 판단"
   ]
  },
  {
   "cell_type": "markdown",
   "metadata": {},
   "source": [
    "예를 들어, 문자열이 `ca`로 시작하는지 여부를 알고자 하면 다음처럼 실행한다.\n",
    "패턴 매칭이 성립하면 `Match` 객체가 리턴되며 매칭이 성공했음을 알려준다."
   ]
  },
  {
   "cell_type": "code",
   "execution_count": 33,
   "metadata": {},
   "outputs": [
    {
     "data": {
      "text/plain": [
       "<_sre.SRE_Match object; span=(0, 2), match='ca'>"
      ]
     },
     "execution_count": 33,
     "metadata": {},
     "output_type": "execute_result"
    }
   ],
   "source": [
    "re.match(\"ca\", \"cat\")"
   ]
  },
  {
   "cell_type": "markdown",
   "metadata": {},
   "source": [
    "위 결과는 `cat` 문자열의 0번부터 2번 이전 인덱스까지 지정된 패턴으로 시작된다는 정보를 보여준다.\n",
    "\n",
    "반면에 패턴 매칭이 성공하지 못하면 `None`을 리턴한다."
   ]
  },
  {
   "cell_type": "code",
   "execution_count": 34,
   "metadata": {},
   "outputs": [
    {
     "name": "stdout",
     "output_type": "stream",
     "text": [
      "None\n"
     ]
    }
   ],
   "source": [
    "print(re.match(\"ca\", \"kat\"))"
   ]
  },
  {
   "cell_type": "markdown",
   "metadata": {},
   "source": [
    "#### 패턴 매칭 성공과 실패: `True` 또는 `False`\n",
    "\n",
    "패턴 매칭이 성공하면 `True`, 실패하면 `False`로 간주된다."
   ]
  },
  {
   "cell_type": "code",
   "execution_count": 35,
   "metadata": {},
   "outputs": [
    {
     "name": "stdout",
     "output_type": "stream",
     "text": [
      "참\n"
     ]
    }
   ],
   "source": [
    "if re.match(\"ca\", \"cat\"):\n",
    "    print(\"참\")\n",
    "else:\n",
    "    print(\"거짓\")"
   ]
  },
  {
   "cell_type": "code",
   "execution_count": 36,
   "metadata": {},
   "outputs": [
    {
     "name": "stdout",
     "output_type": "stream",
     "text": [
      "거짓\n"
     ]
    }
   ],
   "source": [
    "if re.match(\"ca\", \"kat\"):\n",
    "    print(\"참\")\n",
    "else:\n",
    "    print(\"거짓\")"
   ]
  },
  {
   "cell_type": "markdown",
   "metadata": {},
   "source": [
    "#### `search` 함수\n",
    "\n",
    "* 사용법\n",
    "    ```python\n",
    "    re.search(패턴, 문자열)\n",
    "    ```\n",
    "    \n",
    "* 의미: 문자열이 정규표현식이 지정한 문자열을 **부분문자열**로 포함하는지 여부를 판단\n",
    "* 반환값 자료형과 참/거짓 간주여부는 `match`의 경우와 동일."
   ]
  },
  {
   "cell_type": "code",
   "execution_count": 37,
   "metadata": {},
   "outputs": [
    {
     "data": {
      "text/plain": [
       "<_sre.SRE_Match object; span=(1, 3), match='at'>"
      ]
     },
     "execution_count": 37,
     "metadata": {},
     "output_type": "execute_result"
    }
   ],
   "source": [
    "re.search(\"at\", \"cat\")"
   ]
  },
  {
   "cell_type": "code",
   "execution_count": 38,
   "metadata": {},
   "outputs": [],
   "source": [
    "re.search(\"at\", \"cot\")   "
   ]
  },
  {
   "cell_type": "markdown",
   "metadata": {},
   "source": [
    "#### 대괄호(`[]`) 패턴 규칙"
   ]
  },
  {
   "cell_type": "markdown",
   "metadata": {},
   "source": [
    "지금 까지는 특정 문자열의 포함여부만을 살펴보았다.\n",
    "하지만 특정 문자열 뿐만 아니라 특정 형태를 띄는 문자열을 탐색할 수도 있다.\n",
    "\n",
    "예를 들어, 0부터 9까지의 숫자 중 하나로 시작하는지 여부를 물을 수 있다.\n",
    "이를 위해 사용할 패턴은 `[0-9]` 이다.\n",
    "\n",
    "* 패턴 규칙: 대괄호(`[]`)는 안에 포함된 문자들 중의 아무 문자 하나를 의미한다.\n",
    "* `0-9`: 0부터 9까지의 정수를 가리킨다.\n",
    "* `a-f`: 알파벳 a부터 f까지, 즉, a, b, c, d, e, f를 가리킨다."
   ]
  },
  {
   "cell_type": "code",
   "execution_count": 39,
   "metadata": {},
   "outputs": [],
   "source": [
    "re.match(\"[0-9]\", \"cot\")   "
   ]
  },
  {
   "cell_type": "code",
   "execution_count": 40,
   "metadata": {},
   "outputs": [
    {
     "data": {
      "text/plain": [
       "<_sre.SRE_Match object; span=(0, 1), match='3'>"
      ]
     },
     "execution_count": 40,
     "metadata": {},
     "output_type": "execute_result"
    }
   ],
   "source": [
    "re.match(\"[0-9]\", \"3cot\")   "
   ]
  },
  {
   "cell_type": "code",
   "execution_count": 41,
   "metadata": {},
   "outputs": [],
   "source": [
    "re.match(\"[a-f]\", \"pat\")   "
   ]
  },
  {
   "cell_type": "code",
   "execution_count": 42,
   "metadata": {},
   "outputs": [
    {
     "data": {
      "text/plain": [
       "<_sre.SRE_Match object; span=(1, 2), match='a'>"
      ]
     },
     "execution_count": 42,
     "metadata": {},
     "output_type": "execute_result"
    }
   ],
   "source": [
    "re.search(\"[a-f]\", \"pat\")   "
   ]
  },
  {
   "cell_type": "markdown",
   "metadata": {},
   "source": [
    "#### `split` 함수\n",
    "\n",
    "* 사용법\n",
    "    ```python\n",
    "    re.split(패턴, 문자열)\n",
    "    ```\n",
    "    \n",
    "* 의미: 지정된 패턴으로 문자열을 쪼갠다.\n",
    "* 반환값: 쪼개딘 문자열들의 리스트\n",
    "\n",
    "예를 들어, `a` 또는 `b`로 문자열을 쪼개고자 할 때 다음처럼 실행한다."
   ]
  },
  {
   "cell_type": "code",
   "execution_count": 43,
   "metadata": {},
   "outputs": [
    {
     "data": {
      "text/plain": [
       "['c', 'ri', '', 'e', 'n']"
      ]
     },
     "execution_count": 43,
     "metadata": {},
     "output_type": "execute_result"
    }
   ],
   "source": [
    "re.split(\"[ab]\", \"caribbean\")"
   ]
  },
  {
   "cell_type": "markdown",
   "metadata": {},
   "source": [
    "즉, `\"caribbean\"`이 `\"c\"-a-\"ri\"-b-\"\"-b-\"e\"-a-\"n\"`로 쪼개졌다."
   ]
  },
  {
   "cell_type": "markdown",
   "metadata": {},
   "source": [
    "#### `sub` 함수\n",
    "\n",
    "* 사용법\n",
    "    ```python\n",
    "    re.sub(패턴, 대입문자열, 문자열)\n",
    "    ```\n",
    "    \n",
    "* 의미: 지정된 패턴으로 탐색된 문자열 대신에 지정된 대입문자열을 삽입한다.\n",
    "* 반환값: 수정된 문자열\n",
    "\n",
    "예를 들어, 0부터 9까지의 숫자 대신에 대시(`-`)를 사용하고 싶으면 아래와 같이 실행한다."
   ]
  },
  {
   "cell_type": "code",
   "execution_count": 44,
   "metadata": {},
   "outputs": [
    {
     "data": {
      "text/plain": [
       "'R-D-'"
      ]
     },
     "execution_count": 44,
     "metadata": {},
     "output_type": "execute_result"
    }
   ],
   "source": [
    "re.sub(\"[0-9]\", \"-\", \"R2D2\") "
   ]
  },
  {
   "cell_type": "markdown",
   "metadata": {},
   "source": [
    "#### 참고자료\n",
    "\n",
    "정규표현식에 대한 정보와 활용법은 매우 중요하며 아래 사이트를 이용하여 공부할 것을 추천한다.\n",
    "\n",
    "참조: [생활코딩 정규표현식이란?](https://opentutorials.org/course/909/5142)"
   ]
  },
  {
   "cell_type": "markdown",
   "metadata": {},
   "source": [
    "### 짝짓지(`zip`) 함수와 인자 풀어헤치기(argument unpacking)"
   ]
  },
  {
   "cell_type": "markdown",
   "metadata": {},
   "source": [
    "리스트, 튜플 등 이터러블(iterable) 자료형 두 개 이상을 짝짓기를 통해 하나로 묶어야 할 때가 있다.\n",
    "예를 들어, 두 개의 리스트의 항목을 순서대로 쌍으로 묶어 새로운 리스트를 생성할 수 있다."
   ]
  },
  {
   "cell_type": "code",
   "execution_count": 45,
   "metadata": {},
   "outputs": [],
   "source": [
    "list_abc = ['a', 'b', 'c']\n",
    "list_abc_indices = [0, 1, 2]\n",
    "\n",
    "list_pairs = zip(list_abc, list_abc_indices)"
   ]
  },
  {
   "cell_type": "code",
   "execution_count": 46,
   "metadata": {},
   "outputs": [],
   "source": [
    "tuple_a = ('a', 0)\n",
    "tuple_b = ('b', 1)\n",
    "tuple_c = ('c', 2)\n",
    "\n",
    "tuple_pairs = zip(tuple_a, tuple_b, tuple_c)"
   ]
  },
  {
   "cell_type": "markdown",
   "metadata": {},
   "source": [
    "`zip`은 소극적인 함수이다. 즉, 필요한 만큼만 계산하고 결과를 생성한다."
   ]
  },
  {
   "cell_type": "code",
   "execution_count": 47,
   "metadata": {},
   "outputs": [
    {
     "name": "stdout",
     "output_type": "stream",
     "text": [
      "<zip object at 0x7fdb70113988>\n"
     ]
    }
   ],
   "source": [
    "print(list_pairs)"
   ]
  },
  {
   "cell_type": "code",
   "execution_count": 48,
   "metadata": {},
   "outputs": [
    {
     "name": "stdout",
     "output_type": "stream",
     "text": [
      "<zip object at 0x7fdb70113808>\n"
     ]
    }
   ],
   "source": [
    "print(tuple_pairs)"
   ]
  },
  {
   "cell_type": "markdown",
   "metadata": {},
   "source": [
    "따라서 결과물을 확인하려면 아래와 같이 리스트 조건제시법 등을 활용해야 한다."
   ]
  },
  {
   "cell_type": "code",
   "execution_count": 49,
   "metadata": {},
   "outputs": [
    {
     "data": {
      "text/plain": [
       "[('a', 0), ('b', 1), ('c', 2)]"
      ]
     },
     "execution_count": 49,
     "metadata": {},
     "output_type": "execute_result"
    }
   ],
   "source": [
    "[pair for pair in list_pairs]"
   ]
  },
  {
   "cell_type": "code",
   "execution_count": 50,
   "metadata": {},
   "outputs": [
    {
     "data": {
      "text/plain": [
       "[('a', 'b', 'c'), (0, 1, 2)]"
      ]
     },
     "execution_count": 50,
     "metadata": {},
     "output_type": "execute_result"
    }
   ],
   "source": [
    "[pair for pair in tuple_pairs]"
   ]
  },
  {
   "cell_type": "markdown",
   "metadata": {},
   "source": [
    "서로 길이가 다른 리스트를 대상으로 `zip` 함수를 사용하면 가장 짧은 리스트의 길이만큼만 짝짓기를 실행한다."
   ]
  },
  {
   "cell_type": "code",
   "execution_count": 51,
   "metadata": {},
   "outputs": [
    {
     "ename": "NameError",
     "evalue": "name 'abc_indices' is not defined",
     "output_type": "error",
     "traceback": [
      "\u001b[0;31m---------------------------------------------------------------------------\u001b[0m",
      "\u001b[0;31mNameError\u001b[0m                                 Traceback (most recent call last)",
      "\u001b[0;32m<ipython-input-51-d4dddc58b20f>\u001b[0m in \u001b[0;36m<module>\u001b[0;34m\u001b[0m\n\u001b[1;32m      2\u001b[0m \u001b[0mlist_count\u001b[0m \u001b[0;34m=\u001b[0m \u001b[0;34m[\u001b[0m\u001b[0;34m'first'\u001b[0m\u001b[0;34m,\u001b[0m \u001b[0;34m'second'\u001b[0m\u001b[0;34m]\u001b[0m\u001b[0;34m\u001b[0m\u001b[0;34m\u001b[0m\u001b[0m\n\u001b[1;32m      3\u001b[0m \u001b[0;34m\u001b[0m\u001b[0m\n\u001b[0;32m----> 4\u001b[0;31m \u001b[0mlist_pairs_d\u001b[0m \u001b[0;34m=\u001b[0m \u001b[0mzip\u001b[0m\u001b[0;34m(\u001b[0m\u001b[0mlist_abcd\u001b[0m\u001b[0;34m,\u001b[0m \u001b[0mabc_indices\u001b[0m\u001b[0;34m,\u001b[0m \u001b[0mlist_count\u001b[0m\u001b[0;34m)\u001b[0m\u001b[0;34m\u001b[0m\u001b[0;34m\u001b[0m\u001b[0m\n\u001b[0m\u001b[1;32m      5\u001b[0m \u001b[0;34m\u001b[0m\u001b[0m\n\u001b[1;32m      6\u001b[0m \u001b[0;34m[\u001b[0m\u001b[0mpair\u001b[0m \u001b[0;32mfor\u001b[0m \u001b[0mpair\u001b[0m \u001b[0;32min\u001b[0m \u001b[0mlist_pairs_d\u001b[0m\u001b[0;34m]\u001b[0m\u001b[0;34m\u001b[0m\u001b[0;34m\u001b[0m\u001b[0m\n",
      "\u001b[0;31mNameError\u001b[0m: name 'abc_indices' is not defined"
     ]
    }
   ],
   "source": [
    "list_abcd = ['a', 'b', 'c', 'd']\n",
    "list_count = ['first', 'second']\n",
    "\n",
    "list_pairs_d = zip(list_abcd, abc_indices, list_count)\n",
    "\n",
    "[pair for pair in list_pairs_d]"
   ]
  },
  {
   "cell_type": "markdown",
   "metadata": {},
   "source": [
    "#### 인자 풀어헤치기(argument unpacking)\n",
    "\n",
    "숫자 세 개의 평균을 계산해주는 함수를 아래와 같이 정의하자."
   ]
  },
  {
   "cell_type": "code",
   "execution_count": 52,
   "metadata": {},
   "outputs": [],
   "source": [
    "def mean3(a, b, c): return (a+b+c)/3"
   ]
  },
  {
   "cell_type": "markdown",
   "metadata": {},
   "source": [
    "이제 `mean3` 함수를 호출하려면 반드시 인자 두 개를 입력해야 한다."
   ]
  },
  {
   "cell_type": "code",
   "execution_count": 53,
   "metadata": {},
   "outputs": [
    {
     "data": {
      "text/plain": [
       "2.0"
      ]
     },
     "execution_count": 53,
     "metadata": {},
     "output_type": "execute_result"
    }
   ],
   "source": [
    "mean3(1, 2, 3)"
   ]
  },
  {
   "cell_type": "markdown",
   "metadata": {},
   "source": [
    "그런데 길이가 3인 리스트나 튜플을 인자로 사용할 수 있다.\n",
    "대신 인자를 풀어헤쳐야 하며 이를 위해 별표(`*`)를 사용한다."
   ]
  },
  {
   "cell_type": "code",
   "execution_count": 54,
   "metadata": {},
   "outputs": [
    {
     "data": {
      "text/plain": [
       "2.0"
      ]
     },
     "execution_count": 54,
     "metadata": {},
     "output_type": "execute_result"
    }
   ],
   "source": [
    "mean3(*[1, 2,3])"
   ]
  },
  {
   "cell_type": "code",
   "execution_count": 55,
   "metadata": {},
   "outputs": [
    {
     "data": {
      "text/plain": [
       "2.0"
      ]
     },
     "execution_count": 55,
     "metadata": {},
     "output_type": "execute_result"
    }
   ],
   "source": [
    "mean3(*(1, 2, 3))"
   ]
  },
  {
   "cell_type": "markdown",
   "metadata": {},
   "source": [
    "**주의:** 별표를 사용하지 않으면 오류가 발생한다."
   ]
  },
  {
   "cell_type": "code",
   "execution_count": 56,
   "metadata": {},
   "outputs": [
    {
     "ename": "TypeError",
     "evalue": "mean3() missing 2 required positional arguments: 'b' and 'c'",
     "output_type": "error",
     "traceback": [
      "\u001b[0;31m---------------------------------------------------------------------------\u001b[0m",
      "\u001b[0;31mTypeError\u001b[0m                                 Traceback (most recent call last)",
      "\u001b[0;32m<ipython-input-56-717d17375452>\u001b[0m in \u001b[0;36m<module>\u001b[0;34m\u001b[0m\n\u001b[0;32m----> 1\u001b[0;31m \u001b[0mmean3\u001b[0m\u001b[0;34m(\u001b[0m\u001b[0;34m[\u001b[0m\u001b[0;36m1\u001b[0m\u001b[0;34m,\u001b[0m \u001b[0;36m2\u001b[0m\u001b[0;34m,\u001b[0m \u001b[0;36m3\u001b[0m\u001b[0;34m]\u001b[0m\u001b[0;34m)\u001b[0m\u001b[0;34m\u001b[0m\u001b[0;34m\u001b[0m\u001b[0m\n\u001b[0m",
      "\u001b[0;31mTypeError\u001b[0m: mean3() missing 2 required positional arguments: 'b' and 'c'"
     ]
    }
   ],
   "source": [
    "mean3([1, 2, 3])"
   ]
  },
  {
   "cell_type": "code",
   "execution_count": 57,
   "metadata": {},
   "outputs": [
    {
     "ename": "TypeError",
     "evalue": "mean3() missing 2 required positional arguments: 'b' and 'c'",
     "output_type": "error",
     "traceback": [
      "\u001b[0;31m---------------------------------------------------------------------------\u001b[0m",
      "\u001b[0;31mTypeError\u001b[0m                                 Traceback (most recent call last)",
      "\u001b[0;32m<ipython-input-57-aea8908655ed>\u001b[0m in \u001b[0;36m<module>\u001b[0;34m\u001b[0m\n\u001b[0;32m----> 1\u001b[0;31m \u001b[0mmean3\u001b[0m\u001b[0;34m(\u001b[0m\u001b[0;34m(\u001b[0m\u001b[0;36m1\u001b[0m\u001b[0;34m,\u001b[0m \u001b[0;36m2\u001b[0m\u001b[0;34m,\u001b[0m \u001b[0;36m3\u001b[0m\u001b[0;34m)\u001b[0m\u001b[0;34m)\u001b[0m\u001b[0;34m\u001b[0m\u001b[0;34m\u001b[0m\u001b[0m\n\u001b[0m",
      "\u001b[0;31mTypeError\u001b[0m: mean3() missing 2 required positional arguments: 'b' and 'c'"
     ]
    }
   ],
   "source": [
    "mean3((1, 2, 3))"
   ]
  },
  {
   "cell_type": "markdown",
   "metadata": {},
   "source": [
    "#### 짝짓기 해제(unzip, 언짚)\n",
    "\n",
    "인자 풀어헤치기 기술을 응용하여 \n",
    "짝짓기가 된 쌍들의 리스트를 해제하여 두 개의 리스트로 되돌릴 수 있다.\n",
    "다만 방식이 꽤나 생소하게 보일 수 있다.\n",
    "\n",
    "앞서 `zip`으로 생성한 `list_pairs`를 풀어헤쳐서 기존 두 개의 리스트를 복구해보자."
   ]
  },
  {
   "cell_type": "code",
   "execution_count": 58,
   "metadata": {},
   "outputs": [
    {
     "name": "stdout",
     "output_type": "stream",
     "text": [
      "('a', 0)\n",
      "('b', 1)\n",
      "('c', 2)\n"
     ]
    }
   ],
   "source": [
    "list_abc = ['a', 'b', 'c']\n",
    "list_abc_indices = [0, 1, 2]\n",
    "\n",
    "list_pairs = zip(list_abc, list_abc_indices)\n",
    "\n",
    "for i in list_pairs:\n",
    "    print(i)"
   ]
  },
  {
   "cell_type": "markdown",
   "metadata": {},
   "source": [
    "`list_pairs`를 아래 형태의 리스트를 소극적(lazy)으로 담고 있다."
   ]
  },
  {
   "cell_type": "code",
   "execution_count": 59,
   "metadata": {},
   "outputs": [],
   "source": [
    "pairs = [('a', 0), ('b', 1), ('c', 2)]"
   ]
  },
  {
   "cell_type": "markdown",
   "metadata": {},
   "source": [
    "이제 `pairs`를 풀어헤치면서 `zip` 함수의 인자로 입력하면\n",
    "아래 세 개의 인자를 `zip` 함수의 인자로 입력하는 것과 동일하다.\n",
    "\n",
    "```python\n",
    "('a', 0), ('b', 1), ('c', 2)\n",
    "```\n",
    "\n",
    "따라서 `zip(*pairs)`는 아래 모양의 리스트를 품은 값이 된다.\n",
    "\n",
    "```python\n",
    "[('a', 'b', 'c'), (0, 1, 2)]\n",
    "```\n",
    "\n",
    "아래 코드를 실행하면 동일한 결과를 확인할 수 있다."
   ]
  },
  {
   "cell_type": "code",
   "execution_count": 60,
   "metadata": {},
   "outputs": [
    {
     "name": "stdout",
     "output_type": "stream",
     "text": [
      "letters = ('a', 'b', 'c')\n",
      "numbers = (0, 1, 2)\n"
     ]
    }
   ],
   "source": [
    "letters, numbers = zip(*pairs)\n",
    "print(f\"letters = {letters}\", f\"numbers = {numbers}\", sep='\\n')"
   ]
  },
  {
   "cell_type": "markdown",
   "metadata": {},
   "source": [
    "### 이름 없는 인자들(`args`)과 이름 있는 인자들(`kwargs`)"
   ]
  },
  {
   "cell_type": "markdown",
   "metadata": {},
   "source": [
    "함수를 선언할 때 아래 형태처럼 인자의 개수를 지정하는 것이 일반적이다. \n",
    "\n",
    "```python\n",
    "def 함수이름(매개변수1, ..., 매개변수n):\n",
    "    함수본체\n",
    "```\n",
    "\n",
    "하지만 원하는 대로 많은 인자를 받을 수 있도록 해야 하는 경우가 발생한다.\n",
    "이를 위해 파이썬은 관습적으로 `args`와 `kwargs`라 불리며 특별한 역할을 수행하는 매개변수를 사용한다.\n",
    "\n",
    "꽤 유용한 기법이지만 여기서는 고계함수를 선언하면서 반드시 필요한 경우에 한정해서 사용할 것이다."
   ]
  },
  {
   "cell_type": "markdown",
   "metadata": {},
   "source": [
    "#### 고계함수(higer-order function)"
   ]
  },
  {
   "cell_type": "markdown",
   "metadata": {},
   "source": [
    "파이썬에서 함수는 일급객체, 즉, 다른 함수의 인자로 사용될 수 있다.\n",
    "이렇게 함수를 인자로 입력받을 수 있는 함수를 고계함수(higher-order function)라 부른다.\n",
    "\n",
    "예를 들어, 함수 `f`를 입력 받으면 `f`의 반환값의 두 배를 반환하는 새로운 함수를 반환하는 \n",
    "`doubler` 함수를 정의해 보자."
   ]
  },
  {
   "cell_type": "code",
   "execution_count": 61,
   "metadata": {},
   "outputs": [],
   "source": [
    "def doubler(f):\n",
    "    # 함수 f가 입력되었다고 가정하자.\n",
    "    # 이제 임의의 x 에 대해 2*f(x)를 반환하는 함수 g를 선언하자.\n",
    "\n",
    "    def g(x):\n",
    "        return 2 * f(x)\n",
    "\n",
    "    # 이제 함수 g를 doubler(f)의 반환값으로 지정한다.\n",
    "    return g"
   ]
  },
  {
   "cell_type": "markdown",
   "metadata": {},
   "source": [
    "`doubler` 함수의 인자로 다음 함수 `f1`을 사용해보자."
   ]
  },
  {
   "cell_type": "code",
   "execution_count": 62,
   "metadata": {},
   "outputs": [],
   "source": [
    "def f1(x):\n",
    "    return x + 1\n",
    "\n",
    "g = doubler(f1)"
   ]
  },
  {
   "cell_type": "markdown",
   "metadata": {},
   "source": [
    "`g(x)`가 `f(x)`의 두 배임을 확인할 수 있다."
   ]
  },
  {
   "cell_type": "code",
   "execution_count": 63,
   "metadata": {},
   "outputs": [
    {
     "data": {
      "text/plain": [
       "True"
      ]
     },
     "execution_count": 63,
     "metadata": {},
     "output_type": "execute_result"
    }
   ],
   "source": [
    "g(3) == 2 * f1(3)"
   ]
  },
  {
   "cell_type": "code",
   "execution_count": 64,
   "metadata": {},
   "outputs": [
    {
     "data": {
      "text/plain": [
       "True"
      ]
     },
     "execution_count": 64,
     "metadata": {},
     "output_type": "execute_result"
    }
   ],
   "source": [
    "g(-1) == 2 * f1(-1)"
   ]
  },
  {
   "cell_type": "markdown",
   "metadata": {},
   "source": [
    "하지만 두 개의 인자를 받는 다음 함수 `f2`에 대해서는 `doubler`를 실행시킬 수 없다."
   ]
  },
  {
   "cell_type": "code",
   "execution_count": 65,
   "metadata": {},
   "outputs": [],
   "source": [
    "def f2(x, y):\n",
    "    return x + y\n",
    "\n",
    "g = doubler(f2)"
   ]
  },
  {
   "cell_type": "code",
   "execution_count": 66,
   "metadata": {},
   "outputs": [
    {
     "name": "stdout",
     "output_type": "stream",
     "text": [
      "함수 g는 하나의 인자만을 허용한다.\n"
     ]
    }
   ],
   "source": [
    "try:\n",
    "    g(1, 2)\n",
    "except TypeError:\n",
    "    print(\"함수 g는 하나의 인자만을 허용한다.\")"
   ]
  },
  {
   "cell_type": "markdown",
   "metadata": {},
   "source": [
    "#### 임의로 많은 인자를 입력 받는 함수\n",
    "\n",
    "임의로 많은 인자를 받는 함수를 선언하는 일반적인 형식은 \n",
    "아래 `magic` 함수의 경우와 비슷하다."
   ]
  },
  {
   "cell_type": "code",
   "execution_count": 67,
   "metadata": {},
   "outputs": [],
   "source": [
    "def magic(*args, **kwargs):\n",
    "    print(\"이름 없는 인자들:\", args)\n",
    "    print(\"이름 있는 인자들:\", kwargs)"
   ]
  },
  {
   "cell_type": "markdown",
   "metadata": {},
   "source": [
    "**주의:**\n",
    "\n",
    "* 이름 없는 인자들을 위한 매개변수 `args`에는 한 개의 별표(`*`)를 붙힌다\n",
    "    * `*agrs` 는 앞서 설명한 리스트 또는 튜플 인자 풀어헤치기(unpacking) 기법과 동일하다.\n",
    "    * args는 arguments(아규먼츠, 인자)를 가리킴.\n",
    "\n",
    "* 이름 있는 인자들을 위한 매개변수 `kwargs`에는 두 개의 별표(`**`)를 붙힌다.\n",
    "    * `**kwagrs` 는 사전 자료형 인자 풀어헤치기(unpacking)를 의미한다.\n",
    "    * kwargs는 keyword arguments(키워드 아규먼츠, 키워드 인자)를 가리킴."
   ]
  },
  {
   "cell_type": "code",
   "execution_count": 68,
   "metadata": {},
   "outputs": [
    {
     "name": "stdout",
     "output_type": "stream",
     "text": [
      "이름 없는 인자들: (1, 2)\n",
      "이름 있는 인자들: {'key1': '단어', 'key2': '단어2', 'key3': '단어3'}\n"
     ]
    }
   ],
   "source": [
    "magic(1, 2, key1=\"단어\", key2=\"단어2\", key3=\"단어3\")"
   ]
  },
  {
   "cell_type": "markdown",
   "metadata": {},
   "source": [
    "**주의:**\n",
    "\n",
    "* 이름 없는 인자들은 튜플로 인식된다.\n",
    "    \n",
    "* 이름 있는 인자들은 사전으로 인식된다."
   ]
  },
  {
   "cell_type": "markdown",
   "metadata": {},
   "source": [
    "#### 인자 풀어헤치기 활용\n",
    "\n",
    "리스트, 튜플, 사전 자료형을 풀어헤치기 기법으로 함수의 인자로 동시에 입력할 수도 있다.\n",
    "\n",
    "예를 들어, 아래 함수는 인자 세 개를 요구한다."
   ]
  },
  {
   "cell_type": "code",
   "execution_count": 69,
   "metadata": {},
   "outputs": [],
   "source": [
    "def other_way_magic(x, y, z):\n",
    "    return x + y + z"
   ]
  },
  {
   "cell_type": "markdown",
   "metadata": {},
   "source": [
    "이제 길이가 2인 리스트 한 개와 한 개의 항목을 가진 사전 자료형을 \n",
    "풀어헤치기 기법을 이용하여 인자로 사용해보자."
   ]
  },
  {
   "cell_type": "code",
   "execution_count": 70,
   "metadata": {},
   "outputs": [],
   "source": [
    "x_y_list = [1, 2]\n",
    "z_dict = {\"z\": 3}"
   ]
  },
  {
   "cell_type": "code",
   "execution_count": 71,
   "metadata": {},
   "outputs": [
    {
     "data": {
      "text/plain": [
       "True"
      ]
     },
     "execution_count": 71,
     "metadata": {},
     "output_type": "execute_result"
    }
   ],
   "source": [
    "other_way_magic(*x_y_list, **z_dict) == other_way_magic(1, 2, 3)"
   ]
  },
  {
   "cell_type": "markdown",
   "metadata": {},
   "source": [
    "#### 임의로 많은 인자를 받는 함수와 고계함수\n",
    "\n",
    "앞서 살펴 본 `doubler` 함수를 일반화 하여 \n",
    "임의로 많은 인자를 받은 함수를 인자로 사용할 수 있도록 \n",
    "`args`와 `kwargs` 기법을 이용할 수 있다."
   ]
  },
  {
   "cell_type": "code",
   "execution_count": 72,
   "metadata": {},
   "outputs": [],
   "source": [
    "def doubler_correct(f):\n",
    "    \"\"\"f는 임의의 함수를 받아들인다.\"\"\"\n",
    "    \n",
    "    # 함수 f가 인자로 들어오면 동일한 인자를 사용하는 함수 g를 선언한다.\n",
    "    # 함수 g는 인자를 받으면 그대로 모두 함수 f에 전달한다.\n",
    "    # 그리고 함수 f의 반환값을 두 배하여 반환한다.\n",
    "\n",
    "    def g(*args, **kwargs):\n",
    "        return 2 * f(*args, **kwargs)\n",
    "    return g"
   ]
  },
  {
   "cell_type": "markdown",
   "metadata": {},
   "source": [
    "이제 `f2`에 대해서도 2배 함수가 작동한다."
   ]
  },
  {
   "cell_type": "code",
   "execution_count": 73,
   "metadata": {},
   "outputs": [
    {
     "data": {
      "text/plain": [
       "True"
      ]
     },
     "execution_count": 73,
     "metadata": {},
     "output_type": "execute_result"
    }
   ],
   "source": [
    "g = doubler_correct(f2)\n",
    "\n",
    "g(1, 2) == 2 * f2(1,2)"
   ]
  },
  {
   "cell_type": "markdown",
   "metadata": {},
   "source": [
    "### 자료형 명시하기"
   ]
  },
  {
   "cell_type": "markdown",
   "metadata": {},
   "source": [
    "#### 파이썬과 동적 타이핑"
   ]
  },
  {
   "cell_type": "markdown",
   "metadata": {},
   "source": [
    "파이썬은 **동적 타이핑**(dynamic typing)을 지원하는 언어이다.\n",
    "즉, 함수나 변수를 선언할 때 변수들의 자료형을 명시적으로 제한하지 않는다.\n",
    "동적 타이핑 언어의 경우 프로그램 실행 과정에서 문제가 발생하지 않도록 프로그램을 작성해야 한다.\n",
    "\n",
    "예를 들어 아래 `add` 함수를 보자."
   ]
  },
  {
   "cell_type": "code",
   "execution_count": 74,
   "metadata": {},
   "outputs": [],
   "source": [
    "def add(a, b):\n",
    "    return a + b"
   ]
  },
  {
   "cell_type": "markdown",
   "metadata": {},
   "source": [
    "`add` 함수의 인자로 정수, 실수, 리스트, 문자열이 사용될 수 있다."
   ]
  },
  {
   "cell_type": "code",
   "execution_count": 75,
   "metadata": {},
   "outputs": [],
   "source": [
    "assert add(10, 5) == 15,                  \"정수들에 대해 + 사용 가능\"\n",
    "assert add([1, 2], [3]) == [1, 2, 3],     \"리스트들에 대해 + 사용 가능\"\n",
    "assert add(\"저 \", \"잠깐만요!\") == \"저 잠깐만요!\", \"문자열들에 대해 + 사용 가능\""
   ]
  },
  {
   "cell_type": "markdown",
   "metadata": {},
   "source": [
    "하지만 두 인자가 동일한 자료형을 가져야 한다.\n",
    "예를 들어, 숫자와 문자열의 덧셈은 작동하지 않는다.\n",
    "이유는 숫자와 문자열의 덧셈이 정의되어 있지 않기 때문이다."
   ]
  },
  {
   "cell_type": "code",
   "execution_count": 76,
   "metadata": {},
   "outputs": [
    {
     "name": "stdout",
     "output_type": "stream",
     "text": [
      "정수와 문자열은 서로 더할 수 없어요!\n"
     ]
    }
   ],
   "source": [
    "try:\n",
    "    add(10, \"five\")\n",
    "except TypeError:\n",
    "    print(\"정수와 문자열은 서로 더할 수 없어요!\")"
   ]
  },
  {
   "cell_type": "markdown",
   "metadata": {},
   "source": [
    "#### 파이썬과 정적 타이핑\n",
    "\n",
    "C, Java 등 많은 프로그래밍 언어는 동적 타이핑 대신에 **정적 타이핑**(static typing)을 지원한다.\n",
    "즉, 함수나 변수를 선언할 때 사용되는 변수들의 자료형과 인자 및 반환값의 자료형을 \n",
    "애초부터 명시해야 하며 지정된 자료형이 사용되지 않을 경우 오류를 발생시킨다.\n",
    "\n",
    "파이썬은 3.6 버전부터 정적 타이핑을 지원한다. \n",
    "다만 C, Java의 자료형과 관련된 엄격함은 전혀 존재하지 않으며, \n",
    "그냥 정적 타이핑의 형식만 빌려왔다.\n",
    "\n",
    "즉, **자료형 명시**(type annotations)를 지원할 뿐이며, \n",
    "실제로는 동적 타이핑 형식으로 문법과 실행 과정을 확인하고 제어한다.\n",
    "\n",
    "예를 들어, `add` 함수를 아래와 같이 선언할 수 있다."
   ]
  },
  {
   "cell_type": "code",
   "execution_count": 77,
   "metadata": {},
   "outputs": [],
   "source": [
    "def add(a: int, b: int) -> int:\n",
    "    return a + b"
   ]
  },
  {
   "cell_type": "markdown",
   "metadata": {},
   "source": [
    "하지만 여전히 문자열이나 리스트를 인자로 사용할 수 있다."
   ]
  },
  {
   "cell_type": "code",
   "execution_count": 78,
   "metadata": {},
   "outputs": [
    {
     "name": "stdout",
     "output_type": "stream",
     "text": [
      "15\n",
      "[1, 2, 3]\n",
      "저 잠깐만요!\n"
     ]
    }
   ],
   "source": [
    "print(add(10, 5))\n",
    "print(add([1, 2], [3]))\n",
    "print(add(\"저 \", \"잠깐만요!\"))"
   ]
  },
  {
   "cell_type": "markdown",
   "metadata": {},
   "source": [
    "#### 자료형 명시하기의 장점\n",
    "\n",
    "비록 형식적더라도 자료형 명시하기가 주는 장점이 크게 네 가지 있으며,\n",
    "이런 이유때문에 파이썬 최신 버젼에서 자료형 명시를 지원한다."
   ]
  },
  {
   "cell_type": "markdown",
   "metadata": {},
   "source": [
    "첫째, 문서화 및 프로그래밍 교육에 유용하다.\n",
    "\n",
    "예를 위해, 먼저 벡터 자료형을 실수들의 리스트들의 집합으로 정의하자.\n",
    "\n",
    "* 기본 자료형의 정의는 타이핑(`typing`) 모듈에 포함되어 있다.\n",
    "* 벡터(Vector) 자료형은 실수들의 리스트, 즉, `List[float]`로 정의된다."
   ]
  },
  {
   "cell_type": "code",
   "execution_count": 79,
   "metadata": {},
   "outputs": [],
   "source": [
    "from typing import List\n",
    "Vector = List[float]"
   ]
  },
  {
   "cell_type": "markdown",
   "metadata": {},
   "source": [
    "이제 아래 두 개의 정의를 비교하면 둘째 정의가 보다 많은 정보를 우리에게 제공함을 알 수 있다.\n",
    "\n",
    "정의 1: 전통적 방식"
   ]
  },
  {
   "cell_type": "code",
   "execution_count": 80,
   "metadata": {},
   "outputs": [],
   "source": [
    "def dot_product(x, y): ..."
   ]
  },
  {
   "cell_type": "markdown",
   "metadata": {},
   "source": [
    "정의 2: 자료형 명시"
   ]
  },
  {
   "cell_type": "code",
   "execution_count": 81,
   "metadata": {},
   "outputs": [],
   "source": [
    "def dot_product(x: Vector, y: Vector) -> float: ..."
   ]
  },
  {
   "cell_type": "markdown",
   "metadata": {},
   "source": [
    "둘째, `mypy` 와 같은 제3자가 개발한 툴을 이용하여 파이썬 코드를 실행하기 전에\n",
    "작성된 코드에 사용된 함수와 변수들이 적절한 자료형을 사용했는지 여부를\n",
    "검사해주는 툴을 활용할 수 있다.\n",
    "\n",
    "하지만 여기서는 사용하지 않을 것이며, 대신에 관심이 있다면 \n",
    "[mypy 공식 문서](https://mypy.readthedocs.io/en/stable/)를 참조하기를 추천한다."
   ]
  },
  {
   "cell_type": "markdown",
   "metadata": {},
   "source": [
    "셋째, 자료형을 명시적으로 보여줌으로써 보다 정제된 함수와 인터페이스를 디자인할 수 있다.\n",
    "\n",
    "예를 들어, 아래 `secretly_ugly_function`인 경우 `value`와 `operation` 매개변수에\n",
    "사용할 인자들의 자료형을 함수의 본체를 들여다보기 전까지는 전혀 알 수 없다."
   ]
  },
  {
   "cell_type": "code",
   "execution_count": 82,
   "metadata": {},
   "outputs": [],
   "source": [
    "def secretly_ugly_function(value, operation): ..."
   ]
  },
  {
   "cell_type": "markdown",
   "metadata": {},
   "source": [
    "아래 `ugly_function`은 보다 이상하다."
   ]
  },
  {
   "cell_type": "code",
   "execution_count": 83,
   "metadata": {},
   "outputs": [],
   "source": [
    "from typing import Union\n",
    "\n",
    "def ugly_function(value: int, operation: Union[str, int, float, bool]) -> int:\n",
    "    ..."
   ]
  },
  {
   "cell_type": "markdown",
   "metadata": {},
   "source": [
    "왜냐면 둘째 매개변수 `operation`에 할당될 수 있는 함수는 인자로 \n",
    "`str`, `int`, `float`, `bool` 중의 하나의 자료형을 받아들일 수 있기 때문인데,\n",
    "그렇게 되면 아주 쉽게 문제를 유발할 수 있다.\n",
    "\n",
    "**주의:** `Union`은 합집합을 나타내는 기호이다.\n",
    "\n",
    "따라서 이런 방식 보다는 명시적으로 자료형을 표기하는 것이 훨씬 \n",
    "사용자들이 프로그램을 보다 쉽게 이해할 수 있도록 도와준다."
   ]
  },
  {
   "cell_type": "markdown",
   "metadata": {},
   "source": [
    "넷째, 소스코드 에디터의 자동완성 기능을 보다 적절하게 지원하게 만들어 주며,\n",
    "따라서 보다 빠르게 오류 없는 프로그램을 작성할 수 있도록 도와준다. \n",
    "\n",
    "예를 들어, VSCode 에디터에서 아래 코드를 작성하다 보면 \n",
    "매개변수 `xs`가 정수들의 리스트를 입력받을 것으로 기대하며,\n",
    "리스트의 메소드의 목록을 보여주며 코드 작성을 도와주려 시도한다."
   ]
  },
  {
   "cell_type": "markdown",
   "metadata": {},
   "source": [
    "<img src=\"../images/type_annotation.png\" width=\"50%\">"
   ]
  },
  {
   "cell_type": "markdown",
   "metadata": {},
   "source": [
    "#### 자료형 명시 방법\n",
    "\n",
    "* 내장 자료형(built-in types): `int`, `bool`, `float`, `str` 등은 그대로 사용\n",
    "* `a:int`, `b:bool`, `c:float`, `s:str` 등등"
   ]
  },
  {
   "cell_type": "markdown",
   "metadata": {},
   "source": [
    "* 리스트: 단순히 `list` 라고 하는 것은 별 도움 않됨. "
   ]
  },
  {
   "cell_type": "code",
   "execution_count": 84,
   "metadata": {},
   "outputs": [],
   "source": [
    "def total(xs: list) -> float:\n",
    "    return sum(xs)"
   ]
  },
  {
   "cell_type": "markdown",
   "metadata": {},
   "source": [
    "* 대신에 어떤 자료형의 리스트인지 명시하는 게 보다 유용"
   ]
  },
  {
   "cell_type": "code",
   "execution_count": 85,
   "metadata": {},
   "outputs": [],
   "source": [
    "from typing import List  # 대문자 L 사용에 주의할 것\n",
    "\n",
    "def total(xs: List[float]) -> float:\n",
    "    return sum(xs)"
   ]
  },
  {
   "cell_type": "markdown",
   "metadata": {},
   "source": [
    "#### 변수 자료형 명시\n",
    "\n",
    "변수의 자료형도 명시할 수 있다."
   ]
  },
  {
   "cell_type": "code",
   "execution_count": 86,
   "metadata": {},
   "outputs": [],
   "source": [
    "x: int = 5"
   ]
  },
  {
   "cell_type": "markdown",
   "metadata": {},
   "source": [
    "경우에 따라 변수의 자료형이 명확하지 않아서 자료형을 명시하면 많은 도움을 받을 수 있다.\n",
    "예를 들어, 아래 두 변수는 어떤 종류의 리스트인지 명확하지 않다."
   ]
  },
  {
   "cell_type": "code",
   "execution_count": 87,
   "metadata": {},
   "outputs": [],
   "source": [
    "values = []"
   ]
  },
  {
   "cell_type": "markdown",
   "metadata": {},
   "source": [
    "대신에 아래의 경우는 아주 명확하다.\n",
    "즉, 빈 리스트이면서 정수들의 리스트 중에 하나임을 명확히 보여준다."
   ]
  },
  {
   "cell_type": "code",
   "execution_count": 88,
   "metadata": {},
   "outputs": [],
   "source": [
    "values : List[int]= []"
   ]
  },
  {
   "cell_type": "markdown",
   "metadata": {},
   "source": [
    "#### `Optional` 자료형"
   ]
  },
  {
   "cell_type": "markdown",
   "metadata": {},
   "source": [
    "아래의 경우는 애매함이 더욱 심하다."
   ]
  },
  {
   "cell_type": "code",
   "execution_count": 89,
   "metadata": {},
   "outputs": [],
   "source": [
    "best_so_far = None"
   ]
  },
  {
   "cell_type": "markdown",
   "metadata": {},
   "source": [
    "`None`은 '아무 값도 아니다'를 가리키는 '값'이다. \n",
    "하지만 변수는 어떤 값을 가리키기 위해 존재하며, 새로운 값을 언제라도 가리킬 수 있다.\n",
    "따라서 `None`이 언제라도 다른 값으로 대체될 수 있으며,\n",
    "대체될 값의 자료형을 암시해줄 필요가 있다.\n",
    "이를 위해 옵셔널(`Optional`) 자료형을 `List` 자료형과 유사한 방법으로 활용할 수 있다."
   ]
  },
  {
   "cell_type": "code",
   "execution_count": 90,
   "metadata": {},
   "outputs": [],
   "source": [
    "from typing import Optional\n",
    "\n",
    "best_so_far: Optional[float] = None"
   ]
  },
  {
   "cell_type": "markdown",
   "metadata": {},
   "source": [
    "위와 같이 하면 `best_so_far` 변수에는 실수(`float`) 자료형이 할당될 것으로 \n",
    "기대함을 바로 알 수 있다.\n",
    "즉, `float` 자료형 또는 `None` 값을 위해 `best_so_far` 변수를 사용할 것이라고\n",
    "명시하는 것이다."
   ]
  },
  {
   "cell_type": "markdown",
   "metadata": {},
   "source": [
    "#### `typing` 모듈\n",
    "\n",
    "타이핑(`typing`)은 `List`, `Optional` 이외에도 다른 많은 자료형을 포함하고 있다.\n",
    "그중에 일부만 다룰 예정이다."
   ]
  },
  {
   "cell_type": "code",
   "execution_count": 91,
   "metadata": {},
   "outputs": [],
   "source": [
    "from typing import Dict, Iterable, Tuple"
   ]
  },
  {
   "cell_type": "markdown",
   "metadata": {},
   "source": [
    "`counts` 변수는 문자열을 키(key)로, 정수를 키값으로 사용하는 사전 자료형을 담고 있다."
   ]
  },
  {
   "cell_type": "code",
   "execution_count": 92,
   "metadata": {},
   "outputs": [],
   "source": [
    "counts: Dict[str, int] = {'data': 1, 'science': 2}"
   ]
  },
  {
   "cell_type": "markdown",
   "metadata": {},
   "source": [
    "`evens` 변수는 0부터 9사이의 짝수를 소극적(lazy) 리스트로 담고 있다. "
   ]
  },
  {
   "cell_type": "code",
   "execution_count": 93,
   "metadata": {},
   "outputs": [],
   "source": [
    "evens: Iterable[int] = (x for x in range(10) if x % 2 == 0)"
   ]
  },
  {
   "cell_type": "markdown",
   "metadata": {},
   "source": [
    "`triple` 변수는 정수, 실수, 정수 세 개의 값을 갖는 튜플이다."
   ]
  },
  {
   "cell_type": "code",
   "execution_count": 94,
   "metadata": {},
   "outputs": [],
   "source": [
    "triple: Tuple[int, float, int] = (10, 2.3, 5)"
   ]
  },
  {
   "cell_type": "markdown",
   "metadata": {},
   "source": [
    "#### `Callable` 함수의 자료형\n",
    "\n",
    "파이썬에서 함수는 일급 객체이다. \n",
    "즉, 함수의 인자로 함수를 입력할 수 있다.\n",
    "따라서 함수를 가리키는 매개변수의 자료형도 명시할 수 있어야 한다. \n",
    "이를 위해 `Callable`(호출가능한) 자료형을 활용한다."
   ]
  },
  {
   "cell_type": "code",
   "execution_count": 95,
   "metadata": {},
   "outputs": [],
   "source": [
    "from typing import Callable\n",
    "\n",
    "def twice(repeater: Callable[[str, int], str], s: str) -> str:\n",
    "    return repeater(s, 2)"
   ]
  },
  {
   "cell_type": "markdown",
   "metadata": {},
   "source": [
    "* `twice` 함수는 첫째 인자로 `Callable[[str, int], str]` 자료형의 함수를 인자로 받는다.\n",
    "* `Callable[[str, int], str]` 는 아래 특징을 갖는 함수들의 자료형을 가리킨다.\n",
    "    * 인자 함수 입력값 두 개\n",
    "        * 첫째 인자: 문자열(`str`)\n",
    "        * 둘째 인자: 정수(`int`)\n",
    "    * 인자 함수 반환값: 문자열(`str`)"
   ]
  },
  {
   "cell_type": "markdown",
   "metadata": {},
   "source": [
    "예를 들어, 아래 함수 `comma_repeater`를 `twice` 함수의 인자로 입력해보자."
   ]
  },
  {
   "cell_type": "code",
   "execution_count": 96,
   "metadata": {},
   "outputs": [],
   "source": [
    "def comma_repeater(s: str, n: int) -> str:\n",
    "    n_copies = [s for _ in range(n)]\n",
    "    return ', '.join(n_copies)"
   ]
  },
  {
   "cell_type": "markdown",
   "metadata": {},
   "source": [
    "`twice(comma_repeater, \"type hints\")`는 \n",
    "`comma_repeater(\"type hints\", 2)`의 반환값을 반환한다."
   ]
  },
  {
   "cell_type": "code",
   "execution_count": 97,
   "metadata": {},
   "outputs": [
    {
     "data": {
      "text/plain": [
       "'type hints, type hints'"
      ]
     },
     "execution_count": 97,
     "metadata": {},
     "output_type": "execute_result"
    }
   ],
   "source": [
    "comma_repeater(\"type hints\", 2)"
   ]
  },
  {
   "cell_type": "code",
   "execution_count": 98,
   "metadata": {},
   "outputs": [
    {
     "data": {
      "text/plain": [
       "True"
      ]
     },
     "execution_count": 98,
     "metadata": {},
     "output_type": "execute_result"
    }
   ],
   "source": [
    "twice(comma_repeater, \"type hints\") == comma_repeater(\"type hints\", 2)"
   ]
  },
  {
   "cell_type": "markdown",
   "metadata": {},
   "source": [
    "#### 자료형도 파이썬 객체이다!\n",
    "\n",
    "자료형을 명시하기 위해 사용된 자료형들 자체도 파이썬 객체이다.\n",
    "즉, 변수에 할당할 수 있는 값으로 사용될 수 있다.\n",
    "\n",
    "예를 들어, 복잡한 자료형을 단순한 이름으로 지정하여 다시 자료형 명시를 위해 사용할 수 있다."
   ]
  },
  {
   "cell_type": "code",
   "execution_count": 99,
   "metadata": {},
   "outputs": [],
   "source": [
    "Number = int\n",
    "Numbers = List[Number]\n",
    "\n",
    "def total(xs: Numbers) -> Number:\n",
    "    return sum(xs)"
   ]
  }
 ],
 "metadata": {
  "kernelspec": {
   "display_name": "Python 3",
   "language": "python",
   "name": "python3"
  },
  "language_info": {
   "codemirror_mode": {
    "name": "ipython",
    "version": 3
   },
   "file_extension": ".py",
   "mimetype": "text/x-python",
   "name": "python",
   "nbconvert_exporter": "python",
   "pygments_lexer": "ipython3",
   "version": "3.6.8"
  }
 },
 "nbformat": 4,
 "nbformat_minor": 2
}
