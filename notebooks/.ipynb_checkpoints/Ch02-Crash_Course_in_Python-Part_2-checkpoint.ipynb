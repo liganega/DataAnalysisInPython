{
 "cells": [
  {
   "cell_type": "markdown",
   "metadata": {},
   "source": [
    "# 2장 파이썬 속성 강좌 2부"
   ]
  },
  {
   "cell_type": "markdown",
   "metadata": {},
   "source": [
    "## 고급 파이썬 프로그래밍"
   ]
  },
  {
   "cell_type": "markdown",
   "metadata": {},
   "source": [
    "### 정렬(sorting)"
   ]
  },
  {
   "cell_type": "markdown",
   "metadata": {},
   "source": [
    "리스트의 소트(`sort`) 메소드를 이용하여 항목을 크기 순으로 정렬할 수 있다."
   ]
  },
  {
   "cell_type": "code",
   "execution_count": 1,
   "metadata": {},
   "outputs": [
    {
     "name": "stdout",
     "output_type": "stream",
     "text": [
      "[1, 2, 3, 4]\n"
     ]
    }
   ],
   "source": [
    "x = [4, 1, 2, 3]\n",
    "x.sort()\n",
    "print(x)"
   ]
  },
  {
   "cell_type": "markdown",
   "metadata": {},
   "source": [
    "기존의 리스트를 건드리지 않으면서 항목을 정렬하여 활용하고 싶으면 소티드(`sorted`) 함수를 활용한다.\n",
    "\n",
    "**주의:** `sorted` 함수는 리스트 메소드가 아니라 일반 함수이다."
   ]
  },
  {
   "cell_type": "code",
   "execution_count": 2,
   "metadata": {},
   "outputs": [
    {
     "name": "stdout",
     "output_type": "stream",
     "text": [
      "x = [4, 1, 2, 3]\n",
      "y = [1, 2, 3, 4]\n"
     ]
    }
   ],
   "source": [
    "x = [4, 1, 2, 3]\n",
    "y = sorted(x)\n",
    "print(f\"x = {x}\", f\"y = {y}\", sep='\\n')"
   ]
  },
  {
   "cell_type": "markdown",
   "metadata": {},
   "source": [
    "`sort` 메소드와 `sorted` 함수 모두 오름차순 정렬을 기본으로 한다. \n",
    "내림차순으로 정렬하려면 `reverse` 매개변수의 키워드 인자값을 `True`로 지정하면 된다."
   ]
  },
  {
   "cell_type": "code",
   "execution_count": 3,
   "metadata": {},
   "outputs": [
    {
     "name": "stdout",
     "output_type": "stream",
     "text": [
      "[4, 3, 2, 1]\n"
     ]
    }
   ],
   "source": [
    "x = [4, 1, 2, 3]\n",
    "x.sort(reverse=True)\n",
    "print(x)"
   ]
  },
  {
   "cell_type": "code",
   "execution_count": 4,
   "metadata": {},
   "outputs": [
    {
     "name": "stdout",
     "output_type": "stream",
     "text": [
      "[4, 3, 2, 1]\n"
     ]
    }
   ],
   "source": [
    "x = [4, 1, 2, 3]\n",
    "y = sorted(x, reverse=True)\n",
    "print(y)"
   ]
  },
  {
   "cell_type": "markdown",
   "metadata": {},
   "source": [
    "#### 정렬 기준 지정\n",
    "\n",
    "정렬 기준은 기본적으로 알려진 크기이다.\n",
    "\n",
    "* 정수형, 실수형: 숫자들의 크기\n",
    "* 문자열: 알파벳 순서 (일반 사전식 정렬)"
   ]
  },
  {
   "cell_type": "code",
   "execution_count": 5,
   "metadata": {},
   "outputs": [
    {
     "name": "stdout",
     "output_type": "stream",
     "text": [
      "['abc', 'ba', 'badc', 'cdabe', 'dabc']\n"
     ]
    }
   ],
   "source": [
    "x = ['dabc', 'cdabe', 'badc', 'ba', 'abc']\n",
    "x.sort()\n",
    "print(x)"
   ]
  },
  {
   "cell_type": "markdown",
   "metadata": {},
   "source": [
    "하지만 `key` 매개변수의 키워드 인자값을 지정하여 정렬 기준을 변경할 수 있다.\n",
    "`key` 매개변수의 키워드 인자값은 일변수 함수이어야 한다.\n",
    "예를 들어, 숫자들의 절대닶의 크기를 기준으로 정렬하려면 다음과 같이 해야 한다."
   ]
  },
  {
   "cell_type": "code",
   "execution_count": 6,
   "metadata": {},
   "outputs": [
    {
     "name": "stdout",
     "output_type": "stream",
     "text": [
      "[1, -2, 3, -4]\n"
     ]
    }
   ],
   "source": [
    "x = sorted([-4, 1, -2, 3], key=abs)\n",
    "print(x)"
   ]
  },
  {
   "cell_type": "markdown",
   "metadata": {},
   "source": [
    "**주의:** `abs`는 입력받은 숫자의 절대값을 반환하는 함수이다."
   ]
  },
  {
   "cell_type": "markdown",
   "metadata": {},
   "source": [
    "물론 절대값 기준 내림차순으로도 가능하다."
   ]
  },
  {
   "cell_type": "code",
   "execution_count": 7,
   "metadata": {},
   "outputs": [],
   "source": [
    "x = sorted([-4, 1, -2, 3], key=abs, reverse=True)"
   ]
  },
  {
   "cell_type": "markdown",
   "metadata": {},
   "source": [
    "다른 예제를 살펴보자.\n",
    "\n",
    "1부에서 살펴보았던 `word_counts` 변수에 저장된 단어 빈도수 목록을 살펴보자."
   ]
  },
  {
   "cell_type": "code",
   "execution_count": 8,
   "metadata": {},
   "outputs": [
    {
     "data": {
      "text/plain": [
       "defaultdict(int, {'data': 2, 'science': 1, 'from': 2, 'scratch': 1})"
      ]
     },
     "execution_count": 8,
     "metadata": {},
     "output_type": "execute_result"
    }
   ],
   "source": [
    "from collections import defaultdict, Counter\n",
    "\n",
    "document = [\"data\", \"science\", \"from\", \"scratch\", \"data\", \"from\"]\n",
    "\n",
    "word_counts = defaultdict(int)\n",
    "for word in document:\n",
    "    word_counts[word] += 1\n",
    "    \n",
    "word_counts"
   ]
  },
  {
   "cell_type": "markdown",
   "metadata": {},
   "source": [
    "`word_counts`의 항목들을 빈도수 기준 내림차순으로 정렬하고자 한다면 어떻게 해야 하는가?\n",
    "가장 단순한 방법은 `Counter` 자료형의 `most_common` 메소드를 활용하면되다.\n",
    "\n",
    "즉, 먼저 `word_counts`를 `Counter` 자료형으로 변환시킨 후 `most_common` 메소드를 적용한다."
   ]
  },
  {
   "cell_type": "code",
   "execution_count": 9,
   "metadata": {},
   "outputs": [
    {
     "data": {
      "text/plain": [
       "[('data', 2), ('from', 2), ('science', 1), ('scratch', 1)]"
      ]
     },
     "execution_count": 9,
     "metadata": {},
     "output_type": "execute_result"
    }
   ],
   "source": [
    "Counter(word_counts).most_common()"
   ]
  },
  {
   "cell_type": "markdown",
   "metadata": {},
   "source": [
    "하지만 `Counter` 자료형을 사용하지 않고도 가능하다. \n",
    "`sorted` 함수와 `sort` 메소드의 매개변수인 `key`의 키원드 인자값을 아래와 같이 지정하면 \n",
    "동일한 결과를 얻는다.\n",
    "\n",
    "`key` 매개변수의 키원드 인자로는 다음 함수를 사용한다."
   ]
  },
  {
   "cell_type": "code",
   "execution_count": 10,
   "metadata": {},
   "outputs": [],
   "source": [
    "word_counts_to_counts = lambda word_and_count: word_and_count[1]"
   ]
  },
  {
   "cell_type": "markdown",
   "metadata": {},
   "source": [
    "즉, `key`의 키워드 인자값은 정렬해야할 대상들을 입력 받아 무엇을 기준으로 정렬할지를\n",
    "반환값으로 알려주는 함수가 되어야 한다.\n",
    "\n",
    "여기서는 `word_counts.items()` 항목이 길이가 2인 튜플이며, 1번 인덱스 값, 즉, 둘째 항목인 빈도수를 기준으로 \n",
    "정렬하라고 알려주는 함수가 바로 `word_counts_to_counts`이다."
   ]
  },
  {
   "cell_type": "code",
   "execution_count": 11,
   "metadata": {},
   "outputs": [
    {
     "data": {
      "text/plain": [
       "dict_items([('data', 2), ('science', 1), ('from', 2), ('scratch', 1)])"
      ]
     },
     "execution_count": 11,
     "metadata": {},
     "output_type": "execute_result"
    }
   ],
   "source": [
    "word_counts.items()"
   ]
  },
  {
   "cell_type": "code",
   "execution_count": 12,
   "metadata": {},
   "outputs": [
    {
     "name": "stdout",
     "output_type": "stream",
     "text": [
      "[('data', 2), ('from', 2), ('science', 1), ('scratch', 1)]\n"
     ]
    }
   ],
   "source": [
    "wc = sorted(word_counts.items(),\n",
    "            key=word_counts_to_counts,\n",
    "            reverse=True)\n",
    "print(wc)"
   ]
  },
  {
   "cell_type": "markdown",
   "metadata": {},
   "source": [
    "**주의:** `wc` 는 보통 워드 카운트(word count, 단어 빈도수)의 줄임말이다."
   ]
  },
  {
   "cell_type": "markdown",
   "metadata": {},
   "source": [
    "### 조건제시법(list comprehension)"
   ]
  },
  {
   "cell_type": "markdown",
   "metadata": {},
   "source": [
    "집합을 정의하기 위해 사용하는 조건제시법을 리스트, 집합, 사전(`dict`)에도 적용할 수 있다.\n",
    "\n",
    "예를 들어 0 ~ 4 까지의 정수 중에서 짝수만으로 이루어진 집합을 다음과 같이 \n",
    "조건제시법으로 정의할 수 있다.\n",
    "\n",
    "$$\\{x \\mid 0 \\le x < 5, \\text{단 } x는 짝수\\}$$\n",
    "\n",
    "동일한 조건으로 리스트를 생성하려면 다음과 같이 `for ... in ... if ...`문을 활용한다.\n",
    "형식은 다음과 같다. \n",
    "\n",
    "```python\n",
    "[x for x in range(5) if x % 2 == 0]\n",
    "```\n",
    "* `for`: 파이프($|$, 일명 짝대기) 기호에 대응.\n",
    "* `x in range(5)`: '$0 \\le x < 5$ 이며, $x$'는 정수를 표현.\n",
    "* `if` : '단', 즉, 조건부에 대응.\n",
    "* `x % 2 == 0`: `x`를 2로 나눈 나머지가 0과 같아야 한다는 조건, 즉, 짝수 조건 표현."
   ]
  },
  {
   "cell_type": "code",
   "execution_count": 13,
   "metadata": {},
   "outputs": [
    {
     "name": "stdout",
     "output_type": "stream",
     "text": [
      "[0, 2, 4]\n"
     ]
    }
   ],
   "source": [
    "even_numbers = [x for x in range(5) if x % 2 == 0]\n",
    "print(even_numbers)"
   ]
  },
  {
   "cell_type": "markdown",
   "metadata": {},
   "source": [
    "집합에 대한 조건제시법 적용은 다음과 같다."
   ]
  },
  {
   "cell_type": "code",
   "execution_count": 14,
   "metadata": {},
   "outputs": [
    {
     "name": "stdout",
     "output_type": "stream",
     "text": [
      "{0, 2, 4}\n"
     ]
    }
   ],
   "source": [
    "even_numbers_set = {x for x in range(5) if x % 2 == 0}\n",
    "print(even_numbers_set)"
   ]
  },
  {
   "cell_type": "markdown",
   "metadata": {},
   "source": [
    "아래 `squares`는 다음 집합에 대응한다.\n",
    "\n",
    "$$\\{x^2 \\mid 0 \\le x < 5 \\text{ 이고 } x \\text{ 는 정수}\\} = \\{0, 1, 4, 9, 16\\}$$\n"
   ]
  },
  {
   "cell_type": "code",
   "execution_count": 15,
   "metadata": {},
   "outputs": [
    {
     "name": "stdout",
     "output_type": "stream",
     "text": [
      "[0, 1, 4, 9, 16]\n"
     ]
    }
   ],
   "source": [
    "squares = [x * x for x in range(5)]\n",
    "print(squares)"
   ]
  },
  {
   "cell_type": "markdown",
   "metadata": {},
   "source": [
    "아래 `even_squares`는 다음 집합에 대응한다.\n",
    "\n",
    "$$\\{x^2 \\mid x \\in \\text{even_numbers}\\} = \\{0, 4,16\\}$$\n"
   ]
  },
  {
   "cell_type": "code",
   "execution_count": 16,
   "metadata": {},
   "outputs": [
    {
     "name": "stdout",
     "output_type": "stream",
     "text": [
      "[0, 4, 16]\n"
     ]
    }
   ],
   "source": [
    "even_squares = [x * x for x in even_numbers]\n",
    "print(even_squares)"
   ]
  },
  {
   "cell_type": "markdown",
   "metadata": {},
   "source": [
    "사전(`dict`) 자료형에 대해서도 조건제시법을 적용할 수 있다."
   ]
  },
  {
   "cell_type": "code",
   "execution_count": 17,
   "metadata": {},
   "outputs": [
    {
     "name": "stdout",
     "output_type": "stream",
     "text": [
      "{0: 0, 1: 1, 2: 4, 3: 9, 4: 16}\n"
     ]
    }
   ],
   "source": [
    "square_dict = {x: x * x for x in range(5)}\n",
    "print(square_dict)"
   ]
  },
  {
   "cell_type": "markdown",
   "metadata": {},
   "source": [
    "* 키: `range(5)`의 항목들, 즉, 0, 1, 2, 3, 4\n",
    "* 키값: 키의 제곱, 즉, 각각 0, 1, 4, 9, 16"
   ]
  },
  {
   "cell_type": "markdown",
   "metadata": {},
   "source": [
    "조건제시법에서 불필요한 것은 밑줄(`_`)로 처리한다.\n",
    "\n",
    "예를 들어, 동일한 항복을 반복 생성하고자 할 때 아래와 같이 할 수 있다."
   ]
  },
  {
   "cell_type": "code",
   "execution_count": 18,
   "metadata": {},
   "outputs": [
    {
     "name": "stdout",
     "output_type": "stream",
     "text": [
      "[0, 0, 0]\n"
     ]
    }
   ],
   "source": [
    "zeros = [0 for _ in even_numbers]\n",
    "print(zeros)"
   ]
  },
  {
   "cell_type": "markdown",
   "metadata": {},
   "source": [
    "**주의:** 위와 같이 하면 `even_numbers`와 동일한 길이의 리스트가 생성되며, \n",
    "모든 항목은 0으로 동일하다. 따라서 `for ... in ...`에 사용되어야 하는 변수가\n",
    "아무런 역할도 수행하지 않는다. 따라서 밑줄로 처리하는 것이다.\n",
    "\n",
    "실제로 아래와 같이 해도 동일한 결과를 얻는다.\n",
    "이유는 `x`가 리스트의 항목을 생성하는데 아무런 역할도 수행하지 않기 때문이다."
   ]
  },
  {
   "cell_type": "code",
   "execution_count": 19,
   "metadata": {},
   "outputs": [
    {
     "name": "stdout",
     "output_type": "stream",
     "text": [
      "[0, 0, 0]\n"
     ]
    }
   ],
   "source": [
    "zeros = [0 for x in even_numbers]\n",
    "print(zeros)"
   ]
  },
  {
   "cell_type": "markdown",
   "metadata": {},
   "source": [
    "조건제십법에 여러 개의 `for ... in ...` 문을 사용할 수 있다."
   ]
  },
  {
   "cell_type": "code",
   "execution_count": 20,
   "metadata": {},
   "outputs": [],
   "source": [
    "pairs = [(x, y)\n",
    "         for x in range(10)\n",
    "         for y in range(10)]"
   ]
  },
  {
   "cell_type": "markdown",
   "metadata": {},
   "source": [
    "`pairs`는 아래 집합에 대응한다.\n",
    "\n",
    "$$\\{(x, y) \\mid 0 \\le x, y < 10 \\text{ 이고 } x, y \\text{는 정수} \\}$$\n",
    "\n",
    "따라서 `pairs`에는 총 100개의 순서쌍이 들어 있다. \n",
    "첫 10개의 항목을 확인해보자."
   ]
  },
  {
   "cell_type": "code",
   "execution_count": 21,
   "metadata": {},
   "outputs": [
    {
     "data": {
      "text/plain": [
       "[(0, 0),\n",
       " (0, 1),\n",
       " (0, 2),\n",
       " (0, 3),\n",
       " (0, 4),\n",
       " (0, 5),\n",
       " (0, 6),\n",
       " (0, 7),\n",
       " (0, 8),\n",
       " (0, 9)]"
      ]
     },
     "execution_count": 21,
     "metadata": {},
     "output_type": "execute_result"
    }
   ],
   "source": [
    "pairs[:10]"
   ]
  },
  {
   "cell_type": "markdown",
   "metadata": {},
   "source": [
    "그 다음 10개를 아래와 같다."
   ]
  },
  {
   "cell_type": "code",
   "execution_count": 22,
   "metadata": {},
   "outputs": [
    {
     "data": {
      "text/plain": [
       "[(1, 0),\n",
       " (1, 1),\n",
       " (1, 2),\n",
       " (1, 3),\n",
       " (1, 4),\n",
       " (1, 5),\n",
       " (1, 6),\n",
       " (1, 7),\n",
       " (1, 8),\n",
       " (1, 9)]"
      ]
     },
     "execution_count": 22,
     "metadata": {},
     "output_type": "execute_result"
    }
   ],
   "source": [
    "pairs[10:20]"
   ]
  },
  {
   "cell_type": "markdown",
   "metadata": {},
   "source": [
    "마지막 10개를 확인해보자."
   ]
  },
  {
   "cell_type": "code",
   "execution_count": 23,
   "metadata": {},
   "outputs": [
    {
     "data": {
      "text/plain": [
       "[(9, 0),\n",
       " (9, 1),\n",
       " (9, 2),\n",
       " (9, 3),\n",
       " (9, 4),\n",
       " (9, 5),\n",
       " (9, 6),\n",
       " (9, 7),\n",
       " (9, 8),\n",
       " (9, 9)]"
      ]
     },
     "execution_count": 23,
     "metadata": {},
     "output_type": "execute_result"
    }
   ],
   "source": [
    "pairs[-10:]"
   ]
  },
  {
   "cell_type": "markdown",
   "metadata": {},
   "source": [
    "두 개의 `for ... in ...` 문이 어떻게 움직이는지 감잡았을 것이다.\n",
    "\n",
    "* `x`를 0부터 시작하여 1씩 증가시켜 9까지 변경할 때마다\n",
    "    `y`를 0부터 9까지 변화시킨다."
   ]
  },
  {
   "cell_type": "markdown",
   "metadata": {},
   "source": [
    "다음 예제는 조금 다르게 작동한다.\n",
    "\n",
    "* `x`를 0부터 시작하여 1씩 증가시켜 9까지 변경할 때마다\n",
    "    `y`를 `x`+1부터 9까지 변화시킨다."
   ]
  },
  {
   "cell_type": "code",
   "execution_count": 24,
   "metadata": {},
   "outputs": [],
   "source": [
    "increasing_pairs = [(x, y)                       \n",
    "                    for x in range(10)           \n",
    "                    for y in range(x + 1, 10)]   "
   ]
  },
  {
   "cell_type": "code",
   "execution_count": 25,
   "metadata": {},
   "outputs": [
    {
     "data": {
      "text/plain": [
       "[(0, 1), (0, 2), (0, 3), (0, 4), (0, 5), (0, 6), (0, 7), (0, 8), (0, 9)]"
      ]
     },
     "execution_count": 25,
     "metadata": {},
     "output_type": "execute_result"
    }
   ],
   "source": [
    "increasing_pairs[:9]"
   ]
  },
  {
   "cell_type": "code",
   "execution_count": 26,
   "metadata": {},
   "outputs": [
    {
     "data": {
      "text/plain": [
       "[(1, 3), (1, 4), (1, 5), (1, 6), (1, 7), (1, 8), (1, 9)]"
      ]
     },
     "execution_count": 26,
     "metadata": {},
     "output_type": "execute_result"
    }
   ],
   "source": [
    "increasing_pairs[10:17]"
   ]
  },
  {
   "cell_type": "code",
   "execution_count": 27,
   "metadata": {},
   "outputs": [
    {
     "data": {
      "text/plain": [
       "[(7, 9), (8, 9)]"
      ]
     },
     "execution_count": 27,
     "metadata": {},
     "output_type": "execute_result"
    }
   ],
   "source": [
    "increasing_pairs[-2:]"
   ]
  },
  {
   "cell_type": "markdown",
   "metadata": {},
   "source": [
    "`increasing_pairs`의 길이는 9 + 8 + 7 + 6 + 5 + 4 + 3 + 2 + 1, 즉, 45이다."
   ]
  },
  {
   "cell_type": "code",
   "execution_count": 28,
   "metadata": {},
   "outputs": [
    {
     "data": {
      "text/plain": [
       "45"
      ]
     },
     "execution_count": 28,
     "metadata": {},
     "output_type": "execute_result"
    }
   ],
   "source": [
    "len(increasing_pairs)"
   ]
  },
  {
   "cell_type": "markdown",
   "metadata": {},
   "source": [
    "또한 만약 (`x`, `y`) $\\in$ `increasing_pairs` 이면  `x`가 `y` 보다 작다."
   ]
  },
  {
   "cell_type": "code",
   "execution_count": 29,
   "metadata": {},
   "outputs": [
    {
     "data": {
      "text/plain": [
       "True"
      ]
     },
     "execution_count": 29,
     "metadata": {},
     "output_type": "execute_result"
    }
   ],
   "source": [
    "all(x < y for x, y in increasing_pairs)"
   ]
  },
  {
   "cell_type": "markdown",
   "metadata": {},
   "source": [
    "### 자동 테스팅: `assert` 활용"
   ]
  },
  {
   "cell_type": "markdown",
   "metadata": {},
   "source": [
    "작성된 코드가 의도한 대로 작동하는지를 확인하는 여러 방법이 있다.\n",
    "이 강좌에서는 가장 단순한 `assert` 테스팅 기법만 사용한다.\n",
    "\n",
    "어서트(`assert`, 주장) 이후에 나오는 문장의 참/거짓을 판단하여 \n",
    "참이면 그냥 넘어가고, 거짓이면 오류를 발생시킨다."
   ]
  },
  {
   "cell_type": "code",
   "execution_count": 30,
   "metadata": {},
   "outputs": [],
   "source": [
    "assert 1 + 1 == 2"
   ]
  },
  {
   "cell_type": "code",
   "execution_count": 31,
   "metadata": {},
   "outputs": [
    {
     "ename": "AssertionError",
     "evalue": "",
     "output_type": "error",
     "traceback": [
      "\u001b[0;31m---------------------------------------------------------------------------\u001b[0m",
      "\u001b[0;31mAssertionError\u001b[0m                            Traceback (most recent call last)",
      "\u001b[0;32m<ipython-input-31-8a19892df295>\u001b[0m in \u001b[0;36m<module>\u001b[0;34m\u001b[0m\n\u001b[0;32m----> 1\u001b[0;31m \u001b[0;32massert\u001b[0m \u001b[0;36m1\u001b[0m \u001b[0;34m+\u001b[0m \u001b[0;36m1\u001b[0m \u001b[0;34m==\u001b[0m \u001b[0;36m3\u001b[0m\u001b[0;34m\u001b[0m\u001b[0;34m\u001b[0m\u001b[0m\n\u001b[0m",
      "\u001b[0;31mAssertionError\u001b[0m: "
     ]
    }
   ],
   "source": [
    "assert 1 + 1 == 3"
   ]
  },
  {
   "cell_type": "markdown",
   "metadata": {},
   "source": [
    "예외처리 기능을 활용할 수도 있다."
   ]
  },
  {
   "cell_type": "code",
   "execution_count": 32,
   "metadata": {},
   "outputs": [
    {
     "ename": "AssertionError",
     "evalue": "1 + 1 should equal 2 but didn't",
     "output_type": "error",
     "traceback": [
      "\u001b[0;31m---------------------------------------------------------------------------\u001b[0m",
      "\u001b[0;31mAssertionError\u001b[0m                            Traceback (most recent call last)",
      "\u001b[0;32m<ipython-input-32-6217297f2f37>\u001b[0m in \u001b[0;36m<module>\u001b[0;34m\u001b[0m\n\u001b[0;32m----> 1\u001b[0;31m \u001b[0;32massert\u001b[0m \u001b[0;36m1\u001b[0m \u001b[0;34m+\u001b[0m \u001b[0;36m1\u001b[0m \u001b[0;34m==\u001b[0m \u001b[0;36m3\u001b[0m\u001b[0;34m,\u001b[0m \u001b[0;34m\"1 + 1 should equal 2 but didn't\"\u001b[0m\u001b[0;34m\u001b[0m\u001b[0;34m\u001b[0m\u001b[0m\n\u001b[0m",
      "\u001b[0;31mAssertionError\u001b[0m: 1 + 1 should equal 2 but didn't"
     ]
    }
   ],
   "source": [
    "assert 1 + 1 == 3, \"1 + 1 should equal 2 but didn't\""
   ]
  },
  {
   "cell_type": "markdown",
   "metadata": {},
   "source": [
    "`assert` 테스팅은 주로 함수의 구현을 테스팅할 때 활용한다.\n",
    "\n",
    "예를 들어, 숫자들의 리스트를 인자로 받아 최소값을 반환하는 함수를 아래와 같이 구현했다고 하자."
   ]
  },
  {
   "cell_type": "code",
   "execution_count": 33,
   "metadata": {},
   "outputs": [],
   "source": [
    "def smallest_item(xs):\n",
    "    return min(xs)"
   ]
  },
  {
   "cell_type": "markdown",
   "metadata": {},
   "source": [
    "이제 위 구현이 제대로 작동하는지 아래처럼 테스팅할 수 있다."
   ]
  },
  {
   "cell_type": "code",
   "execution_count": 34,
   "metadata": {},
   "outputs": [],
   "source": [
    "assert smallest_item([10, 20, 5, 40]) == 5\n",
    "assert smallest_item([1, 0, -1, 2]) == -1"
   ]
  },
  {
   "cell_type": "markdown",
   "metadata": {},
   "source": [
    "오류가 발생하지 않기에 위 구현이 테스팅을 통과한 것으로 간주할 수 있다.\n",
    "\n",
    "**주의:** 테스팅을 통과했다고 해서 구현이 제대로 되었다고 보장할 수는 없다.\n",
    "테스팅은 몇 가지 경우에서 확인하니 잘 된다는 의미일 뿐이며, 모든 경우에 올바르게 작동한다는 \n",
    "보장은 하지 못한다. \n",
    "그래도 이런 테스팅을 통해 구현된 코드에 대한 신뢰도를 많이 높일 수 있다. "
   ]
  },
  {
   "cell_type": "markdown",
   "metadata": {},
   "source": [
    "함수의 인자로 제대로된 값들이 입력되는지 여부를 확인하기 위해서도 `assert`가 활용될 수 있다."
   ]
  },
  {
   "cell_type": "code",
   "execution_count": 35,
   "metadata": {},
   "outputs": [],
   "source": [
    "def smallest_item_assert(xs):\n",
    "    assert xs, \"빈 리스트엔 최소값이 없어요!\"\n",
    "    return min(xs)"
   ]
  },
  {
   "cell_type": "markdown",
   "metadata": {},
   "source": [
    "이제 빈 리스트(`[]`)를 인자로 사용하면 오류가 발생하는 대신에 바로 예외처리가 진행되어\n",
    "`AssertionError`가 발생하고 발생 이유를 설명한다."
   ]
  },
  {
   "cell_type": "code",
   "execution_count": 36,
   "metadata": {},
   "outputs": [
    {
     "ename": "AssertionError",
     "evalue": "빈 리스트엔 최소값이 없어요!",
     "output_type": "error",
     "traceback": [
      "\u001b[0;31m---------------------------------------------------------------------------\u001b[0m",
      "\u001b[0;31mAssertionError\u001b[0m                            Traceback (most recent call last)",
      "\u001b[0;32m<ipython-input-36-ee97604c514b>\u001b[0m in \u001b[0;36m<module>\u001b[0;34m\u001b[0m\n\u001b[0;32m----> 1\u001b[0;31m \u001b[0msmallest_item_assert\u001b[0m\u001b[0;34m(\u001b[0m\u001b[0;34m[\u001b[0m\u001b[0;34m]\u001b[0m\u001b[0;34m)\u001b[0m\u001b[0;34m\u001b[0m\u001b[0;34m\u001b[0m\u001b[0m\n\u001b[0m",
      "\u001b[0;32m<ipython-input-35-f4b3e95cc1bc>\u001b[0m in \u001b[0;36msmallest_item_assert\u001b[0;34m(xs)\u001b[0m\n\u001b[1;32m      1\u001b[0m \u001b[0;32mdef\u001b[0m \u001b[0msmallest_item_assert\u001b[0m\u001b[0;34m(\u001b[0m\u001b[0mxs\u001b[0m\u001b[0;34m)\u001b[0m\u001b[0;34m:\u001b[0m\u001b[0;34m\u001b[0m\u001b[0;34m\u001b[0m\u001b[0m\n\u001b[0;32m----> 2\u001b[0;31m     \u001b[0;32massert\u001b[0m \u001b[0mxs\u001b[0m\u001b[0;34m,\u001b[0m \u001b[0;34m\"빈 리스트엔 최소값이 없어요!\"\u001b[0m\u001b[0;34m\u001b[0m\u001b[0;34m\u001b[0m\u001b[0m\n\u001b[0m\u001b[1;32m      3\u001b[0m     \u001b[0;32mreturn\u001b[0m \u001b[0mmin\u001b[0m\u001b[0;34m(\u001b[0m\u001b[0mxs\u001b[0m\u001b[0;34m)\u001b[0m\u001b[0;34m\u001b[0m\u001b[0;34m\u001b[0m\u001b[0m\n",
      "\u001b[0;31mAssertionError\u001b[0m: 빈 리스트엔 최소값이 없어요!"
     ]
    }
   ],
   "source": [
    "smallest_item_assert([])"
   ]
  },
  {
   "cell_type": "markdown",
   "metadata": {},
   "source": [
    "반면에 `smallest_item` 함수의 경우 빈 리스트의 최소값이 존재하지 않는다는 `ValueError`가 \n",
    "발생한다."
   ]
  },
  {
   "cell_type": "code",
   "execution_count": 37,
   "metadata": {},
   "outputs": [
    {
     "ename": "ValueError",
     "evalue": "min() arg is an empty sequence",
     "output_type": "error",
     "traceback": [
      "\u001b[0;31m---------------------------------------------------------------------------\u001b[0m",
      "\u001b[0;31mValueError\u001b[0m                                Traceback (most recent call last)",
      "\u001b[0;32m<ipython-input-37-b3e736932245>\u001b[0m in \u001b[0;36m<module>\u001b[0;34m\u001b[0m\n\u001b[0;32m----> 1\u001b[0;31m \u001b[0msmallest_item\u001b[0m\u001b[0;34m(\u001b[0m\u001b[0;34m[\u001b[0m\u001b[0;34m]\u001b[0m\u001b[0;34m)\u001b[0m\u001b[0;34m\u001b[0m\u001b[0;34m\u001b[0m\u001b[0m\n\u001b[0m",
      "\u001b[0;32m<ipython-input-33-8d4a9b647158>\u001b[0m in \u001b[0;36msmallest_item\u001b[0;34m(xs)\u001b[0m\n\u001b[1;32m      1\u001b[0m \u001b[0;32mdef\u001b[0m \u001b[0msmallest_item\u001b[0m\u001b[0;34m(\u001b[0m\u001b[0mxs\u001b[0m\u001b[0;34m)\u001b[0m\u001b[0;34m:\u001b[0m\u001b[0;34m\u001b[0m\u001b[0;34m\u001b[0m\u001b[0m\n\u001b[0;32m----> 2\u001b[0;31m     \u001b[0;32mreturn\u001b[0m \u001b[0mmin\u001b[0m\u001b[0;34m(\u001b[0m\u001b[0mxs\u001b[0m\u001b[0;34m)\u001b[0m\u001b[0;34m\u001b[0m\u001b[0;34m\u001b[0m\u001b[0m\n\u001b[0m",
      "\u001b[0;31mValueError\u001b[0m: min() arg is an empty sequence"
     ]
    }
   ],
   "source": [
    "smallest_item([])"
   ]
  },
  {
   "cell_type": "markdown",
   "metadata": {},
   "source": [
    "### 객체 지향 프로그래밍"
   ]
  },
  {
   "cell_type": "markdown",
   "metadata": {},
   "source": [
    "파이썬은 소위 **객체 지향 프로그래밍**을 지원하는 언어이다.\n",
    "이 강좌에서는 객체 지행 프로그래밍의 정체를 논하지 않는다.\n",
    "다만, 객체 지향 프로그래밍의 핵심 요소인 클래스(class)와 인스턴스(instance)를 \n",
    "어떻게 정의하고 활용하는지 예제 두 개를 이용하여 보여준다.\n",
    "\n",
    "앞으로 클래스와 인스턴스를 수 없이 보고 사용할 것이다.\n",
    "사실, 지금까지도 많은 클래스와 인스턴스를 살펴 보았다.\n",
    "\n",
    "* `str`: 문자열 클래스\n",
    "    * 인스턴스: `\"abc\"`, `\"홍길동\"` 등\n",
    "\n",
    "\n",
    "* `list`: 리스트 클래스\n",
    "    * 인스턴스: `[1, 2, 3]`, `['ab', 1, [0, 1]]` 등\n",
    "\n",
    "\n",
    "* `set`: 집합 클래스\n",
    "    * 인스턴스: `set(), {1, 2, 3}`, `{'ab', 1, [0, 1]}` 등\n",
    "\n",
    "\n",
    "* `dict`: 사전 클래스\n",
    "    * 인스턴스: `{\"이름\":\"홍길동\", \"출신\":\"한양\"}` 등\n",
    "\n",
    "\n",
    "* `defaultdict`: 디폴트딕트 클래스\n",
    "    * 인스턴스: `defaultdict(int)`, `defaultdict(list)` 등\n",
    "\n",
    "\n",
    "* `Counter`: 카운터 클래스\n",
    "    * 인스턴스: `Counter([1, 2, 1, 3, 0])` 등"
   ]
  },
  {
   "cell_type": "markdown",
   "metadata": {},
   "source": [
    "#### 클래스의 활용\n",
    "\n",
    "클래스는 크게 세 가지 방식으로 사용된다.\n",
    "\n",
    "1. 자료형 및 메소드 정의\n",
    "    * 여기에서 주로 사용되는 방식이며, 앞서 언급한 클래스들이 여기에 해당한다.\n",
    "1. 관련된 기능을 갖는 함수들의 모둠, 일종의 도구 상자\n",
    "    * 아래 둘째 예제가 여기에 해당함.\n",
    "1. 동일한 기능을 갖는 객체를 쉽고 다양한 방식으로 생성할 수 있도록 도와주는 기계틀 역할으 수행하는 도구\n",
    "    * 게임 프로그래밍 등에서 게임 캐릭터, 배경, 도구 등을 쉽게 생성할 때 기본적으로 사용되는 방식임."
   ]
  },
  {
   "cell_type": "markdown",
   "metadata": {},
   "source": [
    "#### 첫째 예제: 집합 클래스 구현하기\n",
    "\n",
    "집합 자료형인 `set`이 없다고 가정하고 직접 집합 자료형을 `MySet` 클래스를 이용하여 정의해보자."
   ]
  },
  {
   "cell_type": "code",
   "execution_count": 38,
   "metadata": {},
   "outputs": [],
   "source": [
    "class MySet: \n",
    "\n",
    "    # 메소드 정의:\n",
    "    # 모든 메소드의 첫째 매개변수는 관습적으로 \"self\"라 부른다.\n",
    "    # \"self\"에는 어떤 \"MySet\" 객체가 인자로 입력되어야 한다.\n",
    "\n",
    "    def __init__(self, values=None):\n",
    "        \"\"\"이 메소드는 생성자이다. 모든 클래스의 생성자는 이 이름을 사용한다.\n",
    "        클래스의 인스턴스를 생성할 때 눈에 보이지 않지만 이 메소드가 호출되어 실행된다.\n",
    "        아래 형식으로 활용된다.\n",
    "        s1 = MySet()          # 공집합 생성\n",
    "        s2 = MySet([1,2,2,3]) # 원소를 지정하면서 집합 생성\"\"\"\n",
    "\n",
    "        self.dict = {}  # \"self\"에 입력된 MySet 클래스의 객체에 빈 사전을 기본으로 포함시킴.\n",
    "                        # self.dict 에 원소를 추가할 것임.\n",
    "            \n",
    "        if values is not None:    # values에 포함된 항목을 모두 self.dict에 추가\n",
    "            for value in values:\n",
    "                self.add(value)   # add 메소드 정의는 아래에 있음.\n",
    "\n",
    "    def __repr__(self):\n",
    "        \"\"\"MySet 자료형의 값을 출력할 때 보여주는 방식을 지정함.\n",
    "        print 또는 str 함수의 인자로 사용할 때 지정된 값으로 출력/변환된다.\n",
    "        모든 클래스에는 이 메소드가 동일한 이름으로 포함된다.\"\"\"\n",
    "        return \"MySet: \" + str(self.dict.keys())\n",
    "    \n",
    "    # 키에 사용된 값들만 MySet의 원소로 인정한다. \n",
    "    # 즉, 키값은 중요하지 않으며, 여기서는 True를 사용한다.\n",
    "    # 따라서 새로운 값을 원소로 추가할 때 '값:True' 형식으로 self.dict 에 추가한다.\n",
    "    def add(self, value): \n",
    "        self.dict[value] = True\n",
    "        \n",
    "    # 원소 포함여부는 in 연산자를 활용한다.\n",
    "    def contains(self, value): \n",
    "        return value in self.dict\n",
    "    \n",
    "    # 원소를 제거하는 메소드도 있다.\n",
    "    def remove(self, value): \n",
    "        del self.dict[value]"
   ]
  },
  {
   "cell_type": "markdown",
   "metadata": {},
   "source": [
    "#### 매직 메소드\n",
    "\n",
    "이닛(`__init__`), 레퍼(`__repr__`) 메소드처럼 두 개의 밑줄(underscores)로 감싸인 메소드를\n",
    "**매직 메소드**(magic methods)라 부르며, 모든 파이썬 클래스에 동일한 이름으로 포함되어 있다.\n",
    "기타 많은 매직 메소드가 존재하며 명시적으로 선언되지 않은 매직 메소드는 기본 함수가 자동으로 지정된다."
   ]
  },
  {
   "cell_type": "markdown",
   "metadata": {},
   "source": [
    "#### 클래스와 인스턴스"
   ]
  },
  {
   "cell_type": "markdown",
   "metadata": {},
   "source": [
    "1, 2, 3을 원소로 갖는 `MySet`을 다음처럼 생성한다."
   ]
  },
  {
   "cell_type": "code",
   "execution_count": 39,
   "metadata": {},
   "outputs": [],
   "source": [
    "s = MySet([1,2,3]) "
   ]
  },
  {
   "cell_type": "markdown",
   "metadata": {},
   "source": [
    "여기서 변수 `s`에 할당된 값을 `MySet` 클래스의 인스턴스라 부르며,\n",
    "이 경우에는 특별히 `MySet` 자료형이라 부를 수 있다.\n",
    "`set` 클래스의 인스턴스를 집합 자료형이라 부르는 것과 동일하다."
   ]
  },
  {
   "cell_type": "markdown",
   "metadata": {},
   "source": [
    "**주의:** \n",
    "* 위와 같이 실행하면 실제로는 `MySet`의 `__init__` 메소드가 호출된다.\n",
    "    그런데 `__init__` 메소드의 첫째 매개변수인 `self`에 대한 인자는 입력하지 않으며\n",
    "    `Values`의 인자만 사용한 것에 주의하라. \n",
    "* 기타 모든 메소드에 대해서도 마찬가지이다.\n",
    "* `self`의 용도는 아래에서 상속을 설명할 때 알아본다."
   ]
  },
  {
   "cell_type": "markdown",
   "metadata": {},
   "source": [
    "이제 `MySet` 자료형인 `s`에 원소를 추가/삭제하는 방법과 결과를 확인해보자."
   ]
  },
  {
   "cell_type": "code",
   "execution_count": 40,
   "metadata": {},
   "outputs": [
    {
     "name": "stdout",
     "output_type": "stream",
     "text": [
      "MySet: dict_keys([1, 2, 3])\n",
      "True\n",
      "MySet: dict_keys([1, 2, 3, 4])\n",
      "False\n",
      "MySet: dict_keys([1, 2, 4])\n"
     ]
    }
   ],
   "source": [
    "print(s)\n",
    "\n",
    "s.add(4)\n",
    "print(s.contains(4))\n",
    "print(s)\n",
    "\n",
    "s.remove(3)\n",
    "print(s.contains(3))\n",
    "print(s)"
   ]
  },
  {
   "cell_type": "markdown",
   "metadata": {},
   "source": [
    "#### 둘째 예제: 클릭수 세기\n",
    "\n",
    "웹페이지의 방문자 수를 확인하는 앱을 구현하고자 할 때 아래 도구들이 필요하다.\n",
    "\n",
    "* 클릭수를 저장할 변수\n",
    "* 클릭수를 1씩 키워주는 도구\n",
    "* 현재 클릭수를 읽어주는 도구\n",
    "* 클릭수를 초기화하는 도구\n",
    "\n",
    "언급한 변수 한 개와 네 개의 도구를 포함한 일종의 도구상자를\n",
    "아래 `CountingClicker` 클래스로 구현한다."
   ]
  },
  {
   "cell_type": "code",
   "execution_count": 41,
   "metadata": {},
   "outputs": [],
   "source": [
    "class CountingClicker:\n",
    "    \"\"\"함수의 경우처럼 문서화 문자열을 사용할 수 있다.\n",
    "    클래스 정보를 확인할 때 보여지는 내용을 여기에 작성한다.\"\"\"\n",
    "\n",
    "    # 생성자\n",
    "    # 클릭수 초기값을 0으로 지정\n",
    "    def __init__(self, count = 0):\n",
    "        self.count = count\n",
    "\n",
    "    # 출력 메소드\n",
    "    def __repr__(self):\n",
    "        return f\"CountingClicker(count={self.count})\"\n",
    "\n",
    "    # 클릭 이벤트가 발생하면 클릭수를 1씩 키워주는 도구 역할 함수\n",
    "    def click(self, num_times = 1):\n",
    "        \"\"\"Click the clicker some number of times.\"\"\"\n",
    "        self.count += num_times\n",
    "\n",
    "    # 현재 클릭수를 읽어주는 도구 역할 함수\n",
    "    def read(self):\n",
    "        return self.count\n",
    "    \n",
    "    # 클릭수를 초기화하는 도구 역할 함수\n",
    "    def reset(self):\n",
    "        self.count = 0"
   ]
  },
  {
   "cell_type": "markdown",
   "metadata": {},
   "source": [
    "아래 코드를 실행하면 `CountingClass`의 인스턴스를 하나 생성하면 앞서 언급한 변수 한 개와 네 개의 도구를 \n",
    "포함한 하나의 도구상자를 얻게 되며, 도구상자의 이름은 `clicker`이다."
   ]
  },
  {
   "cell_type": "code",
   "execution_count": 42,
   "metadata": {},
   "outputs": [],
   "source": [
    "clicker = CountingClicker()"
   ]
  },
  {
   "cell_type": "markdown",
   "metadata": {},
   "source": [
    "`clicker` 도구상자의 도구를 이용하려면 아래와 같이 실행한다.\n",
    "\n",
    "```python\n",
    "clicker.도구역할함수이름(인자,....)\n",
    "```"
   ]
  },
  {
   "cell_type": "markdown",
   "metadata": {},
   "source": [
    "먼저 클릭수가 0으로 초기화되어 있음을 확인하자.\n",
    "이유는 아무도 클릭하지 않았기 때문이다.\n",
    "실제로 `clicker` 도구상자를 생성할 때 호출되는 `__init__` 메소드의 인자가 지정되지 않아서\n",
    "`count` 매개변수의 키워드 인자로 기본값인 0이 사용되어, `self.count` 변수에 할당되었다."
   ]
  },
  {
   "cell_type": "code",
   "execution_count": 43,
   "metadata": {},
   "outputs": [],
   "source": [
    "assert clicker.read() == 0, \"클릭수는 0부터 시작해야 합니다.\""
   ]
  },
  {
   "cell_type": "markdown",
   "metadata": {},
   "source": [
    "#### 인스턴스 변수\n",
    "\n",
    "* `self.count`와 같은 변수를 **인스턴스 변수**라 부른다.\n",
    "* 이유는 인스턴스가 생성되어야만 존재의미를 갖는 변수이기 때문이다.\n",
    "* 인스턴스 변수 이외에 **클래스 변수**가 클래스를 선언할 때 사용될 수 있다.\n",
    "    클래스 변수는 인스턴스가 생성되지 않아도 존재의미를 갖는다.\n",
    "    이에 대해서는 나중에 기회 있을 때 자세히 설명한다."
   ]
  },
  {
   "cell_type": "markdown",
   "metadata": {},
   "source": [
    "이제 클릭을 두 번 했다가 가정하자. \n",
    "즉, `click` 메소드를 두 번 호출되어야 한다."
   ]
  },
  {
   "cell_type": "code",
   "execution_count": 44,
   "metadata": {},
   "outputs": [],
   "source": [
    "clicker.click()\n",
    "clicker.click()"
   ]
  },
  {
   "cell_type": "markdown",
   "metadata": {},
   "source": [
    "그러면 클릭수가 2가 되어 있어야 한다."
   ]
  },
  {
   "cell_type": "code",
   "execution_count": 45,
   "metadata": {},
   "outputs": [],
   "source": [
    "assert clicker.read() == 2, \"두 번 클릭했으니 클릭수는 2이어야 함.\""
   ]
  },
  {
   "cell_type": "markdown",
   "metadata": {},
   "source": [
    "이제 클릭수를 초기화하자."
   ]
  },
  {
   "cell_type": "code",
   "execution_count": 46,
   "metadata": {},
   "outputs": [],
   "source": [
    "clicker.reset()"
   ]
  },
  {
   "cell_type": "markdown",
   "metadata": {},
   "source": [
    "그러면 클릭수가 다시 0이 되어야 한다."
   ]
  },
  {
   "cell_type": "code",
   "execution_count": 47,
   "metadata": {},
   "outputs": [],
   "source": [
    "assert clicker.read() == 0, \"클릭수를 초기화하면 0이 된다.\""
   ]
  },
  {
   "cell_type": "markdown",
   "metadata": {},
   "source": [
    "클릭수를 지정하면서 `CountingClicker`의 인스턴스를 생성할 수 있다."
   ]
  },
  {
   "cell_type": "code",
   "execution_count": 48,
   "metadata": {},
   "outputs": [],
   "source": [
    "clicker50 = CountingClicker(50)"
   ]
  },
  {
   "cell_type": "markdown",
   "metadata": {},
   "source": [
    "클릭수가 50으로 설정되었음을 확인할 수 있다."
   ]
  },
  {
   "cell_type": "code",
   "execution_count": 49,
   "metadata": {},
   "outputs": [
    {
     "data": {
      "text/plain": [
       "50"
      ]
     },
     "execution_count": 49,
     "metadata": {},
     "output_type": "execute_result"
    }
   ],
   "source": [
    "clicker50.read()"
   ]
  },
  {
   "cell_type": "markdown",
   "metadata": {},
   "source": [
    "#### 클래스 상속"
   ]
  },
  {
   "cell_type": "markdown",
   "metadata": {},
   "source": [
    "부모 클래스로부터 많은 기능을 물려받을 수 있는 자식 클래스를 상속을 이용하여 선언할 수 있다.\n",
    "\n",
    "예를 들어, 클릭수를 초기화할 수 없는 자식 클래스 `NoResetClicker`를 아래와 같이 선언한다.\n",
    "클릭수 초기화 기능을 없애기 위해서는 `reset` 메소드를 재정의(overriding)해야 한다."
   ]
  },
  {
   "cell_type": "code",
   "execution_count": 50,
   "metadata": {},
   "outputs": [],
   "source": [
    "class NoResetClicker(CountingClicker):\n",
    "    # 부모 클래스인 CountingClicker의 모든 메소드를 물려 받는다.\n",
    "    # 다만, reset 함수의 초기화 기능을 없애기 위해 다음처럼 재정의한다. \n",
    "    # 재정의하지 않는 메소드는 부모 클래스에서 정의된 그대로 물려 받는다.\n",
    "    \n",
    "    def reset(self):\n",
    "        pass"
   ]
  },
  {
   "cell_type": "markdown",
   "metadata": {},
   "source": [
    "이제 `NoResetClicker`의 인스턴스를 생성한 후 클릭수 초기화가 이루어지지 않을 확인할 수 있다."
   ]
  },
  {
   "cell_type": "code",
   "execution_count": 51,
   "metadata": {},
   "outputs": [
    {
     "name": "stdout",
     "output_type": "stream",
     "text": [
      "2\n",
      "2\n"
     ]
    }
   ],
   "source": [
    "clicker2 = NoResetClicker()\n",
    "clicker2.click()\n",
    "clicker2.click()\n",
    "print(clicker2.read())\n",
    "clicker2.reset()\n",
    "print(clicker2.read())"
   ]
  },
  {
   "cell_type": "markdown",
   "metadata": {},
   "source": [
    "### 이터러블(iterable) 자료형와 제너레이터(generator)\n",
    "\n",
    "`for ... in ...` 반복문과 리스트 자료형은 서로 찰떡궁합 관계이다. \n",
    "특정 명령을 지정한 횟수만큼 쉽게 반복적으로 처리할 수 있도록 만들 수 있기 때문이다. "
   ]
  },
  {
   "cell_type": "code",
   "execution_count": 52,
   "metadata": {},
   "outputs": [
    {
     "data": {
      "text/plain": [
       "range"
      ]
     },
     "execution_count": 52,
     "metadata": {},
     "output_type": "execute_result"
    }
   ],
   "source": [
    "type(range(10))"
   ]
  },
  {
   "cell_type": "code",
   "execution_count": 53,
   "metadata": {},
   "outputs": [
    {
     "name": "stdout",
     "output_type": "stream",
     "text": [
      "0\n",
      "1\n",
      "2\n",
      "3\n",
      "4\n"
     ]
    }
   ],
   "source": [
    "for i in [0, 1, 2, 3, 4]:\n",
    "    print(i)"
   ]
  },
  {
   "cell_type": "code",
   "execution_count": 54,
   "metadata": {},
   "outputs": [
    {
     "name": "stdout",
     "output_type": "stream",
     "text": [
      "0\n",
      "1\n",
      "2\n",
      "3\n",
      "4\n"
     ]
    }
   ],
   "source": [
    "for i in range(5):\n",
    "    print(i)"
   ]
  },
  {
   "cell_type": "markdown",
   "metadata": {},
   "source": [
    "리스트처럼 `for ... in ...` 등의 반복문에서 항목을 차례대로 읽어 활용하는 것을 가능하게 해주는 자료형을 이터러블 자료형이다.\n",
    "\n",
    "하지만 리스트의 항목은 엄청 많으면 리스트를 저장하는 데에 막대한 메모리가 요구된다.\n",
    "게다가 한 번만 사용하고 말 리스트라는 문제가 더욱 심각하다.\n",
    "따라서 필요한 만큼만 항목을 생성해주는 도구가 필요하며, 그런 도구를 제너레이터(generator)라 부른다."
   ]
  },
  {
   "cell_type": "markdown",
   "metadata": {},
   "source": [
    "#### `range` 함수\n",
    "\n",
    "실제로 앞서 다루었던 `range` 함수가 제너레이터의 일종이다. \n",
    "\n",
    "예를 들어, `range(5)`는 `for ... in ...` 반복문에서 리스트 `[0, 1, 2, 3, 4]`와 동일한 기능을 수행한다. "
   ]
  },
  {
   "cell_type": "markdown",
   "metadata": {},
   "source": [
    "하지만 리스트의 항목은 엄청 많으면 리스트를 저장하는 데에 막대한 메모리가 요구된다.\n",
    "따라서 필요한만큼만 항목을 생성하는"
   ]
  },
  {
   "cell_type": "code",
   "execution_count": 55,
   "metadata": {},
   "outputs": [
    {
     "name": "stdout",
     "output_type": "stream",
     "text": [
      "0\n",
      "1\n",
      "2\n",
      "3\n",
      "4\n"
     ]
    }
   ],
   "source": [
    "for i in range(5):\n",
    "    print(i)"
   ]
  },
  {
   "cell_type": "markdown",
   "metadata": {},
   "source": [
    "#### 제너레이터 구현\n",
    "\n",
    "제너레이터 구현은 함수를 정의하는 방식과 거의 동일하다.\n",
    "반환값을 지정하는 `return` 키워드 대신에 요청될 때 값을 생성하는 일드(`yield`) 키워드가 사용될 뿐이다.\n",
    "\n",
    "예를 들어, `range(n)`과 동일한 기능을 수행하는 `generate_range` 제너레이터를 아래와 같이 정의할 수 있다."
   ]
  },
  {
   "cell_type": "code",
   "execution_count": 56,
   "metadata": {},
   "outputs": [],
   "source": [
    "def generate_range(n):\n",
    "    i = 0\n",
    "    while i < n:\n",
    "        yield i       # yield 가 호출될 때마다 제너레이터의 값을 생성한다.\n",
    "        i += 1"
   ]
  },
  {
   "cell_type": "markdown",
   "metadata": {},
   "source": [
    "아래 반복문을 실행한다고 해서 `generate_range(10)`이 0부터 9까지의 정수를 한꺼번에 생성하지는 않는다.\n",
    "대신에 `for` 반복문이 한 번씩 반복해서 실행될 때마다 차례대로 0, 1, 2, ... 등을 생성해서 변수 `i`에 할당한다."
   ]
  },
  {
   "cell_type": "code",
   "execution_count": 57,
   "metadata": {},
   "outputs": [
    {
     "name": "stdout",
     "output_type": "stream",
     "text": [
      "i = 0\n",
      "i = 1\n",
      "i = 2\n",
      "i = 3\n",
      "i = 4\n",
      "i = 5\n",
      "i = 6\n",
      "i = 7\n",
      "i = 8\n",
      "i = 9\n"
     ]
    }
   ],
   "source": [
    "for i in generate_range(10):\n",
    "    print(f\"i = {i}\")"
   ]
  },
  {
   "cell_type": "markdown",
   "metadata": {},
   "source": [
    "#### 소극적(lazy) 계산과 적극적(eager) 계산\n",
    "\n",
    "`range`, `generate_range` 등 처럼 모든 값을 미리 생성해서 준비해 놓는 대신에 필요할 때 필요한 항목을 생성하는 함수를 \n",
    "소극적 함수(lazy function)이라 부른다.\n",
    "\n",
    "**주의:** 파이썬에서 정의되는 함수는 실행될 때 기본적으로 적극적으로 값을 생성하며 계산한다.\n"
   ]
  },
  {
   "cell_type": "markdown",
   "metadata": {},
   "source": [
    "#### 무한 수열 생성\n",
    "\n",
    "제너레이터를 이용하면 무한 수열도 생성할 수 있다.\n",
    "이유는 제너레이터는 항상 요구되는 만큼만 생성하고,\n",
    "따라서 절대로 무한히 많은 값들을 생성하려고 하지 않기 때문이다.\n",
    "\n",
    "예를 들어, 아래 `natural_numbers` 함수는 모든 자연수를 생성할 준비가 된 제너레이터이다."
   ]
  },
  {
   "cell_type": "code",
   "execution_count": 58,
   "metadata": {},
   "outputs": [],
   "source": [
    "def natural_numbers():\n",
    "    \"\"\"returns 1, 2, 3, ...\"\"\"\n",
    "    n = 1\n",
    "    while True:\n",
    "        yield n\n",
    "        n += 1"
   ]
  },
  {
   "cell_type": "markdown",
   "metadata": {},
   "source": [
    "물론 위와 같이 무한 수열을 생성하는 제너레이터는 매우 조심스럽게 사용해야 한다. \n",
    "예를 들어 아래와 같이 사용하면 무한 반복(loop)이 발생한다. \n",
    "\n",
    "```python\n",
    "for i in natural_number():\n",
    "    print(i)\n",
    "```\n",
    "\n",
    "무한 수열을 생성하는 제너레이터는 `break` 명령문과 함께 적절하게 사용할 수는 있다."
   ]
  },
  {
   "cell_type": "code",
   "execution_count": 59,
   "metadata": {},
   "outputs": [
    {
     "name": "stdout",
     "output_type": "stream",
     "text": [
      "1\n",
      "2\n",
      "3\n",
      "4\n",
      "5\n"
     ]
    }
   ],
   "source": [
    "for i in natural_numbers():\n",
    "    if i > 5:\n",
    "        break\n",
    "    print(i)"
   ]
  },
  {
   "cell_type": "markdown",
   "metadata": {},
   "source": [
    "#### 이터레이터 재활용\n",
    "\n",
    "생성된 이터레이터는 한 번 사용하면 다시 사용할 수 없으며,\n",
    "필요할 때마다 다시 이터레이터를 생성해야 한다. \n",
    "\n",
    "예를 들어, 아래와 같이 이터레이터를 생성하여 변수에 저장하자."
   ]
  },
  {
   "cell_type": "code",
   "execution_count": 60,
   "metadata": {},
   "outputs": [],
   "source": [
    "iterator_once = generate_range(5)"
   ]
  },
  {
   "cell_type": "markdown",
   "metadata": {},
   "source": [
    "그러고 나서 변수를 이용하여 반복문을 돌리자."
   ]
  },
  {
   "cell_type": "code",
   "execution_count": 61,
   "metadata": {},
   "outputs": [
    {
     "name": "stdout",
     "output_type": "stream",
     "text": [
      "0\n",
      "1\n",
      "2\n",
      "3\n",
      "4\n"
     ]
    }
   ],
   "source": [
    "for i in iterator_once:\n",
    "    print(i)"
   ]
  },
  {
   "cell_type": "markdown",
   "metadata": {},
   "source": [
    "이제 다시 동일한 변수를 이용하여 반복문을 돌리면 아무 것도 하지 않을 것이다.\n",
    "이유는 지정된 이터레이터가 이미 모든 값을 생성하였기 때문이다."
   ]
  },
  {
   "cell_type": "code",
   "execution_count": 62,
   "metadata": {},
   "outputs": [],
   "source": [
    "for i in iterator_once:\n",
    "    print(i)"
   ]
  },
  {
   "cell_type": "markdown",
   "metadata": {},
   "source": [
    "해결책은 해당 이터레이터를 다시 생성하는 것 뿐이다. "
   ]
  },
  {
   "cell_type": "code",
   "execution_count": 63,
   "metadata": {},
   "outputs": [
    {
     "name": "stdout",
     "output_type": "stream",
     "text": [
      "0\n",
      "1\n",
      "2\n",
      "3\n",
      "4\n"
     ]
    }
   ],
   "source": [
    "iterator_once = generate_range(5)\n",
    "\n",
    "for i in iterator_once:\n",
    "    print(i)"
   ]
  },
  {
   "cell_type": "markdown",
   "metadata": {},
   "source": [
    "따라서 이터레이터가 반복적으로 사용되어야 한다면 차라리 리스트로 정의해서 활용하는 것이 나을 수 있다."
   ]
  },
  {
   "cell_type": "markdown",
   "metadata": {},
   "source": [
    "#### 제너레이터 조건제시법"
   ]
  },
  {
   "cell_type": "markdown",
   "metadata": {},
   "source": [
    "리스트와 사전 자료형의 경우에서처럼 조건제시법으로 제너레이터를 생성할 수 있다.\n",
    "사용하는 기호는 소괄호(`()`)이며, 마치 조건제시법으로 튜플을 생성하는 것처럼 보인다."
   ]
  },
  {
   "cell_type": "code",
   "execution_count": 64,
   "metadata": {},
   "outputs": [],
   "source": [
    "evens_below_20 = (i for i in generate_range(20) if i % 2 == 0)"
   ]
  },
  {
   "cell_type": "markdown",
   "metadata": {},
   "source": [
    "화면에 출력하고 싶어도 할 수 없다.\n",
    "제너레이터이기 때문에 정의된 되어 있을 뿐이며, 아무 것도 생성하지 않았기 때문이다."
   ]
  },
  {
   "cell_type": "code",
   "execution_count": 65,
   "metadata": {},
   "outputs": [
    {
     "name": "stdout",
     "output_type": "stream",
     "text": [
      "<generator object <genexpr> at 0x7f2e60304048>\n"
     ]
    }
   ],
   "source": [
    "print(evens_below_20)"
   ]
  },
  {
   "cell_type": "markdown",
   "metadata": {},
   "source": [
    "하지만 `for ... in ...` 반복문을 이용하여 원소들을 확인할 수 있다."
   ]
  },
  {
   "cell_type": "code",
   "execution_count": 66,
   "metadata": {},
   "outputs": [
    {
     "name": "stdout",
     "output_type": "stream",
     "text": [
      "0\n",
      "2\n",
      "4\n",
      "6\n",
      "8\n",
      "10\n",
      "12\n",
      "14\n",
      "16\n",
      "18\n"
     ]
    }
   ],
   "source": [
    "for x in evens_below_20:\n",
    "    print(x)"
   ]
  },
  {
   "cell_type": "markdown",
   "metadata": {},
   "source": [
    "동일한 이유로 아래 정의들은 무한 수열을 정의하지만 전혀 문제가 없다.\n",
    "이유는 반복문을 실행하기 전까지 아무런 계산도 하지 않기 때문이다."
   ]
  },
  {
   "cell_type": "code",
   "execution_count": 67,
   "metadata": {},
   "outputs": [],
   "source": [
    "data = natural_numbers()\n",
    "evens = (x for x in data if x % 2 == 0)\n",
    "even_squares = (x ** 2 for x in evens)\n",
    "even_squares_ending_in_six = (x for x in even_squares if x % 10 == 6)\n",
    "# 등등"
   ]
  },
  {
   "cell_type": "markdown",
   "metadata": {},
   "source": [
    "#### `next` 함수\n",
    "\n",
    "넥스트(`next`) 함수는 이터레이터에서 아직 생성되지 않는 다음 항목을 계산해내는 함수이다."
   ]
  },
  {
   "cell_type": "code",
   "execution_count": 68,
   "metadata": {},
   "outputs": [
    {
     "data": {
      "text/plain": [
       "16"
      ]
     },
     "execution_count": 68,
     "metadata": {},
     "output_type": "execute_result"
    }
   ],
   "source": [
    "next(even_squares_ending_in_six)"
   ]
  },
  {
   "cell_type": "code",
   "execution_count": 69,
   "metadata": {},
   "outputs": [
    {
     "data": {
      "text/plain": [
       "36"
      ]
     },
     "execution_count": 69,
     "metadata": {},
     "output_type": "execute_result"
    }
   ],
   "source": [
    "next(even_squares_ending_in_six)"
   ]
  },
  {
   "cell_type": "code",
   "execution_count": 70,
   "metadata": {},
   "outputs": [
    {
     "data": {
      "text/plain": [
       "196"
      ]
     },
     "execution_count": 70,
     "metadata": {},
     "output_type": "execute_result"
    }
   ],
   "source": [
    "next(even_squares_ending_in_six)"
   ]
  },
  {
   "cell_type": "markdown",
   "metadata": {},
   "source": [
    "#### `enumerate` 함수\n",
    "\n",
    "리스트 또는 제너레이터를 대상으로 반복문을 실행할 때\n",
    "각 항목고 함께 해당 항목의 인덱스를 함께 사용해야 할 때가 있다.\n",
    "이럴 때 이뉴머레이트(`enumerate`) 함수가 유용하다."
   ]
  },
  {
   "cell_type": "code",
   "execution_count": 71,
   "metadata": {},
   "outputs": [],
   "source": [
    "names = [\"Alice\", \"Bob\", \"Charlie\", \"Debbie\"]"
   ]
  },
  {
   "cell_type": "code",
   "execution_count": 72,
   "metadata": {},
   "outputs": [
    {
     "name": "stdout",
     "output_type": "stream",
     "text": [
      "0번 이름은 Alice입니다.\n",
      "1번 이름은 Bob입니다.\n",
      "2번 이름은 Charlie입니다.\n",
      "3번 이름은 Debbie입니다.\n"
     ]
    }
   ],
   "source": [
    "for i, name in enumerate(names):\n",
    "    print(f\"{i}번 이름은 {name}입니다.\")"
   ]
  },
  {
   "cell_type": "markdown",
   "metadata": {},
   "source": [
    "아래 두 방식도 가능하지만 `enumerate` 함수를 사용하는 것에 비하면\n",
    "별로 좋아 보이지 않는다."
   ]
  },
  {
   "cell_type": "code",
   "execution_count": 73,
   "metadata": {},
   "outputs": [
    {
     "name": "stdout",
     "output_type": "stream",
     "text": [
      "0번 이름은 Debbie입니다.\n",
      "1번 이름은 Debbie입니다.\n",
      "2번 이름은 Debbie입니다.\n",
      "3번 이름은 Debbie입니다.\n"
     ]
    }
   ],
   "source": [
    "for i in range(len(names)):\n",
    "    print(f\"{i}번 이름은 {name}입니다.\")"
   ]
  },
  {
   "cell_type": "code",
   "execution_count": 74,
   "metadata": {},
   "outputs": [
    {
     "name": "stdout",
     "output_type": "stream",
     "text": [
      "0번 이름은 Alice입니다.\n",
      "1번 이름은 Bob입니다.\n",
      "2번 이름은 Charlie입니다.\n",
      "3번 이름은 Debbie입니다.\n"
     ]
    }
   ],
   "source": [
    "i = 0\n",
    "for name in names:\n",
    "    print(f\"{i}번 이름은 {name}입니다.\")\n",
    "    i += 1"
   ]
  },
  {
   "cell_type": "markdown",
   "metadata": {},
   "source": [
    "### 난수 생성"
   ]
  },
  {
   "cell_type": "markdown",
   "metadata": {},
   "source": [
    "무작위 수를 생성할 필요가 종종 있다.\n",
    "무작위로 생성된 수를 난수(random number)라 부르며,\n",
    "난수 생성을 위해 랜덤(`random`) 모듈을 사용할 수 있다."
   ]
  },
  {
   "cell_type": "code",
   "execution_count": 75,
   "metadata": {},
   "outputs": [],
   "source": [
    "import random"
   ]
  },
  {
   "cell_type": "markdown",
   "metadata": {},
   "source": [
    "#### `random` 함수\n",
    "\n",
    "0과 1 사이의 실수를 무작위로, 하지만 균등하게(uniformly) 선택한다.\n",
    "여기서 균등성은 한 영역에 치우치지 전 영역에서 골고루 선택함을 의미한다."
   ]
  },
  {
   "cell_type": "code",
   "execution_count": 76,
   "metadata": {},
   "outputs": [
    {
     "data": {
      "text/plain": [
       "[0.937756112280463,\n",
       " 0.32925070503629605,\n",
       " 0.8918915868968175,\n",
       " 0.40093712003214144,\n",
       " 0.24261195813819603,\n",
       " 0.004140001033405172,\n",
       " 0.07892457312887047,\n",
       " 0.22705954278954454,\n",
       " 0.49793011901847994,\n",
       " 0.058484543912960874]"
      ]
     },
     "execution_count": 76,
     "metadata": {},
     "output_type": "execute_result"
    }
   ],
   "source": [
    "[random.random() for _ in range(10)]"
   ]
  },
  {
   "cell_type": "markdown",
   "metadata": {},
   "source": [
    "**주의:** 난수 생성이 엄밀히 말하면 완전히 무작위는 아니다. \n",
    "모든 컴퓨터 안에 난수표가 있어서 `random` 같은 함수를 실행할 때마다\n",
    "난수표에서 차례대로 읽어서 보여주는 것에 불과하다.\n",
    "하지만 우리 인간에게는 무작위적으로 보이며, 실제로 매우 유용하게 활용된다."
   ]
  },
  {
   "cell_type": "markdown",
   "metadata": {},
   "source": [
    "#### 시드(`seed`) 함수\n",
    "\n",
    "코드를 실행할 때 마다 동일한 난수를 얻으려면,\n",
    "즉, 동일한 환경에서 데이터 분석 실험을 반복하려면 \n",
    "`seed` 함수를 먼저 실행해야 한다.\n",
    "\n",
    "간단한게 설명하면, `seed` 함수에 입력된 정수 인자가\n",
    "난수를 생성하는 기준을 제시한다.\n",
    "따라서 어떤 환경에서도 `seed` 함수의 입력값이 동일하면 \n",
    "동일한 난수가 생성된다."
   ]
  },
  {
   "cell_type": "code",
   "execution_count": 77,
   "metadata": {},
   "outputs": [
    {
     "name": "stdout",
     "output_type": "stream",
     "text": [
      "0.5714025946899135\n",
      "0.5714025946899135\n"
     ]
    }
   ],
   "source": [
    "random.seed(10)         # 시드를 10으로 지정\n",
    "print(random.random())\n",
    "random.seed(10)       \n",
    "print(random.random())"
   ]
  },
  {
   "cell_type": "markdown",
   "metadata": {},
   "source": [
    "시드를 지정하지 않으면 `random` 함수가 매번 다른 값을 생성한다."
   ]
  },
  {
   "cell_type": "code",
   "execution_count": 78,
   "metadata": {},
   "outputs": [
    {
     "name": "stdout",
     "output_type": "stream",
     "text": [
      "0.4288890546751146\n"
     ]
    }
   ],
   "source": [
    "print(random.random())"
   ]
  },
  {
   "cell_type": "code",
   "execution_count": 79,
   "metadata": {},
   "outputs": [
    {
     "name": "stdout",
     "output_type": "stream",
     "text": [
      "0.5780913011344704\n"
     ]
    }
   ],
   "source": [
    "print(random.random())"
   ]
  },
  {
   "cell_type": "code",
   "execution_count": 80,
   "metadata": {},
   "outputs": [
    {
     "name": "stdout",
     "output_type": "stream",
     "text": [
      "0.20609823213950174\n"
     ]
    }
   ],
   "source": [
    "print(random.random())"
   ]
  },
  {
   "cell_type": "markdown",
   "metadata": {},
   "source": [
    "#### `randrange` 함수\n",
    "\n",
    "지정된 범위 안에서 정수를 무작위로 선택하는 함수이다. \n",
    "\n",
    "예를 들어, 0부터 9 사이의 정수중에서 임의로 하나의 수를 선택하려면 다음과 같이 실행한다."
   ]
  },
  {
   "cell_type": "code",
   "execution_count": 81,
   "metadata": {},
   "outputs": [
    {
     "data": {
      "text/plain": [
       "7"
      ]
     },
     "execution_count": 81,
     "metadata": {},
     "output_type": "execute_result"
    }
   ],
   "source": [
    "random.randrange(10)"
   ]
  },
  {
   "cell_type": "markdown",
   "metadata": {},
   "source": [
    "실행할 때마다 다른 값을 반환한다."
   ]
  },
  {
   "cell_type": "code",
   "execution_count": 82,
   "metadata": {},
   "outputs": [
    {
     "data": {
      "text/plain": [
       "4"
      ]
     },
     "execution_count": 82,
     "metadata": {},
     "output_type": "execute_result"
    }
   ],
   "source": [
    "random.randrange(10)"
   ]
  },
  {
   "cell_type": "markdown",
   "metadata": {},
   "source": [
    "그리고, 예를 들어, 3과 7 사이의 정수 중에서 임의로 하나를 선택하려면 다음과 같이 실행한다."
   ]
  },
  {
   "cell_type": "code",
   "execution_count": 83,
   "metadata": {},
   "outputs": [
    {
     "data": {
      "text/plain": [
       "4"
      ]
     },
     "execution_count": 83,
     "metadata": {},
     "output_type": "execute_result"
    }
   ],
   "source": [
    "random.randrange(3, 7)"
   ]
  },
  {
   "cell_type": "markdown",
   "metadata": {},
   "source": [
    "역시 실행할 때마다 다른 값을 반환한다."
   ]
  },
  {
   "cell_type": "code",
   "execution_count": 84,
   "metadata": {},
   "outputs": [
    {
     "data": {
      "text/plain": [
       "3"
      ]
     },
     "execution_count": 84,
     "metadata": {},
     "output_type": "execute_result"
    }
   ],
   "source": [
    "random.randrange(3, 7)"
   ]
  },
  {
   "cell_type": "markdown",
   "metadata": {},
   "source": [
    "하지만 `seed` 를 지정하면 매번 동일한 값을 반환한다."
   ]
  },
  {
   "cell_type": "code",
   "execution_count": 85,
   "metadata": {},
   "outputs": [
    {
     "data": {
      "text/plain": [
       "6"
      ]
     },
     "execution_count": 85,
     "metadata": {},
     "output_type": "execute_result"
    }
   ],
   "source": [
    "random.seed(0)\n",
    "random.randrange(3,7)"
   ]
  },
  {
   "cell_type": "code",
   "execution_count": 86,
   "metadata": {},
   "outputs": [
    {
     "data": {
      "text/plain": [
       "6"
      ]
     },
     "execution_count": 86,
     "metadata": {},
     "output_type": "execute_result"
    }
   ],
   "source": [
    "random.seed(0)\n",
    "random.randrange(3,7)"
   ]
  },
  {
   "cell_type": "code",
   "execution_count": 87,
   "metadata": {},
   "outputs": [
    {
     "data": {
      "text/plain": [
       "6"
      ]
     },
     "execution_count": 87,
     "metadata": {},
     "output_type": "execute_result"
    }
   ],
   "source": [
    "random.seed(0)\n",
    "random.randrange(3,7)"
   ]
  },
  {
   "cell_type": "markdown",
   "metadata": {},
   "source": [
    "#### `shuffle` 함수\n",
    "\n",
    "리스트의 항목들을 무작위로 섞고자 할 때 사용한다."
   ]
  },
  {
   "cell_type": "code",
   "execution_count": 88,
   "metadata": {},
   "outputs": [
    {
     "name": "stdout",
     "output_type": "stream",
     "text": [
      "[9, 10, 2, 3, 6, 4, 8, 5, 1, 7]\n"
     ]
    }
   ],
   "source": [
    "up_to_ten = [1, 2, 3, 4, 5, 6, 7, 8, 9, 10]\n",
    "random.shuffle(up_to_ten)\n",
    "print(up_to_ten)"
   ]
  },
  {
   "cell_type": "markdown",
   "metadata": {},
   "source": [
    "역시 실행할 때마다 다르게 섞는다."
   ]
  },
  {
   "cell_type": "code",
   "execution_count": 89,
   "metadata": {},
   "outputs": [
    {
     "name": "stdout",
     "output_type": "stream",
     "text": [
      "[6, 5, 9, 7, 1, 2, 8, 3, 4, 10]\n"
     ]
    }
   ],
   "source": [
    "up_to_ten = [1, 2, 3, 4, 5, 6, 7, 8, 9, 10]\n",
    "random.shuffle(up_to_ten)\n",
    "print(up_to_ten)"
   ]
  },
  {
   "cell_type": "markdown",
   "metadata": {},
   "source": [
    "하지만 시드를 지정하면 항상 동일한 결과를 보인다."
   ]
  },
  {
   "cell_type": "code",
   "execution_count": 90,
   "metadata": {},
   "outputs": [
    {
     "name": "stdout",
     "output_type": "stream",
     "text": [
      "[9, 7, 1, 3, 4, 2, 10, 6, 5, 8]\n"
     ]
    }
   ],
   "source": [
    "random.seed(50)\n",
    "up_to_ten = [1, 2, 3, 4, 5, 6, 7, 8, 9, 10]\n",
    "random.shuffle(up_to_ten)\n",
    "print(up_to_ten)"
   ]
  },
  {
   "cell_type": "code",
   "execution_count": 91,
   "metadata": {},
   "outputs": [
    {
     "name": "stdout",
     "output_type": "stream",
     "text": [
      "[9, 7, 1, 3, 4, 2, 10, 6, 5, 8]\n"
     ]
    }
   ],
   "source": [
    "random.seed(50)\n",
    "up_to_ten = [1, 2, 3, 4, 5, 6, 7, 8, 9, 10]\n",
    "random.shuffle(up_to_ten)\n",
    "print(up_to_ten)"
   ]
  },
  {
   "cell_type": "markdown",
   "metadata": {},
   "source": [
    "#### `choice` 함수\n",
    "\n",
    "리스트에서 임의로 하나의 항목을 선택할 때 사용한다."
   ]
  },
  {
   "cell_type": "code",
   "execution_count": 92,
   "metadata": {},
   "outputs": [
    {
     "data": {
      "text/plain": [
       "'Alice'"
      ]
     },
     "execution_count": 92,
     "metadata": {},
     "output_type": "execute_result"
    }
   ],
   "source": [
    "random.choice([\"Alice\", \"Bob\", \"Charlie\"])"
   ]
  },
  {
   "cell_type": "markdown",
   "metadata": {},
   "source": [
    "실행할 때마다 값이 달라질 수 있다. 그리고 중복 선택이 가능하다."
   ]
  },
  {
   "cell_type": "code",
   "execution_count": 93,
   "metadata": {},
   "outputs": [
    {
     "data": {
      "text/plain": [
       "'Charlie'"
      ]
     },
     "execution_count": 93,
     "metadata": {},
     "output_type": "execute_result"
    }
   ],
   "source": [
    "random.choice([\"Alice\", \"Bob\", \"Charlie\"])"
   ]
  },
  {
   "cell_type": "code",
   "execution_count": 94,
   "metadata": {},
   "outputs": [
    {
     "data": {
      "text/plain": [
       "'Charlie'"
      ]
     },
     "execution_count": 94,
     "metadata": {},
     "output_type": "execute_result"
    }
   ],
   "source": [
    "random.choice([\"Alice\", \"Bob\", \"Charlie\"])"
   ]
  },
  {
   "cell_type": "markdown",
   "metadata": {},
   "source": [
    "시드를 지정하면 동일한 결과를 얻는다."
   ]
  },
  {
   "cell_type": "code",
   "execution_count": 95,
   "metadata": {},
   "outputs": [
    {
     "data": {
      "text/plain": [
       "'Alice'"
      ]
     },
     "execution_count": 95,
     "metadata": {},
     "output_type": "execute_result"
    }
   ],
   "source": [
    "random.seed(100)\n",
    "random.choice([\"Alice\", \"Bob\", \"Charlie\"])"
   ]
  },
  {
   "cell_type": "code",
   "execution_count": 96,
   "metadata": {},
   "outputs": [
    {
     "data": {
      "text/plain": [
       "'Alice'"
      ]
     },
     "execution_count": 96,
     "metadata": {},
     "output_type": "execute_result"
    }
   ],
   "source": [
    "random.seed(100)\n",
    "random.choice([\"Alice\", \"Bob\", \"Charlie\"])"
   ]
  },
  {
   "cell_type": "code",
   "execution_count": 97,
   "metadata": {},
   "outputs": [
    {
     "data": {
      "text/plain": [
       "'Alice'"
      ]
     },
     "execution_count": 97,
     "metadata": {},
     "output_type": "execute_result"
    }
   ],
   "source": [
    "random.seed(100)\n",
    "random.choice([\"Alice\", \"Bob\", \"Charlie\"])"
   ]
  },
  {
   "cell_type": "markdown",
   "metadata": {},
   "source": [
    "#### `sample`  함수\n",
    "\n",
    "리스트에서 지정한 개수만큼의 항목을 무작위로 선택해서 새로운 리스트를 생성할 수도 있다.\n",
    "중복선택이 없다. 따라서 일종의 로또 뽑기와 비슷하게 작동한다."
   ]
  },
  {
   "cell_type": "code",
   "execution_count": 98,
   "metadata": {},
   "outputs": [
    {
     "data": {
      "text/plain": [
       "[29, 59, 49, 11, 45, 25]"
      ]
     },
     "execution_count": 98,
     "metadata": {},
     "output_type": "execute_result"
    }
   ],
   "source": [
    "lottery_numbers = range(60)\n",
    "random.sample(lottery_numbers, 6)"
   ]
  },
  {
   "cell_type": "markdown",
   "metadata": {},
   "source": [
    "실행할 때 마다 다르게 선택한다."
   ]
  },
  {
   "cell_type": "code",
   "execution_count": 99,
   "metadata": {},
   "outputs": [
    {
     "data": {
      "text/plain": [
       "[46, 22, 27, 32, 51, 7]"
      ]
     },
     "execution_count": 99,
     "metadata": {},
     "output_type": "execute_result"
    }
   ],
   "source": [
    "lottery_numbers = range(60)\n",
    "random.sample(lottery_numbers, 6)"
   ]
  },
  {
   "cell_type": "markdown",
   "metadata": {},
   "source": [
    "시드를 지정하면 변하지 않는다."
   ]
  },
  {
   "cell_type": "code",
   "execution_count": 100,
   "metadata": {},
   "outputs": [
    {
     "data": {
      "text/plain": [
       "[54, 24, 48, 56, 26, 2]"
      ]
     },
     "execution_count": 100,
     "metadata": {},
     "output_type": "execute_result"
    }
   ],
   "source": [
    "random.seed(0)\n",
    "lottery_numbers = range(60)\n",
    "random.sample(lottery_numbers, 6)"
   ]
  },
  {
   "cell_type": "code",
   "execution_count": 101,
   "metadata": {},
   "outputs": [
    {
     "data": {
      "text/plain": [
       "[54, 24, 48, 56, 26, 2]"
      ]
     },
     "execution_count": 101,
     "metadata": {},
     "output_type": "execute_result"
    }
   ],
   "source": [
    "random.seed(0)\n",
    "lottery_numbers = range(60)\n",
    "random.sample(lottery_numbers, 6)"
   ]
  },
  {
   "cell_type": "markdown",
   "metadata": {},
   "source": [
    "#### `choice`와 `range`의 합작\n",
    "\n",
    "두 함수를 합작하면 `sample` 유사하게 작동하는 코드를 구현할 수 있다.\n",
    "차이점은 중복 선택이 가능하다라는 점이다.\n",
    "\n",
    "예를 들어, 0부터 99 사이의 정수 중에서 중복을 허락하면서 무작위로 10개의 정수를 선택하고자 \n",
    "할 때 다음과 같이 실행한다."
   ]
  },
  {
   "cell_type": "code",
   "execution_count": 102,
   "metadata": {},
   "outputs": [
    {
     "name": "stdout",
     "output_type": "stream",
     "text": [
      "[33, 65, 62, 51, 38, 61, 45, 74, 27, 64]\n"
     ]
    }
   ],
   "source": [
    "four_with_replacement = [random.choice(range(100)) for _ in range(10)]\n",
    "print(four_with_replacement)"
   ]
  },
  {
   "cell_type": "markdown",
   "metadata": {},
   "source": [
    "실행할 때마다 결과가 다르다."
   ]
  },
  {
   "cell_type": "code",
   "execution_count": 103,
   "metadata": {},
   "outputs": [
    {
     "name": "stdout",
     "output_type": "stream",
     "text": [
      "[17, 36, 17, 96, 12, 79, 32, 68, 90, 77]\n"
     ]
    }
   ],
   "source": [
    "four_with_replacement = [random.choice(range(100)) for _ in range(10)]\n",
    "print(four_with_replacement)"
   ]
  },
  {
   "cell_type": "markdown",
   "metadata": {},
   "source": [
    "시드를 지정하면 항상 동일하다."
   ]
  },
  {
   "cell_type": "code",
   "execution_count": 104,
   "metadata": {},
   "outputs": [
    {
     "name": "stdout",
     "output_type": "stream",
     "text": [
      "[79, 32, 94, 45, 88, 94, 83, 67, 3, 59]\n"
     ]
    }
   ],
   "source": [
    "random.seed(5)\n",
    "four_with_replacement = [random.choice(range(100)) for _ in range(10)]\n",
    "print(four_with_replacement)"
   ]
  },
  {
   "cell_type": "code",
   "execution_count": 105,
   "metadata": {},
   "outputs": [
    {
     "name": "stdout",
     "output_type": "stream",
     "text": [
      "[79, 32, 94, 45, 88, 94, 83, 67, 3, 59]\n"
     ]
    }
   ],
   "source": [
    "random.seed(5)\n",
    "four_with_replacement = [random.choice(range(100)) for _ in range(10)]\n",
    "print(four_with_replacement)"
   ]
  },
  {
   "cell_type": "markdown",
   "metadata": {},
   "source": [
    "### 정규표현식"
   ]
  },
  {
   "cell_type": "markdown",
   "metadata": {},
   "source": [
    "정규표현식은 문장을 탐색할 때 매우 유용하며, 탐색 대상의 패턴(pattern, 형태)을 지정한다.\n",
    "하지만 사용법이 꽤 복잡하기도 해서 한 권의 책으로 나올 정도이다.\n",
    "따라서 앞으로 정규표현식 예제가 나올 때마다 필요한 정도만 자세히 다룰 것이며,\n",
    "여기서는 간단하 예제를 통해 정규표현식의 역할을 살펴본다.\n",
    "\n",
    "먼저, 정규표현식 탐색에 필요한 도구를 모아놓은 `re` 모듈을 불러와야 한다."
   ]
  },
  {
   "cell_type": "code",
   "execution_count": 106,
   "metadata": {},
   "outputs": [],
   "source": [
    "import re"
   ]
  },
  {
   "cell_type": "markdown",
   "metadata": {},
   "source": [
    "#### `match` 함수\n",
    "\n",
    "* 사용법\n",
    "    ```python\n",
    "    re.match(패턴, 문자열)\n",
    "    ```\n",
    "    \n",
    "* 의미: 문자열이 정규표현식이 지정한 문자열로 시작하는지 여부를 판단"
   ]
  },
  {
   "cell_type": "markdown",
   "metadata": {},
   "source": [
    "예를 들어, 문자열이 `ca`로 시작하는지 여부를 알고자 하면 다음처럼 실행한다.\n",
    "패턴 매칭이 성립하면 `Match` 객체가 리턴되며 매칭이 성공했음을 알려준다."
   ]
  },
  {
   "cell_type": "code",
   "execution_count": 107,
   "metadata": {},
   "outputs": [
    {
     "data": {
      "text/plain": [
       "<_sre.SRE_Match object; span=(0, 2), match='ca'>"
      ]
     },
     "execution_count": 107,
     "metadata": {},
     "output_type": "execute_result"
    }
   ],
   "source": [
    "re.match(\"ca\", \"cat\")"
   ]
  },
  {
   "cell_type": "markdown",
   "metadata": {},
   "source": [
    "위 결과는 `cat` 문자열의 0번부터 2번 이전 인덱스까지 지정된 패턴으로 시작된다는 정보를 보여준다.\n",
    "\n",
    "반면에 패턴 매칭이 성공하지 못하면 `None`을 리턴한다."
   ]
  },
  {
   "cell_type": "code",
   "execution_count": 108,
   "metadata": {},
   "outputs": [
    {
     "name": "stdout",
     "output_type": "stream",
     "text": [
      "None\n"
     ]
    }
   ],
   "source": [
    "print(re.match(\"ca\", \"kat\"))"
   ]
  },
  {
   "cell_type": "markdown",
   "metadata": {},
   "source": [
    "#### 패턴 매칭 성공과 실패: `True` 또는 `False`\n",
    "\n",
    "패턴 매칭이 성공하면 `True`, 실패하면 `False`로 간주된다."
   ]
  },
  {
   "cell_type": "code",
   "execution_count": 109,
   "metadata": {},
   "outputs": [
    {
     "name": "stdout",
     "output_type": "stream",
     "text": [
      "참\n"
     ]
    }
   ],
   "source": [
    "if re.match(\"ca\", \"cat\"):\n",
    "    print(\"참\")\n",
    "else:\n",
    "    print(\"거짓\")"
   ]
  },
  {
   "cell_type": "code",
   "execution_count": 110,
   "metadata": {},
   "outputs": [
    {
     "name": "stdout",
     "output_type": "stream",
     "text": [
      "거짓\n"
     ]
    }
   ],
   "source": [
    "if re.match(\"ca\", \"kat\"):\n",
    "    print(\"참\")\n",
    "else:\n",
    "    print(\"거짓\")"
   ]
  },
  {
   "cell_type": "markdown",
   "metadata": {},
   "source": [
    "#### `search` 함수\n",
    "\n",
    "* 사용법\n",
    "    ```python\n",
    "    re.search(패턴, 문자열)\n",
    "    ```\n",
    "    \n",
    "* 의미: 문자열이 정규표현식이 지정한 문자열을 **부분문자열**로 포함하는지 여부를 판단\n",
    "* 반환값 자료형과 참/거짓 간주여부는 `match`의 경우와 동일."
   ]
  },
  {
   "cell_type": "code",
   "execution_count": 111,
   "metadata": {},
   "outputs": [
    {
     "data": {
      "text/plain": [
       "<_sre.SRE_Match object; span=(1, 3), match='at'>"
      ]
     },
     "execution_count": 111,
     "metadata": {},
     "output_type": "execute_result"
    }
   ],
   "source": [
    "re.search(\"at\", \"cat\")"
   ]
  },
  {
   "cell_type": "code",
   "execution_count": 112,
   "metadata": {},
   "outputs": [],
   "source": [
    "re.search(\"at\", \"cot\")   "
   ]
  },
  {
   "cell_type": "markdown",
   "metadata": {},
   "source": [
    "#### 대괄호(`[]`) 패턴 규칙"
   ]
  },
  {
   "cell_type": "markdown",
   "metadata": {},
   "source": [
    "지금 까지는 특정 문자열의 포함여부만을 살펴보았다.\n",
    "하지만 특정 문자열 뿐만 아니라 특정 형태를 띄는 문자열을 탐색할 수도 있다.\n",
    "\n",
    "예를 들어, 0부터 9까지의 숫자 중 하나로 시작하는지 여부를 물을 수 있다.\n",
    "이를 위해 사용할 패턴은 `[0-9]` 이다.\n",
    "\n",
    "* 패턴 규칙: 대괄호(`[]`)는 안에 포함된 문자들 중의 아무 문자 하나를 의미한다.\n",
    "* `0-9`: 0부터 9까지의 정수를 가리킨다.\n",
    "* `a-f`: 알파벳 a부터 f까지, 즉, a, b, c, d, e, f를 가리킨다."
   ]
  },
  {
   "cell_type": "code",
   "execution_count": 113,
   "metadata": {},
   "outputs": [],
   "source": [
    "re.match(\"[0-9]\", \"cot\")   "
   ]
  },
  {
   "cell_type": "code",
   "execution_count": 114,
   "metadata": {},
   "outputs": [
    {
     "data": {
      "text/plain": [
       "<_sre.SRE_Match object; span=(0, 1), match='3'>"
      ]
     },
     "execution_count": 114,
     "metadata": {},
     "output_type": "execute_result"
    }
   ],
   "source": [
    "re.match(\"[0-9]\", \"3cot\")   "
   ]
  },
  {
   "cell_type": "code",
   "execution_count": 115,
   "metadata": {},
   "outputs": [],
   "source": [
    "re.match(\"[a-f]\", \"pat\")   "
   ]
  },
  {
   "cell_type": "code",
   "execution_count": 116,
   "metadata": {},
   "outputs": [
    {
     "data": {
      "text/plain": [
       "<_sre.SRE_Match object; span=(1, 2), match='a'>"
      ]
     },
     "execution_count": 116,
     "metadata": {},
     "output_type": "execute_result"
    }
   ],
   "source": [
    "re.search(\"[a-f]\", \"pat\")   "
   ]
  },
  {
   "cell_type": "markdown",
   "metadata": {},
   "source": [
    "#### `split` 함수\n",
    "\n",
    "* 사용법\n",
    "    ```python\n",
    "    re.split(패턴, 문자열)\n",
    "    ```\n",
    "    \n",
    "* 의미: 지정된 패턴으로 문자열을 쪼갠다.\n",
    "* 반환값: 쪼개딘 문자열들의 리스트\n",
    "\n",
    "예를 들어, `a` 또는 `b`로 문자열을 쪼개고자 할 때 다음처럼 실행한다."
   ]
  },
  {
   "cell_type": "code",
   "execution_count": 117,
   "metadata": {},
   "outputs": [
    {
     "data": {
      "text/plain": [
       "['c', 'ri', '', 'e', 'n']"
      ]
     },
     "execution_count": 117,
     "metadata": {},
     "output_type": "execute_result"
    }
   ],
   "source": [
    "re.split(\"[ab]\", \"caribbean\")"
   ]
  },
  {
   "cell_type": "markdown",
   "metadata": {},
   "source": [
    "즉, `\"caribbean\"`이 `\"c\"-a-\"ri\"-b-\"\"-b-\"e\"-a-\"n\"`로 쪼개졌다."
   ]
  },
  {
   "cell_type": "markdown",
   "metadata": {},
   "source": [
    "#### `sub` 함수\n",
    "\n",
    "* 사용법\n",
    "    ```python\n",
    "    re.sub(패턴, 대입문자열, 문자열)\n",
    "    ```\n",
    "    \n",
    "* 의미: 지정된 패턴으로 탐색된 문자열 대신에 지정된 대입문자열을 삽입한다.\n",
    "* 반환값: 수정된 문자열\n",
    "\n",
    "예를 들어, 0부터 9까지의 숫자 대신에 대시(`-`)를 사용하고 싶으면 아래와 같이 실행한다."
   ]
  },
  {
   "cell_type": "code",
   "execution_count": 118,
   "metadata": {},
   "outputs": [
    {
     "data": {
      "text/plain": [
       "'R-D-'"
      ]
     },
     "execution_count": 118,
     "metadata": {},
     "output_type": "execute_result"
    }
   ],
   "source": [
    "re.sub(\"[0-9]\", \"-\", \"R2D2\") "
   ]
  },
  {
   "cell_type": "markdown",
   "metadata": {},
   "source": [
    "#### 참고자료\n",
    "\n",
    "정규표현식에 대한 정보와 활용법은 매우 중요하며 아래 사이트를 이용하여 공부할 것을 추천한다.\n",
    "\n",
    "참조: [생활코딩 정규표현식이란?](https://opentutorials.org/course/909/5142)"
   ]
  },
  {
   "cell_type": "markdown",
   "metadata": {},
   "source": [
    "### 짝짓지(`zip`) 함수와 인자 풀어헤치기(argument unpacking)"
   ]
  },
  {
   "cell_type": "markdown",
   "metadata": {},
   "source": [
    "리스트, 튜플 등 이터러블(iterable) 자료형 두 개 이상을 짝짓기를 통해 하나로 묶어야 할 때가 있다.\n",
    "예를 들어, 두 개의 리스트의 항목을 순서대로 쌍으로 묶어 새로운 리스트를 생성할 수 있다."
   ]
  },
  {
   "cell_type": "code",
   "execution_count": 119,
   "metadata": {},
   "outputs": [],
   "source": [
    "list_abc = ['a', 'b', 'c']\n",
    "list_abc_indices = [0, 1, 2]\n",
    "\n",
    "list_pairs = zip(list_abc, list_abc_indices)"
   ]
  },
  {
   "cell_type": "code",
   "execution_count": 120,
   "metadata": {},
   "outputs": [],
   "source": [
    "tuple_a = ('a', 0)\n",
    "tuple_b = ('b', 1)\n",
    "tuple_c = ('c', 2)\n",
    "\n",
    "tuple_pairs = zip(tuple_a, tuple_b, tuple_c)"
   ]
  },
  {
   "cell_type": "markdown",
   "metadata": {},
   "source": [
    "`zip`은 소극적인 함수이다. 즉, 필요한 만큼만 계산하고 결과를 생성한다."
   ]
  },
  {
   "cell_type": "code",
   "execution_count": 121,
   "metadata": {},
   "outputs": [
    {
     "name": "stdout",
     "output_type": "stream",
     "text": [
      "<zip object at 0x7f2e60291448>\n"
     ]
    }
   ],
   "source": [
    "print(list_pairs)"
   ]
  },
  {
   "cell_type": "code",
   "execution_count": 122,
   "metadata": {},
   "outputs": [
    {
     "name": "stdout",
     "output_type": "stream",
     "text": [
      "<zip object at 0x7f2e60291048>\n"
     ]
    }
   ],
   "source": [
    "print(tuple_pairs)"
   ]
  },
  {
   "cell_type": "markdown",
   "metadata": {},
   "source": [
    "따라서 결과물을 확인하려면 아래와 같이 리스트 조건제시법 등을 활용해야 한다."
   ]
  },
  {
   "cell_type": "code",
   "execution_count": 123,
   "metadata": {},
   "outputs": [
    {
     "data": {
      "text/plain": [
       "[('a', 0), ('b', 1), ('c', 2)]"
      ]
     },
     "execution_count": 123,
     "metadata": {},
     "output_type": "execute_result"
    }
   ],
   "source": [
    "[pair for pair in list_pairs]"
   ]
  },
  {
   "cell_type": "code",
   "execution_count": 124,
   "metadata": {},
   "outputs": [
    {
     "data": {
      "text/plain": [
       "[('a', 'b', 'c'), (0, 1, 2)]"
      ]
     },
     "execution_count": 124,
     "metadata": {},
     "output_type": "execute_result"
    }
   ],
   "source": [
    "[pair for pair in tuple_pairs]"
   ]
  },
  {
   "cell_type": "markdown",
   "metadata": {},
   "source": [
    "서로 길이가 다른 리스트를 대상으로 `zip` 함수를 사용하면 가장 짧은 리스트의 길이만큼만 짝짓기를 실행한다."
   ]
  },
  {
   "cell_type": "code",
   "execution_count": 125,
   "metadata": {},
   "outputs": [
    {
     "ename": "NameError",
     "evalue": "name 'abc_indices' is not defined",
     "output_type": "error",
     "traceback": [
      "\u001b[0;31m---------------------------------------------------------------------------\u001b[0m",
      "\u001b[0;31mNameError\u001b[0m                                 Traceback (most recent call last)",
      "\u001b[0;32m<ipython-input-125-d4dddc58b20f>\u001b[0m in \u001b[0;36m<module>\u001b[0;34m\u001b[0m\n\u001b[1;32m      2\u001b[0m \u001b[0mlist_count\u001b[0m \u001b[0;34m=\u001b[0m \u001b[0;34m[\u001b[0m\u001b[0;34m'first'\u001b[0m\u001b[0;34m,\u001b[0m \u001b[0;34m'second'\u001b[0m\u001b[0;34m]\u001b[0m\u001b[0;34m\u001b[0m\u001b[0;34m\u001b[0m\u001b[0m\n\u001b[1;32m      3\u001b[0m \u001b[0;34m\u001b[0m\u001b[0m\n\u001b[0;32m----> 4\u001b[0;31m \u001b[0mlist_pairs_d\u001b[0m \u001b[0;34m=\u001b[0m \u001b[0mzip\u001b[0m\u001b[0;34m(\u001b[0m\u001b[0mlist_abcd\u001b[0m\u001b[0;34m,\u001b[0m \u001b[0mabc_indices\u001b[0m\u001b[0;34m,\u001b[0m \u001b[0mlist_count\u001b[0m\u001b[0;34m)\u001b[0m\u001b[0;34m\u001b[0m\u001b[0;34m\u001b[0m\u001b[0m\n\u001b[0m\u001b[1;32m      5\u001b[0m \u001b[0;34m\u001b[0m\u001b[0m\n\u001b[1;32m      6\u001b[0m \u001b[0;34m[\u001b[0m\u001b[0mpair\u001b[0m \u001b[0;32mfor\u001b[0m \u001b[0mpair\u001b[0m \u001b[0;32min\u001b[0m \u001b[0mlist_pairs_d\u001b[0m\u001b[0;34m]\u001b[0m\u001b[0;34m\u001b[0m\u001b[0;34m\u001b[0m\u001b[0m\n",
      "\u001b[0;31mNameError\u001b[0m: name 'abc_indices' is not defined"
     ]
    }
   ],
   "source": [
    "list_abcd = ['a', 'b', 'c', 'd']\n",
    "list_count = ['first', 'second']\n",
    "\n",
    "list_pairs_d = zip(list_abcd, abc_indices, list_count)\n",
    "\n",
    "[pair for pair in list_pairs_d]"
   ]
  },
  {
   "cell_type": "markdown",
   "metadata": {},
   "source": [
    "#### 인자 풀어헤치기(argument unpacking)\n",
    "\n",
    "숫자 세 개의 평균을 계산해주는 함수를 아래와 같이 정의하자."
   ]
  },
  {
   "cell_type": "code",
   "execution_count": 126,
   "metadata": {},
   "outputs": [],
   "source": [
    "def mean3(a, b, c): return (a+b+c)/3"
   ]
  },
  {
   "cell_type": "markdown",
   "metadata": {},
   "source": [
    "이제 `mean3` 함수를 호출하려면 반드시 인자 두 개를 입력해야 한다."
   ]
  },
  {
   "cell_type": "code",
   "execution_count": 127,
   "metadata": {},
   "outputs": [
    {
     "data": {
      "text/plain": [
       "2.0"
      ]
     },
     "execution_count": 127,
     "metadata": {},
     "output_type": "execute_result"
    }
   ],
   "source": [
    "mean3(1, 2, 3)"
   ]
  },
  {
   "cell_type": "markdown",
   "metadata": {},
   "source": [
    "그런데 길이가 3인 리스트나 튜플을 인자로 사용할 수 있다.\n",
    "대신 인자를 풀어헤쳐야 하며 이를 위해 별표(`*`)를 사용한다."
   ]
  },
  {
   "cell_type": "code",
   "execution_count": 128,
   "metadata": {},
   "outputs": [
    {
     "data": {
      "text/plain": [
       "2.0"
      ]
     },
     "execution_count": 128,
     "metadata": {},
     "output_type": "execute_result"
    }
   ],
   "source": [
    "mean3(*[1, 2,3])"
   ]
  },
  {
   "cell_type": "code",
   "execution_count": 129,
   "metadata": {},
   "outputs": [
    {
     "data": {
      "text/plain": [
       "2.0"
      ]
     },
     "execution_count": 129,
     "metadata": {},
     "output_type": "execute_result"
    }
   ],
   "source": [
    "mean3(*(1, 2, 3))"
   ]
  },
  {
   "cell_type": "markdown",
   "metadata": {},
   "source": [
    "**주의:** 별표를 사용하지 않으면 오류가 발생한다."
   ]
  },
  {
   "cell_type": "code",
   "execution_count": 130,
   "metadata": {},
   "outputs": [
    {
     "ename": "TypeError",
     "evalue": "mean3() missing 2 required positional arguments: 'b' and 'c'",
     "output_type": "error",
     "traceback": [
      "\u001b[0;31m---------------------------------------------------------------------------\u001b[0m",
      "\u001b[0;31mTypeError\u001b[0m                                 Traceback (most recent call last)",
      "\u001b[0;32m<ipython-input-130-717d17375452>\u001b[0m in \u001b[0;36m<module>\u001b[0;34m\u001b[0m\n\u001b[0;32m----> 1\u001b[0;31m \u001b[0mmean3\u001b[0m\u001b[0;34m(\u001b[0m\u001b[0;34m[\u001b[0m\u001b[0;36m1\u001b[0m\u001b[0;34m,\u001b[0m \u001b[0;36m2\u001b[0m\u001b[0;34m,\u001b[0m \u001b[0;36m3\u001b[0m\u001b[0;34m]\u001b[0m\u001b[0;34m)\u001b[0m\u001b[0;34m\u001b[0m\u001b[0;34m\u001b[0m\u001b[0m\n\u001b[0m",
      "\u001b[0;31mTypeError\u001b[0m: mean3() missing 2 required positional arguments: 'b' and 'c'"
     ]
    }
   ],
   "source": [
    "mean3([1, 2, 3])"
   ]
  },
  {
   "cell_type": "code",
   "execution_count": 131,
   "metadata": {},
   "outputs": [
    {
     "ename": "TypeError",
     "evalue": "mean3() missing 2 required positional arguments: 'b' and 'c'",
     "output_type": "error",
     "traceback": [
      "\u001b[0;31m---------------------------------------------------------------------------\u001b[0m",
      "\u001b[0;31mTypeError\u001b[0m                                 Traceback (most recent call last)",
      "\u001b[0;32m<ipython-input-131-aea8908655ed>\u001b[0m in \u001b[0;36m<module>\u001b[0;34m\u001b[0m\n\u001b[0;32m----> 1\u001b[0;31m \u001b[0mmean3\u001b[0m\u001b[0;34m(\u001b[0m\u001b[0;34m(\u001b[0m\u001b[0;36m1\u001b[0m\u001b[0;34m,\u001b[0m \u001b[0;36m2\u001b[0m\u001b[0;34m,\u001b[0m \u001b[0;36m3\u001b[0m\u001b[0;34m)\u001b[0m\u001b[0;34m)\u001b[0m\u001b[0;34m\u001b[0m\u001b[0;34m\u001b[0m\u001b[0m\n\u001b[0m",
      "\u001b[0;31mTypeError\u001b[0m: mean3() missing 2 required positional arguments: 'b' and 'c'"
     ]
    }
   ],
   "source": [
    "mean3((1, 2, 3))"
   ]
  },
  {
   "cell_type": "markdown",
   "metadata": {},
   "source": [
    "#### 짝짓기 해제(unzip, 언짚)\n",
    "\n",
    "인자 풀어헤치기 기술을 응용하여 \n",
    "짝짓기가 된 쌍들의 리스트를 해제하여 두 개의 리스트로 되돌릴 수 있다.\n",
    "다만 방식이 꽤나 생소하게 보일 수 있다.\n",
    "\n",
    "앞서 `zip`으로 생성한 `list_pairs`를 풀어헤쳐서 기존 두 개의 리스트를 복구해보자."
   ]
  },
  {
   "cell_type": "code",
   "execution_count": 132,
   "metadata": {},
   "outputs": [
    {
     "name": "stdout",
     "output_type": "stream",
     "text": [
      "('a', 0)\n",
      "('b', 1)\n",
      "('c', 2)\n"
     ]
    }
   ],
   "source": [
    "list_abc = ['a', 'b', 'c']\n",
    "list_abc_indices = [0, 1, 2]\n",
    "\n",
    "list_pairs = zip(list_abc, list_abc_indices)\n",
    "\n",
    "for i in list_pairs:\n",
    "    print(i)"
   ]
  },
  {
   "cell_type": "markdown",
   "metadata": {},
   "source": [
    "`list_pairs`를 아래 형태의 리스트를 소극적(lazy)으로 담고 있다."
   ]
  },
  {
   "cell_type": "code",
   "execution_count": 133,
   "metadata": {},
   "outputs": [],
   "source": [
    "pairs = [('a', 0), ('b', 1), ('c', 2)]"
   ]
  },
  {
   "cell_type": "markdown",
   "metadata": {},
   "source": [
    "이제 `pairs`를 풀어헤치면서 `zip` 함수의 인자로 입력하면\n",
    "아래 세 개의 인자를 `zip` 함수의 인자로 입력하는 것과 동일하다.\n",
    "\n",
    "```python\n",
    "('a', 0), ('b', 1), ('c', 2)\n",
    "```\n",
    "\n",
    "따라서 `zip(*pairs)`는 아래 모양의 리스트를 품은 값이 된다.\n",
    "\n",
    "```python\n",
    "[('a', 'b', 'c'), (0, 1, 2)]\n",
    "```\n",
    "\n",
    "아래 코드를 실행하면 동일한 결과를 확인할 수 있다."
   ]
  },
  {
   "cell_type": "code",
   "execution_count": 134,
   "metadata": {},
   "outputs": [
    {
     "name": "stdout",
     "output_type": "stream",
     "text": [
      "letters = ('a', 'b', 'c')\n",
      "numbers = (0, 1, 2)\n"
     ]
    }
   ],
   "source": [
    "letters, numbers = zip(*pairs)\n",
    "print(f\"letters = {letters}\", f\"numbers = {numbers}\", sep='\\n')"
   ]
  },
  {
   "cell_type": "markdown",
   "metadata": {},
   "source": [
    "### 이름 없는 인자들(`args`)과 이름 있는 인자들(`kwargs`)"
   ]
  },
  {
   "cell_type": "markdown",
   "metadata": {},
   "source": [
    "함수를 선언할 때 아래 형태처럼 인자의 개수를 지정하는 것이 일반적이다. \n",
    "\n",
    "```python\n",
    "def 함수이름(매개변수1, ..., 매개변수n):\n",
    "    함수본체\n",
    "```\n",
    "\n",
    "하지만 원하는 대로 많은 인자를 받을 수 있도록 해야 하는 경우가 발생한다.\n",
    "이를 위해 파이썬은 관습적으로 `args`와 `kwargs`라 불리며 특별한 역할을 수행하는 매개변수를 사용한다.\n",
    "\n",
    "꽤 유용한 기법이지만 여기서는 고계함수를 선언하면서 반드시 필요한 경우에 한정해서 사용할 것이다."
   ]
  },
  {
   "cell_type": "markdown",
   "metadata": {},
   "source": [
    "#### 고계함수(higer-order function)"
   ]
  },
  {
   "cell_type": "markdown",
   "metadata": {},
   "source": [
    "파이썬에서 함수는 일급객체, 즉, 다른 함수의 인자로 사용될 수 있다.\n",
    "이렇게 함수를 인자로 입력받을 수 있는 함수를 고계함수(higher-order function)라 부른다.\n",
    "\n",
    "예를 들어, 함수 `f`를 입력 받으면 `f`의 반환값의 두 배를 반환하는 새로운 함수를 반환하는 \n",
    "`doubler` 함수를 정의해 보자."
   ]
  },
  {
   "cell_type": "code",
   "execution_count": 135,
   "metadata": {},
   "outputs": [],
   "source": [
    "def doubler(f):\n",
    "    # 함수 f가 입력되었다고 가정하자.\n",
    "    # 이제 임의의 x 에 대해 2*f(x)를 반환하는 함수 g를 선언하자.\n",
    "\n",
    "    def g(x):\n",
    "        return 2 * f(x)\n",
    "\n",
    "    # 이제 함수 g를 doubler(f)의 반환값으로 지정한다.\n",
    "    return g"
   ]
  },
  {
   "cell_type": "markdown",
   "metadata": {},
   "source": [
    "`doubler` 함수의 인자로 다음 함수 `f1`을 사용해보자."
   ]
  },
  {
   "cell_type": "code",
   "execution_count": 136,
   "metadata": {},
   "outputs": [],
   "source": [
    "def f1(x):\n",
    "    return x + 1\n",
    "\n",
    "g = doubler(f1)"
   ]
  },
  {
   "cell_type": "markdown",
   "metadata": {},
   "source": [
    "`g(x)`가 `f(x)`의 두 배임을 확인할 수 있다."
   ]
  },
  {
   "cell_type": "code",
   "execution_count": 137,
   "metadata": {},
   "outputs": [
    {
     "data": {
      "text/plain": [
       "True"
      ]
     },
     "execution_count": 137,
     "metadata": {},
     "output_type": "execute_result"
    }
   ],
   "source": [
    "g(3) == 2 * f1(3)"
   ]
  },
  {
   "cell_type": "code",
   "execution_count": 138,
   "metadata": {},
   "outputs": [
    {
     "data": {
      "text/plain": [
       "True"
      ]
     },
     "execution_count": 138,
     "metadata": {},
     "output_type": "execute_result"
    }
   ],
   "source": [
    "g(-1) == 2 * f1(-1)"
   ]
  },
  {
   "cell_type": "markdown",
   "metadata": {},
   "source": [
    "하지만 두 개의 인자를 받는 다음 함수 `f2`에 대해서는 `doubler`를 실행시킬 수 없다."
   ]
  },
  {
   "cell_type": "code",
   "execution_count": 139,
   "metadata": {},
   "outputs": [],
   "source": [
    "def f2(x, y):\n",
    "    return x + y\n",
    "\n",
    "g = doubler(f2)"
   ]
  },
  {
   "cell_type": "code",
   "execution_count": 140,
   "metadata": {},
   "outputs": [
    {
     "name": "stdout",
     "output_type": "stream",
     "text": [
      "함수 g는 하나의 인자만을 허용한다.\n"
     ]
    }
   ],
   "source": [
    "try:\n",
    "    g(1, 2)\n",
    "except TypeError:\n",
    "    print(\"함수 g는 하나의 인자만을 허용한다.\")"
   ]
  },
  {
   "cell_type": "markdown",
   "metadata": {},
   "source": [
    "#### 임의로 많은 인자를 입력 받는 함수\n",
    "\n",
    "임의로 많은 인자를 받는 함수를 선언하는 일반적인 형식은 \n",
    "아래 `magic` 함수의 경우와 비슷하다."
   ]
  },
  {
   "cell_type": "code",
   "execution_count": 141,
   "metadata": {},
   "outputs": [],
   "source": [
    "def magic(*args, **kwargs):\n",
    "    print(\"이름 없는 인자들:\", args)\n",
    "    print(\"이름 있는 인자들:\", kwargs)"
   ]
  },
  {
   "cell_type": "markdown",
   "metadata": {},
   "source": [
    "**주의:**\n",
    "\n",
    "* 이름 없는 인자들을 위한 매개변수 `args`에는 한 개의 별표(`*`)를 붙힌다\n",
    "    * `*agrs` 는 앞서 설명한 리스트 또는 튜플 인자 풀어헤치기(unpacking) 기법과 동일하다.\n",
    "    * args는 arguments(아규먼츠, 인자)를 가리킴.\n",
    "\n",
    "* 이름 있는 인자들을 위한 매개변수 `kwargs`에는 두 개의 별표(`**`)를 붙힌다.\n",
    "    * `**kwagrs` 는 사전 자료형 인자 풀어헤치기(unpacking)를 의미한다.\n",
    "    * kwargs는 keyword arguments(키워드 아규먼츠, 키워드 인자)를 가리킴."
   ]
  },
  {
   "cell_type": "code",
   "execution_count": 142,
   "metadata": {},
   "outputs": [
    {
     "name": "stdout",
     "output_type": "stream",
     "text": [
      "이름 없는 인자들: (1, 2)\n",
      "이름 있는 인자들: {'key1': '단어', 'key2': '단어2', 'key3': '단어3'}\n"
     ]
    }
   ],
   "source": [
    "magic(1, 2, key1=\"단어\", key2=\"단어2\", key3=\"단어3\")"
   ]
  },
  {
   "cell_type": "markdown",
   "metadata": {},
   "source": [
    "**주의:**\n",
    "\n",
    "* 이름 없는 인자들은 튜플로 인식된다.\n",
    "    \n",
    "* 이름 있는 인자들은 사전으로 인식된다."
   ]
  },
  {
   "cell_type": "markdown",
   "metadata": {},
   "source": [
    "#### 인자 풀어헤치기 활용\n",
    "\n",
    "리스트, 튜플, 사전 자료형을 풀어헤치기 기법으로 함수의 인자로 동시에 입력할 수도 있다.\n",
    "\n",
    "예를 들어, 아래 함수는 인자 세 개를 요구한다."
   ]
  },
  {
   "cell_type": "code",
   "execution_count": 143,
   "metadata": {},
   "outputs": [],
   "source": [
    "def other_way_magic(x, y, z):\n",
    "    return x + y + z"
   ]
  },
  {
   "cell_type": "markdown",
   "metadata": {},
   "source": [
    "이제 길이가 2인 리스트 한 개와 한 개의 항목을 가진 사전 자료형을 \n",
    "풀어헤치기 기법을 이용하여 인자로 사용해보자."
   ]
  },
  {
   "cell_type": "code",
   "execution_count": 144,
   "metadata": {},
   "outputs": [],
   "source": [
    "x_y_list = [1, 2]\n",
    "z_dict = {\"z\": 3}"
   ]
  },
  {
   "cell_type": "code",
   "execution_count": 145,
   "metadata": {},
   "outputs": [
    {
     "data": {
      "text/plain": [
       "True"
      ]
     },
     "execution_count": 145,
     "metadata": {},
     "output_type": "execute_result"
    }
   ],
   "source": [
    "other_way_magic(*x_y_list, **z_dict) == other_way_magic(1, 2, 3)"
   ]
  },
  {
   "cell_type": "markdown",
   "metadata": {},
   "source": [
    "#### 임의로 많은 인자를 받는 함수와 고계함수\n",
    "\n",
    "앞서 살펴 본 `doubler` 함수를 일반화 하여 \n",
    "임의로 많은 인자를 받은 함수를 인자로 사용할 수 있도록 \n",
    "`args`와 `kwargs` 기법을 이용할 수 있다."
   ]
  },
  {
   "cell_type": "code",
   "execution_count": 146,
   "metadata": {},
   "outputs": [],
   "source": [
    "def doubler_correct(f):\n",
    "    \"\"\"f는 임의의 함수를 받아들인다.\"\"\"\n",
    "    \n",
    "    # 함수 f가 인자로 들어오면 동일한 인자를 사용하는 함수 g를 선언한다.\n",
    "    # 함수 g는 인자를 받으면 그대로 모두 함수 f에 전달한다.\n",
    "    # 그리고 함수 f의 반환값을 두 배하여 반환한다.\n",
    "\n",
    "    def g(*args, **kwargs):\n",
    "        return 2 * f(*args, **kwargs)\n",
    "    return g"
   ]
  },
  {
   "cell_type": "markdown",
   "metadata": {},
   "source": [
    "이제 `f2`에 대해서도 2배 함수가 작동한다."
   ]
  },
  {
   "cell_type": "code",
   "execution_count": 147,
   "metadata": {},
   "outputs": [
    {
     "data": {
      "text/plain": [
       "True"
      ]
     },
     "execution_count": 147,
     "metadata": {},
     "output_type": "execute_result"
    }
   ],
   "source": [
    "g = doubler_correct(f2)\n",
    "\n",
    "g(1, 2) == 2 * f2(1,2)"
   ]
  },
  {
   "cell_type": "markdown",
   "metadata": {},
   "source": [
    "### 자료형 명시하기"
   ]
  },
  {
   "cell_type": "markdown",
   "metadata": {},
   "source": [
    "#### 파이썬과 동적 타이핑"
   ]
  },
  {
   "cell_type": "markdown",
   "metadata": {},
   "source": [
    "파이썬은 **동적 타이핑**(dynamic typing)을 지원하는 언어이다.\n",
    "즉, 함수나 변수를 선언할 때 변수들의 자료형을 명시적으로 제한하지 않는다.\n",
    "동적 타이핑 언어의 경우 프로그램 실행 과정에서 문제가 발생하지 않도록 프로그램을 작성해야 한다.\n",
    "\n",
    "예를 들어 아래 `add` 함수를 보자."
   ]
  },
  {
   "cell_type": "code",
   "execution_count": 148,
   "metadata": {},
   "outputs": [],
   "source": [
    "def add(a, b):\n",
    "    return a + b"
   ]
  },
  {
   "cell_type": "markdown",
   "metadata": {},
   "source": [
    "`add` 함수의 인자로 정수, 실수, 리스트, 문자열이 사용될 수 있다."
   ]
  },
  {
   "cell_type": "code",
   "execution_count": 149,
   "metadata": {},
   "outputs": [],
   "source": [
    "assert add(10, 5) == 15,                  \"정수들에 대해 + 사용 가능\"\n",
    "assert add([1, 2], [3]) == [1, 2, 3],     \"리스트들에 대해 + 사용 가능\"\n",
    "assert add(\"저 \", \"잠깐만요!\") == \"저 잠깐만요!\", \"문자열들에 대해 + 사용 가능\""
   ]
  },
  {
   "cell_type": "markdown",
   "metadata": {},
   "source": [
    "하지만 두 인자가 동일한 자료형을 가져야 한다.\n",
    "예를 들어, 숫자와 문자열의 덧셈은 작동하지 않는다.\n",
    "이유는 숫자와 문자열의 덧셈이 정의되어 있지 않기 때문이다."
   ]
  },
  {
   "cell_type": "code",
   "execution_count": 150,
   "metadata": {},
   "outputs": [
    {
     "name": "stdout",
     "output_type": "stream",
     "text": [
      "정수와 문자열은 서로 더할 수 없어요!\n"
     ]
    }
   ],
   "source": [
    "try:\n",
    "    add(10, \"five\")\n",
    "except TypeError:\n",
    "    print(\"정수와 문자열은 서로 더할 수 없어요!\")"
   ]
  },
  {
   "cell_type": "markdown",
   "metadata": {},
   "source": [
    "#### 파이썬과 정적 타이핑\n",
    "\n",
    "C, Java 등 많은 프로그래밍 언어는 동적 타이핑 대신에 **정적 타이핑**(static typing)을 지원한다.\n",
    "즉, 함수나 변수를 선언할 때 사용되는 변수들의 자료형과 인자 및 반환값의 자료형을 \n",
    "애초부터 명시해야 하며 지정된 자료형이 사용되지 않을 경우 오류를 발생시킨다.\n",
    "\n",
    "파이썬은 3.6 버전부터 정적 타이핑을 지원한다. \n",
    "다만 C, Java의 자료형과 관련된 엄격함은 전혀 존재하지 않으며, \n",
    "그냥 정적 타이핑의 형식만 빌려왔다.\n",
    "\n",
    "즉, **자료형 명시**(type annotations)를 지원할 뿐이며, \n",
    "실제로는 동적 타이핑 형식으로 문법과 실행 과정을 확인하고 제어한다.\n",
    "\n",
    "예를 들어, `add` 함수를 아래와 같이 선언할 수 있다."
   ]
  },
  {
   "cell_type": "code",
   "execution_count": 151,
   "metadata": {},
   "outputs": [],
   "source": [
    "def add(a: int, b: int) -> int:\n",
    "    return a + b"
   ]
  },
  {
   "cell_type": "markdown",
   "metadata": {},
   "source": [
    "하지만 여전히 문자열이나 리스트를 인자로 사용할 수 있다."
   ]
  },
  {
   "cell_type": "code",
   "execution_count": 152,
   "metadata": {},
   "outputs": [
    {
     "name": "stdout",
     "output_type": "stream",
     "text": [
      "15\n",
      "[1, 2, 3]\n",
      "저 잠깐만요!\n"
     ]
    }
   ],
   "source": [
    "print(add(10, 5))\n",
    "print(add([1, 2], [3]))\n",
    "print(add(\"저 \", \"잠깐만요!\"))"
   ]
  },
  {
   "cell_type": "markdown",
   "metadata": {},
   "source": [
    "#### 자료형 명시하기의 장점\n",
    "\n",
    "비록 형식적더라도 자료형 명시하기가 주는 장점이 크게 네 가지 있으며,\n",
    "이런 이유때문에 파이썬 최신 버젼에서 자료형 명시를 지원한다."
   ]
  },
  {
   "cell_type": "markdown",
   "metadata": {},
   "source": [
    "첫째, 문서화 및 프로그래밍 교육에 유용하다.\n",
    "\n",
    "예를 위해, 먼저 벡터 자료형을 실수들의 리스트들의 집합으로 정의하자.\n",
    "\n",
    "* 기본 자료형의 정의는 타이핑(`typing`) 모듈에 포함되어 있다.\n",
    "* 벡터(Vector) 자료형은 실수들의 리스트, 즉, `List[float]`로 정의된다."
   ]
  },
  {
   "cell_type": "code",
   "execution_count": 153,
   "metadata": {},
   "outputs": [],
   "source": [
    "from typing import List\n",
    "Vector = List[float]"
   ]
  },
  {
   "cell_type": "markdown",
   "metadata": {},
   "source": [
    "이제 아래 두 개의 정의를 비교하면 둘째 정의가 보다 많은 정보를 우리에게 제공함을 알 수 있다.\n",
    "\n",
    "정의 1: 전통적 방식"
   ]
  },
  {
   "cell_type": "code",
   "execution_count": 154,
   "metadata": {},
   "outputs": [],
   "source": [
    "def dot_product(x, y): ..."
   ]
  },
  {
   "cell_type": "markdown",
   "metadata": {},
   "source": [
    "정의 2: 자료형 명시"
   ]
  },
  {
   "cell_type": "code",
   "execution_count": 155,
   "metadata": {},
   "outputs": [],
   "source": [
    "def dot_product(x: Vector, y: Vector) -> float: ..."
   ]
  },
  {
   "cell_type": "markdown",
   "metadata": {},
   "source": [
    "둘째, `mypy` 와 같은 제3자가 개발한 툴을 이용하여 파이썬 코드를 실행하기 전에\n",
    "작성된 코드에 사용된 함수와 변수들이 적절한 자료형을 사용했는지 여부를\n",
    "검사해주는 툴을 활용할 수 있다.\n",
    "\n",
    "하지만 여기서는 사용하지 않을 것이며, 대신에 관심이 있다면 \n",
    "[mypy 공식 문서](https://mypy.readthedocs.io/en/stable/)를 참조하기를 추천한다."
   ]
  },
  {
   "cell_type": "markdown",
   "metadata": {},
   "source": [
    "셋째, 자료형을 명시적으로 보여줌으로써 보다 정제된 함수와 인터페이스를 디자인할 수 있다.\n",
    "\n",
    "예를 들어, 아래 `secretly_ugly_function`인 경우 `value`와 `operation` 매개변수에\n",
    "사용할 인자들의 자료형을 함수의 본체를 들여다보기 전까지는 전혀 알 수 없다."
   ]
  },
  {
   "cell_type": "code",
   "execution_count": 156,
   "metadata": {},
   "outputs": [],
   "source": [
    "def secretly_ugly_function(value, operation): ..."
   ]
  },
  {
   "cell_type": "markdown",
   "metadata": {},
   "source": [
    "아래 `ugly_function`은 보다 이상하다."
   ]
  },
  {
   "cell_type": "code",
   "execution_count": 157,
   "metadata": {},
   "outputs": [],
   "source": [
    "from typing import Union\n",
    "\n",
    "def ugly_function(value: int, operation: Union[str, int, float, bool]) -> int:\n",
    "    ..."
   ]
  },
  {
   "cell_type": "markdown",
   "metadata": {},
   "source": [
    "왜냐면 둘째 매개변수 `operation`에 할당될 수 있는 함수는 인자로 \n",
    "`str`, `int`, `float`, `bool` 중의 하나의 자료형을 받아들일 수 있기 때문인데,\n",
    "그렇게 되면 아주 쉽게 문제를 유발할 수 있다.\n",
    "\n",
    "**주의:** `Union`은 합집합을 나타내는 기호이다.\n",
    "\n",
    "따라서 이런 방식 보다는 명시적으로 자료형을 표기하는 것이 훨씬 \n",
    "사용자들이 프로그램을 보다 쉽게 이해할 수 있도록 도와준다."
   ]
  },
  {
   "cell_type": "markdown",
   "metadata": {},
   "source": [
    "넷째, 소스코드 에디터의 자동완성 기능을 보다 적절하게 지원하게 만들어 주며,\n",
    "따라서 보다 빠르게 오류 없는 프로그램을 작성할 수 있도록 도와준다. \n",
    "\n",
    "예를 들어, VSCode 에디터에서 아래 코드를 작성하다 보면 \n",
    "매개변수 `xs`가 정수들의 리스트를 입력받을 것으로 기대하며,\n",
    "리스트의 메소드의 목록을 보여주며 코드 작성을 도와주려 시도한다."
   ]
  },
  {
   "cell_type": "markdown",
   "metadata": {},
   "source": [
    "<img src=\"../images/type_annotation.png\" width=\"50%\">"
   ]
  },
  {
   "cell_type": "markdown",
   "metadata": {},
   "source": [
    "#### 자료형 명시 방법\n",
    "\n",
    "* 내장 자료형(built-in types): `int`, `bool`, `float`, `str` 등은 그대로 사용\n",
    "* `a:int`, `b:bool`, `c:float`, `s:str` 등등"
   ]
  },
  {
   "cell_type": "markdown",
   "metadata": {},
   "source": [
    "* 리스트: 단순히 `list` 라고 하는 것은 별 도움 않됨. "
   ]
  },
  {
   "cell_type": "code",
   "execution_count": 158,
   "metadata": {},
   "outputs": [],
   "source": [
    "def total(xs: list) -> float:\n",
    "    return sum(xs)"
   ]
  },
  {
   "cell_type": "markdown",
   "metadata": {},
   "source": [
    "* 대신에 어떤 자료형의 리스트인지 명시하는 게 보다 유용"
   ]
  },
  {
   "cell_type": "code",
   "execution_count": 159,
   "metadata": {},
   "outputs": [],
   "source": [
    "from typing import List  # 대문자 L 사용에 주의할 것\n",
    "\n",
    "def total(xs: List[float]) -> float:\n",
    "    return sum(xs)"
   ]
  },
  {
   "cell_type": "markdown",
   "metadata": {},
   "source": [
    "#### 변수 자료형 명시\n",
    "\n",
    "변수의 자료형도 명시할 수 있다."
   ]
  },
  {
   "cell_type": "code",
   "execution_count": 160,
   "metadata": {},
   "outputs": [],
   "source": [
    "x: int = 5"
   ]
  },
  {
   "cell_type": "markdown",
   "metadata": {},
   "source": [
    "경우에 따라 변수의 자료형이 명확하지 않아서 자료형을 명시하면 많은 도움을 받을 수 있다.\n",
    "예를 들어, 아래 두 변수는 어떤 종류의 리스트인지 명확하지 않다."
   ]
  },
  {
   "cell_type": "code",
   "execution_count": 161,
   "metadata": {},
   "outputs": [],
   "source": [
    "values = []"
   ]
  },
  {
   "cell_type": "markdown",
   "metadata": {},
   "source": [
    "대신에 아래의 경우는 아주 명확하다.\n",
    "즉, 빈 리스트이면서 정수들의 리스트 중에 하나임을 명확히 보여준다."
   ]
  },
  {
   "cell_type": "code",
   "execution_count": 162,
   "metadata": {},
   "outputs": [],
   "source": [
    "values : List[int]= []"
   ]
  },
  {
   "cell_type": "markdown",
   "metadata": {},
   "source": [
    "#### `Optional` 자료형"
   ]
  },
  {
   "cell_type": "markdown",
   "metadata": {},
   "source": [
    "아래의 경우는 애매함이 더욱 심하다."
   ]
  },
  {
   "cell_type": "code",
   "execution_count": 163,
   "metadata": {},
   "outputs": [],
   "source": [
    "best_so_far = None"
   ]
  },
  {
   "cell_type": "markdown",
   "metadata": {},
   "source": [
    "`None`은 '아무 값도 아니다'를 가리키는 '값'이다. \n",
    "하지만 변수는 어떤 값을 가리키기 위해 존재하며, 새로운 값을 언제라도 가리킬 수 있다.\n",
    "따라서 `None`이 언제라도 다른 값으로 대체될 수 있으며,\n",
    "대체될 값의 자료형을 암시해줄 필요가 있다.\n",
    "이를 위해 옵셔널(`Optional`) 자료형을 `List` 자료형과 유사한 방법으로 활용할 수 있다."
   ]
  },
  {
   "cell_type": "code",
   "execution_count": 164,
   "metadata": {},
   "outputs": [],
   "source": [
    "from typing import Optional\n",
    "\n",
    "best_so_far: Optional[float] = None"
   ]
  },
  {
   "cell_type": "markdown",
   "metadata": {},
   "source": [
    "위와 같이 하면 `best_so_far` 변수에는 실수(`float`) 자료형이 할당될 것으로 \n",
    "기대함을 바로 알 수 있다.\n",
    "즉, `float` 자료형 또는 `None` 값을 위해 `best_so_far` 변수를 사용할 것이라고\n",
    "명시하는 것이다."
   ]
  },
  {
   "cell_type": "markdown",
   "metadata": {},
   "source": [
    "#### `typing` 모듈\n",
    "\n",
    "타이핑(`typing`)은 `List`, `Optional` 이외에도 다른 많은 자료형을 포함하고 있다.\n",
    "그중에 일부만 다룰 예정이다."
   ]
  },
  {
   "cell_type": "code",
   "execution_count": 165,
   "metadata": {},
   "outputs": [],
   "source": [
    "from typing import Dict, Iterable, Tuple"
   ]
  },
  {
   "cell_type": "markdown",
   "metadata": {},
   "source": [
    "`counts` 변수는 문자열을 키(key)로, 정수를 키값으로 사용하는 사전 자료형을 담고 있다."
   ]
  },
  {
   "cell_type": "code",
   "execution_count": 166,
   "metadata": {},
   "outputs": [],
   "source": [
    "counts: Dict[str, int] = {'data': 1, 'science': 2}"
   ]
  },
  {
   "cell_type": "markdown",
   "metadata": {},
   "source": [
    "`evens` 변수는 0부터 9사이의 짝수를 소극적(lazy) 리스트로 담고 있다. "
   ]
  },
  {
   "cell_type": "code",
   "execution_count": 167,
   "metadata": {},
   "outputs": [],
   "source": [
    "evens: Iterable[int] = (x for x in range(10) if x % 2 == 0)"
   ]
  },
  {
   "cell_type": "markdown",
   "metadata": {},
   "source": [
    "`triple` 변수는 정수, 실수, 정수 세 개의 값을 갖는 튜플이다."
   ]
  },
  {
   "cell_type": "code",
   "execution_count": 168,
   "metadata": {},
   "outputs": [],
   "source": [
    "triple: Tuple[int, float, int] = (10, 2.3, 5)"
   ]
  },
  {
   "cell_type": "markdown",
   "metadata": {},
   "source": [
    "#### `Callable` 함수의 자료형\n",
    "\n",
    "파이썬에서 함수는 일급 객체이다. \n",
    "즉, 함수의 인자로 함수를 입력할 수 있다.\n",
    "따라서 함수를 가리키는 매개변수의 자료형도 명시할 수 있어야 한다. \n",
    "이를 위해 `Callable`(호출가능한) 자료형을 활용한다."
   ]
  },
  {
   "cell_type": "code",
   "execution_count": 169,
   "metadata": {},
   "outputs": [],
   "source": [
    "from typing import Callable\n",
    "\n",
    "def twice(repeater: Callable[[str, int], str], s: str) -> str:\n",
    "    return repeater(s, 2)"
   ]
  },
  {
   "cell_type": "markdown",
   "metadata": {},
   "source": [
    "* `twice` 함수는 첫째 인자로 `Callable[[str, int], str]` 자료형의 함수를 인자로 받는다.\n",
    "* `Callable[[str, int], str]` 는 아래 특징을 갖는 함수들의 자료형을 가리킨다.\n",
    "    * 인자 함수 입력값 두 개\n",
    "        * 첫째 인자: 문자열(`str`)\n",
    "        * 둘째 인자: 정수(`int`)\n",
    "    * 인자 함수 반환값: 문자열(`str`)"
   ]
  },
  {
   "cell_type": "markdown",
   "metadata": {},
   "source": [
    "예를 들어, 아래 함수 `comma_repeater`를 `twice` 함수의 인자로 입력해보자."
   ]
  },
  {
   "cell_type": "code",
   "execution_count": 170,
   "metadata": {},
   "outputs": [],
   "source": [
    "def comma_repeater(s: str, n: int) -> str:\n",
    "    n_copies = [s for _ in range(n)]\n",
    "    return ', '.join(n_copies)"
   ]
  },
  {
   "cell_type": "markdown",
   "metadata": {},
   "source": [
    "`twice(comma_repeater, \"type hints\")`는 \n",
    "`comma_repeater(\"type hints\", 2)`의 반환값을 반환한다."
   ]
  },
  {
   "cell_type": "code",
   "execution_count": 171,
   "metadata": {},
   "outputs": [
    {
     "data": {
      "text/plain": [
       "'type hints, type hints'"
      ]
     },
     "execution_count": 171,
     "metadata": {},
     "output_type": "execute_result"
    }
   ],
   "source": [
    "comma_repeater(\"type hints\", 2)"
   ]
  },
  {
   "cell_type": "code",
   "execution_count": 172,
   "metadata": {},
   "outputs": [
    {
     "data": {
      "text/plain": [
       "True"
      ]
     },
     "execution_count": 172,
     "metadata": {},
     "output_type": "execute_result"
    }
   ],
   "source": [
    "twice(comma_repeater, \"type hints\") == comma_repeater(\"type hints\", 2)"
   ]
  },
  {
   "cell_type": "markdown",
   "metadata": {},
   "source": [
    "#### 자료형도 파이썬 객체이다!\n",
    "\n",
    "자료형을 명시하기 위해 사용된 자료형들 자체도 파이썬 객체이다.\n",
    "즉, 변수에 할당할 수 있는 값으로 사용될 수 있다.\n",
    "\n",
    "예를 들어, 복잡한 자료형을 단순한 이름으로 지정하여 다시 자료형 명시를 위해 사용할 수 있다."
   ]
  },
  {
   "cell_type": "code",
   "execution_count": 173,
   "metadata": {},
   "outputs": [],
   "source": [
    "Number = int\n",
    "Numbers = List[Number]\n",
    "\n",
    "def total(xs: Numbers) -> Number:\n",
    "    return sum(xs)"
   ]
  }
 ],
 "metadata": {
  "kernelspec": {
   "display_name": "Python 3",
   "language": "python",
   "name": "python3"
  },
  "language_info": {
   "codemirror_mode": {
    "name": "ipython",
    "version": 3
   },
   "file_extension": ".py",
   "mimetype": "text/x-python",
   "name": "python",
   "nbconvert_exporter": "python",
   "pygments_lexer": "ipython3",
   "version": "3.6.8"
  }
 },
 "nbformat": 4,
 "nbformat_minor": 2
}
