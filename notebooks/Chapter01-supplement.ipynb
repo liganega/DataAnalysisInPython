{
 "cells": [
  {
   "cell_type": "markdown",
   "metadata": {},
   "source": [
    "#### 모델링\n",
    "\n",
    "* 모델링이란?\n",
    "\n",
    "* 1장 모델\n",
    "    * 친구 관계를 네트워크 모델로 표현하였다.\n",
    "    * 또한 연결 중심성을 색삭을 이용하여 표현하였다.\n",
    "    * 연결 중심성 이외에 다른 중심성 개념이 존재하며, \n",
    "        중심성 개념이 달라지면 모델도 달라진다.\n",
    "* 네트워크 모델 중심인물 기준\n",
    "    * 팔로워 수,\n",
    "    * 트윗 수,\n",
    "    * 게시글 수, 등등"
   ]
  },
  {
   "cell_type": "markdown",
   "metadata": {},
   "source": [
    "#### 모둠 자료형(collection data types)\n",
    "\n",
    "* `list`\n",
    "    * `list`의 `append` 메소드\n",
    "* `tuple`\n",
    "* `dict` 유사점과 차이점\n",
    "    * 사전 자료형에 포함된 항목들의 순서는 전혀 의미가 없다.\n",
    "    * `defaultdict` 개념과 활용\n",
    "        * [여기](https://docs.python.org/3/library/collections.html#collections.defaultdict) 설명 참조"
   ]
  },
  {
   "cell_type": "markdown",
   "metadata": {},
   "source": [
    "#### 리스트 정렬\n",
    "* 옵션: 키(`key`), 리버스(`reverse`)\n",
    "* 리스트의 길이가 매우 큰 경우 정렬이 아닌 다른 방법을 활용하는 것이 좋다. \n",
    "    정렬은 (시간적/공간적) 비용이 많이 들기 때문이다. \n",
    "    즉, 시간도 많이 들고 메모리도 많이 사용한다."
   ]
  },
  {
   "cell_type": "markdown",
   "metadata": {},
   "source": [
    "#### 조건제시법\n",
    "* 튜플, 리스트, 딕셔너리 조건제시법\n",
    "* 집합 조건제시법과 유사"
   ]
  },
  {
   "cell_type": "markdown",
   "metadata": {},
   "source": [
    "#### `Counter` 자료형 및 함수\n",
    "* `Counter` 클래스 활용법 익히기"
   ]
  },
  {
   "cell_type": "markdown",
   "metadata": {},
   "source": [
    "#### 함수\n",
    "\n",
    "* 파이썬에서 함수 정의하는 법\n",
    "* `lambda` 함수"
   ]
  },
  {
   "cell_type": "markdown",
   "metadata": {},
   "source": [
    "#### 확률과 통계 기초\n",
    "\n",
    "* 평균\n",
    "    * 평균값(average, 애버리지)\n",
    "    * 중앙값(median, 미디언)\n",
    "    * 최빈값(mode, 모드)\n",
    "\n",
    "* 산점도"
   ]
  },
  {
   "cell_type": "markdown",
   "metadata": {},
   "source": [
    "#### 파이썬으로 그래프 그리기\n",
    "\n",
    "* 맷플롯립(`matplotlib`) 라이브러리를 활용하여 그래프 그리기\n",
    "    * 3장에서 좀 더 다양한 그래프 그리는 방법을 다룰 예정임."
   ]
  }
 ],
 "metadata": {
  "kernelspec": {
   "display_name": "Python 3",
   "language": "python",
   "name": "python3"
  },
  "language_info": {
   "codemirror_mode": {
    "name": "ipython",
    "version": 3
   },
   "file_extension": ".py",
   "mimetype": "text/x-python",
   "name": "python",
   "nbconvert_exporter": "python",
   "pygments_lexer": "ipython3",
   "version": "3.6.8"
  }
 },
 "nbformat": 4,
 "nbformat_minor": 2
}
