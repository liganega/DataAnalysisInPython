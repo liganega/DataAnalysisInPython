{
 "cells": [
  {
   "cell_type": "markdown",
   "metadata": {},
   "source": [
    "# 데이터 시각화와 파이썬"
   ]
  },
  {
   "cell_type": "markdown",
   "metadata": {},
   "source": [
    "이번 비디오에서는 파이썬으로 데이터를 시각화하는 기법에 필요한 요소들을 살펴봅니다."
   ]
  },
  {
   "cell_type": "markdown",
   "metadata": {},
   "source": [
    "* 모듈\n",
    "    * matplotlib 패키지, pyplot 모듈\n",
    "    * collections 모듈, Counter 함수\n",
    "* 리스트\n",
    "    * len\n",
    "    * min, max\n",
    "* 조건제시법\n",
    "    * 리스트, 사전\n",
    "    * 튜플\n",
    "* 소극적/적극적\n",
    "\n",
    "* 문자열\n",
    "    * len\n",
    "    \n",
    "* int, float\n",
    "\n",
    "* range\n",
    "\n",
    "* for ... in ... 반복문\n",
    "    * 언더스코어(밑줄, `'_'`) 역할\n",
    "* 함수\n",
    "    * 이름 있는 인자\n",
    "* zip 함수"
   ]
  }
 ],
 "metadata": {
  "kernelspec": {
   "display_name": "Python 3",
   "language": "python",
   "name": "python3"
  },
  "language_info": {
   "codemirror_mode": {
    "name": "ipython",
    "version": 3
   },
   "file_extension": ".py",
   "mimetype": "text/x-python",
   "name": "python",
   "nbconvert_exporter": "python",
   "pygments_lexer": "ipython3",
   "version": "3.6.8"
  }
 },
 "nbformat": 4,
 "nbformat_minor": 2
}
