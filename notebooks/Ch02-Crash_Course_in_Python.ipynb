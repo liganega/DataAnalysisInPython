{
 "cells": [
  {
   "cell_type": "markdown",
   "metadata": {},
   "source": [
    "# 2장 파이썬 속성 강좌"
   ]
  },
  {
   "cell_type": "markdown",
   "metadata": {},
   "source": [
    "## 파이썬 데이터 분석 프로그래밍 환경"
   ]
  },
  {
   "cell_type": "markdown",
   "metadata": {},
   "source": [
    "아래 프로그램을 기본으로 사용한다.\n",
    "\n",
    "* 파이썬3 최신버전\n",
    "* 파이썬 추가 라이브러리\n",
    "    * numpy\n",
    "    * pandas\n",
    "    * matplotlib\n",
    "\n",
    "파이썬3와 언급된 모든 라이브러리를 설치하여 파이썬 데이터 분석 프로그래밍 환경을 준비하는 여러 방식이 있다.\n",
    "여기서는 초보자도 쉽게 따라할 수 있는 가장 간단한 방식 두 가지를 제안한다.\n",
    "\n",
    "1. 구글 코랩(Google Colab) 활용\n",
    "1. 도커(Docker) 활용"
   ]
  },
  {
   "cell_type": "markdown",
   "metadata": {},
   "source": [
    "### 구글 코랩(Google Colba) 활용"
   ]
  },
  {
   "cell_type": "markdown",
   "metadata": {},
   "source": [
    "[구글 코랩](https://colab.research.google.com)은\n",
    "구글에서 제공하는 딥러닝 학습 전용 클라우드 시스템이다."
   ]
  },
  {
   "cell_type": "markdown",
   "metadata": {},
   "source": [
    "#### 구글 코랩 특징\n",
    "\n",
    "* 누구나 무료 구글계정을 이용하여 사용할 수 있다.\n",
    "* 데이터 분석에 필요한 기본 도구들이 모두 설치된 환경을 제공한다.\n",
    "* 자신의 컴퓨터에 어떤 무엇도 설치할 필요가 없다. \n",
    "* 단, 구글 크롬 웹브라우저 사용을 추천한다.\n",
    "* 물론 고속 인터넷 연결이 필요하다.\n",
    "* 즉, 인터넷이 없으면 사용할 수 없다.\n",
    "* 무료 계정은 전문 개발자 용도로는 적합하지 않다."
   ]
  },
  {
   "cell_type": "markdown",
   "metadata": {},
   "source": [
    "#### 구글 코랩 사용법\n",
    "\n",
    "구글 코랩을 강좌에 활용하는 구체적인 방법은 [구글 코랩 동영상 강좌](https://...)를 참조한다."
   ]
  },
  {
   "cell_type": "markdown",
   "metadata": {},
   "source": [
    "### 도커(Docker) 활용"
   ]
  },
  {
   "cell_type": "markdown",
   "metadata": {},
   "source": [
    "[도커(docker)](https://www.docker.com)는 리눅스 가상화 시스템을 제공하는 플랫폼을 가리킨다. \n",
    "쉽게 설명하면, 자신의 사용하는 운영체제(윈도우, 맥, 우분투 등등)에서 \n",
    "원하는 리눅스 시스템을 마치 하나의 앱처럼 활용할 수 있도록 \n",
    "하는 기능을 가진 프로그램 플랫폼을 도커라 부른다. \n",
    "도커는 2011년 Docker 회사에서 오픈소스로 공개한 최신의 가상화 프로젝트이다."
   ]
  },
  {
   "cell_type": "markdown",
   "metadata": {},
   "source": [
    "#### 도커 특징\n",
    "\n",
    "* 자신의 컴퓨터가 사용하는 운영체제에 해당하는 도커만 설치하면 된다.\n",
    "* 요구되는 개발환경을 가장 알맞게 제공하는 도커 이미지를 \n",
    "    [도커 허브(Docker Hub)](https://hub.docker.com)에서 \n",
    "    찾아 다운받는다.\n",
    "    * 초보자용은 무조건 있다. 검색만 잘하면 된다.\n",
    "    * 전문가용은 적당한 것을 선택하여 다운받은 후 자신에게 맞는 개발환경을 제공하는 이미지를 쉽게 생성할 수 있다.\n",
    "* 다운받은 도커 이미지를 실행한 후 개발을 바로 시작할 수 있다.\n",
    "* 즉, 초보자에게 경우에 따라 준비하기가 매우 어려운 개발환경을 거의 그대로 빌려와서 사용만 하면 된다. \n",
    "* 특정 프로그램이나 라이브러리 등이 추가로 필요한 경우 \n",
    "    직접 설치한 후 새로운 도커 이미지로 생성 및 저장해서 사용하면 된다."
   ]
  },
  {
   "cell_type": "markdown",
   "metadata": {},
   "source": [
    "#### 도커 설치 및 사용법\n",
    "\n",
    "도커 설치 요령과 사용법은 [도커 동영상 강좌](https://...)를 참조한다."
   ]
  },
  {
   "cell_type": "markdown",
   "metadata": {},
   "source": [
    "## 파이썬 프로그래밍 기초"
   ]
  },
  {
   "cell_type": "markdown",
   "metadata": {},
   "source": [
    "### 들여쓰기"
   ]
  },
  {
   "cell_type": "markdown",
   "metadata": {},
   "source": [
    "C, Java, Javascript 등 많은 언어에서 코드의 단락을 구분하기 위해 중괄호(`{}`)를 사용한다.\n",
    "반면에 파이썬은 들여쓰기를 사용하여 코드단락(code block)을 구분한다.\n",
    "또한 문장 구조의 복잡성을 들여쓰기의 정도로 구분하여 가독성과 코드단락의 시작과 끝을 명확히 한다.\n",
    "\n",
    "예를 들어, 중첩된 `for` 반복문은 다음과 같이 작성한다.\n",
    "들여쓰기에 주의하라."
   ]
  },
  {
   "cell_type": "code",
   "execution_count": 1,
   "metadata": {},
   "outputs": [],
   "source": [
    "for i in [1, 2, 3]:             # 세미콜론 사용에 주의\n",
    "    print(i)                    # \"for i\" 반복문 본체 단락(block) 시작\n",
    "    for j in [1, 2, 3]:         # 세미콜론 사용에 주의\n",
    "        print(j)                # 중첩된 \"for j\" 반복문 본체 단락 시작\n",
    "        print(i + j)            # 중첩된 \"for j\" 반복문 본체 단락 끝\n",
    "    print(i)                    # \"for i\" 반복문 본체 단락 끝\n",
    "print(\"반복 완료\")"
   ]
  },
  {
   "cell_type": "markdown",
   "metadata": {},
   "source": [
    "### 줄바꿈"
   ]
  },
  {
   "cell_type": "markdown",
   "metadata": {},
   "source": [
    "소괄호(`()`)와 대괄호(`{}`) 안에서는 공백문자(whitespace)가 무시된다.\n",
    "따라서 다음과 같은 긴 계산을 할 때 줄바꿈을 이용할 수 있다."
   ]
  },
  {
   "cell_type": "code",
   "execution_count": 2,
   "metadata": {},
   "outputs": [],
   "source": [
    "long_winded_computation = (1 + 2 + 3 + 4 + 5 + 6 + 7 + 8 + 9 + 10 + 11 + 12 +\n",
    "                           13 + 14 + 15 + 16 + 17 + 18 + 19 + 20)\n",
    "\n",
    "list_of_lists = [[1, 2, 3], [4, 5, 6], [7, 8, 9]]\n",
    "\n",
    "easier_to_read_list_of_lists = [[1, 2, 3],\n",
    "                                [4, 5, 6],\n",
    "                                [7, 8, 9]]"
   ]
  },
  {
   "cell_type": "raw",
   "metadata": {},
   "source": [
    "줄바꿈을 괄호가 없을 경우 사용하려면 백슬래시(backslash)을 사용한다."
   ]
  },
  {
   "cell_type": "code",
   "execution_count": 3,
   "metadata": {},
   "outputs": [],
   "source": [
    "two_plus_three = 2 + \\\n",
    "                 3"
   ]
  },
  {
   "cell_type": "markdown",
   "metadata": {},
   "source": [
    "#### 주의사항\n",
    "\n",
    "책의 설명과 달리 빈 줄을 사용해도 오류가 발생하지 않는다.\n",
    "아마도 파이썬이 업드레이드 되면서 달라진 요소로 보인다. "
   ]
  },
  {
   "cell_type": "code",
   "execution_count": 4,
   "metadata": {},
   "outputs": [
    {
     "name": "stdout",
     "output_type": "stream",
     "text": [
      "1\n",
      "2\n",
      "3\n",
      "4\n",
      "5\n"
     ]
    }
   ],
   "source": [
    "for i in [1, 2, 3, 4, 5]:\n",
    "\n",
    "    print(i)"
   ]
  },
  {
   "cell_type": "markdown",
   "metadata": {},
   "source": [
    "반면에 들여쓰기 일정하지 않을 경우 오류가 발생하기 때문에 단락별 들여쓰기를 일정하게 유지해야 한다.\n",
    "\n",
    "아래 코드에서 `print(i)` 명령문이 한 단계 더 들어가 있으며, \n",
    "결과적으로 인덴테이션에러(`IndentationError`), 즉, 들여쓰기 오류가 발생한다."
   ]
  },
  {
   "cell_type": "code",
   "execution_count": 5,
   "metadata": {},
   "outputs": [
    {
     "ename": "IndentationError",
     "evalue": "unexpected indent (<ipython-input-5-047fe881c30a>, line 3)",
     "output_type": "error",
     "traceback": [
      "\u001b[0;36m  File \u001b[0;32m\"<ipython-input-5-047fe881c30a>\"\u001b[0;36m, line \u001b[0;32m3\u001b[0m\n\u001b[0;31m    print(i)\u001b[0m\n\u001b[0m    ^\u001b[0m\n\u001b[0;31mIndentationError\u001b[0m\u001b[0;31m:\u001b[0m unexpected indent\n"
     ]
    }
   ],
   "source": [
    "for i in [1, 2, 3, 4, 5]:\n",
    "    i = i + 1\n",
    "        print(i)"
   ]
  },
  {
   "cell_type": "markdown",
   "metadata": {},
   "source": [
    "### 모듈과 패키지"
   ]
  },
  {
   "cell_type": "markdown",
   "metadata": {},
   "source": [
    "파이썬을 실행할 때 기본적으로 사용할 있는 기능 이외의 것들을 사용하려면 관련 모듈과 패키지를 \n",
    "추가로 설치하거나 불러와야 한다. "
   ]
  },
  {
   "cell_type": "markdown",
   "metadata": {},
   "source": [
    "#### 모듈 불러오기"
   ]
  },
  {
   "cell_type": "markdown",
   "metadata": {},
   "source": [
    "예를 들어, 정규표현식(regular expression, regex)을 다룰 때 필요한\n",
    "다양한 기능을 사용하려면 `re` 모듈을 다음과 같이 불러와야 한다."
   ]
  },
  {
   "cell_type": "code",
   "execution_count": null,
   "metadata": {},
   "outputs": [],
   "source": [
    "import re"
   ]
  },
  {
   "cell_type": "markdown",
   "metadata": {},
   "source": [
    "이제 `re` 모듈에 포함된 `compile` 함수를 활용할 수 있다."
   ]
  },
  {
   "cell_type": "code",
   "execution_count": null,
   "metadata": {},
   "outputs": [],
   "source": [
    "my_regex = re.compile(\"[0-9]+\", re.I)"
   ]
  },
  {
   "cell_type": "markdown",
   "metadata": {},
   "source": [
    "즉, 특정 모듈에 포함된 함수나 변수를 사용하려면 아래 형식으로 호출한다.\n",
    "\n",
    "```\n",
    "모듈이름.함수이름(변수,...)\n",
    "```"
   ]
  },
  {
   "cell_type": "markdown",
   "metadata": {},
   "source": [
    "#### 모듈 별칭 사용하기"
   ]
  },
  {
   "cell_type": "markdown",
   "metadata": {},
   "source": [
    "모듈이름으로 별칭(alias, 에일리어스)을 사용할 수 있다.\n",
    "별칭을 사용하는 이유는 주로, 이름을 간단하게 하기위해서이거나 이름이 중복되지 않게 하기 위해서이다.\n",
    "\n",
    "별칭예제 1: `re` 모듈을 `regex` 라는 별칭으로 부를 수 있다.\n",
    "단, 별칭을 사용하면 **반드시** 별칭으로만 사용해야 한다."
   ]
  },
  {
   "cell_type": "code",
   "execution_count": null,
   "metadata": {},
   "outputs": [],
   "source": [
    "import re as regex\n",
    "my_regex = regex.compile(\"[0-9]+\", regex.I)"
   ]
  },
  {
   "cell_type": "markdown",
   "metadata": {},
   "source": [
    "**주의:** 정규표현식에 대해 당장은 자세히 몰라도 된다.\n",
    "하지만 정규표현식에 대한 정보와 활용법은 매우 중요하며 아래 사이트를 이용하여 공부할 것을 추천한다.\n",
    "\n",
    "참조: [생활코딩 정규표현식이란?](https://opentutorials.org/course/909/5142)"
   ]
  },
  {
   "cell_type": "markdown",
   "metadata": {},
   "source": [
    "#### 관습적 별칭\n",
    "\n",
    "자주 사용되는 모듈에 대한 별칭은 커뮤너티에서 관습적으로 사용하는 별칭이 있다.\n",
    "별칭에 대한 규정이 있지는 않지만 관습을 따르는 것이 혼동을 방지하며,\n",
    "소스코드의 가독성과 협업의 효율성을 증대시킨다."
   ]
  },
  {
   "cell_type": "markdown",
   "metadata": {},
   "source": [
    "별칭예제 2: 데이터를 시각화할 때는 맷플롯립(`matplotlib`) 패키지에 포함된 \n",
    "파이플롯(`pyplot`)이라는 모듈을 많이 사용하며,\n",
    "관습적으로 `plt`라는 별칭을 사용한다.\n",
    "\n",
    "아래 그래프는 대한민국 1인당 국민소득(GDP)의 변천사를 1960년부터 5년 단위로 보여준다.\n",
    "\n",
    "출처: 한국은행,「국민계정」, 통계청,「장래인구추계」"
   ]
  },
  {
   "cell_type": "code",
   "execution_count": null,
   "metadata": {},
   "outputs": [],
   "source": [
    "import matplotlib.pyplot as plt\n",
    "\n",
    "years = [1960, 1965, 1970, 1975, 1980, \n",
    "         1985, 1990, 1995, 2000, 2005, \n",
    "         2010, 2015, 2018]\n",
    "gdp = [1290000, 1600000, 2470000, 3310000, 4670000, \n",
    "       6770000, 11340000, 16100000, 18380000, 23310000, \n",
    "       26330000, 30830000, 34930000]\n",
    "\n",
    "# 선그래프 그리기\n",
    "plt.plot(years, gdp, color='green', marker='o', linestyle='solid')"
   ]
  },
  {
   "cell_type": "markdown",
   "metadata": {},
   "source": [
    "#### 패키지와 모듈\n",
    "\n"
   ]
  },
  {
   "cell_type": "markdown",
   "metadata": {},
   "source": [
    "모듈은 파이썬 소스코드 파일을 가리키며 확장자가 `py`이다. \n",
    "반면에 패키지는 여러 개의 모듈을 담고 있는 디렉토리, 즉 폴더를 가리킨다. \n",
    "단, 폴더 안에 `__init__.py` 라는 특수 역할을 수행하는 파이썬 파일이 포함되어 있어야 한다.\n",
    "\n",
    "* `__init__.py`는 해당 패키지와 관련된 여러 속성을 담는다.\n",
    "    특별한 속성이 필요하지 않을 경우 빈 파일로 두어도 된다.\n",
    "* 단, `__intit__py` 파일 자체가 없으면 파이썬 패키지로 인식되지 않는다. \n",
    "\n",
    "예를 들어, `matplotlib` 패키지 (폴더) 안에는 `pyplot` 이외에 `path`, `patches`, `date` 등 \n",
    "사용 기능별로 구분된 함수와 변수들을 담은 모듈들이 포함되어 있다.\n",
    "\n",
    "* 참조: 파이썬 모듈과 패키지에 대한 보다 자세한 설명은 아래 내용을 참조할 것을 추천한다.\n",
    "    * 모듈: [점푸투파이썬 모듈](https://wikidocs.net/29)\n",
    "    * 패키지: [점푸투파이썬 패키지](https://wikidocs.net/1418)"
   ]
  },
  {
   "cell_type": "markdown",
   "metadata": {},
   "source": [
    "#### 모듈의 특정 기능만 불러오기"
   ]
  },
  {
   "cell_type": "markdown",
   "metadata": {},
   "source": [
    "모듈에 포함된 기능들 중에서 특정 기능 몇 개만 불러올 경우 해당 기능만 명시해서 불러올 수 있다.\n",
    "\n",
    "아래 코드는 컬렉션즈(`collections`) 모듈에서 \n",
    "디폴트딕트(`defaultdict`) 함수와 카운터(`Counter`) 클래스만 불러온다. \n",
    "\n",
    "**주의:** 모듈에서 특정 기능만 불러올 경우 모듈의 이름을 명시하지 않는다."
   ]
  },
  {
   "cell_type": "code",
   "execution_count": 6,
   "metadata": {},
   "outputs": [],
   "source": [
    "from collections import defaultdict, Counter\n",
    "lookup = defaultdict(int)\n",
    "my_counter = Counter()"
   ]
  },
  {
   "cell_type": "markdown",
   "metadata": {},
   "source": [
    "디폴트딕트(`defaultdict`) 함수와 카운터(`Counter`) 클래스의 활용은 이후에 자세히 살펴볼 예정이다."
   ]
  },
  {
   "cell_type": "markdown",
   "metadata": {},
   "source": [
    "#### 좋지 않은 습관: \n",
    "\n",
    "특정 모듈에 포함된 모든 기능을 한꺼번에 불러오는 것은 매우 좋지 않은 습관이다.\n",
    "이유는 서로 다른 모듈에 동일한 이름의 중복되어 사용될 수도 있고 또 기존에 사용된 이름을 덮어쓰는 위험이 도사리기 때문이다. \n",
    "\n",
    "아래 예제는 매치(`match`)라고 이미 선언된 변수가 정규표현식 모듈 `re`에 포함된 `match` 라는 다른 기능의 함수에 의해\n",
    "덮어씌어지는 문제를 보여준다.\n",
    "\n",
    "**주의:** 프로그래밍 언어에서 별표(`*`)는 일반적으로 모든 것(all)을 의미한다."
   ]
  },
  {
   "cell_type": "code",
   "execution_count": 7,
   "metadata": {},
   "outputs": [
    {
     "name": "stdout",
     "output_type": "stream",
     "text": [
      "<function match at 0x7f750d1c0158>\n"
     ]
    }
   ],
   "source": [
    "match = 10\n",
    "from re import *\n",
    "print(match)"
   ]
  },
  {
   "cell_type": "markdown",
   "metadata": {},
   "source": [
    "### 함수"
   ]
  },
  {
   "cell_type": "markdown",
   "metadata": {},
   "source": [
    "임의의 개수의 인자를 받아 결과를 되돌려주는(return) 일종의 규칙을 함수라 부르며,\n",
    "파이썬에서는 데프(`def`)라는 키워드를 사용하여 함수 선언을 명시한다. \n",
    "\n",
    "입력 인자 개수는 함수 선언에서 사용되는 매개변수의 개수로 지정된다.\n",
    "아래에서 선언되는 함수 `double`은 매개변수를 `x` 하나만 사용한다.\n",
    "즉, 인자를 하나 입력 받아 그 인자의 두 배를 되돌려주는 함수인 더블(`double`)을 선언한다."
   ]
  },
  {
   "cell_type": "code",
   "execution_count": 13,
   "metadata": {},
   "outputs": [],
   "source": [
    "def my_double(x):\n",
    "    \"\"\"\n",
    "    입력된 값을 두 배하여 리턴한다.\n",
    "    \"\"\"\n",
    "    return x * 2"
   ]
  },
  {
   "cell_type": "markdown",
   "metadata": {},
   "source": [
    "**주의:** \n",
    "\n",
    "* 함수 선언은 함수 이름과 해당 함수의 기능을 지정 하고 저장만 하며 실행하지는 않는다.\n",
    "\n",
    "* 파이썬의 경우 매개변수의 자료형을 명시하지 않는다. \n",
    "    대신에 함수를 호출해서 실행할 때 적절하지 않는 인자가 입력되는 경우 오류를 발생시킨다.\n",
    "\n",
    "* 함수를 선언할 때는 물론 특정 입력 인자들의 자료형을 생각하며 함수 본체를 구현한다.\n",
    "    따라서 함수를 호출할 때는 사용할 수 있는 인자의 개수와 각 인자들의 자료형을 알고 있어야 한다."
   ]
  },
  {
   "cell_type": "markdown",
   "metadata": {},
   "source": [
    "#### 문서화 문자열(docstring)"
   ]
  },
  {
   "cell_type": "markdown",
   "metadata": {},
   "source": [
    "함수 선언 본체(body)에 사용된 세 개의 큰따옴표는 주석을 지정할 때 사용되며,\n",
    "함수의 기능을 설명하는 설명서 역할을 수행한다.\n",
    "전문 용어로 문서화 문자열(docstring, 독스트링)이라 불리며, \n",
    "소스코드의 구성과 구현과 관련된 내용을 문서화를 할 때 매우 유용하게 사용되는 기능이다. \n",
    "\n",
    "예를 들어 `double` 함수에 대한 정보를 요구할 때 큰따옴표 안의 설명이 보여지며,\n",
    "이를 위해 헬프(`help`) 함수를 이용한다."
   ]
  },
  {
   "cell_type": "code",
   "execution_count": 14,
   "metadata": {},
   "outputs": [
    {
     "name": "stdout",
     "output_type": "stream",
     "text": [
      "Help on function my_double in module __main__:\n",
      "\n",
      "my_double(x)\n",
      "    입력된 값을 두 배하여 리턴한다.\n",
      "\n"
     ]
    }
   ],
   "source": [
    "help(my_double)"
   ]
  },
  {
   "cell_type": "markdown",
   "metadata": {},
   "source": [
    "#### 일급(first-class, 퍼스트 클래스) 객체와 함수"
   ]
  },
  {
   "cell_type": "markdown",
   "metadata": {},
   "source": [
    "파이썬에서 다루는 대상 중에 일급 객체(first-class objects)는 \n",
    "함수의 인자로 입력될 수 있는 대상을 가리킨다.\n",
    "\n",
    "파이썬의 경우 다루는 모든 대상이 일급 객체이다.\n",
    "C 언어의 함수, Java 언어의 메소드(함수)는 일급 객체가 아니다.\n",
    "반면에 파이썬, 자바스크립트(Javascript) 언어에서 함수는 일급 객체이다.\n",
    "\n",
    "예를 들어, 아래에 정의된 함수 어플라이-투-원(`apply_to_one`)은\n",
    "임의의 함수 `f`를 인자로 받아 `f(1)`의 값을 되돌려준다.\n",
    "즉, 함수 `f(1)`을 실행한 결과값을 리턴한다."
   ]
  },
  {
   "cell_type": "code",
   "execution_count": 10,
   "metadata": {},
   "outputs": [],
   "source": [
    "def apply_to_one(f):\n",
    "    \"\"\"Calls the function f with 1 as its argument\"\"\"\n",
    "    return f(1)"
   ]
  },
  {
   "cell_type": "markdown",
   "metadata": {},
   "source": [
    "따라서 `apply_to_one(my_double)`은 `my_double(1)`, 즉 2를 되돌려 준다."
   ]
  },
  {
   "cell_type": "code",
   "execution_count": 15,
   "metadata": {},
   "outputs": [
    {
     "data": {
      "text/plain": [
       "2"
      ]
     },
     "execution_count": 15,
     "metadata": {},
     "output_type": "execute_result"
    }
   ],
   "source": [
    "apply_to_one(my_double)"
   ]
  },
  {
   "cell_type": "markdown",
   "metadata": {},
   "source": [
    "#### 람다(lambda) 함수"
   ]
  },
  {
   "cell_type": "markdown",
   "metadata": {},
   "source": [
    "함수를 정의할 때 `def`라는 키워드를 사용해서 함수의 이름과 함수의 본체를 이용하여 함수를 선언하였다.\n",
    "하지만 익명 함수, 즉 이름이 없는 함수를 선언할 수도 있으며,\n",
    "이를 위해 람다(lambda) 기호를 사용한다.\n",
    "\n",
    "람다 함수를 정의하는 형식은 다음과 같다.\n",
    "\n",
    "```python\n",
    "lambda x1, x2, ..., xn: 리턴값\n",
    "```\n",
    "\n",
    "위 정의는 n개의 인자를 받는 함수를 정의하며 `def` 키워드를 사용하면 아래 정의에 해당한다.\n",
    "\n",
    "```python\n",
    "def 아무이름(x1, x2, ..., xn):\n",
    "    return 리턴값\n",
    "```"
   ]
  },
  {
   "cell_type": "markdown",
   "metadata": {},
   "source": [
    "예를 들어, \n",
    "\n",
    "```python\n",
    "lambda x: x+4\n",
    "```\n",
    "\n",
    "는 숫자 하나를 입력 받으면 4를 더한 값을 되돌려준다.\n",
    "\n",
    "따라서 이 함수를 `apply_to_one` 함수의 인자로 사용하면 5를 결과로 얻는다."
   ]
  },
  {
   "cell_type": "code",
   "execution_count": 22,
   "metadata": {},
   "outputs": [
    {
     "data": {
      "text/plain": [
       "5"
      ]
     },
     "execution_count": 22,
     "metadata": {},
     "output_type": "execute_result"
    }
   ],
   "source": [
    "apply_to_one(lambda x: x + 4)"
   ]
  },
  {
   "cell_type": "markdown",
   "metadata": {},
   "source": [
    "두 개 이상의 인자를 받는 람다 함수의 예제는 다음과 같다.\n",
    "아래 함수\n",
    "\n",
    "```python\n",
    "lambda x y: (x + y)/2\n",
    "```\n",
    "\n",
    "는 인자 두 개를 입력받아 두 값의 평균값을 되돌려 준다.\n",
    "\n",
    "람다 함수에 인자를 입력하여 호출하는 방식은 다음과 같다.\n",
    "\n",
    "```python\n",
    "(람다 함수)(인자1, 인자2, ..., 인자n)\n",
    "```\n",
    "\n",
    "예를 들어, 2와 4의 평균값을 다음과 같이 구할 수 있다."
   ]
  },
  {
   "cell_type": "code",
   "execution_count": 21,
   "metadata": {},
   "outputs": [
    {
     "data": {
      "text/plain": [
       "3.0"
      ]
     },
     "execution_count": 21,
     "metadata": {},
     "output_type": "execute_result"
    }
   ],
   "source": [
    "(lambda x, y: (x + y)/2)(2, 4)"
   ]
  },
  {
   "cell_type": "markdown",
   "metadata": {},
   "source": [
    "#### 함수를 인자로 사용할 때 주의점"
   ]
  },
  {
   "cell_type": "markdown",
   "metadata": {},
   "source": [
    "파이썬에서 함수 역시 일급 객체이기 때문에 다른 함수의 인자로 사용할 수 있다.\n",
    "다만 함수를 정의할 때 사용되는 매개변수의 자료형에 주의하면서 사용해야 하듯이\n",
    "함수를 인자로 사용할 때 주의할 점이 두 가지 있다.\n",
    "\n",
    "* 첫째: 인자 개수\n",
    "* 둘째: 인자들의 자료형\n",
    "\n",
    "예를 들어, `apply_to_one` 함수에 인자를 두 개 이상 받는 다변수 함수를 입력하면 오류가 발생한다.\n",
    "이유는 하나의 인자만 받는 함수에 대해서만 정의되어 있기 때문이다. "
   ]
  },
  {
   "cell_type": "code",
   "execution_count": 23,
   "metadata": {},
   "outputs": [
    {
     "ename": "TypeError",
     "evalue": "<lambda>() missing 1 required positional argument: 'y'",
     "output_type": "error",
     "traceback": [
      "\u001b[0;31m---------------------------------------------------------------------------\u001b[0m",
      "\u001b[0;31mTypeError\u001b[0m                                 Traceback (most recent call last)",
      "\u001b[0;32m<ipython-input-23-9cc29bc777fb>\u001b[0m in \u001b[0;36m<module>\u001b[0;34m\u001b[0m\n\u001b[0;32m----> 1\u001b[0;31m \u001b[0mapply_to_one\u001b[0m\u001b[0;34m(\u001b[0m\u001b[0;32mlambda\u001b[0m \u001b[0mx\u001b[0m\u001b[0;34m,\u001b[0m \u001b[0my\u001b[0m\u001b[0;34m:\u001b[0m \u001b[0;34m(\u001b[0m\u001b[0mx\u001b[0m \u001b[0;34m+\u001b[0m \u001b[0my\u001b[0m\u001b[0;34m)\u001b[0m\u001b[0;34m/\u001b[0m\u001b[0;36m2\u001b[0m\u001b[0;34m)\u001b[0m\u001b[0;34m\u001b[0m\u001b[0;34m\u001b[0m\u001b[0m\n\u001b[0m",
      "\u001b[0;32m<ipython-input-10-36852766716b>\u001b[0m in \u001b[0;36mapply_to_one\u001b[0;34m(f)\u001b[0m\n\u001b[1;32m      1\u001b[0m \u001b[0;32mdef\u001b[0m \u001b[0mapply_to_one\u001b[0m\u001b[0;34m(\u001b[0m\u001b[0mf\u001b[0m\u001b[0;34m)\u001b[0m\u001b[0;34m:\u001b[0m\u001b[0;34m\u001b[0m\u001b[0;34m\u001b[0m\u001b[0m\n\u001b[1;32m      2\u001b[0m     \u001b[0;34m\"\"\"Calls the function f with 1 as its argument\"\"\"\u001b[0m\u001b[0;34m\u001b[0m\u001b[0;34m\u001b[0m\u001b[0m\n\u001b[0;32m----> 3\u001b[0;31m     \u001b[0;32mreturn\u001b[0m \u001b[0mf\u001b[0m\u001b[0;34m(\u001b[0m\u001b[0;36m1\u001b[0m\u001b[0;34m)\u001b[0m\u001b[0;34m\u001b[0m\u001b[0;34m\u001b[0m\u001b[0m\n\u001b[0m",
      "\u001b[0;31mTypeError\u001b[0m: <lambda>() missing 1 required positional argument: 'y'"
     ]
    }
   ],
   "source": [
    "apply_to_one(lambda x, y: (x + y)/2)"
   ]
  },
  {
   "cell_type": "markdown",
   "metadata": {},
   "source": [
    "또한 인자를 하나 받는 단변수 함수를 인자로 사용하더라도 \n",
    "해당 단변수 함수의 매개변수가 숫자가 아닌 값을 대상으로 할 경우 역시 오류가 발생한다."
   ]
  },
  {
   "cell_type": "code",
   "execution_count": 24,
   "metadata": {},
   "outputs": [
    {
     "ename": "TypeError",
     "evalue": "object of type 'int' has no len()",
     "output_type": "error",
     "traceback": [
      "\u001b[0;31m---------------------------------------------------------------------------\u001b[0m",
      "\u001b[0;31mTypeError\u001b[0m                                 Traceback (most recent call last)",
      "\u001b[0;32m<ipython-input-24-cb17e17420b3>\u001b[0m in \u001b[0;36m<module>\u001b[0;34m\u001b[0m\n\u001b[0;32m----> 1\u001b[0;31m \u001b[0mapply_to_one\u001b[0m\u001b[0;34m(\u001b[0m\u001b[0;32mlambda\u001b[0m \u001b[0ms\u001b[0m\u001b[0;34m:\u001b[0m \u001b[0mlen\u001b[0m\u001b[0;34m(\u001b[0m\u001b[0ms\u001b[0m\u001b[0;34m)\u001b[0m\u001b[0;34m)\u001b[0m\u001b[0;34m\u001b[0m\u001b[0;34m\u001b[0m\u001b[0m\n\u001b[0m",
      "\u001b[0;32m<ipython-input-10-36852766716b>\u001b[0m in \u001b[0;36mapply_to_one\u001b[0;34m(f)\u001b[0m\n\u001b[1;32m      1\u001b[0m \u001b[0;32mdef\u001b[0m \u001b[0mapply_to_one\u001b[0m\u001b[0;34m(\u001b[0m\u001b[0mf\u001b[0m\u001b[0;34m)\u001b[0m\u001b[0;34m:\u001b[0m\u001b[0;34m\u001b[0m\u001b[0;34m\u001b[0m\u001b[0m\n\u001b[1;32m      2\u001b[0m     \u001b[0;34m\"\"\"Calls the function f with 1 as its argument\"\"\"\u001b[0m\u001b[0;34m\u001b[0m\u001b[0;34m\u001b[0m\u001b[0m\n\u001b[0;32m----> 3\u001b[0;31m     \u001b[0;32mreturn\u001b[0m \u001b[0mf\u001b[0m\u001b[0;34m(\u001b[0m\u001b[0;36m1\u001b[0m\u001b[0;34m)\u001b[0m\u001b[0;34m\u001b[0m\u001b[0;34m\u001b[0m\u001b[0m\n\u001b[0m",
      "\u001b[0;32m<ipython-input-24-cb17e17420b3>\u001b[0m in \u001b[0;36m<lambda>\u001b[0;34m(s)\u001b[0m\n\u001b[0;32m----> 1\u001b[0;31m \u001b[0mapply_to_one\u001b[0m\u001b[0;34m(\u001b[0m\u001b[0;32mlambda\u001b[0m \u001b[0ms\u001b[0m\u001b[0;34m:\u001b[0m \u001b[0mlen\u001b[0m\u001b[0;34m(\u001b[0m\u001b[0ms\u001b[0m\u001b[0;34m)\u001b[0m\u001b[0;34m)\u001b[0m\u001b[0;34m\u001b[0m\u001b[0;34m\u001b[0m\u001b[0m\n\u001b[0m",
      "\u001b[0;31mTypeError\u001b[0m: object of type 'int' has no len()"
     ]
    }
   ],
   "source": [
    "apply_to_one(lambda s: len(s))"
   ]
  },
  {
   "cell_type": "markdown",
   "metadata": {},
   "source": [
    "위에서 오류가 발생하는 이유는 `(lambda s: len(s))(1)`를 호출하다 보면\n",
    "`len(1)`를 실행해야 하는 데 `len` 함수는 문자열의 길이를 리턴하는 함수이며,\n",
    "숫자 1은 문자열이 아니기 때문에 자료형오류(`TypeError`)가 발생하기 때문이다."
   ]
  },
  {
   "cell_type": "markdown",
   "metadata": {},
   "source": [
    "#### 람다 함수의 이름 지정"
   ]
  },
  {
   "cell_type": "markdown",
   "metadata": {},
   "source": [
    "람다 함수를 변수에 저장할 수도 있지만 그럴바엔 애초부터 `def` 키워드를 사용해서 이름을 지정하는 것이 바람직하다."
   ]
  },
  {
   "cell_type": "code",
   "execution_count": 25,
   "metadata": {},
   "outputs": [],
   "source": [
    "another_double = lambda x: 2 * x       # 바람직하지 않음.\n",
    "\n",
    "def another_double(x):\n",
    "    \"\"\"이게 좋음\"\"\"\n",
    "    return 2 * x"
   ]
  },
  {
   "cell_type": "markdown",
   "metadata": {},
   "source": [
    "#### 매개변수와 인자"
   ]
  },
  {
   "cell_type": "markdown",
   "metadata": {},
   "source": [
    "함수를 선언할 때 입력받을 인자들을 저장하는 역할을 수행하는 변수를 **매개변수**(parameter)라 한다.\n",
    "즉, 매개변수는 함수의 본체로 들어오는 값들의 입구들의 이름 역할을 수행한다.\n",
    "반면에 인자(argument, 아규먼트)는 함수를 호출할 때 해당 함수의 매개변수를 통해 함수 본체에 전달되는 값을 가리킨다.\n",
    "즉, 매개변수는 일종의 변수이고, 인자는 매개변수에 저장될 구체적인 값을 가리킨다.\n",
    "\n",
    "앞서 설명한 일급 객체가 함수의 인자로 사용될 수 있으며, 여기에 함수 자료형 자체도 포함된다.\n",
    "\n"
   ]
  },
  {
   "cell_type": "markdown",
   "metadata": {},
   "source": [
    "#### 기본 인자"
   ]
  },
  {
   "cell_type": "markdown",
   "metadata": {},
   "source": [
    "함수의 매개변수에 기본 인자를 지정할 수 있다. \n",
    "이렇게 하면 해당 매개변수에 대한 인자를 지정하지 않은 채 함수를 호출할 수 있으며,\n",
    "그럴 경우 기본 인자로 지정된 값이 해당 매개변수의 인자로 사용된다."
   ]
  },
  {
   "cell_type": "code",
   "execution_count": 26,
   "metadata": {},
   "outputs": [
    {
     "name": "stdout",
     "output_type": "stream",
     "text": [
      "say hi!\n",
      "say hi!\n",
      "say hello!\n"
     ]
    }
   ],
   "source": [
    "def my_print(do, message = \"hello!\"):\n",
    "    print(do + ' ' + message)\n",
    "\n",
    "my_print(\"say\", \"hi!\")\n",
    "my_print(\"say\", message=\"hi!\")\n",
    "my_print(\"say\")"
   ]
  },
  {
   "cell_type": "markdown",
   "metadata": {},
   "source": [
    "**주의:** \n",
    "* 문자열들의 덧셈은 문자열 이어붙히기를 의미한다.\n",
    "* `' '` 또는 `\" \"`는 스페이스 한 칸을 의미하는 문자열이다."
   ]
  },
  {
   "cell_type": "markdown",
   "metadata": {},
   "source": [
    "함수를 호출할 때 매개변수 이름을 함께 사용해도 된다."
   ]
  },
  {
   "cell_type": "code",
   "execution_count": 27,
   "metadata": {},
   "outputs": [
    {
     "name": "stdout",
     "output_type": "stream",
     "text": [
      "홍 길동\n",
      "홍 아무개\n",
      "이름은 길동\n"
     ]
    }
   ],
   "source": [
    "def full_name(last = \"이름은\", first = \"아무개\"):\n",
    "    return last + \" \" + first\n",
    "\n",
    "print(full_name(\"홍\", \"길동\"))\n",
    "print(full_name(\"홍\"))\n",
    "print(full_name(first=\"길동\"))"
   ]
  },
  {
   "cell_type": "markdown",
   "metadata": {},
   "source": [
    "### 문자열"
   ]
  },
  {
   "cell_type": "markdown",
   "metadata": {},
   "source": [
    "문자열은 말 그래도 문자들을 나열해 놓은 것이며 아무런 의미를 갖지 않는다.\n",
    "즉, 파이썬은 문자열을 보면 아무런 해석을 하지 않으며 그냥 명령에 따라 주어진 문자열을 조작한다.\n",
    "물론 이런 문자열들을 잘 조작하여 필요한 정보를 얻어내는 것이 데이터 분석의 기본 목표이다.\n",
    "\n",
    "문자열은 작은 따옴표(`'`) 또는 큰 따옴표(`\"`)로 감싸져야 한다.\n",
    "다만 앞 뒤로 동일한 종류의 따옴표가 사용되어야 한다."
   ]
  },
  {
   "cell_type": "code",
   "execution_count": 28,
   "metadata": {},
   "outputs": [],
   "source": [
    "single_quoted_string = 'data science'\n",
    "double_quoted_string = \"data science\""
   ]
  },
  {
   "cell_type": "markdown",
   "metadata": {},
   "source": [
    "두 변수가 동일한 값을 저장하고 있다는 것을 확인할 수 있다."
   ]
  },
  {
   "cell_type": "code",
   "execution_count": 29,
   "metadata": {},
   "outputs": [
    {
     "data": {
      "text/plain": [
       "True"
      ]
     },
     "execution_count": 29,
     "metadata": {},
     "output_type": "execute_result"
    }
   ],
   "source": [
    "single_quoted_string == double_quoted_string"
   ]
  },
  {
   "cell_type": "markdown",
   "metadata": {},
   "source": [
    "**주의:** 위에서 사용된 기호 `==`는 양측의 값이 동일함을 판단하는 함수이다.\n",
    "즉, 양측의 (변수에 저장된) 값이 동일하면 참(`True`)을,\n",
    "다르면 거짓(`False`)를 되돌려 주는 함수이다."
   ]
  },
  {
   "cell_type": "markdown",
   "metadata": {},
   "source": [
    "#### 특수 문자"
   ]
  },
  {
   "cell_type": "markdown",
   "metadata": {},
   "source": [
    "파이썬에서 백슬래시(`\\`)는 특별한 역할을 수행한다. \n",
    "예를 들어 `\\t`는 탭을 가리킨다.\n",
    "여기서 탭은 탭 키를 눌렀을 경우 커서(cursor)가 지정된 크기만큼 움직이도록 하는 것을 가리킨다."
   ]
  },
  {
   "cell_type": "code",
   "execution_count": 30,
   "metadata": {},
   "outputs": [
    {
     "name": "stdout",
     "output_type": "stream",
     "text": [
      "Hello,\tPython\n"
     ]
    }
   ],
   "source": [
    "print(\"Hello,\\tPython\")"
   ]
  },
  {
   "cell_type": "markdown",
   "metadata": {},
   "source": [
    "**주의:** 탭은 보통 스페이스 두 칸 또는 네 칸을 가리킨다. 언어마다 조금 다를 수 있다."
   ]
  },
  {
   "cell_type": "code",
   "execution_count": 31,
   "metadata": {},
   "outputs": [
    {
     "name": "stdout",
     "output_type": "stream",
     "text": [
      "Hello,  Python\n"
     ]
    }
   ],
   "source": [
    "print(\"Hello,  Python\") # 스페이스 두 칸"
   ]
  },
  {
   "cell_type": "code",
   "execution_count": 32,
   "metadata": {},
   "outputs": [
    {
     "name": "stdout",
     "output_type": "stream",
     "text": [
      "Hello,    Python\n"
     ]
    }
   ],
   "source": [
    "print(\"Hello,    Python\") # 스페이스 네 칸"
   ]
  },
  {
   "cell_type": "markdown",
   "metadata": {},
   "source": [
    "즉, 탭은 여기서는 스페이스 두 칸에 해당함을 알 수 있다.\n",
    "\n",
    "백슬래시 자체를 문자열에 포함하고 싶을 때는 무가공 문자열(raw string, 로 스트링)이란\n",
    "의미로 `r` 기호을 문자열 앞에 붙혀서 사용한다.\n",
    "그러면 백슬래시의 특수성이 무시되면 하나의 문자로 인식된다."
   ]
  },
  {
   "cell_type": "code",
   "execution_count": 33,
   "metadata": {},
   "outputs": [
    {
     "name": "stdout",
     "output_type": "stream",
     "text": [
      "Hello,\\tPython\n"
     ]
    }
   ],
   "source": [
    "print(r'Hello,\\tPython')"
   ]
  },
  {
   "cell_type": "markdown",
   "metadata": {},
   "source": [
    "#### 여러 줄로 구성된 문자열"
   ]
  },
  {
   "cell_type": "markdown",
   "metadata": {},
   "source": [
    "문자열을 여러 줄에 걸쳐서 작성하고 싶으면 세 개의 큰 따옴표(`\"\"\"`)를 앞뒤로 감싼다."
   ]
  },
  {
   "cell_type": "code",
   "execution_count": 34,
   "metadata": {},
   "outputs": [],
   "source": [
    "multi_line_string = \"\"\"첫째줄입니다.\n",
    "둘째줄입니다.\n",
    "셋째줄입니다.\"\"\""
   ]
  },
  {
   "cell_type": "code",
   "execution_count": 35,
   "metadata": {},
   "outputs": [
    {
     "name": "stdout",
     "output_type": "stream",
     "text": [
      "첫째줄입니다.\n",
      "둘째줄입니다.\n",
      "셋째줄입니다.\n"
     ]
    }
   ],
   "source": [
    "print(multi_line_string)"
   ]
  },
  {
   "cell_type": "markdown",
   "metadata": {},
   "source": [
    "파이썬 해석기에 내부에서는 사실 `\\n` 이라는 특수 문자열이 추가되어 하나의 문자열로 저장된다.\n",
    "여기서 `\\n` 은 뉴 라인(new line, 줄바꿈)을 가리키는 특수 문자열이다.\n",
    "역시 여기서도 백슬래시의 특수 기능이 활용된다."
   ]
  },
  {
   "cell_type": "code",
   "execution_count": 36,
   "metadata": {},
   "outputs": [
    {
     "data": {
      "text/plain": [
       "'첫째줄입니다.\\n둘째줄입니다.\\n셋째줄입니다.'"
      ]
     },
     "execution_count": 36,
     "metadata": {},
     "output_type": "execute_result"
    }
   ],
   "source": [
    "multi_line_string"
   ]
  },
  {
   "cell_type": "markdown",
   "metadata": {},
   "source": [
    "#### 포맷 문자열(format string) f-문자열(f-string)"
   ]
  },
  {
   "cell_type": "markdown",
   "metadata": {},
   "source": [
    "문자열 내에 지정된 값을 삽입하여 보다 유연한 문자열을 생성할 수 있도록\n",
    "도와주는 문자열을 포맷 문자열이라 부르며,\n",
    "값을 인자로 입력받아 새로운 문자열을 생성하는 일종의 틀의 역할을 수행한다.\n",
    "\n",
    "예를 들어, 성과 이름이 각각 `last_name`과 `first_name` 변수에 저장되어 있다."
   ]
  },
  {
   "cell_type": "code",
   "execution_count": 37,
   "metadata": {},
   "outputs": [],
   "source": [
    "last_name = \"홍\"\n",
    "first_name = \"길동\""
   ]
  },
  {
   "cell_type": "markdown",
   "metadata": {},
   "source": [
    "그러면 다음과 같이 문자열 덧셈을 이용하여 `'홍 길동'`을 생성할 수 있다."
   ]
  },
  {
   "cell_type": "code",
   "execution_count": 38,
   "metadata": {},
   "outputs": [
    {
     "data": {
      "text/plain": [
       "'홍 길동'"
      ]
     },
     "execution_count": 38,
     "metadata": {},
     "output_type": "execute_result"
    }
   ],
   "source": [
    "last_name + \" \"+ first_name"
   ]
  },
  {
   "cell_type": "markdown",
   "metadata": {},
   "source": [
    "또한 포맷 문자열을 이용하여 좀 더 유연하게 문자열을 다룰 수 있다."
   ]
  },
  {
   "cell_type": "code",
   "execution_count": 39,
   "metadata": {},
   "outputs": [
    {
     "data": {
      "text/plain": [
       "'홍 길동'"
      ]
     },
     "execution_count": 39,
     "metadata": {},
     "output_type": "execute_result"
    }
   ],
   "source": [
    "\"{1} {0}\".format(first_name, last_name)"
   ]
  },
  {
   "cell_type": "markdown",
   "metadata": {},
   "source": [
    "하지만 파이썬 최신 버젼부터는 f-문자열이 제공되며 편리성이 보다 높으며,\n",
    "이 강의에서는 f-만자열을 선호해서 사용할 것이다."
   ]
  },
  {
   "cell_type": "code",
   "execution_count": 40,
   "metadata": {},
   "outputs": [
    {
     "data": {
      "text/plain": [
       "'홍 길동'"
      ]
     },
     "execution_count": 40,
     "metadata": {},
     "output_type": "execute_result"
    }
   ],
   "source": [
    "f\"{last_name} {first_name}\""
   ]
  },
  {
   "cell_type": "markdown",
   "metadata": {},
   "source": [
    "### 예외 처리"
   ]
  },
  {
   "cell_type": "markdown",
   "metadata": {},
   "source": [
    "프로그램에 오류가 있거나 프로그램 실행 과정에서 오류가 발생할 경우 \n",
    "파이썬은 예외(exception)이 발생했음을 알려 주며, 프로그램의 실행을 멈춘다.\n",
    "하지만 경우에 따라 예외가 발생하더라도 프로그램의 실행을 무조건 멈추게 하지 않고\n",
    "발생한 오류에 맞춰 다른 일을 하게 할 수 있다."
   ]
  },
  {
   "cell_type": "code",
   "execution_count": 42,
   "metadata": {},
   "outputs": [
    {
     "name": "stdout",
     "output_type": "stream",
     "text": [
      "0으로 나눌 수 없어요!\n"
     ]
    }
   ],
   "source": [
    "try:\n",
    "    print(0 / 0)\n",
    "except ZeroDivisionError:\n",
    "    print(\"0으로 나눌 수 없어요!\")"
   ]
  },
  {
   "cell_type": "markdown",
   "metadata": {},
   "source": [
    "위 코드는 0으로 나누기를 실행할 때 발생하는 오류가 발견되면\n",
    "그냥 멈추지 말고 오류의 발생원인을 알려준다.\n",
    "\n",
    "예외 처리에 대해서는 이후에 다른 예제들을 통해 하나씩 살펴볼 것이다."
   ]
  },
  {
   "cell_type": "markdown",
   "metadata": {},
   "source": [
    "### 리스트\n",
    "\n",
    "파이썬에서 제공하는 자료형 중에서 가장 기본적인 자료형이다. \n",
    "리스트는 여러 개의 값을 하나의 모둠(collection)으로 묶는다.\n",
    "또한 리스트에 포함된 값들 사이의 순서가 있으며,\n",
    "순서는 인덱스(index)로 지정된다.\n",
    "\n",
    "**주의:** 인덱스는 0번 부터 시작하며, 0, 1, 2, 3, ... 등으로 리스트 왼편에 위치한 항목부터\n",
    "인덱스를 센다.\n",
    "\n",
    "리스트 항목은 아무 자료형이나 섞어서 사용될 수 있다."
   ]
  },
  {
   "cell_type": "markdown",
   "metadata": {},
   "source": [
    "#### 동일 자료형 리스트"
   ]
  },
  {
   "cell_type": "code",
   "execution_count": 44,
   "metadata": {},
   "outputs": [],
   "source": [
    "integer_list = [1, 2, 3]"
   ]
  },
  {
   "cell_type": "markdown",
   "metadata": {},
   "source": [
    "#### 섞인 자료형 리스트"
   ]
  },
  {
   "cell_type": "code",
   "execution_count": 45,
   "metadata": {},
   "outputs": [],
   "source": [
    "heterogeneous_list = [\"string\", 0.1, True]"
   ]
  },
  {
   "cell_type": "markdown",
   "metadata": {},
   "source": [
    "#### 중첩 리스트\n",
    "\n",
    "리스트가 다른 리스트의 항목으로 사용될 수 있으며,\n",
    "중첩 정도에 아무런 제한이 없다.\n",
    "\n",
    "**주의:** `[]`는 아무런 항목이 없는 공리스트(empty list)를 가리킨다. "
   ]
  },
  {
   "cell_type": "code",
   "execution_count": 47,
   "metadata": {},
   "outputs": [],
   "source": [
    "list_of_lists = [integer_list, heterogeneous_list, []]"
   ]
  },
  {
   "cell_type": "markdown",
   "metadata": {},
   "source": [
    "리스를 활용하는 많은 도구들이 있다."
   ]
  },
  {
   "cell_type": "markdown",
   "metadata": {},
   "source": [
    "#### 리스트 길이\n",
    "\n",
    "`len` 함수는 리스트의 길이를 리턴한다."
   ]
  },
  {
   "cell_type": "code",
   "execution_count": 49,
   "metadata": {},
   "outputs": [
    {
     "data": {
      "text/plain": [
       "3"
      ]
     },
     "execution_count": 49,
     "metadata": {},
     "output_type": "execute_result"
    }
   ],
   "source": [
    "len(integer_list)"
   ]
  },
  {
   "cell_type": "markdown",
   "metadata": {},
   "source": [
    "#### 리스트 항목들의 덧셈\n",
    "\n",
    "리스트 항목이 모두 숫자일 경우 모든 항목을 한꺼번에 더한 결과를 구할 수 있다."
   ]
  },
  {
   "cell_type": "code",
   "execution_count": 51,
   "metadata": {},
   "outputs": [
    {
     "data": {
      "text/plain": [
       "6"
      ]
     },
     "execution_count": 51,
     "metadata": {},
     "output_type": "execute_result"
    }
   ],
   "source": [
    "sum(integer_list)"
   ]
  },
  {
   "cell_type": "markdown",
   "metadata": {},
   "source": [
    "#### 인덱싱\n",
    "\n",
    "리스트의 특정 인덱스에 위치한 값을 확인하거나 수정할 수 있으며, 이를 **인덱싱**이라 부른다.\n",
    "기호는 대괄호(`[]`)를 사용한다."
   ]
  },
  {
   "cell_type": "code",
   "execution_count": 64,
   "metadata": {},
   "outputs": [
    {
     "name": "stdout",
     "output_type": "stream",
     "text": [
      "zero\t = 0\n",
      "one\t = 1\n",
      "nine\t = 9\n",
      "eight\t = 8\n",
      "x\t = [-1, 1, 2, 3, 4, 5, 6, 7, 8, 9]\n"
     ]
    }
   ],
   "source": [
    "x = [0, 1, 2, 3, 4, 5, 6, 7, 8, 9]\n",
    "\n",
    "zero = x[0]\n",
    "one = x[1] \n",
    "nine = x[-1]\n",
    "eight = x[-2]\n",
    "x[0] = -1\n",
    "\n",
    "print(f\"zero\\t = {zero}\", \n",
    "      f\"one\\t = {one}\", \n",
    "      f\"nine\\t = {nine}\", \n",
    "      f\"eight\\t = {eight}\", \n",
    "      f\"x\\t = {x}\", \n",
    "      sep='\\n')"
   ]
  },
  {
   "cell_type": "markdown",
   "metadata": {},
   "source": [
    "**주의:** \n",
    "\n",
    "* 프린트(`print`) 함수는 인자를 여러 개 받을 수 있으며, 각 인자를 모두 화면에 출력해 주는 함수이다.\n",
    "    `print` 함수의 각 인자들은 기본적으로 스페이스를 기준으로 한 줄에 출력되지만, \n",
    "    각 인자를 어떻게 구분해서 출력할지를 `sep`이라는 인자의 값을 조정하여 지정할 수 있다.\n",
    "    위에서는 줄바꿈(`\\n`)을 `sep`에 대한 인자값으로 지정하여서 각 인자들이 여러 줄로 나뉘어 출력되었다.\n",
    "\n",
    "* **역순 인덱스**(reverse index): 앞서 설명한 대로 인덱스는 리스트의 맨 왼편 항목부터 \n",
    "    0, 1, 2, 3, ... 식으로 번호를 매긴다.\n",
    "    반면에 리스트의 맨 오른편 항목부터 -1, -2, -3, ... 을 이용하여 역순으로 인덱스를 매길 수도 있다.\n",
    "    따라서 -1은 리스트의 오른편 마지막 항목을 가리키며 종종 활용된다."
   ]
  },
  {
   "cell_type": "markdown",
   "metadata": {},
   "source": [
    "#### 슬라이싱(slicing)\n",
    "\n",
    "슬라이싱은 두 인덱스 사이의 항목을 선택하여 활용할 때 사용된다."
   ]
  },
  {
   "cell_type": "markdown",
   "metadata": {},
   "source": [
    "0번부터 2번 인덱스 항목 선택, 즉, 왼편 끝 첫 3개 항목 선택"
   ]
  },
  {
   "cell_type": "code",
   "execution_count": 65,
   "metadata": {},
   "outputs": [
    {
     "data": {
      "text/plain": [
       "[-1, 1, 2]"
      ]
     },
     "execution_count": 65,
     "metadata": {},
     "output_type": "execute_result"
    }
   ],
   "source": [
    "x[:3]"
   ]
  },
  {
   "cell_type": "markdown",
   "metadata": {},
   "source": [
    "3번 부터 끝까지 모두 선택"
   ]
  },
  {
   "cell_type": "code",
   "execution_count": 66,
   "metadata": {},
   "outputs": [
    {
     "data": {
      "text/plain": [
       "[3, 4, 5, 6, 7, 8, 9]"
      ]
     },
     "execution_count": 66,
     "metadata": {},
     "output_type": "execute_result"
    }
   ],
   "source": [
    "x[3:]"
   ]
  },
  {
   "cell_type": "markdown",
   "metadata": {},
   "source": [
    "1번부터 4번 항목까지 선택"
   ]
  },
  {
   "cell_type": "code",
   "execution_count": 67,
   "metadata": {},
   "outputs": [
    {
     "data": {
      "text/plain": [
       "[1, 2, 3, 4]"
      ]
     },
     "execution_count": 67,
     "metadata": {},
     "output_type": "execute_result"
    }
   ],
   "source": [
    "x[1:5]"
   ]
  },
  {
   "cell_type": "markdown",
   "metadata": {},
   "source": [
    "오른쪽 끝에서 3번째 항목부터 모두 선택, 즉, 오른쪽 끝 3개 항목 선택"
   ]
  },
  {
   "cell_type": "code",
   "execution_count": 68,
   "metadata": {},
   "outputs": [
    {
     "data": {
      "text/plain": [
       "[7, 8, 9]"
      ]
     },
     "execution_count": 68,
     "metadata": {},
     "output_type": "execute_result"
    }
   ],
   "source": [
    "x[-3:]                 # [7, 8, 9]"
   ]
  },
  {
   "cell_type": "markdown",
   "metadata": {},
   "source": [
    "양끝 항목 제외한 나머지 선택"
   ]
  },
  {
   "cell_type": "code",
   "execution_count": 70,
   "metadata": {},
   "outputs": [
    {
     "data": {
      "text/plain": [
       "[1, 2, 3, 4, 5, 6, 7, 8]"
      ]
     },
     "execution_count": 70,
     "metadata": {},
     "output_type": "execute_result"
    }
   ],
   "source": [
    "x[1:-1]"
   ]
  },
  {
   "cell_type": "markdown",
   "metadata": {},
   "source": [
    "전체를 선택하여 다른 변수에 저장"
   ]
  },
  {
   "cell_type": "code",
   "execution_count": 71,
   "metadata": {},
   "outputs": [
    {
     "name": "stdout",
     "output_type": "stream",
     "text": [
      "[-1, 1, 2, 3, 4, 5, 6, 7, 8, 9]\n"
     ]
    }
   ],
   "source": [
    "copy_of_x = x[:]\n",
    "print(copy_of_x)"
   ]
  },
  {
   "cell_type": "markdown",
   "metadata": {},
   "source": [
    "#### 슬라이싱과 스텝(step)\n",
    "\n",
    "스텝인자를 추가로 사용하면 몇 개마다 하나씩 선택할 수 있다.\n",
    "\n",
    "예를 들어, 2번부터 오른쪽 끝 마지막 원소 전까지 3개씩 건너뛰며 항목 선택하려면 다음과 같이 한다.\n",
    "즉, 2번, 5번, 8번 인덱스 항목만 선택된다."
   ]
  },
  {
   "cell_type": "code",
   "execution_count": 73,
   "metadata": {},
   "outputs": [
    {
     "data": {
      "text/plain": [
       "[2, 5, 8]"
      ]
     },
     "execution_count": 73,
     "metadata": {},
     "output_type": "execute_result"
    }
   ],
   "source": [
    "x[2:-1:3]"
   ]
  },
  {
   "cell_type": "markdown",
   "metadata": {},
   "source": [
    "역순 슬라이싱도 가능하다. 스텝을 음수로 두면 된다.\n",
    "아래 코드는 8번, 5번 인덱스 항목을 선택한다.\n",
    "\n",
    "**주의:** 2번 인덱스 항목은 선택하지 않는다. 역순으로 2번 인덱스 이전 인덱스인 3번 인덱스까지만 해당되기 때문이다."
   ]
  },
  {
   "cell_type": "code",
   "execution_count": 74,
   "metadata": {},
   "outputs": [
    {
     "data": {
      "text/plain": [
       "[8, 5]"
      ]
     },
     "execution_count": 74,
     "metadata": {},
     "output_type": "execute_result"
    }
   ],
   "source": [
    "x[8:2:-3]"
   ]
  },
  {
   "cell_type": "markdown",
   "metadata": {},
   "source": [
    "#### 인(`in`) 연산자"
   ]
  },
  {
   "cell_type": "markdown",
   "metadata": {},
   "source": [
    "`in`은 항목의 포함여부를 판단해 주는 연산자이다.\n",
    "리턴값은 `True` 또는 `False`이다.\n",
    "\n",
    "**주의:** `True`와 `False`는 불(`bool`) 자료형에 속하는 값들이다."
   ]
  },
  {
   "cell_type": "code",
   "execution_count": 75,
   "metadata": {},
   "outputs": [
    {
     "data": {
      "text/plain": [
       "True"
      ]
     },
     "execution_count": 75,
     "metadata": {},
     "output_type": "execute_result"
    }
   ],
   "source": [
    "1 in [1, 2, 3]"
   ]
  },
  {
   "cell_type": "code",
   "execution_count": 76,
   "metadata": {},
   "outputs": [
    {
     "data": {
      "text/plain": [
       "False"
      ]
     },
     "execution_count": 76,
     "metadata": {},
     "output_type": "execute_result"
    }
   ],
   "source": [
    "0 in [1, 2, 3]"
   ]
  },
  {
   "cell_type": "markdown",
   "metadata": {},
   "source": [
    "#### 익스텐드(`extend`) 메소드\n",
    "\n",
    "익스텐드(`extend`)는 기존 리스트에 새로운 리스트를 이어붙이도록 해주는 함수이다.\n",
    "다만 리스트 자료형과만 함께 사용할 수 있으며, 이와 같이 특정 자료형에만 적용할 수 있는 함수를 \n",
    "**메소드**(method)라 부른다. \n",
    "\n",
    "`extend`의 경우 리스트 자료형에만 사용하며, 따라서 리스트 메소드라 부른다."
   ]
  },
  {
   "cell_type": "code",
   "execution_count": 79,
   "metadata": {},
   "outputs": [
    {
     "name": "stdout",
     "output_type": "stream",
     "text": [
      "[1, 2, 3, 4, 5, 6]\n"
     ]
    }
   ],
   "source": [
    "x = [1, 2, 3]\n",
    "x.extend([4, 5, 6])\n",
    "print(x)"
   ]
  },
  {
   "cell_type": "markdown",
   "metadata": {},
   "source": [
    "**주의:** `extend` 메소드는 기존 리스트를 변형시킨다. \n",
    "따라서 기존의 리스트를 건드리지 않으면서 새로운 리스트가 이어진 리스트를 생성하려면\n",
    "리스트 덧셈 연산자를 활용해야 한다."
   ]
  },
  {
   "cell_type": "code",
   "execution_count": 80,
   "metadata": {},
   "outputs": [
    {
     "name": "stdout",
     "output_type": "stream",
     "text": [
      "x = [1, 2, 3]\n",
      "y = [1, 2, 3, 4, 5, 6]\n"
     ]
    }
   ],
   "source": [
    "x = [1, 2, 3]\n",
    "y = x + [4, 5, 6]\n",
    "print(f\"x = {x}\", f\"y = {y}\", sep='\\n')"
   ]
  },
  {
   "cell_type": "markdown",
   "metadata": {},
   "source": [
    "#### 어펜드(`append`) 메소드\n",
    "\n",
    "어펜드(`append`)는 기존 리스트에 새로운 항목을 하나씩 추가할 수 있도록 해주는 함수이다.\n",
    "`extend`처럼 `append`도 리스트 자료형과만 함께 사용할 수 리스트 메소드이다."
   ]
  },
  {
   "cell_type": "code",
   "execution_count": 84,
   "metadata": {},
   "outputs": [
    {
     "name": "stdout",
     "output_type": "stream",
     "text": [
      "x = [1, 2, 3, 0]\n",
      "y = 0\n",
      "z = 4\n"
     ]
    }
   ],
   "source": [
    "x = [1, 2, 3]\n",
    "x.append(0)\n",
    "y = x[-1]  \n",
    "z = len(x) \n",
    "print(f\"x = {x}\", \n",
    "      f\"y = {y}\",\n",
    "      f\"z = {z}\", \n",
    "      sep='\\n')"
   ]
  },
  {
   "cell_type": "markdown",
   "metadata": {},
   "source": [
    "**주의:** \n",
    "\n",
    "* 엄밀한 메소드의 정의는 여기서는 다루지 않는다. 앞으로 많은 종류의 메소드를 살펴보게 될 것이다.\n",
    "* 앞서 다뤘던 렌(`len`) 함수는 리스트 메소드가 아니다.\n",
    "    앞서 살펴 보았듯이 문자열과 리스트의 길이뿐만 아니라, 앞으로 살펴보게될 \n",
    "    튜플, 사전 등 모든 모둠(collection) 자료형에 대해서도 동일한 기능을 수행하는 함수이다."
   ]
  },
  {
   "cell_type": "markdown",
   "metadata": {},
   "source": [
    "#### 리스트 해제하기(unpacking)\n",
    "\n",
    "리스트의 길이를 정확히 알고 있는 경우 각각의 항목을 따로따로 떼어내어 변수에 저장할 수 있다."
   ]
  },
  {
   "cell_type": "code",
   "execution_count": 87,
   "metadata": {},
   "outputs": [
    {
     "name": "stdout",
     "output_type": "stream",
     "text": [
      "x = 1\n",
      "y = 2\n",
      "z = 3\n"
     ]
    }
   ],
   "source": [
    "x, y, z = [1, 2, 3]\n",
    "print(f\"x = {x}\", \n",
    "      f\"y = {y}\",\n",
    "      f\"z = {z}\",\n",
    "      sep='\\n')"
   ]
  },
  {
   "cell_type": "markdown",
   "metadata": {},
   "source": [
    "**주의:** 리스트의 길이와 변수의 개수가 다르면 오류가 발생한다."
   ]
  },
  {
   "cell_type": "code",
   "execution_count": 89,
   "metadata": {},
   "outputs": [
    {
     "ename": "ValueError",
     "evalue": "too many values to unpack (expected 2)",
     "output_type": "error",
     "traceback": [
      "\u001b[0;31m---------------------------------------------------------------------------\u001b[0m",
      "\u001b[0;31mValueError\u001b[0m                                Traceback (most recent call last)",
      "\u001b[0;32m<ipython-input-89-43d2015d9ce2>\u001b[0m in \u001b[0;36m<module>\u001b[0;34m\u001b[0m\n\u001b[0;32m----> 1\u001b[0;31m \u001b[0mx\u001b[0m\u001b[0;34m,\u001b[0m \u001b[0my\u001b[0m \u001b[0;34m=\u001b[0m \u001b[0;34m[\u001b[0m\u001b[0;36m1\u001b[0m\u001b[0;34m,\u001b[0m \u001b[0;36m2\u001b[0m\u001b[0;34m,\u001b[0m \u001b[0;36m3\u001b[0m\u001b[0;34m]\u001b[0m\u001b[0;34m\u001b[0m\u001b[0;34m\u001b[0m\u001b[0m\n\u001b[0m",
      "\u001b[0;31mValueError\u001b[0m: too many values to unpack (expected 2)"
     ]
    }
   ],
   "source": [
    "x, y = [1, 2, 3]"
   ]
  },
  {
   "cell_type": "code",
   "execution_count": 90,
   "metadata": {},
   "outputs": [
    {
     "ename": "ValueError",
     "evalue": "not enough values to unpack (expected 4, got 3)",
     "output_type": "error",
     "traceback": [
      "\u001b[0;31m---------------------------------------------------------------------------\u001b[0m",
      "\u001b[0;31mValueError\u001b[0m                                Traceback (most recent call last)",
      "\u001b[0;32m<ipython-input-90-6891ae448c90>\u001b[0m in \u001b[0;36m<module>\u001b[0;34m\u001b[0m\n\u001b[0;32m----> 1\u001b[0;31m \u001b[0mx\u001b[0m\u001b[0;34m,\u001b[0m \u001b[0my\u001b[0m\u001b[0;34m,\u001b[0m \u001b[0mz\u001b[0m\u001b[0;34m,\u001b[0m \u001b[0mw\u001b[0m \u001b[0;34m=\u001b[0m \u001b[0;34m[\u001b[0m\u001b[0;36m1\u001b[0m\u001b[0;34m,\u001b[0m \u001b[0;36m2\u001b[0m\u001b[0;34m,\u001b[0m \u001b[0;36m3\u001b[0m\u001b[0;34m]\u001b[0m\u001b[0;34m\u001b[0m\u001b[0;34m\u001b[0m\u001b[0m\n\u001b[0m",
      "\u001b[0;31mValueError\u001b[0m: not enough values to unpack (expected 4, got 3)"
     ]
    }
   ],
   "source": [
    "x, y, z, w = [1, 2, 3]"
   ]
  },
  {
   "cell_type": "markdown",
   "metadata": {},
   "source": [
    "리스트를 해제하면서 앞으로 사용하지 않고 버릴 항목은 굳이 이름을 주지 않아도 된다.\n",
    "이를 위해 밑줄(`underscore`, 언더스코어) 기호를 사용한다."
   ]
  },
  {
   "cell_type": "code",
   "execution_count": 92,
   "metadata": {},
   "outputs": [
    {
     "name": "stdout",
     "output_type": "stream",
     "text": [
      "x = 1\n",
      "z = 3\n"
     ]
    }
   ],
   "source": [
    "x, _, z = [1, 2, 3]\n",
    "print(f\"x = {x}\", \n",
    "      f\"z = {z}\",\n",
    "      sep='\\n')"
   ]
  },
  {
   "cell_type": "code",
   "execution_count": null,
   "metadata": {},
   "outputs": [],
   "source": [
    "my_list = [1, 2]\n",
    "my_tuple = (1, 2)\n",
    "other_tuple = 3, 4\n",
    "my_list[1] = 3      # my_list is now [1, 3]\n",
    "\n",
    "try:\n",
    "    my_tuple[1] = 3\n",
    "except TypeError:\n",
    "    print(\"cannot modify a tuple\")\n",
    "\n",
    "def sum_and_product(x, y):\n",
    "    return (x + y), (x * y)\n",
    "\n",
    "sp = sum_and_product(2, 3)     # sp is (5, 6)\n",
    "s, p = sum_and_product(5, 10)  # s is 15, p is 50\n",
    "\n",
    "x, y = 1, 2     # now x is 1, y is 2\n",
    "x, y = y, x     # Pythonic way to swap variables; now x is 2, y is 1\n",
    "\n",
    "\n",
    "assert x == 2\n",
    "assert y == 1\n",
    "\n",
    "empty_dict = {}                     # Pythonic\n",
    "empty_dict2 = dict()                # less Pythonic\n",
    "grades = {\"Joel\": 80, \"Tim\": 95}    # dictionary literal\n",
    "\n",
    "joels_grade = grades[\"Joel\"]        # equals 80\n",
    "\n",
    "\n",
    "assert joels_grade == 80\n",
    "\n",
    "try:\n",
    "    kates_grade = grades[\"Kate\"]\n",
    "except KeyError:\n",
    "    print(\"no grade for Kate!\")\n",
    "\n",
    "joel_has_grade = \"Joel\" in grades     # True\n",
    "kate_has_grade = \"Kate\" in grades     # False\n",
    "\n",
    "\n",
    "assert joel_has_grade\n",
    "assert not kate_has_grade\n",
    "\n",
    "joels_grade = grades.get(\"Joel\", 0)   # equals 80\n",
    "kates_grade = grades.get(\"Kate\", 0)   # equals 0\n",
    "no_ones_grade = grades.get(\"No One\")  # default default is None\n",
    "\n",
    "\n",
    "assert joels_grade == 80\n",
    "assert kates_grade == 0\n",
    "assert no_ones_grade is None\n",
    "\n",
    "grades[\"Tim\"] = 99                    # replaces the old value\n",
    "grades[\"Kate\"] = 100                  # adds a third entry\n",
    "num_students = len(grades)            # equals 3\n",
    "\n",
    "\n",
    "assert num_students == 3\n",
    "\n",
    "tweet = {\n",
    "    \"user\" : \"joelgrus\",\n",
    "    \"text\" : \"Data Science is Awesome\",\n",
    "    \"retweet_count\" : 100,\n",
    "    \"hashtags\" : [\"#data\", \"#science\", \"#datascience\", \"#awesome\", \"#yolo\"]\n",
    "}\n",
    "\n",
    "tweet_keys   = tweet.keys()     # iterable for the keys\n",
    "tweet_values = tweet.values()   # iterable for the values\n",
    "tweet_items  = tweet.items()    # iterable for the (key, value) tuples\n",
    "\n",
    "\"user\" in tweet_keys            # True, but not Pythonic\n",
    "\"user\" in tweet                 # Pythonic way of checking for keys\n",
    "\"joelgrus\" in tweet_values      # True (slow but the only way to check)\n",
    "\n",
    "\n",
    "assert \"user\" in tweet_keys\n",
    "assert \"user\" in tweet\n",
    "assert \"joelgrus\" in tweet_values\n",
    "\n",
    "\n",
    "document = [\"data\", \"science\", \"from\", \"scratch\"]\n",
    "\n",
    "word_counts = {}\n",
    "for word in document:\n",
    "    if word in word_counts:\n",
    "        word_counts[word] += 1\n",
    "    else:\n",
    "        word_counts[word] = 1\n",
    "\n",
    "word_counts = {}\n",
    "for word in document:\n",
    "    try:\n",
    "        word_counts[word] += 1\n",
    "    except KeyError:\n",
    "        word_counts[word] = 1\n",
    "\n",
    "word_counts = {}\n",
    "for word in document:\n",
    "    previous_count = word_counts.get(word, 0)\n",
    "    word_counts[word] = previous_count + 1\n",
    "\n",
    "from collections import defaultdict\n",
    "\n",
    "word_counts = defaultdict(int)          # int() produces 0\n",
    "for word in document:\n",
    "    word_counts[word] += 1\n",
    "\n",
    "dd_list = defaultdict(list)             # list() produces an empty list\n",
    "dd_list[2].append(1)                    # now dd_list contains {2: [1]}\n",
    "\n",
    "dd_dict = defaultdict(dict)             # dict() produces an empty dict\n",
    "dd_dict[\"Joel\"][\"City\"] = \"Seattle\"     # {\"Joel\" : {\"City\": Seattle\"}}\n",
    "\n",
    "dd_pair = defaultdict(lambda: [0, 0])\n",
    "dd_pair[2][1] = 1                       # now dd_pair contains {2: [0, 1]}\n",
    "\n",
    "from collections import Counter\n",
    "c = Counter([0, 1, 2, 0])          # c is (basically) {0: 2, 1: 1, 2: 1}\n",
    "\n",
    "# recall, document is a list of words\n",
    "word_counts = Counter(document)\n",
    "\n",
    "# print the 10 most common words and their counts\n",
    "for word, count in word_counts.most_common(10):\n",
    "    print(word, count)\n",
    "\n",
    "primes_below_10 = {2, 3, 5, 7}\n",
    "\n",
    "s = set()\n",
    "s.add(1)       # s is now {1}\n",
    "s.add(2)       # s is now {1, 2}\n",
    "s.add(2)       # s is still {1, 2}\n",
    "x = len(s)     # equals 2\n",
    "y = 2 in s     # equals True\n",
    "z = 3 in s     # equals False\n",
    "\n",
    "\n",
    "hundreds_of_other_words = []  # required for the below code to run\n",
    "\n",
    "stopwords_list = [\"a\", \"an\", \"at\"] + hundreds_of_other_words + [\"yet\", \"you\"]\n",
    "\n",
    "\"zip\" in stopwords_list     # False, but have to check every element\n",
    "\n",
    "stopwords_set = set(stopwords_list)\n",
    "\"zip\" in stopwords_set      # very fast to check\n",
    "\n",
    "item_list = [1, 2, 3, 1, 2, 3]\n",
    "num_items = len(item_list)                # 6\n",
    "item_set = set(item_list)                 # {1, 2, 3}\n",
    "num_distinct_items = len(item_set)        # 3\n",
    "distinct_item_list = list(item_set)       # [1, 2, 3]\n",
    "\n",
    "\n",
    "assert num_items == 6\n",
    "assert item_set == {1, 2, 3}\n",
    "assert num_distinct_items == 3\n",
    "assert distinct_item_list == [1, 2, 3]\n",
    "\n",
    "if 1 > 2:\n",
    "    message = \"if only 1 were greater than two...\"\n",
    "elif 1 > 3:\n",
    "    message = \"elif stands for 'else if'\"\n",
    "else:\n",
    "    message = \"when all else fails use else (if you want to)\"\n",
    "\n",
    "parity = \"even\" if x % 2 == 0 else \"odd\"\n",
    "\n",
    "x = 0\n",
    "while x < 10:\n",
    "    print(f\"{x} is less than 10\")\n",
    "    x += 1\n",
    "\n",
    "# range(10) is the numbers 0, 1, ..., 9\n",
    "for x in range(10):\n",
    "    print(f\"{x} is less than 10\")\n",
    "\n",
    "for x in range(10):\n",
    "    if x == 3:\n",
    "        continue  # go immediately to the next iteration\n",
    "    if x == 5:\n",
    "        break     # quit the loop entirely\n",
    "    print(x)\n",
    "\n",
    "one_is_less_than_two = 1 < 2          # equals True\n",
    "true_equals_false = True == False     # equals False\n",
    "\n",
    "\n",
    "assert one_is_less_than_two\n",
    "assert not true_equals_false\n",
    "\n",
    "x = None\n",
    "assert x == None, \"this is the not the Pythonic way to check for None\"\n",
    "assert x is None, \"this is the Pythonic way to check for None\"\n",
    "\n",
    "\n",
    "def some_function_that_returns_a_string():\n",
    "    return \"\"\n",
    "\n",
    "s = some_function_that_returns_a_string()\n",
    "if s:\n",
    "    first_char = s[0]\n",
    "else:\n",
    "    first_char = \"\"\n",
    "\n",
    "first_char = s and s[0]\n",
    "\n",
    "safe_x = x or 0\n",
    "\n",
    "safe_x = x if x is not None else 0\n",
    "\n",
    "all([True, 1, {3}])   # True, all are truthy\n",
    "all([True, 1, {}])    # False, {} is falsy\n",
    "any([True, 1, {}])    # True, True is truthy\n",
    "all([])               # True, no falsy elements in the list\n",
    "any([])               # False, no truthy elements in the list\n",
    "\n",
    "x = [4, 1, 2, 3]\n",
    "y = sorted(x)     # y is [1, 2, 3, 4], x is unchanged\n",
    "x.sort()          # now x is [1, 2, 3, 4]\n",
    "\n",
    "# sort the list by absolute value from largest to smallest\n",
    "x = sorted([-4, 1, -2, 3], key=abs, reverse=True)  # is [-4, 3, -2, 1]\n",
    "\n",
    "# sort the words and counts from highest count to lowest\n",
    "wc = sorted(word_counts.items(),\n",
    "            key=lambda word_and_count: word_and_count[1],\n",
    "            reverse=True)\n",
    "\n",
    "even_numbers = [x for x in range(5) if x % 2 == 0]  # [0, 2, 4]\n",
    "squares      = [x * x for x in range(5)]            # [0, 1, 4, 9, 16]\n",
    "even_squares = [x * x for x in even_numbers]        # [0, 4, 16]\n",
    "\n",
    "\n",
    "assert even_numbers == [0, 2, 4]\n",
    "assert squares == [0, 1, 4, 9, 16]\n",
    "assert even_squares == [0, 4, 16]\n",
    "\n",
    "square_dict = {x: x * x for x in range(5)}  # {0: 0, 1: 1, 2: 4, 3: 9, 4: 16}\n",
    "square_set  = {x * x for x in [1, -1]}      # {1}\n",
    "\n",
    "\n",
    "assert square_dict == {0: 0, 1: 1, 2: 4, 3: 9, 4: 16}\n",
    "assert square_set == {1}\n",
    "\n",
    "zeros = [0 for _ in even_numbers]      # has the same length as even_numbers\n",
    "\n",
    "\n",
    "assert zeros == [0, 0, 0]\n",
    "\n",
    "pairs = [(x, y)\n",
    "         for x in range(10)\n",
    "         for y in range(10)]   # 100 pairs (0,0) (0,1) ... (9,8), (9,9)\n",
    "\n",
    "\n",
    "assert len(pairs) == 100\n",
    "\n",
    "increasing_pairs = [(x, y)                       # only pairs with x < y,\n",
    "                    for x in range(10)           # range(lo, hi) equals\n",
    "                    for y in range(x + 1, 10)]   # [lo, lo + 1, ..., hi - 1]\n",
    "\n",
    "\n",
    "assert len(increasing_pairs) == 9 + 8 + 7 + 6 + 5 + 4 + 3 + 2 + 1\n",
    "assert all(x < y for x, y in increasing_pairs)\n",
    "\n",
    "assert 1 + 1 == 2\n",
    "assert 1 + 1 == 2, \"1 + 1 should equal 2 but didn't\"\n",
    "\n",
    "def smallest_item(xs):\n",
    "    return min(xs)\n",
    "\n",
    "assert smallest_item([10, 20, 5, 40]) == 5\n",
    "assert smallest_item([1, 0, -1, 2]) == -1\n",
    "\n",
    "def smallest_item(xs):\n",
    "    assert xs, \"empty list has no smallest item\"\n",
    "    return min(xs)\n",
    "\n",
    "class CountingClicker:\n",
    "    \"\"\"A class can/should have a docstring, just like a function\"\"\"\n",
    "\n",
    "    def __init__(self, count = 0):\n",
    "        self.count = count\n",
    "\n",
    "    def __repr__(self):\n",
    "        return f\"CountingClicker(count={self.count})\"\n",
    "\n",
    "    def click(self, num_times = 1):\n",
    "        \"\"\"Click the clicker some number of times.\"\"\"\n",
    "        self.count += num_times\n",
    "\n",
    "    def read(self):\n",
    "        return self.count\n",
    "\n",
    "    def reset(self):\n",
    "        self.count = 0\n",
    "\n",
    "clicker = CountingClicker()\n",
    "assert clicker.read() == 0, \"clicker should start with count 0\"\n",
    "clicker.click()\n",
    "clicker.click()\n",
    "assert clicker.read() == 2, \"after two clicks, clicker should have count 2\"\n",
    "clicker.reset()\n",
    "assert clicker.read() == 0, \"after reset, clicker should be back to 0\"\n",
    "\n",
    "# A subclass inherits all the behavior of its parent class.\n",
    "class NoResetClicker(CountingClicker):\n",
    "    # This class has all the same methods as CountingClicker\n",
    "\n",
    "    # Except that it has a reset method that does nothing.\n",
    "    def reset(self):\n",
    "        pass\n",
    "\n",
    "clicker2 = NoResetClicker()\n",
    "assert clicker2.read() == 0\n",
    "clicker2.click()\n",
    "assert clicker2.read() == 1\n",
    "clicker2.reset()\n",
    "assert clicker2.read() == 1, \"reset shouldn't do anything\"\n",
    "\n",
    "def generate_range(n):\n",
    "    i = 0\n",
    "    while i < n:\n",
    "        yield i   # every call to yield produces a value of the generator\n",
    "        i += 1\n",
    "\n",
    "for i in generate_range(10):\n",
    "    print(f\"i: {i}\")\n",
    "\n",
    "def natural_numbers():\n",
    "    \"\"\"returns 1, 2, 3, ...\"\"\"\n",
    "    n = 1\n",
    "    while True:\n",
    "        yield n\n",
    "        n += 1\n",
    "\n",
    "evens_below_20 = (i for i in generate_range(20) if i % 2 == 0)\n",
    "\n",
    "# None of these computations *does* anything until we iterate\n",
    "data = natural_numbers()\n",
    "evens = (x for x in data if x % 2 == 0)\n",
    "even_squares = (x ** 2 for x in evens)\n",
    "even_squares_ending_in_six = (x for x in even_squares if x % 10 == 6)\n",
    "# and so on\n",
    "\n",
    "\n",
    "assert next(even_squares_ending_in_six) == 16\n",
    "assert next(even_squares_ending_in_six) == 36\n",
    "assert next(even_squares_ending_in_six) == 196\n",
    "\n",
    "names = [\"Alice\", \"Bob\", \"Charlie\", \"Debbie\"]\n",
    "\n",
    "# not Pythonic\n",
    "for i in range(len(names)):\n",
    "    print(f\"name {i} is {names[i]}\")\n",
    "\n",
    "# also not Pythonic\n",
    "i = 0\n",
    "for name in names:\n",
    "    print(f\"name {i} is {names[i]}\")\n",
    "    i += 1\n",
    "\n",
    "# Pythonic\n",
    "for i, name in enumerate(names):\n",
    "    print(f\"name {i} is {name}\")\n",
    "\n",
    "import random\n",
    "random.seed(10)  # this ensures we get the same results every time\n",
    "\n",
    "four_uniform_randoms = [random.random() for _ in range(4)]\n",
    "\n",
    "# [0.5714025946899135,       # random.random() produces numbers\n",
    "#  0.4288890546751146,       # uniformly between 0 and 1\n",
    "#  0.5780913011344704,       # it's the random function we'll use\n",
    "#  0.20609823213950174]      # most often\n",
    "\n",
    "random.seed(10)         # set the seed to 10\n",
    "print(random.random())  # 0.57140259469\n",
    "random.seed(10)         # reset the seed to 10\n",
    "print(random.random())  # 0.57140259469 again\n",
    "\n",
    "random.randrange(10)    # choose randomly from range(10) = [0, 1, ..., 9]\n",
    "random.randrange(3, 6)  # choose randomly from range(3, 6) = [3, 4, 5]\n",
    "\n",
    "up_to_ten = [1, 2, 3, 4, 5, 6, 7, 8, 9, 10]\n",
    "random.shuffle(up_to_ten)\n",
    "print(up_to_ten)\n",
    "# [7, 2, 6, 8, 9, 4, 10, 1, 3, 5]   (your results will probably be different)\n",
    "\n",
    "my_best_friend = random.choice([\"Alice\", \"Bob\", \"Charlie\"])     # \"Bob\" for me\n",
    "\n",
    "lottery_numbers = range(60)\n",
    "winning_numbers = random.sample(lottery_numbers, 6)  # [16, 36, 10, 6, 25, 9]\n",
    "\n",
    "four_with_replacement = [random.choice(range(10)) for _ in range(4)]\n",
    "print(four_with_replacement)  # [9, 4, 4, 2]\n",
    "\n",
    "import re\n",
    "\n",
    "re_examples = [                        # all of these are true, because\n",
    "    not re.match(\"a\", \"cat\"),              #  'cat' doesn't start with 'a'\n",
    "    re.search(\"a\", \"cat\"),                 #  'cat' has an 'a' in it\n",
    "    not re.search(\"c\", \"dog\"),             #  'dog' doesn't have a 'c' in it\n",
    "    3 == len(re.split(\"[ab]\", \"carbs\")),   #  split on a or b to ['c','r','s']\n",
    "    \"R-D-\" == re.sub(\"[0-9]\", \"-\", \"R2D2\") #  replace digits with dashes\n",
    "    ]\n",
    "\n",
    "assert all(re_examples), \"all the regex examples should be True\"\n",
    "\n",
    "list1 = ['a', 'b', 'c']\n",
    "list2 = [1, 2, 3]\n",
    "\n",
    "# zip is lazy, so you have to do something like the following\n",
    "[pair for pair in zip(list1, list2)]    # is [('a', 1), ('b', 2), ('c', 3)]\n",
    "\n",
    "\n",
    "assert [pair for pair in zip(list1, list2)] == [('a', 1), ('b', 2), ('c', 3)]\n",
    "\n",
    "pairs = [('a', 1), ('b', 2), ('c', 3)]\n",
    "letters, numbers = zip(*pairs)\n",
    "\n",
    "letters, numbers = zip(('a', 1), ('b', 2), ('c', 3))\n",
    "\n",
    "def add(a, b): return a + b\n",
    "\n",
    "add(1, 2)      # returns 3\n",
    "try:\n",
    "    add([1, 2])\n",
    "except TypeError:\n",
    "    print(\"add expects two inputs\")\n",
    "add(*[1, 2])   # returns 3\n",
    "\n",
    "def doubler(f):\n",
    "    # Here we define a new function that keeps a reference to f\n",
    "    def g(x):\n",
    "        return 2 * f(x)\n",
    "\n",
    "    # And return that new function.\n",
    "    return g\n",
    "\n",
    "def f1(x):\n",
    "    return x + 1\n",
    "\n",
    "g = doubler(f1)\n",
    "assert g(3) == 8,  \"(3 + 1) * 2 should equal 8\"\n",
    "assert g(-1) == 0, \"(-1 + 1) * 2 should equal 0\"\n",
    "\n",
    "def f2(x, y):\n",
    "    return x + y\n",
    "\n",
    "g = doubler(f2)\n",
    "try:\n",
    "    g(1, 2)\n",
    "except TypeError:\n",
    "    print(\"as defined, g only takes one argument\")\n",
    "\n",
    "def magic(*args, **kwargs):\n",
    "    print(\"unnamed args:\", args)\n",
    "    print(\"keyword args:\", kwargs)\n",
    "\n",
    "magic(1, 2, key=\"word\", key2=\"word2\")\n",
    "\n",
    "# prints\n",
    "#  unnamed args: (1, 2)\n",
    "#  keyword args: {'key': 'word', 'key2': 'word2'}\n",
    "\n",
    "def other_way_magic(x, y, z):\n",
    "    return x + y + z\n",
    "\n",
    "x_y_list = [1, 2]\n",
    "z_dict = {\"z\": 3}\n",
    "assert other_way_magic(*x_y_list, **z_dict) == 6, \"1 + 2 + 3 should be 6\"\n",
    "\n",
    "def doubler_correct(f):\n",
    "    \"\"\"works no matter what kind of inputs f expects\"\"\"\n",
    "    def g(*args, **kwargs):\n",
    "        \"\"\"whatever arguments g is supplied, pass them through to f\"\"\"\n",
    "        return 2 * f(*args, **kwargs)\n",
    "    return g\n",
    "\n",
    "g = doubler_correct(f2)\n",
    "assert g(1, 2) == 6, \"doubler should work now\"\n",
    "\n",
    "def add(a, b):\n",
    "    return a + b\n",
    "\n",
    "assert add(10, 5) == 15,                  \"+ is valid for numbers\"\n",
    "assert add([1, 2], [3]) == [1, 2, 3],     \"+ is valid for lists\"\n",
    "assert add(\"hi \", \"there\") == \"hi there\", \"+ is valid for strings\"\n",
    "\n",
    "try:\n",
    "    add(10, \"five\")\n",
    "except TypeError:\n",
    "    print(\"cannot add an int to a string\")\n",
    "\n",
    "def add(a: int, b: int) -> int:\n",
    "    return a + b\n",
    "\n",
    "add(10, 5)           # you'd like this to be OK\n",
    "add(\"hi \", \"there\")  # you'd like this to be not OK\n",
    "\n",
    "\n",
    "# This is not in the book, but it's needed\n",
    "# to make the `dot_product` stubs not error out.\n",
    "from typing import List\n",
    "Vector = List[float]\n",
    "\n",
    "def dot_product(x, y): ...\n",
    "\n",
    "# we have not yet defined Vector, but imagine we had\n",
    "def dot_product(x: Vector, y: Vector) -> float: ...\n",
    "\n",
    "from typing import Union\n",
    "\n",
    "def secretly_ugly_function(value, operation): ...\n",
    "\n",
    "def ugly_function(value: int, operation: Union[str, int, float, bool]) -> int:\n",
    "    ...\n",
    "\n",
    "def total(xs: list) -> float:\n",
    "    return sum(xs)\n",
    "\n",
    "from typing import List  # note capital L\n",
    "\n",
    "def total(xs: List[float]) -> float:\n",
    "    return sum(xs)\n",
    "\n",
    "# This is how to type-annotate variables when you define them.\n",
    "# But this is unnecessary; it's \"obvious\" x is an int.\n",
    "x: int = 5\n",
    "\n",
    "values = []         # what's my type?\n",
    "best_so_far = None  # what's my type?\n",
    "\n",
    "from typing import Optional\n",
    "\n",
    "values: List[int] = []\n",
    "best_so_far: Optional[float] = None  # allowed to be either a float or None\n",
    "\n",
    "\n",
    "lazy = True\n",
    "\n",
    "# the type annotations in this snippet are all unnecessary\n",
    "from typing import Dict, Iterable, Tuple\n",
    "\n",
    "# keys are strings, values are ints\n",
    "counts: Dict[str, int] = {'data': 1, 'science': 2}\n",
    "\n",
    "# lists and generators are both iterable\n",
    "if lazy:\n",
    "    evens: Iterable[int] = (x for x in range(10) if x % 2 == 0)\n",
    "else:\n",
    "    evens = [0, 2, 4, 6, 8]\n",
    "\n",
    "# tuples specify a type for each element\n",
    "triple: Tuple[int, float, int] = (10, 2.3, 5)\n",
    "\n",
    "from typing import Callable\n",
    "\n",
    "# The type hint says that repeater is a function that takes\n",
    "# two arguments, a string and an int, and returns a string.\n",
    "def twice(repeater: Callable[[str, int], str], s: str) -> str:\n",
    "    return repeater(s, 2)\n",
    "\n",
    "def comma_repeater(s: str, n: int) -> str:\n",
    "    n_copies = [s for _ in range(n)]\n",
    "    return ', '.join(n_copies)\n",
    "\n",
    "assert twice(comma_repeater, \"type hints\") == \"type hints, type hints\"\n",
    "\n",
    "Number = int\n",
    "Numbers = List[Number]\n",
    "\n",
    "def total(xs: Numbers) -> Number:\n",
    "    return sum(xs)"
   ]
  },
  {
   "cell_type": "markdown",
   "metadata": {},
   "source": [
    "#### 모둠 자료형(collection data types)\n",
    "\n",
    "* `list`\n",
    "    * `list`의 `append` 메소드\n",
    "* `tuple`\n",
    "* `dict` 유사점과 차이점\n",
    "    * 사전 자료형에 포함된 항목들의 순서는 전혀 의미가 없다.\n",
    "    * `defaultdict` 개념과 활용\n",
    "        * [여기](https://docs.python.org/3/library/collections.html#collections.defaultdict) 설명 참조"
   ]
  },
  {
   "cell_type": "markdown",
   "metadata": {},
   "source": [
    "#### 리스트 정렬\n",
    "* 옵션: 키(`key`), 리버스(`reverse`)\n",
    "* 리스트의 길이가 매우 큰 경우 정렬이 아닌 다른 방법을 활용하는 것이 좋다. \n",
    "    정렬은 (시간적/공간적) 비용이 많이 들기 때문이다. \n",
    "    즉, 시간도 많이 들고 메모리도 많이 사용한다."
   ]
  },
  {
   "cell_type": "markdown",
   "metadata": {},
   "source": [
    "#### 조건제시법\n",
    "* 튜플, 리스트, 딕셔너리 조건제시법\n",
    "* 집합 조건제시법과 유사"
   ]
  },
  {
   "cell_type": "markdown",
   "metadata": {},
   "source": [
    "#### `Counter` 자료형 및 함수\n",
    "* `Counter` 클래스 활용법 익히기"
   ]
  },
  {
   "cell_type": "markdown",
   "metadata": {},
   "source": [
    "#### 함수\n",
    "\n",
    "* 파이썬에서 함수 정의하는 법\n",
    "* `lambda` 함수"
   ]
  },
  {
   "cell_type": "markdown",
   "metadata": {},
   "source": [
    "#### 확률과 통계 기초\n",
    "\n",
    "* 평균\n",
    "    * 평균값(average, 애버리지)\n",
    "    * 중앙값(median, 미디언)\n",
    "    * 최빈값(mode, 모드)\n",
    "\n",
    "* 산점도"
   ]
  },
  {
   "cell_type": "markdown",
   "metadata": {},
   "source": [
    "#### 파이썬으로 그래프 그리기\n",
    "\n",
    "* 맷플롯립(`matplotlib`) 라이브러리를 활용하여 그래프 그리기\n",
    "    * 3장에서 좀 더 다양한 그래프 그리는 방법을 다룰 예정임."
   ]
  }
 ],
 "metadata": {
  "kernelspec": {
   "display_name": "Python 3",
   "language": "python",
   "name": "python3"
  },
  "language_info": {
   "codemirror_mode": {
    "name": "ipython",
    "version": 3
   },
   "file_extension": ".py",
   "mimetype": "text/x-python",
   "name": "python",
   "nbconvert_exporter": "python",
   "pygments_lexer": "ipython3",
   "version": "3.6.8"
  }
 },
 "nbformat": 4,
 "nbformat_minor": 2
}
