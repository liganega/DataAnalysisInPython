{
 "cells": [
  {
   "cell_type": "markdown",
   "metadata": {},
   "source": [
    "# 가설과 추론"
   ]
  },
  {
   "cell_type": "markdown",
   "metadata": {},
   "source": [
    "지금까지 배운 통계와 확률 이론을 활용하여\n",
    "가설을 세우고 검정하는 방법을 배운다.\n",
    "\n",
    "여기서 다루는 주제는 다음과 같다.\n",
    "\n",
    "1. 통계적 가설검정\n",
    "    1. 귀무가설/대립가설\n",
    "    1. 유의수준\n",
    "    1. 양측검정/단측검정\n",
    "    1. 기각역과 가설검정\n",
    "    1. $p$-값과 가설검정\n",
    "1. 신뢰구간\n",
    "    1. 신뢰구간과 가설검정\n",
    "    1. 신뢰수준/유의수준\n",
    "1. $p$-해킹, 세상 일이 원래 그렇다!\n",
    "1. A/B 테스트\n",
    "1. 베이지안 추론\n",
    "    1. 사전분포/사후분포\n",
    "    1. 베타분포"
   ]
  },
  {
   "cell_type": "markdown",
   "metadata": {},
   "source": [
    "## 통계적 가설검정"
   ]
  },
  {
   "cell_type": "markdown",
   "metadata": {},
   "source": [
    "통계적 가설검정은 \n",
    "모집단에 대한 가설을 세운 후 표본을 통해 얻은 통계를 이용하여 \n",
    "해당 가설을 검정(test)하는 것을 의미한다."
   ]
  },
  {
   "cell_type": "markdown",
   "metadata": {},
   "source": [
    "**참고**: 검정(test), 테스팅(testing), 검증(verification)은 조금씩 다른 의미로 사용된다. \n",
    "\n",
    "* 검정: 일정 기준을 만족하는지 여부 판단\n",
    "* 테스팅: 특정 기능을 잘 수행하는지 여부 판단\n",
    "* 검증: 특정 성질을 만족하는지 여부 판단"
   ]
  },
  {
   "cell_type": "markdown",
   "metadata": {},
   "source": [
    "### 귀무가설과 대립가설"
   ]
  },
  {
   "cell_type": "markdown",
   "metadata": {},
   "source": [
    "검정 대상인 가설을 **귀무가설**($H_0$, null hypothesis), \n",
    "그에 대립되는 가설을 **대립가설**($H_1$, alternative hypothesis)라 부른다. \n",
    "\n",
    "통계를 사용하여 귀무가설 $H_0$를 받아들일지, 아니면 기각하고 대립가설 $H_1$을 받아들일지를 결정한다.\n",
    "귀무가설을 검정할 때 발생할 수 있는 오류에는 두 종류가 있다. \n",
    "\n",
    "* **제1종 오류**: 귀무가설 $H_0$가 참이지만 기각하는 오류\n",
    "* **제2종 오류**: 귀무가설 $H_0$가 거짓이지만 받아들이는 오류\n",
    "\n",
    "그리고 제2종 오류가 발생하지 않을 확률을 **검정력**이라 부른다."
   ]
  },
  {
   "cell_type": "markdown",
   "metadata": {},
   "source": [
    "## 주요 예제: 동전 던지기"
   ]
  },
  {
   "cell_type": "markdown",
   "metadata": {},
   "source": [
    "동전 던지기를 이용하여 통계적 가설검정을 설명한다. \n",
    "\n",
    "지금까지는 동전이 정상적인 동전인지 아니면 앞면 또는 뒷면이 보다 많이 나오는 편향된 동전인지 \n",
    "알고서 특정 사건이 발생할 확률을 구했다. \n",
    "그런데 이제는 동전에 대한 정보를 모른다고 가정한다.\n",
    "그리고 나서 모의실험 결과를 확인한 후에 동전이 정상적인 동전인지 여부를 추정한다.\n",
    "이게 바로 **통계적 가설검정**이라고 부르는 이유이다. "
   ]
  },
  {
   "cell_type": "markdown",
   "metadata": {},
   "source": [
    "### 이항분포와 정규분포"
   ]
  },
  {
   "cell_type": "markdown",
   "metadata": {},
   "source": [
    "동전을 $n$번 던져서 앞면이 나오는 횟수를 $X$라 하면,\n",
    "$X$는 이항분포를 따르는 확률변수로 간주될 수 있습니다.\n",
    "이유는 동전을 던져 앞면이 나오는 것을 성공이라고 할 때 반복적인 동전 던지기는\n",
    "아래 조건을 만족하는 **베르누이 시행**이 되기 때문입니다.\n",
    "\n",
    "* 동일한 동전을 던질 때마다 앞면(성공) 또는 뒷면(실패) 두 결과만 갖는다.\n",
    "* 동일한 동전을 던질 때마다 앞면이 나올 확률 $p$와, 뒷면이 나올 확률 $1-p$는 그 값이 일정하다. \n",
    "* 동일한 동전을 던진 결과가 이전, 이후의 동전 던지기의 결과와 아무 상관이 없다. \n",
    "    즉, 각각의 동전 던지기 시행이 상호 독립적이다.\n",
    "\n",
    "따라서 동전을 한 번 던져서 앞면이 나올 확률을 $p$라 할 때,\n",
    "$X$는 베르누이 확률분포를 따르며\n",
    "따라서 다음 모양의 이항분포로 표기할 수 있습니다. \n",
    "\n",
    "$$X \\sim B(n, p)$$\n",
    "\n",
    "또한 앞서 살펴 보았듯이 $n$이 충분히 크면 중심극한정리에 의해\n",
    "$X$는 평균값(mean)은 $\\mu = n p$ 이고 \n",
    "표준편차는 $\\sigma = \\sqrt{n p (1-p)}$ 인 \n",
    "정규분포를 따른다.\n",
    "즉, 다음이 성립한다.\n",
    "\n",
    "$$X \\sim N(n p, n p (1-p))$$\n",
    "\n",
    "아래 코드는 $n$이 충분히 클 때 확률 변수 $X$의 평균값과 표준편차를 구해주는 함수를 정의한다."
   ]
  },
  {
   "cell_type": "markdown",
   "metadata": {},
   "source": [
    "이제 동전을 1,000번 던지는 모의실험을 실행했다고 가정하자. \n",
    "즉, $n = 1000$ 이다.\n",
    "\n",
    "\n",
    "그리고 검정해야할 (귀무)가설 $H_0$는 '동전이 정상이다'로 정한다.\n",
    "\n",
    "> $H_0$: $p = 0.5$\n",
    "\n",
    "아래 코드는 $n$이 충분히 클 때 확률 변수 $X$의 평균값과 표준편차를 구해주는 함수를 정의한다."
   ]
  },
  {
   "cell_type": "markdown",
   "metadata": {},
   "source": [
    "아래 코드는 $n$이 충분히 클 때 확률 변수 $X$의 평균값과 표준편차를 구해주는 함수를 정의한다."
   ]
  },
  {
   "cell_type": "code",
   "execution_count": 1,
   "metadata": {},
   "outputs": [],
   "source": [
    "from typing import Tuple\n",
    "import math\n",
    "\n",
    "def normal_approximation_to_binomial(n: int, p: float) -> Tuple[float, float]:\n",
    "    \"\"\"\n",
    "    X ~ B(n,p)이고 n이 충분히 클 때,\n",
    "    평균값 mu와 표준편차 sigma 계산 \n",
    "    \"\"\"\n",
    "    mu = p * n\n",
    "    sigma = math.sqrt(p * (1 - p) * n)\n",
    "    return mu, sigma"
   ]
  },
  {
   "cell_type": "markdown",
   "metadata": {},
   "source": [
    "'동전 1000번 던지기'의 경우 앞면이 나온 횟수 $X$가 따르는 정규분포는 다음과 같다.\n",
    "\n",
    "$$X \\sim N(\\mu_0, \\sigma_0^2) = N(500, 250) = N(500, 15.8^2)$$\n",
    "\n",
    "$\\mu_0$와 $\\sigma_0$ 계산은 앞서 정의한 함수를 이용한다."
   ]
  },
  {
   "cell_type": "code",
   "execution_count": null,
   "metadata": {},
   "outputs": [],
   "source": []
  },
  {
   "cell_type": "code",
   "execution_count": 2,
   "metadata": {},
   "outputs": [
    {
     "name": "stdout",
     "output_type": "stream",
     "text": [
      "평균:\t500.0\n",
      "표준편차:\t15.8\n"
     ]
    }
   ],
   "source": [
    "mu_0, sigma_0 = normal_approximation_to_binomial(1000, 0.5)\n",
    "print(f\"평균:\\t{mu_0}\")\n",
    "print(f\"표준편차:\\t{sigma_0:.1f}\")"
   ]
  },
  {
   "cell_type": "markdown",
   "metadata": {},
   "source": [
    "이제 동전을 1,000번 던지는 모의실험을 실행했다고 가정하자. \n",
    "즉, $n = 1000$ 이다.\n",
    "그리고 '동전이 정상이다'라는 가설을 검정해야 한다. \n",
    "즉, 검정 대상 가설인 귀무가설($H_0$)를 아래와 같이 지정한다.\n",
    "\n",
    "> $H_0$: $p = 0.5$"
   ]
  },
  {
   "cell_type": "markdown",
   "metadata": {},
   "source": [
    "### 주의사항"
   ]
  },
  {
   "cell_type": "markdown",
   "metadata": {},
   "source": [
    "여기서 설명하는 가설검정은 다루는 확률분포가 정규분포를 따른다고 전제한다.\n",
    "하지만 정규분포가 아니라 하더라도 다루는 수치가 조금 달라질 뿐 기본적으로 동일한 과정으로 가설검정이 진행된다. \n",
    "정규분포를 따르는가 여부를 확인하려면 앞서 설명한 방식으로 모의실험을 진행해서 그래프로 그려보면 된다."
   ]
  },
  {
   "cell_type": "markdown",
   "metadata": {},
   "source": [
    "### 정규분포 관련 함수 정리"
   ]
  },
  {
   "cell_type": "markdown",
   "metadata": {},
   "source": [
    "아래 코드는 $n$이 충분히 클 때 확률 변수 $X$의 평균값과 표준편차를 구해주는 함수를 정의한다."
   ]
  },
  {
   "cell_type": "markdown",
   "metadata": {},
   "source": [
    "정규분포를 이용한 가설검정을 수행하기 위해 필요한 관련 함수들을 먼저 확인하고자 한다. \n",
    "아래 코드는 이전에 사용한 코드를 모아 놓은 '../scratch' 폴더에 있는\n",
    "파이썬 모듈을 불러오기 위해 필요하다. "
   ]
  },
  {
   "cell_type": "code",
   "execution_count": 3,
   "metadata": {},
   "outputs": [],
   "source": [
    "import os\n",
    "import sys\n",
    "sys.path.insert(0, os.path.abspath('..'))"
   ]
  },
  {
   "cell_type": "markdown",
   "metadata": {},
   "source": [
    "가설검정은 발생한 특정 사건이 지정된 확률 분포 구간에 포함되는지 \n",
    "여부를 확인하여 귀무가설을 받아들일지 여부를 판단한다.\n",
    "\n",
    "여기서는 정규분포에서 확률 변수가 특정 값보다 작을 확률을 \n",
    "계산하는 누적 분포 함수 `normal_cdf()` 를 이용하여, \n",
    "확률 변수가 특정 구간에 포함될 확률을 계산하는 도우미 함수 네 개를 정의한다. \n",
    "\n",
    "* `normal_probability_below`: 확률 변수가 특정 값보다 작을 확률\n",
    "* `normal_probability_above`: 확률 변수가 특정 값보다 클 확률\n",
    "* `normal_probability_between`: 확률 변수가 특정 구간에 위치할 확률\n",
    "* `normal_probability_outside`:확률 변수가 특정 구간 밖에 위치할 확률"
   ]
  },
  {
   "cell_type": "code",
   "execution_count": 4,
   "metadata": {},
   "outputs": [
    {
     "data": {
      "text/plain": [
       "<Figure size 432x288 with 0 Axes>"
      ]
     },
     "metadata": {},
     "output_type": "display_data"
    }
   ],
   "source": [
    "from scratch.probability import normal_cdf\n",
    "\n",
    "normal_probability_below = normal_cdf\n",
    "\n",
    "def normal_probability_above(lo: float,\n",
    "                             mu: float = 0,\n",
    "                             sigma: float = 1) -> float:\n",
    "    return 1 - normal_cdf(lo, mu, sigma)\n",
    "\n",
    "def normal_probability_between(lo: float,\n",
    "                               hi: float,\n",
    "                               mu: float = 0,\n",
    "                               sigma: float = 1) -> float:\n",
    "    return normal_cdf(hi, mu, sigma) - normal_cdf(lo, mu, sigma)\n",
    "\n",
    "def normal_probability_outside(lo: float,\n",
    "                               hi: float,\n",
    "                               mu: float = 0,\n",
    "                               sigma: float = 1) -> float:\n",
    "    return 1 - normal_probability_between(lo, hi, mu, sigma)"
   ]
  },
  {
   "cell_type": "markdown",
   "metadata": {},
   "source": [
    "또한 누적 분포 함수의 역함수를 이용하여 확률이 주어졌을 때 평균값을 중심으로\n",
    "좌우 어느 정도의 구간에 해당하는지를 계산하는 것과 관련된 함수 세 개를 정의한다.\n",
    "\n",
    "* `normal_upper_bound(p)`: $P(Z \\le z)=p$ 인 $z$ 계산\n",
    "* `normal_lower_bound(p)`:$P(Z \\ge z)=p$ 인 $z$ 계산\n",
    "* `normal_two_sided_bound(p)`:$P(z_1 \\le Z \\le z_2)=p$ 인 $z_1, z_2$ 계산"
   ]
  },
  {
   "cell_type": "code",
   "execution_count": 5,
   "metadata": {},
   "outputs": [],
   "source": [
    "from scratch.probability import inverse_normal_cdf\n",
    "\n",
    "def normal_upper_bound(probability: float,\n",
    "                       mu: float = 0,\n",
    "                       sigma: float = 1) -> float:\n",
    "    return inverse_normal_cdf(probability, mu, sigma)\n",
    "\n",
    "def normal_lower_bound(probability: float,\n",
    "                       mu: float = 0,\n",
    "                       sigma: float = 1) -> float:\n",
    "    return inverse_normal_cdf(1 - probability, mu, sigma)\n",
    "\n",
    "def normal_two_sided_bounds(probability: float,\n",
    "                            mu: float = 0,\n",
    "                            sigma: float = 1) -> Tuple[float, float]:\n",
    "    tail_probability = (1 - probability) / 2\n",
    "\n",
    "    upper_bound = normal_lower_bound(tail_probability, mu, sigma)\n",
    "\n",
    "    lower_bound = normal_upper_bound(tail_probability, mu, sigma)\n",
    "\n",
    "    return lower_bound, upper_bound"
   ]
  },
  {
   "cell_type": "markdown",
   "metadata": {},
   "source": [
    "### 주의사항"
   ]
  },
  {
   "cell_type": "markdown",
   "metadata": {},
   "source": [
    "여기서 설명하는 가설검정은 다루는 확률분포가 정규분포를 따른다고 전제한다.\n",
    "하지만 정규분포가 아니라 하더라도 다루는 수치가 조금 달라질 뿐 기본적으로 동일한 과정으로 가설검정이 진행된다. \n",
    "정규분포를 따르는가 여부를 확인하려면 앞서 설명한 방식으로 모의실험을 진행해서 그래프로 그려보면 된다."
   ]
  },
  {
   "cell_type": "markdown",
   "metadata": {},
   "source": [
    "## 통계적 가설검정"
   ]
  },
  {
   "cell_type": "markdown",
   "metadata": {},
   "source": [
    "통계적 가설검정은 \n",
    "모집단에 대한 가설을 세운 후 표본을 통해 얻은 통계를 이용하여 \n",
    "해당 가설을 검정(test)하는 것을 의미한다."
   ]
  },
  {
   "cell_type": "markdown",
   "metadata": {},
   "source": [
    "**참고**: 검정(test), 테스팅(testing), 검증(verification)은 조금씩 다른 의미로 사용된다. \n",
    "\n",
    "* 검정: 일정 기준을 만족하는지 여부 판단\n",
    "* 테스팅: 특정 기능을 잘 수행하는지 여부 판단\n",
    "* 검증: 특정 성질을 만족하는지 여부 판단"
   ]
  },
  {
   "cell_type": "markdown",
   "metadata": {},
   "source": [
    "### 귀무가설과 대립가설"
   ]
  },
  {
   "cell_type": "markdown",
   "metadata": {},
   "source": [
    "검정 대상인 가설을 **귀무가설**($H_0$, null hypothesis), \n",
    "그에 대립되는 가설을 **대립가설**($H_1$, alternative hypothesis)라 부른다. \n",
    "\n",
    "통계를 사용하여 귀무가설 $H_0$를 받아들일지, 아니면 기각하고 대립가설 $H_1$을 받아들일지를 결정한다.\n",
    "귀무가설을 검정할 때 발생할 수 있는 오류에는 두 종류가 있다. \n",
    "\n",
    "* **제1종 오류**: 귀무가설 $H_0$가 참이지만 기각하는 오류\n",
    "* **제2종 오류**: 귀무가설 $H_0$가 거짓이지만 받아들이는 오류\n",
    "\n",
    "그리고 제2종 오류가 발생하지 않을 확률을 **검정력**이라 부른다."
   ]
  },
  {
   "cell_type": "markdown",
   "metadata": {},
   "source": [
    "### 유의수준"
   ]
  },
  {
   "cell_type": "markdown",
   "metadata": {},
   "source": [
    "귀무가설을 검정하려면 먼저 **유의수준**(significance)을 지정해야 한다.\n",
    "유의수준은 보통 5% 또는 1%로 정하며, 여기서는 5%를 사용한다.\n",
    "\n",
    "유의수준이 5%라는 것은 \n",
    "귀무가설이 정말로 참이라고 해도 \n",
    "발생확률이 5%가 안되는 사건이 모의실험에서 발생하면 \n",
    "어쩔 수 없이 귀무가설을 기각해야 한다는 것을 의미한다.\n",
    "즉, 제1종 오류를 범할 확률이 5%라는 의미이다."
   ]
  },
  {
   "cell_type": "markdown",
   "metadata": {},
   "source": [
    "### 양측검정/단측검정"
   ]
  },
  {
   "cell_type": "markdown",
   "metadata": {},
   "source": [
    "가설검정 방법에 크게 세 가지 방법이 있다.\n",
    "\n",
    "* **양측검정**(two-tailed test)\n",
    "    * 귀무가설: '...이 ...와 동일하다'의 형식\n",
    "    * 대립가설:  '...이 ...와 동일하지 않다'의 형식\n",
    "* **상단측검정**(upper-tailed test)\n",
    "    * 귀무가설: '...이 ...보다 같거자 작다'의 형식\n",
    "    * 대립가설: '...이 ...보다 크다'의 형식\n",
    "* **하단측검정**(lower-tailed test)\n",
    "    * 귀무가설: '...이 ...보다 같거나 크다'의 형식\n",
    "    * 대립가설: '...이 ...보다 작다'의 형식    "
   ]
  },
  {
   "cell_type": "markdown",
   "metadata": {},
   "source": [
    "### 기각역과 가설검정"
   ]
  },
  {
   "cell_type": "markdown",
   "metadata": {},
   "source": [
    "유의수준에 따라 귀무가설을 기각하기 위한 기준으로 사용되는 값들의 집합을 **기각역**이라 하며,\n",
    "가설검정 방식에 따라 위치와 크기가 달라진다.\n",
    "아래 그래프는 차례대로 유의수준 5%에서 양측검정, 상단측검정, 하단측검정의 기각역을 보여준다."
   ]
  },
  {
   "cell_type": "markdown",
   "metadata": {},
   "source": [
    "<p>\n",
    "<table cellspacing=\"20\">\n",
    "<tr>\n",
    "    <td><img src=\"../images/two-sided-region.png\"></td>\n",
    "    <td><img src=\"../images/one-sided-region-up.png\"></td>\n",
    "    <td><img src=\"../images/one-sided-region-down.png\"></td>\n",
    "</tr>\n",
    "<tr>\n",
    "    <td>양측검정</td>\n",
    "    <td>상단측검정</td>\n",
    "    <td>하단측검정</td>\n",
    "</tr>\n",
    "</table>\n",
    "</p>"
   ]
  },
  {
   "cell_type": "markdown",
   "metadata": {},
   "source": [
    "#### 동전 던지기 양측검정\n",
    "\n",
    "귀무가설이 $H_0: p = 0.5$, 즉 '동전이 정상적이다'라는 가설을 검정해야 하므로,\n",
    "대립가설을 '동전이 정상적이 아니다'에 해당하는 $H_1: p \\neq 5$로 정한다.\n",
    "그리고 이럴 경우 양측검정을 사용해서 가설검정을 실행한다.\n",
    "\n",
    "유의수준 5%로 양측검정을 실행할 때, 기각역은 위 첫째 그래프에서 보이는 것처럼\n",
    "양끝의 2.5%에 해당하는 구간이다. \n",
    "실제로 확인해보면 다음과 같다."
   ]
  },
  {
   "cell_type": "code",
   "execution_count": 6,
   "metadata": {},
   "outputs": [
    {
     "name": "stdout",
     "output_type": "stream",
     "text": [
      "하단기각역: 469 이하\n",
      "상단기각역: 531 이상\n"
     ]
    }
   ],
   "source": [
    "from math import ceil, floor\n",
    "\n",
    "lo, hi = normal_two_sided_bounds(0.95, mu_0, sigma_0)\n",
    "\n",
    "print(f\"하단기각역: {floor(lo)} 이하\")\n",
    "print(f\"상단기각역: {ceil(hi)} 이상\")"
   ]
  },
  {
   "cell_type": "markdown",
   "metadata": {},
   "source": [
    "위 결과의 의미는 다음과 같다.\n",
    "\n",
    "귀무가설이 참일 때, 즉, 정상적인 동전을 1,000번 던지면\n",
    "\n",
    "* 2.5%의 확률로 469회 이하 앞면이 나오고,\n",
    "* 2.5%의 확률로 531회 이상 앞면이 나온다.\n",
    "* 즉, 앞면이 나오는 횟수가 469에서 531 사이에 발생할 확률이 95%이다.\n",
    "\n",
    "**주의** 'k가 m에서 n 사이이다'의 의미는 'm < k < n'을 의미한다. "
   ]
  },
  {
   "cell_type": "markdown",
   "metadata": {},
   "source": [
    "<img src=\"../images/p-value_469531.png\" width=\"50%\">"
   ]
  },
  {
   "cell_type": "markdown",
   "metadata": {},
   "source": [
    "따라서 모의실험 결과 앞면이 나온 횟수가 469회 이하 또는 531회 이상이면 \n",
    "발생가능성이 5%로 매우 희박한 일이 발생하였다고 보고\n",
    "귀무가설을 기각한다.\n",
    "\n",
    "물론, 확률이 5%라는 게 매우 낮은 수치이기는 하지만 0%는 아니기에 정상적인 동전을 1,000번\n",
    "던졌을 때 발생할 수는 있다.\n",
    "이런 의미에서 옳은 귀무가설을 기각하는 잘못을 저지를 확률이 바로 유의수준 5%의 의미이다."
   ]
  },
  {
   "cell_type": "markdown",
   "metadata": {},
   "source": [
    "##### 동전 던지기 양측검정과 검정력"
   ]
  },
  {
   "cell_type": "markdown",
   "metadata": {},
   "source": [
    "검정력(test power)은 틀린 귀무가설을 기각하지 않는 확률인\n",
    "**제2종 오류**를 범하지 않을 확률이다.\n",
    "따라서 검정력을 계산하려면 제2종 오류를 범할 확률을 구해야 한다.\n",
    "\n",
    "예를 들어, 동전 앞면이 나올 확률이 $p=0.55$로 앞면쪽으로 약간 편향되어 있다고 하자.\n",
    "그러면 해당 정규분포의 평균과 표준펴차는 다음과 같다.\n",
    "\n",
    "$$X \\sim B(1000, 0.55) \\sim N(\\mu_1, \\sigma_1^2) = N(550, 15.7^2)$$\n",
    "\n",
    "$\\mu_1$와 $\\sigma_1$ 계산은 `normal_approximation_to_binomial()` 함수를 이용한다."
   ]
  },
  {
   "cell_type": "code",
   "execution_count": null,
   "metadata": {},
   "outputs": [],
   "source": []
  },
  {
   "cell_type": "markdown",
   "metadata": {},
   "source": [
    "'동전 1000번 던지기'의 경우 앞면이 나온 횟수 $X$가 따르는 정규분포는 다음과 같다.\n",
    "\n",
    "$$X \\sim N(\\mu_0, \\sigma_0^2) = N(500, 250) = N(500, 15.8^2)$$\n",
    "\n",
    "$\\mu_0$와 $\\sigma_0$ 계산은 앞서 정의한 함수를 이용한다."
   ]
  },
  {
   "cell_type": "code",
   "execution_count": 7,
   "metadata": {},
   "outputs": [
    {
     "name": "stdout",
     "output_type": "stream",
     "text": [
      "p=0.55일 때 평균(mu_1):\t\t 550.0\n",
      "p=0.55일 때 표준편차(sigma_1):\t 15.732132722552274\n"
     ]
    }
   ],
   "source": [
    "mu_1, sigma_1 = normal_approximation_to_binomial(1000, 0.55)\n",
    "print(f\"p=0.55일 때 평균(mu_1):\\t\\t {mu_1}\")\n",
    "print(f\"p=0.55일 때 표준편차(sigma_1):\\t {sigma_1}\")"
   ]
  },
  {
   "cell_type": "markdown",
   "metadata": {},
   "source": [
    "그래서 제2종 오류를 범할 확률은\n",
    "$p=0.55$인 동전을 1,000번 던졌을 때 \n",
    "469회에서 531회 사이에 앞면이 나올 확률을 아래와 같이 계산하면 된다. \n",
    "\n",
    "아래 코드에서 `mu_1, sigma_1`이 사용되었음에 주의하라.\n",
    "이는 편향된 동전을 기준으로 앞면이 469회에서 531회 사이로 나올 확률을 계산하는 것을 \n",
    "의미한다. 그리고 그런 사건이 벌어지면 어쩔 수 없이 정상적인 동전이라고 가정하는 수밖에 없다.\n",
    "\n",
    "실제로 아래 코드를 이용하여 계산된 확률은 11.3%이다."
   ]
  },
  {
   "cell_type": "code",
   "execution_count": 8,
   "metadata": {},
   "outputs": [
    {
     "name": "stdout",
     "output_type": "stream",
     "text": [
      "0.113\n"
     ]
    }
   ],
   "source": [
    "type_2_probability = normal_probability_between(lo, hi, mu_1, sigma_1)\n",
    "print(f\"{type_2_probability:.3f}\")"
   ]
  },
  {
   "cell_type": "markdown",
   "metadata": {},
   "source": [
    "따라서 제2종 오류를 범하지 않을 확률인 검정력은 88.7%이다."
   ]
  },
  {
   "cell_type": "code",
   "execution_count": 9,
   "metadata": {},
   "outputs": [
    {
     "name": "stdout",
     "output_type": "stream",
     "text": [
      "0.887\n"
     ]
    }
   ],
   "source": [
    "power = 1 - type_2_probability\n",
    "print(f\"{power:.3f}\")"
   ]
  },
  {
   "cell_type": "markdown",
   "metadata": {},
   "source": [
    "#### 동전 던지기 상단측검정"
   ]
  },
  {
   "cell_type": "markdown",
   "metadata": {},
   "source": [
    "앞서 검정력을 양측검정을 이용하여 계산하였다.\n",
    "하지만 귀무가설을 '동전이 앞면이 덜 나온다'로 정하면 상단측검정을 이용해야 한다.\n",
    "즉, 귀무가설과 대립가설을 아래와 같이 설정한다.\n",
    "\n",
    "* $H_0: p \\le 0.5$\n",
    "* $H_1: p > 0.5$\n",
    "\n",
    "따라서 유의수준 5%의 기각역은 $p=0.5$일 때 상단 5%에 해당하는 구간이다.\n",
    "이유는 $p\\le 0.5$ 일 때, 95%의 확률로 나올 수 있는 앞면의 횟수의 최댓값은\n",
    "$p=0.5$일 때 95%의 확률로 나올 수 있는 앞면의 횟수의 최댓값이기 때문이다. \n",
    "\n",
    "아래 코드에서 확인할 수 있듯이 기각역은 527부터 시작한다.\n",
    "즉, 앞면이 526회 이하로 나오면 나오면 정상적인 동전을 던졌을 때 나올 확률이 5% 이하인 경우가 발생한 것이다."
   ]
  },
  {
   "cell_type": "code",
   "execution_count": 10,
   "metadata": {},
   "outputs": [
    {
     "name": "stdout",
     "output_type": "stream",
     "text": [
      "hi 값: 526.007\n"
     ]
    }
   ],
   "source": [
    "hi = normal_upper_bound(0.95, mu_0, sigma_0)\n",
    "print(f\"hi 값: {hi:.3f}\")"
   ]
  },
  {
   "cell_type": "markdown",
   "metadata": {},
   "source": [
    "<img src=\"../images/p-value_527.png\" width=\"50%\">"
   ]
  },
  {
   "cell_type": "markdown",
   "metadata": {},
   "source": [
    "따라서 $p= 0.55$인 동전이라 하더라도 동전을 1,000번 던졌을 때 \n",
    "526회 이하로 앞면이 나오면 귀무가설을 기각할 수 없다. \n",
    "따라서 아래 코드가 계산해주듯이 제2종 오류를 범할 확률은 6.4%이다."
   ]
  },
  {
   "cell_type": "code",
   "execution_count": 11,
   "metadata": {},
   "outputs": [
    {
     "name": "stdout",
     "output_type": "stream",
     "text": [
      "0.064\n"
     ]
    }
   ],
   "source": [
    "type_2_probability = normal_probability_below(hi, mu_1, sigma_1)\n",
    "print(f\"{type_2_probability:.3f}\")"
   ]
  },
  {
   "cell_type": "markdown",
   "metadata": {},
   "source": [
    "즉, 검정력이 93.6%로 높아진다."
   ]
  },
  {
   "cell_type": "code",
   "execution_count": 12,
   "metadata": {},
   "outputs": [
    {
     "name": "stdout",
     "output_type": "stream",
     "text": [
      "0.936\n"
     ]
    }
   ],
   "source": [
    "power = 1 - type_2_probability \n",
    "print(f\"{power:.3f}\")"
   ]
  },
  {
   "cell_type": "markdown",
   "metadata": {},
   "source": [
    "### 연습문제\n",
    "\n",
    "동전 던지기를 이용하여 하단측검정 문제를 설정하고 검정력을 계산하라."
   ]
  },
  {
   "cell_type": "markdown",
   "metadata": {},
   "source": [
    "### $p$-값과 가설검정"
   ]
  },
  {
   "cell_type": "markdown",
   "metadata": {},
   "source": [
    "$p$-값은 가설검정을 다른 관점에서 진행할 때 계산하는 값이다. \n",
    "\n",
    "앞서 동전 던지기 예제에서 귀무가설을 가정하고, 동전을 1,000번 던졌을 때\n",
    "앞면이 나오는 횟수가 95%의 확률로 '469에서 531 사이' 이고,\n",
    "따라서 그 범위를 벗어나면 귀무가설을 기각한다 라고 하였다.\n",
    "즉, 가설검정 과정을 요약하면 다음과 같다.\n",
    "\n",
    "1. 귀무가설을 전제로 하는 확률 분포 설정\n",
    "1. 지정된 유의수준을 이용하여 기각역 계산\n",
    "1. 모의실험 결과가 기각역에 포함되는지 여부 판단\n",
    "1. 귀무가설 기각 여부 판단\n",
    "\n",
    "하지만 이 설명을 아래와 같이 다르게 설명할 수 있다.\n",
    "\n",
    "1. 모의실험 결과를 확인한다.\n",
    "    * 예를 들어, 1,000번 던져서 앞면이 530번 관측되었다고 하자.\n",
    "    <br><br>\n",
    "\n",
    "2. 귀무가설이 참일 때, 모의실험 결과와 같은 극단적인 값이 나올 확률을 계산한다. \n",
    "    계산된 확률을 **$p$-값**이라 부른다.\n",
    "    * 예를 들어, 앞면이 530회 이상 발생할 확률 $p$ 를 계산한다.\n",
    "    * 530회 이상 발생할 확률을 구하는 이유는 주사위의 편향 여부를 판단하기 위해서이다.\n",
    "    <br><br>\n",
    "3. $p$-값을 유의수준과 비교한다.\n",
    "    * 양측검정의 경우\n",
    "        * 유의수준의 **절반** 보다 크면, 모의실험 결과가 기각역 밖에 위치한다는 의미이며 따라서 귀무가설을 받아들인다.\n",
    "        * 유의수준의 **절반** 보다 작으면, 모의실험 결과가 기각역 안에 위치한다는 의미이며 따라서 귀무가설을 기각한다.\n",
    "    * 단측검정의 경우\n",
    "        * 유의수준 보다 크면, 모의실험 결과가 기각역 밖에 위치한다는 의미이며 따라서 귀무가설을 받아들인다.\n",
    "        * 유의수준 보다 작으면, 모의실험 결과가 기각역 안에 위치한다는 의미이며 따라서 귀무가설을 기각한다."
   ]
  },
  {
   "cell_type": "markdown",
   "metadata": {},
   "source": [
    "#### $p$-값과 양측검정"
   ]
  },
  {
   "cell_type": "markdown",
   "metadata": {},
   "source": [
    "`two_sided_p_value()` 함수는 양측검정 기준으로\n",
    "실제로 관측된 값보다 더 극단적인 값이 나올 확률을 구한다. \n",
    "최종 결과가 유의수준보다 크면 해당 사건이 기각역 밖에 존재한다는 의미이다.\n",
    "사용되는 함수는 다음과 같다.\n",
    "\n",
    "* `normal_probability_above()`: 지정된 값보다 더 큰 값을 가질 확률\n",
    "* `normal_probability_below()`: 지정된 값보다 더 작은 값을 가질 확률\n",
    "\n",
    "**주의**: 아래 코드에서 정의된 `two_sided_p_value`는\n",
    "관측된 값보다 더 크거나 작은 값이 나올 확률을\n",
    "**유의수준 자체와 직접 비교**할 수 있도록 앞서 언급된 두 함수가 내주는 값의 두 배를 리턴값으로 내준다.\n",
    "아래 함수를 수정할 수 있지만, 이후에 사용되는 코드와의 호환성을 위해 그대로 사용한다."
   ]
  },
  {
   "cell_type": "code",
   "execution_count": 13,
   "metadata": {},
   "outputs": [],
   "source": [
    "def two_sided_p_value(x: float, \n",
    "                      mu: float = 0, \n",
    "                      sigma: float = 1) -> float:\n",
    "    if x >= mu:\n",
    "        return 2 * normal_probability_above(x, mu, sigma)\n",
    "    else:\n",
    "        return 2 * normal_probability_below(x, mu, sigma)"
   ]
  },
  {
   "cell_type": "markdown",
   "metadata": {},
   "source": [
    "##### 예제"
   ]
  },
  {
   "cell_type": "markdown",
   "metadata": {},
   "source": [
    "정상적인 동전을 던져서 앞면이 530회 나오는 것보다 더 극단적인 값이 나올 확률은 6.2%이며, 5% 보다 크다.\n",
    "이는 530이 기각역 밖에 존재한다는 의미이고, 따라서 귀무가설을 받아들인다."
   ]
  },
  {
   "cell_type": "code",
   "execution_count": 14,
   "metadata": {},
   "outputs": [
    {
     "data": {
      "text/plain": [
       "0.06207721579598835"
      ]
     },
     "execution_count": 14,
     "metadata": {},
     "output_type": "execute_result"
    }
   ],
   "source": [
    "two_sided_p_value(529.5, mu_0, sigma_0)"
   ]
  },
  {
   "cell_type": "markdown",
   "metadata": {},
   "source": [
    "<img src=\"../images/p-value_530.png\" width=\"50%\">"
   ]
  },
  {
   "cell_type": "markdown",
   "metadata": {},
   "source": [
    "##### 연속성 보정"
   ]
  },
  {
   "cell_type": "markdown",
   "metadata": {},
   "source": [
    "앞선 코드에서 인자로 530 대신에 529.5를 사용하는 이유는 **연속성 보정** 때문이다.\n",
    "연속성 보정은 이산 데이터에 대한 확률 추정을 연속 데이터에 대한 확률 추정을 이용할 경우 \n",
    "기본적으로 사용된다.\n",
    "\n",
    "동전 던지기는 전형적인 이산 확률분포의 한 종류인 이항분포이다.\n",
    "반복횟수가 크면 중심극한정리에 연속확률분포인 정규분포로 다룰 수 있지만\n",
    "그래도 엄밀히 따지면 이산확률분포이다.\n",
    "따라서 정규분포를 이용해 확률을 계산할 때 오차를 보정해줄 필요가 있다.\n",
    "이를 **연속성 보정**(continuity correction)이라 부르며,\n",
    "아래 방법을 사용한다.\n",
    "\n",
    "* 어떤 사건이 $k$회 이상 나올 확률을 계산 할 때, 보통 $k-0.5$ 이상에 대한 확률을 계산한다.\n",
    "* 어떤 사건이 $k$회 이하 나올 확률을 계산 할 때, 보통 $k+0.5$ 이하에 대한 확률을 계산한다.\n",
    "\n",
    "수학적으로 확률은 확률밀도함수로 둘러싸인 면적을 적분으로 계산한다.\n",
    "따라서 아래 그림에서 보이는 것처럼 보정을 해주는 것이 합리적이다.\n",
    "아래 그림에서 보면 선그래프로 면적을 계산하는 것과 막대들의 면적으로 계산하는 것 사이에 오차가\n",
    "있음을 알 수 있다. \n",
    "또한 $\\pm 0.5$를 해주는 이유 또한 그래프에서 확인할 수 있다.\n",
    "보다 자세한 설명은 [연속성 보정](https://github.com/liganega/Stats/blob/master/notes/Stats09_Normal_Distrubution_2.pdf)을 \n",
    "참조한다."
   ]
  },
  {
   "cell_type": "markdown",
   "metadata": {},
   "source": [
    "<img src=\"../images/continuity_correction.png\" width=\"50%\">"
   ]
  },
  {
   "cell_type": "markdown",
   "metadata": {},
   "source": [
    "##### 모의실험으로 확인하기"
   ]
  },
  {
   "cell_type": "markdown",
   "metadata": {},
   "source": [
    "정규분포 통계를 이용하지 않고, 모의실험을 통해 위 결과를 확인할 수 있다.\n",
    "즉, '동전 1,000번 던지기'를 10,000번 반복하여 1,000번 던질 때 앞면이 \n",
    "530회 이상 또는 470회 이하로 나오는 확률을 \n",
    "모의실험해 보면 거의 비슷한 결과를 얻는다.\n",
    "\n",
    "코드에 사용된 요소는 다음과 같다.\n",
    "\n",
    "* `random` 모듈\n",
    "    * `seed()` 함수: 동일한 모의실험 실행을 위해 사용됨.\n",
    "    * `random()` 함수: 무작위로 0 이상, 1 미만의 부동소수점 선택.\n",
    "* `extreme_value_count`: 동전을 1,000번 던져서 앞면에 530회 이상 또는 470회 이하로\n",
    "    나오는 경우가 몇 번이었는지 기억.\n",
    "* 주사위 1,000 번 던지기의 결과를 생성하기 위해 아래 모양의 제너레이터를 사용\n",
    "    무작위로 생성된 부동소수점이 0.5보자 작으면 0, 아니면 1로 정함.\n",
    "    > (1 if random.random() < 0.5 else 0 for _ in range(1000))\n"
   ]
  },
  {
   "cell_type": "code",
   "execution_count": 15,
   "metadata": {},
   "outputs": [
    {
     "data": {
      "text/plain": [
       "0.0617"
      ]
     },
     "execution_count": 15,
     "metadata": {},
     "output_type": "execute_result"
    }
   ],
   "source": [
    "import random\n",
    "\n",
    "# 실행할 때 마다 동일한 결과를 얻기 위해 seed 지정\n",
    "random.seed(1000)\n",
    "\n",
    "# 동전을 1000번 던져서 앞면이 530회 이상 또는 470회 이하로 나오는 경우 기억하기\n",
    "extreme_value_count = 0\n",
    "\n",
    "# '동전 1000번 던지기'를 1만번 반복하기\n",
    "# 반복할 때마다 앞면이 나오는 횟수를 센다. \n",
    "for _ in range(10000):\n",
    "    num_heads = sum(1 if random.random() < 0.5 else 0 for _ in range(1000))\n",
    "    if num_heads >= 530 or num_heads <= 470:         \n",
    "        extreme_value_count += 1                     \n",
    "\n",
    "# 최종 확률\n",
    "extreme_value_count / 10000"
   ]
  },
  {
   "cell_type": "markdown",
   "metadata": {},
   "source": [
    "반면에 모의실험 결과 앞면이 532번 나왔다면\n",
    "532번과 같은 극단적인 경우가 발생할 사건에 대한 $p$-값은 4.63%이며, 5% 이하이다.\n",
    "따라서 귀무가설을 기각해야 한다. "
   ]
  },
  {
   "cell_type": "code",
   "execution_count": 16,
   "metadata": {},
   "outputs": [
    {
     "data": {
      "text/plain": [
       "0.046345287837786575"
      ]
     },
     "execution_count": 16,
     "metadata": {},
     "output_type": "execute_result"
    }
   ],
   "source": [
    "# 연속성 보정에 주의할 것.\n",
    "two_sided_p_value(531.5, mu_0, sigma_0)"
   ]
  },
  {
   "cell_type": "markdown",
   "metadata": {},
   "source": [
    "#### $p$-값과 단측검정"
   ]
  },
  {
   "cell_type": "markdown",
   "metadata": {},
   "source": [
    "단측검정을 하는 경우 기각역이 양쪽 끝이 아니라 상단 또는 하단 끝에서 지정된다.\n",
    "따라서 양측검정에 대한 $p$-값을 구할 때와는 달리 아래 두 함수를 이용하여\n",
    "상단 또는 하단 끝의 영역에 속할 확률을 구하기만 하면 된다.\n",
    "\n",
    "* `normal_probability_above()`: 지정된 값보다 더 큰 값을 가질 확률\n",
    "* `normal_probability_below()`: 지정된 값보다 더 작은 값을 가질 확률\n",
    "\n",
    "아래 코드는 위 두 함수에 별칭을 주어서 활용한다. \n",
    "최종 결과가 유의수준보다 크면 해당 사건이 기각역 밖에 존재한다는 의미이다."
   ]
  },
  {
   "cell_type": "code",
   "execution_count": 17,
   "metadata": {},
   "outputs": [],
   "source": [
    "upper_p_value = normal_probability_above\n",
    "lower_p_value = normal_probability_below"
   ]
  },
  {
   "cell_type": "markdown",
   "metadata": {},
   "source": [
    "예를 들어 동전이 525회 나왔다면 $p$-값은 6.1%이며, 따라서 귀무가설을 기각하지 않는다.\n",
    "반면에 527회 나왔다면, $p$-값은 4.7%이며, 따라서 귀무가설을 기각한다. "
   ]
  },
  {
   "cell_type": "code",
   "execution_count": 18,
   "metadata": {},
   "outputs": [
    {
     "name": "stdout",
     "output_type": "stream",
     "text": [
      "525회 이상에 대한 p-값: 0.061\n",
      "527회 이상에 대한 p-값: 0.047\n"
     ]
    }
   ],
   "source": [
    "print(\"525회 이상에 대한 p-값:\", \"{:.3f}\".format(upper_p_value(524.5, mu_0, sigma_0)))\n",
    "print(\"527회 이상에 대한 p-값:\", \"{:.3f}\".format(upper_p_value(526.5, mu_0, sigma_0)))"
   ]
  },
  {
   "cell_type": "markdown",
   "metadata": {},
   "source": [
    "<img src=\"../images/p-value_525.png\" width=\"50%\">"
   ]
  },
  {
   "cell_type": "markdown",
   "metadata": {},
   "source": [
    "## 신뢰구간"
   ]
  },
  {
   "cell_type": "markdown",
   "metadata": {},
   "source": [
    "가설검정을 할 때 어떤 사건이 발생할 확률 $p$를 안다고 가정하고 일을 진행했다.\n",
    "예를 들어, 동전 던지기의 경우, 정상적인 동전이라면 앞면이 나올 확률은 $p = 0.5$이며,\n",
    "이것과 모의실험 결과를 이용하여 가설검정을 진행하였다.\n",
    "\n",
    "반면에 대통령 지지율 등과 같은 것은 정확히 알 수 없다.\n",
    "예를 들어, 대한민국 인구는 총 5,200만명 정도이며, 이중 20세 이상이 4,300만명 정도이다.\n",
    "그런데 설문조사는 보통 1~2천명 정도를 대상으로 진행된다.\n",
    "그리고 설문조사 결과가 60%의 지지율일 때, 그 결과를 어느 정도 신뢰할 수 있을까?\n",
    "이런 질문에 통계적으로 대답하기 위해 신뢰구간을 사용한다. \n",
    "\n",
    "**신뢰구간**은 표본을 대상으로 얻어진 값을 이용하여\n",
    "모집단에 대한 값이 속할 것이라고 **확률적으로 추정한 구간**을 가리킨다.\n",
    "이때 구간의 크기는 **신뢰수준**이 결정한다.\n",
    "예를 들어, 대통령 지지율 설문조사 결과가 60%라고 해서 대통령 지지율이 60%입니다 라고\n",
    "단정해서 공표하지 않는다.\n",
    "신문이나 TV 뉴스 등에서 대통령 지지율을 공표할 때는 반드시 신뢰수준을 언급하는 데,\n",
    "보통 95%를 사용한다. \n",
    "이는 대통령 지지율이 95%의 확률로 $60\\pm \\alpha$ 의 구간에 위치한다는 의미이다.\n",
    "\n",
    "알파($\\alpha$)는 보통 **오차범위**라고 불린다.\n",
    "선거 등에서 '두 후보가 오차범위 안에서 접전이다' 라는 표현이\n",
    "많이 사용되는데 여기서 언급된 오차범위가 바로 $\\alpha$이다.\n",
    "오차범위 $\\alpha$ 의 값은 사용하는 확률분포와 표본의 크기에 의존하며,\n",
    "자세한 설명은 [확률과통계: 신뢰구간](https://github.com/liganega/Stats/blob/master/notes/Stats12A_ConfidenceIntervals.pdf)을\n",
    "참조할 수 있다.\n",
    "\n",
    "아래 그림은 신뢰수준 95%에 대한 신뢰구간을 보여주고 있다. "
   ]
  },
  {
   "cell_type": "markdown",
   "metadata": {},
   "source": [
    "<img src=\"../images/confidence-interval.png\" width=\"50%\">"
   ]
  },
  {
   "cell_type": "markdown",
   "metadata": {},
   "source": [
    "### 신뢰구간과 가설검정"
   ]
  },
  {
   "cell_type": "markdown",
   "metadata": {},
   "source": [
    "신뢰구간을 사용하여 가설검정을 진행할 수 있다.\n",
    "예를 들어, 동전을 1,000번 던졌더니 앞면이 525회 나왔다고 하자.\n",
    "이때 동전이 앞면으로 편향되어 있다고 말할 수 있을까?\n",
    "즉, 동전이 정상이다 라는 귀무가설을 기각할 수 있을까?\n",
    "\n",
    "이제 신뢰수준 95%로 동전을 던져 앞면이 나올 진짜 확률 $p$에 대한 신뢰구간을 알아보자.\n",
    "일단 동전 실체에 대한 정보가 없기에, 모의실험 결과를 이용해야 한다.\n",
    "먼저 앞면이 나올 확률을 $\\hat p = 525/1000 = 0.525$ 라고 추정한다.\n",
    "그러면 중심극한정리에 의해 $\\hat p$는 \n",
    "평균 $\\mu = \\hat p$ 이고, 분산 $\\sigma^2$ 이 다음과 같은 \n",
    "표준편차를 따른다. \n",
    "\n",
    "$$\\sigma^2 = \\frac{\\hat p \\cdot (1- \\hat p)}{1000} = 0.016^2$$\n",
    "\n",
    "아래 코드가 위 동전던지기 예제에 대한 평균과 표준편차를 구한다. "
   ]
  },
  {
   "cell_type": "code",
   "execution_count": 19,
   "metadata": {},
   "outputs": [
    {
     "name": "stdout",
     "output_type": "stream",
     "text": [
      "평균:\t0.525\n",
      "표준편차:\t0.016\n"
     ]
    }
   ],
   "source": [
    "p_hat = 525 / 1000\n",
    "mu = p_hat\n",
    "sigma = math.sqrt(p_hat * (1 - p_hat) / 1000)\n",
    "\n",
    "print(f\"평균:\\t{mu}\")\n",
    "print(f\"표준편차:\\t{sigma:.3f}\")"
   ]
  },
  {
   "cell_type": "markdown",
   "metadata": {},
   "source": [
    "**참조**\n",
    "표본의 크기가 $n$이고, $n$이 충분히 클 때, \n",
    "중심극한정리에 의해 표본들의 확률은 다음 정규분포를 따르며,\n",
    "평균과 표준편차 계산은 다음과 같다.\n",
    "이에 대한 자세한 설명은 \n",
    "[확률과통계: 추정하기](https://github.com/liganega/Stats/blob/master/notes/Stats11B_Populations_vs_Samples.pdf)에서\n",
    "확인할 수 있다.\n",
    "\n",
    "$$\\mu = \\hat p, \\quad\\quad \\sigma^2 = \\frac{\\hat p \\cdot (1-\\hat p)}{n}$$\n",
    "\n",
    "이제 $N(0.525, 0.0158^2)$을 따르는 정규분포에서 평균을 중심으로 한 영역이 95%인 구간은 아래와 같다.\n",
    "\n",
    "$$[0.494, 0.556]$$\n",
    "\n",
    "위 결과를 `normal_two_sided_bounds()` 함수로 확인할 수 있다."
   ]
  },
  {
   "cell_type": "code",
   "execution_count": 20,
   "metadata": {},
   "outputs": [
    {
     "name": "stdout",
     "output_type": "stream",
     "text": [
      "신뢰구간:\t(0.494, 0.556)\n"
     ]
    }
   ],
   "source": [
    "lo, hi = normal_two_sided_bounds(0.95, mu, sigma)\n",
    "\n",
    "print(f\"신뢰구간:\\t({lo:.3f}, {hi:.3f})\")"
   ]
  },
  {
   "cell_type": "markdown",
   "metadata": {},
   "source": [
    "정상적인 동전의 경우 앞면이 나올 확률이 0.5이며, 따라서 위 구간에 포함된다.\n",
    "즉, 앞면이 525회 나온 것 때문에 정상적인 동전이 아니다라고 할 수 없다는 의미이다.\n",
    "물론 위 결론은 95% 정도로 신뢰할 수 있다.\n",
    "왜냐하면 위 구간계산을 신뢰수준인 95%에 맞추어 진행하였기 때문이다."
   ]
  },
  {
   "cell_type": "markdown",
   "metadata": {},
   "source": [
    "이번엔 앞면이 540회 나왔다고 가정하자. \n",
    "그러면 앞서 설명한 과정을 동일하게 진행하면 다음과 같다.\n",
    "\n",
    "* $\\hat p = 540/1000 = 0.54$\n",
    "* $\\mu = \\hat p$\n",
    "* $\\sigma = \\sqrt{\\frac{\\hat p \\cdot (1- \\hat p)}{1000}} = 0.016$\n",
    "\n",
    "그리고 신뢰수준 95%에 대한 신뢰구간은 아래와 같다.\n",
    "\n",
    "$$[0.509, 0.571]$$"
   ]
  },
  {
   "cell_type": "code",
   "execution_count": 21,
   "metadata": {},
   "outputs": [
    {
     "name": "stdout",
     "output_type": "stream",
     "text": [
      "평균:\t0.54\n",
      "표준편차:\t0.016\n",
      "신뢰구간:\t(0.509, 0.571)\n"
     ]
    }
   ],
   "source": [
    "p_hat = 540 / 1000\n",
    "mu = p_hat\n",
    "sigma = math.sqrt(p_hat * (1 - p_hat) / 1000)\n",
    "lo, hi = normal_two_sided_bounds(0.95, mu, sigma)\n",
    "\n",
    "print(f\"평균:\\t{mu}\")\n",
    "print(f\"표준편차:\\t{sigma:.3f}\")\n",
    "print(f\"신뢰구간:\\t({lo:.3f}, {hi:.3f})\")"
   ]
  },
  {
   "cell_type": "markdown",
   "metadata": {},
   "source": [
    "신뢰구간에 0.5가 포함되지 않으며, 따라서 '동전이 정상적이다' 라는 귀무가설을 기각한다.\n",
    "즉, 신뢰수준 95%로 해당 동전이 정상적이지 않다고 결론낸다.\n",
    "물론 이런 결론이 틀릴 가능성도 5%이다."
   ]
  },
  {
   "cell_type": "markdown",
   "metadata": {},
   "source": [
    "### 신뢰수준과 유의수준\n",
    "\n",
    "신뢰수준 설명에서 암시되었듯이 신뢰수준과 유의수준은 상호 보완관계이다.\n",
    "95% 수준으로 신뢰할 수 있다는 말은 5% 정도 틀릴 수 있으니 유의하라는 의미와 동일한 의미임을\n",
    "생각하면 바로 이해할 수 있을 것이다."
   ]
  },
  {
   "cell_type": "markdown",
   "metadata": {},
   "source": [
    "## $p$-해킹, 세상 일이 원래 그렇다!"
   ]
  },
  {
   "cell_type": "markdown",
   "metadata": {},
   "source": [
    "__$p$-해킹__은 어떤 데이터에 대해서도 잘 찾으면 원하는 가설을 입증하는 실험값을 얻을 수 있다는 의미이다.\n",
    "앞서 살펴보았듯이 가설검정은 100% 확신을 주지 못한다. \n",
    "유의수준 5%의 가설검정은 제1종 오류를 범할 수 있는 가능성이 5%라는 것을 함의한다.\n",
    "예를 들어, 정상적인 동전을 1,000번 던지면 앞면이 나오는 횟수가 대부분 500번 전후 발생한다.\n",
    "정확히는 95%의 확률로 469회에서 530회 사이에서 발생한다.\n",
    "하지만 5%정도로 드물지만 469회 이하, 또는 531회 이상 발생한다. \n",
    "\n",
    "이렇게 원하는 실험값을 찾아는 내는 것이 바로 __$p$-해킹__이며,\n",
    "\"세상 일이 원래 그렇다!\" 라는 표현이 바로 $p$-해킹이 언제든 발생할 수 있다는 것과\n",
    "동일한 의미이다. "
   ]
  },
  {
   "cell_type": "markdown",
   "metadata": {},
   "source": [
    "### 모의실험: $p$-해킹"
   ]
  },
  {
   "cell_type": "markdown",
   "metadata": {},
   "source": [
    "아래 모의실험은 \n",
    "'동전을 1,000번 던져서 앞면이 나온 469회 이하, 또는 531회 이상 나오는지를 확인하는 실험'을\n",
    "1,000번 반복한다.\n",
    "\n",
    "**참고**: 동전을 1,000번 던져서 앞면이 469회 이하, 또는 531회 이상 나온다면 \n",
    "유의수준 5%로 정상적인 동전이라는 귀무가설을 기각해야 한다.\n",
    "\n",
    "모의실험 결과는 동전을 1,000번 던졌을 때 앞면이 469회 이하, 또는 531회 이상로 발생할 확률이 4.6%라고 알려준다.\n",
    "이는 놀랍게도 5%에 가까운 수치이며,\n",
    "앞서 말한대로 세상 일이 원래 그렇다 라는 말을 다시 한 번 확인한다.\n",
    "\n",
    "정의된 두 함수의 기능은 다음과 같다.\n",
    "\n",
    "* `run_experiment()`\n",
    "    * 주사위 1,000 번 던진 결과를 길이가 1,000인 리스트에 저장\n",
    "    * `[0, 1)` 사이의 값을 무작위로 생성하여, 0.5 이하면 False(뒷면), 0.5 이상이면 True(앞면)로 처리\n",
    "* `reject_fairness()`\n",
    "    * 동전 1000번 던지기의 결과가 유의수준 5%의 기각역에 포함되는 사건인지 여부 확인"
   ]
  },
  {
   "cell_type": "code",
   "execution_count": 22,
   "metadata": {},
   "outputs": [],
   "source": [
    "from typing import List\n",
    "\n",
    "# 주사위 1,000 번 던진 결과 저장\n",
    "# [0, 1) 사이의 값을 무작위로 생성하여, 0.5 이하면 뒷면, 0.5 이상이면 앞면으로 처리\n",
    "def run_experiment() -> List[bool]:\n",
    "    return [random.random() < 0.5 for _ in range(1000)]\n",
    "\n",
    "# 동전 1000번 던지기 결과에 대해\n",
    "# 유의수준 5%의 기각역에 포함되는 사건인지 여부 확인\n",
    "def reject_fairness(experiment: List[bool]) -> bool:\n",
    "    \"\"\"Using the 5% significance levels\"\"\"\n",
    "    num_heads = len([flip for flip in experiment if flip])\n",
    "    return num_heads < 469 or num_heads > 531"
   ]
  },
  {
   "cell_type": "markdown",
   "metadata": {},
   "source": [
    "모의실험 결과는 다음과 같다.\n",
    "\n",
    "* `experiments`\n",
    "    * '동전 1000번 던지기'를 1000번 실험한 결과 저장\n",
    "    * 리스트 조건제시법 활용\n",
    "* `num_rejections`\n",
    "    * `experiments` 항목 중에서 기각역에 포함되는 사건들만 따로 저장\n",
    "    * 리스트 조건제시법 활용"
   ]
  },
  {
   "cell_type": "code",
   "execution_count": 23,
   "metadata": {},
   "outputs": [
    {
     "name": "stdout",
     "output_type": "stream",
     "text": [
      "유의수준 5%의 기각역에 포함될 확률: 0.046\n"
     ]
    }
   ],
   "source": [
    "random.seed(0)\n",
    "experiments = [run_experiment() for _ in range(1000)]\n",
    "num_rejections = len([experiment\n",
    "                      for experiment in experiments\n",
    "                      if reject_fairness(experiment)])\n",
    "\n",
    "print(f\"유의수준 5%의 기각역에 포함될 확률: {num_rejections/1000}\")"
   ]
  },
  {
   "cell_type": "markdown",
   "metadata": {},
   "source": [
    "## A/B 테스트"
   ]
  },
  {
   "cell_type": "markdown",
   "metadata": {},
   "source": [
    "A/B 테스트는 A를 선택할 확률과 B를 선택할 확률을 비교해서 두 확률 사이에 심각한 차이가 있는가를 확인하는 방법이며,\n",
    "웹 및 앱 기반 서비스에서 사용자의 편의와 사업성을 높이기 위해 많이 사용한다. \n",
    "특히 웹 상에서 사용자의 행동을 추적한 결과를 정량적으로 측정하여, \n",
    "사용자들의 심리와 행동을 분석하고 마케팅 전략에 활용한다.\n",
    "\n",
    "A/B 테스트를 활용해 큰 효과를 낸 다양한 사례는 \n",
    "[The Ultimate Guide To A/B Testing](https://www.smashingmagazine.com/2010/06/the-ultimate-guide-to-a-b-testing/)\n",
    "에서 확인할 수 있다."
   ]
  },
  {
   "cell_type": "markdown",
   "metadata": {},
   "source": [
    "### 예제: 광고 성공률 A/B 테스트"
   ]
  },
  {
   "cell_type": "markdown",
   "metadata": {},
   "source": [
    "어떤 제품을 위해 두 개의 광고 A와 B를 만들었고,\n",
    "어떤 광고를 사용해야 할지 결정해야 한다.\n",
    "이를 위해 제품 사이트를 방문하는 이들 중 무작위로 선택한\n",
    "$N_A$ 명에게는 $A$ 광고를,\n",
    "$N_B$ 명에게는 B 광고를 보여주고\n",
    "광고를 클릭하는 횟수 $n_A$와 $n_B$를 확인하였다.\n",
    "\n",
    "이제 A, B 두 광고중에 어떤 광고를 사용해야 할까?"
   ]
  },
  {
   "cell_type": "markdown",
   "metadata": {},
   "source": [
    "#### 광고 성공률 확률분포"
   ]
  },
  {
   "cell_type": "markdown",
   "metadata": {},
   "source": [
    "이 질문에 대답하기 위해 가설검정을 사용해보자.\n",
    "그러려면 먼저 확률분포를 정해야 한다.\n",
    "\n",
    "A 광고를 볼 때 클릭하는가를 성공이라고 하고, 그렇지 않은 경우를 실패라고 한다면,\n",
    "A 광고 성공률의 분포를 사용할 수 있다.\n",
    "제품 사이트 방문자중 임의로 $N_A$ 명의 표본으로만 조사했기 때문에 \n",
    "진짜 성공률 $P_A$는 모른다.\n",
    "하지만 __$N_A$ 가 충분히 크면__\n",
    "$P_A$는 평균이 $p_A = \\frac{n_A}{N_A}$이고,\n",
    "표준편차는 $\\sigma_A = \\sqrt{\\frac{p_A (1-p_A)}{N_A}}$ 인\n",
    "정규분포를 따른다. 즉, 다음이 성립한다.\n",
    "\n",
    "$$P_A \\sim N(p_A, \\sigma_A^2)$$\n",
    "\n",
    "B 광고에 대한 진짜 성공률 $P_B$에 대해서도 동일한 설명을 할 수 있으며 다음이 성립한다.\n",
    "\n",
    "$$P_B \\sim N(p_B, \\sigma_B^2)$$\n",
    "\n",
    "여기서 $p_B = \\frac{n_B}{N_B}$, $\\sigma_B = \\frac{p_B (1-p_B)}{N_B}$ 이고,\n",
    "$N_B$가 충분히 크다고 가정한다.\n",
    "\n",
    "**주의**: 엄격히 말하면 t-분포를 사용해야 하지만 표본이 많으면 정규분포를 사용해도 상관 없다."
   ]
  },
  {
   "cell_type": "markdown",
   "metadata": {},
   "source": [
    "### 광고 성공률 차이의 가설검정"
   ]
  },
  {
   "cell_type": "markdown",
   "metadata": {},
   "source": [
    "A 광고의 성공률 $P_A$와 B 광고의 성공률 $P_B$ 사이의 차이에 의미를 둘 수 있는가를 확인하기 위해\n",
    "$P_A$와 $P_B$의 차이의 확률분포인 $P_B - P_A$의 확률분포를 이용하여 가설검정을 진행한다."
   ]
  },
  {
   "cell_type": "markdown",
   "metadata": {},
   "source": [
    "#### 광고 성공률 차이의 확률분포"
   ]
  },
  {
   "cell_type": "markdown",
   "metadata": {},
   "source": [
    "A 광고와 B 광고를 보여주는 사람들 집단을 서로 독립적으로 선택한다면\n",
    "$P_A$와 $P_B$가 서로 독립이 되도록 만들 수 있다. \n",
    "그러면 $P_B - P_A$ 역시 정규분포를 따르며,\n",
    "평균은 $p_B - p_A$, 표준편차는 $\\sqrt{\\sigma_A^2 + \\sigma_B^2}$가 된다.\n",
    "($N_A$와 $N_B$가 충분히 크다고 가정한다.)\n",
    "\n",
    "$$P_B- P_A \\sim N(p_B - p_A, \\sqrt{\\sigma_A^2 + \\sigma_B^2})$$"
   ]
  },
  {
   "cell_type": "markdown",
   "metadata": {},
   "source": [
    "##### 참조: 정규분포의 연산"
   ]
  },
  {
   "cell_type": "markdown",
   "metadata": {},
   "source": [
    "서로 독립인 두 개의 정규분포 $X$와 $Y$가 주어졌다고 하자.\n",
    "\n",
    "$$X \\sim N(\\mu_X, \\sigma_X^2) \\qquad \\qquad Y \\sim N(\\mu_Y, \\sigma_Y^2)$$\n",
    "\n",
    "그러면 두 확률 변수 $X$, $Y$의 합과 차도 정규분포를 따르며 다음이 성립한다. \n",
    "\n",
    "$$X+Y \\sim N(\\mu_X + \\mu_Y, \\sigma_X^2 + \\sigma_Y^2)\n",
    "\\qquad\\qquad\n",
    "X-Y \\sim N(\\mu_X - \\mu_Y, \\sigma_X^2 + \\sigma_Y^2)$$\n",
    "\n",
    "또한 확률 변수 $X$의 상수배 역시 정규분포를 따르면 다음이 성립한다.\n",
    "\n",
    "$$cX + b \\sim N(c\\mu_X + b, c^2\\sigma_X^2)$$\n",
    "\n",
    "따라서 표준화를 하면 표준정규분포를 얻게 된다. \n",
    "\n",
    "$$Z = \\frac{X-\\mu_X}{\\sigma_X} \\sim N(0, 1)$$"
   ]
  },
  {
   "cell_type": "markdown",
   "metadata": {},
   "source": [
    "#### 성공률 차이 귀무가설"
   ]
  },
  {
   "cell_type": "markdown",
   "metadata": {},
   "source": [
    "두 광고의 성공률에 차이가 있는가를 확인하려면\n",
    "'$P_B - P_A$의 차이가 0이다' 라는 가설을 받아들일 수 있는가를 결정해야 한다.\n",
    "따라서 귀무가설을 다음과 같이 설정하고 가설검정을 진행한다.\n",
    "\n",
    "> $H_0$: $P_B - P_A = 0$"
   ]
  },
  {
   "cell_type": "markdown",
   "metadata": {},
   "source": [
    "#### 성공률 차이 가설검정"
   ]
  },
  {
   "cell_type": "markdown",
   "metadata": {},
   "source": [
    "귀무가설 $H_0$가 참이라고 가정하자. 그러면 다음 표준화 결과는 표준정규분포를 따른다.\n",
    "\n",
    "$$Z = \\frac{P_B - P_A}{\\sqrt{\\sigma_A^2 + \\sigma_B^2}}$$\n",
    "\n",
    "##### 경우 1\n",
    "\n",
    "A 광고를 본 1,000명 중에 200명이 광고를 클릭했고,\n",
    "B 광고를 본 1,000명 중에 180명이 광고를 클릭했다고 가정하자.\n",
    "\n",
    "실제 $P_A$와 $P_B$는 알려지지 않았기에 대신 $p_A$와 $P_A$를 사용하자.\n",
    "그러면 $p_B - p_A$를 표준화한 값은 -1.14이다."
   ]
  },
  {
   "cell_type": "code",
   "execution_count": 24,
   "metadata": {},
   "outputs": [
    {
     "name": "stdout",
     "output_type": "stream",
     "text": [
      "(p_B - p_A)를 표준화한 값: -1.14\n"
     ]
    }
   ],
   "source": [
    "def estimated_parameters(N: int, n: int) -> Tuple[float, float]:\n",
    "    p = n / N\n",
    "    sigma = math.sqrt(p * (1 - p) / N)\n",
    "    return p, sigma\n",
    "\n",
    "def a_b_test_statistic(N_A: int, n_A: int, N_B: int, n_B: int) -> float:\n",
    "    p_A, sigma_A = estimated_parameters(N_A, n_A)\n",
    "    p_B, sigma_B = estimated_parameters(N_B, n_B)\n",
    "    return (p_B - p_A) / math.sqrt(sigma_A ** 2 + sigma_B ** 2)\n",
    "\n",
    "z = a_b_test_statistic(1000, 200, 1000, 180)\n",
    "print(f\"(p_B - p_A)를 표준화한 값: {z:.2f}\")"
   ]
  },
  {
   "cell_type": "markdown",
   "metadata": {},
   "source": [
    "표준정규분포에서 -1.14 해당하는 $p$-값은 0.254이다."
   ]
  },
  {
   "cell_type": "code",
   "execution_count": 25,
   "metadata": {},
   "outputs": [
    {
     "data": {
      "text/plain": [
       "0.2541419765422359"
      ]
     },
     "execution_count": 25,
     "metadata": {},
     "output_type": "execute_result"
    }
   ],
   "source": [
    "# 표준정규분포에서 -1.14에 대한 p-값\n",
    "two_sided_p_value(z)"
   ]
  },
  {
   "cell_type": "markdown",
   "metadata": {},
   "source": [
    "<img src=\"../images/p-value_114.png\" width=\"50%\">"
   ]
  },
  {
   "cell_type": "markdown",
   "metadata": {},
   "source": [
    "즉, 표준정규분포를 따르는 확률변수가 -1.14보다 극단적인 값을 가질 확률이 25.4%에 이른다.\n",
    "이는 5%보다 월등히 크며, 당연히 기각역 밖에 존재한다.\n",
    "따라서 귀무가설을 기각할 수 없으며, 두 광고의 성공률의 차이에 어떤 의미를 둘 수 없다고 판단해야 한다."
   ]
  },
  {
   "cell_type": "markdown",
   "metadata": {},
   "source": [
    "##### 경우 2\n",
    "\n",
    "B 광고를 1000명 중 150명 클릭했다고 가정하자.\n",
    "그러면 200명과 150명의 차이가 표준정규분포에서는 -2.949에 해당한다."
   ]
  },
  {
   "cell_type": "code",
   "execution_count": 26,
   "metadata": {},
   "outputs": [
    {
     "name": "stdout",
     "output_type": "stream",
     "text": [
      "-2.948839123097944\n"
     ]
    }
   ],
   "source": [
    "z = a_b_test_statistic(1000, 200, 1000, 150)\n",
    "print(z)"
   ]
  },
  {
   "cell_type": "markdown",
   "metadata": {},
   "source": [
    "이 값에 대한 양측검정을 사용한 $p$-값은 0.002이다."
   ]
  },
  {
   "cell_type": "code",
   "execution_count": 27,
   "metadata": {},
   "outputs": [
    {
     "data": {
      "text/plain": [
       "0.003189699706216853"
      ]
     },
     "execution_count": 27,
     "metadata": {},
     "output_type": "execute_result"
    }
   ],
   "source": [
    "two_sided_p_value(z)"
   ]
  },
  {
   "cell_type": "markdown",
   "metadata": {},
   "source": [
    "<img src=\"../images/p-value_294.png\" width=\"50%\">"
   ]
  },
  {
   "cell_type": "markdown",
   "metadata": {},
   "source": [
    "이는 두 광고의 효과가 동일하다면 발생할 확률이 0.3%에 불과한 일이 발생했음을 의미한다.\n",
    "따라서 귀무가설을 기각할 수 있으며, 두 광고의 성공률이 유의미한 차이를 갖는다고 할 수 있다."
   ]
  },
  {
   "cell_type": "markdown",
   "metadata": {},
   "source": [
    "## 베이즈 추론"
   ]
  },
  {
   "cell_type": "code",
   "execution_count": 28,
   "metadata": {},
   "outputs": [],
   "source": [
    "def B(alpha: float, beta: float) -> float:\n",
    "    \"\"\"A normalizing constant so that the total probability is 1\"\"\"\n",
    "    return math.gamma(alpha) * math.gamma(beta) / math.gamma(alpha + beta)\n",
    "\n",
    "def beta_pdf(x: float, alpha: float, beta: float) -> float:\n",
    "    if x <= 0 or x >= 1:          # no weight outside of [0, 1]\n",
    "        return 0\n",
    "    return x ** (alpha - 1) * (1 - x) ** (beta - 1) / B(alpha, beta)"
   ]
  }
 ],
 "metadata": {
  "kernelspec": {
   "display_name": "Python 3",
   "language": "python",
   "name": "python3"
  },
  "language_info": {
   "codemirror_mode": {
    "name": "ipython",
    "version": 3
   },
   "file_extension": ".py",
   "mimetype": "text/x-python",
   "name": "python",
   "nbconvert_exporter": "python",
   "pygments_lexer": "ipython3",
   "version": "3.7.6"
  }
 },
 "nbformat": 4,
 "nbformat_minor": 2
}
