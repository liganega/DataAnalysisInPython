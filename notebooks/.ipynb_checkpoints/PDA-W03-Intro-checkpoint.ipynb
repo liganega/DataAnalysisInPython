{
 "cells": [
  {
   "cell_type": "markdown",
   "metadata": {},
   "source": [
    "# 데이터 시각화"
   ]
  },
  {
   "cell_type": "markdown",
   "metadata": {},
   "source": [
    "이번 비디오에서는 **데이터 시각화**를 다룬다.\n",
    "\n",
    "데이터 시각화는 데이터를 탐색하거나 데이터로 얻은 정보를 전달할 때 시각화를 이용하면 매우 효율적이다.\n",
    "다음 네 가지 기술을 파이썬 프로그래밍으로 시각화는 방법을 예를 이용하여 설명한다.\n",
    "1. 막대 그래프\n",
    "1. 히스토그램\n",
    "1. 선 그래프\n",
    "1. 산점도"
   ]
  },
  {
   "cell_type": "markdown",
   "metadata": {},
   "source": [
    "## 막대 그래프\n",
    "\n",
    "막대 그래프는 범주별로 도수, 횟수, 퍼센트 등의 크기만큼 막대를 그리는 그래프이다.\n",
    "범주별 미세한 차이를 명확하게 전달할 수 있는 그래프이다."
   ]
  },
  {
   "cell_type": "markdown",
   "metadata": {},
   "source": [
    "### 막대 그래프 예제\n",
    "\n",
    "영화별 아카데미 수상 횟수가 다음과 같다."
   ]
  },
  {
   "cell_type": "markdown",
   "metadata": {},
   "source": [
    "<p>\n",
    "<table cellspacing=\"20\">\n",
    "<tr>\n",
    "    <td>영화 제목</td>\n",
    "    <td>Annie Hall</td>\n",
    "    <td>Ben-Hur</td>\n",
    "    <td>Casablanca</td>\n",
    "    <td>Gandhi</td>\n",
    "    <td>West Side Story</td>\n",
    "</tr>\n",
    "<tr>\n",
    "    <td>수상 횟수</td>\n",
    "    <td>5</td>\n",
    "    <td>11</td>\n",
    "    <td>3</td>\n",
    "    <td>8</td>\n",
    "    <td>10</td>\n",
    "</tr>\n",
    "</table>\n",
    "</p>"
   ]
  },
  {
   "cell_type": "markdown",
   "metadata": {},
   "source": [
    "위 표를 막대 그래프로 그리면 다음과 같다."
   ]
  },
  {
   "cell_type": "markdown",
   "metadata": {},
   "source": [
    "* x 축: 범주(영화 제목)\n",
    "* y 축: 도수(수상 횟수)"
   ]
  },
  {
   "cell_type": "code",
   "execution_count": 1,
   "metadata": {},
   "outputs": [
    {
     "data": {
      "text/plain": [
       "<Figure size 640x480 with 1 Axes>"
      ]
     },
     "metadata": {},
     "output_type": "display_data"
    }
   ],
   "source": [
    "from matplotlib import pyplot as plt\n",
    "\n",
    "movies = [\"Annie Hall\", \"Ben-Hur\", \"Casablanca\", \"Gandhi\", \"West Side Story\"]\n",
    "num_oscars = [5, 11, 3, 8, 10]\n",
    "\n",
    "plt.bar(range(len(movies)), num_oscars)  # x축 레이블 = [0, 1, 2, 3, 4]\n",
    "plt.ylabel(\"# of Academy Awards\")        # y축 레이블\n",
    "plt.xticks(range(len(movies)), movies)   # x축 레이블 = movies 로 변경\n",
    "\n",
    "plt.show()"
   ]
  },
  {
   "cell_type": "markdown",
   "metadata": {},
   "source": [
    "### 막대 그래프 유의사항\n",
    "\n",
    "축을 지정할 때 조심하지 않으면 오해를 불러일으킬 수 있다.\n",
    "\n",
    "다음 예제는 2017년과 2018년 사람들이 데이터과학에 대해 언급하는 것을 경험한 횟수를 표로 담고 있다."
   ]
  },
  {
   "cell_type": "markdown",
   "metadata": {},
   "source": [
    "<table>\n",
    "<tr>\n",
    "    <td>연도</td>\n",
    "    <td>2017</td>\n",
    "    <td>2018</td>\n",
    "</tr>\n",
    "<tr>\n",
    "    <td>횟수</td>\n",
    "    <td>500</td>\n",
    "    <td>505</td>\n",
    "</tr>\n",
    "</table>"
   ]
  },
  {
   "cell_type": "markdown",
   "metadata": {},
   "source": [
    "#### y축의 시작을 499로 잡는 경우"
   ]
  },
  {
   "cell_type": "code",
   "execution_count": 2,
   "metadata": {},
   "outputs": [
    {
     "data": {
      "image/png": "[encoded data removed]",
      "text/plain": [
       "<Figure size 432x288 with 1 Axes>"
      ]
     },
     "metadata": {
      "needs_background": "light"
     },
     "output_type": "display_data"
    }
   ],
   "source": [
    "mentions = [500, 505]\n",
    "years = [2017, 2018]\n",
    "\n",
    "plt.bar(years, mentions, 0.8)\n",
    "plt.xticks(years)             # x축 레이블 표시에 필수적임\n",
    "plt.ylabel(\"# of times I heard someone say 'data science'\")\n",
    "\n",
    "plt.ticklabel_format(useOffset=False)\n",
    "\n",
    "# y축의 시작점을 499로 잡으면 오해를 불러일으킬 수 있음.\n",
    "plt.axis([2016.5, 2018.5, 499, 506])\n",
    "plt.title(\"Look at the 'Huge' Increase!\")\n",
    "plt.show()"
   ]
  },
  {
   "cell_type": "markdown",
   "metadata": {},
   "source": [
    "#### y축의 시작을 0으로 잡는 경우"
   ]
  },
  {
   "cell_type": "code",
   "execution_count": 3,
   "metadata": {},
   "outputs": [
    {
     "data": {
      "image/png": "[encoded data removed]",
      "text/plain": [
       "<Figure size 432x288 with 1 Axes>"
      ]
     },
     "metadata": {
      "needs_background": "light"
     },
     "output_type": "display_data"
    }
   ],
   "source": [
    "plt.bar(years, mentions, 0.8)\n",
    "plt.xticks(years)\n",
    "plt.ylabel(\"# of times I heard someone say 'data science'\")\n",
    "plt.ticklabel_format(useOffset=False)\n",
    "\n",
    "# y축의 시작점을 0으로 잡으면 상황이 달라짐.\n",
    "plt.axis([2016.5, 2018.5, 0, 550])\n",
    "plt.title(\"Not So Huge Anymore\")\n",
    "plt.show()"
   ]
  },
  {
   "cell_type": "markdown",
   "metadata": {},
   "source": [
    "## 히스토그램"
   ]
  },
  {
   "cell_type": "markdown",
   "metadata": {},
   "source": [
    "히스토그램은 막대 그래프의 한 종류이며,\n",
    "범주 대상으로 양적 데이터를 용할 때 유용하다.\n",
    "예를 들어, 무게, 길이, 시간, 점수 등 \n",
    "숫자의 범위에 따라 나뉘어진 데이터를 막대 그래프로 보여줄 때 사용한다.\n",
    "\n",
    "양적 데이터들의 연속성을 반영하기 위해 막대 그래프들 사이의 간극이 없도록 그린다.\n",
    "따라서 정해진 구간에 해당되는 항목의 개수나 빈도수를 보여주어 값의 분포를 쉽게 관찰할 수 있게 해준다."
   ]
  },
  {
   "cell_type": "markdown",
   "metadata": {},
   "source": [
    "### 히스토그램 예제\n",
    "\n",
    "학생들의 점수가 다음과 같다.\n",
    "\n",
    "    83, 95, 91, 87, 70, 0, 85, 82, 100, 67, 73, 77, 0\n",
    "\n",
    "점수를 십분위수(10점 단위로 구분)로 구분하면 아래 표를 얻는다. "
   ]
  },
  {
   "cell_type": "markdown",
   "metadata": {},
   "source": [
    "<p>\n",
    "<table cellspacing=\"20\">\n",
    "<tr>\n",
    "    <td>점수 구간(십분위수)</td>\n",
    "    <td>0-9</td>\n",
    "    <td>10-19</td>\n",
    "    <td>20-29</td>\n",
    "    <td>30-39</td>\n",
    "    <td>40-49</td>\n",
    "    <td>50-59</td>\n",
    "    <td>60-69</td>\n",
    "    <td>70-79</td>\n",
    "    <td>80-89</td>\n",
    "    <td>90-100</td>\n",
    "</tr>\n",
    "<tr>\n",
    "    <td>학생 수</td>\n",
    "    <td>2</td>\n",
    "    <td>0</td>\n",
    "    <td>0</td>\n",
    "    <td>0</td>\n",
    "    <td>0</td>\n",
    "    <td>0</td>\n",
    "    <td>1</td>\n",
    "    <td>3</td>\n",
    "    <td>4</td>\n",
    "    <td>3</td>\n",
    "</tr>\n",
    "</table>\n",
    "</p>"
   ]
  },
  {
   "cell_type": "markdown",
   "metadata": {},
   "source": [
    "위 데이터를 히스토그램으로 나타내면 다음과 같다."
   ]
  },
  {
   "cell_type": "markdown",
   "metadata": {},
   "source": [
    "* x 축: 점수 구간\n",
    "* y 축: 학생 수"
   ]
  },
  {
   "cell_type": "code",
   "execution_count": 4,
   "metadata": {},
   "outputs": [
    {
     "data": {
      "image/png": "[encoded data removed]",
      "text/plain": [
       "<Figure size 432x288 with 1 Axes>"
      ]
     },
     "metadata": {
      "needs_background": "light"
     },
     "output_type": "display_data"
    }
   ],
   "source": [
    "from collections import Counter\n",
    "grades = [83, 95, 91, 87, 70, 0, 85, 82, 100, 67, 73, 77, 0]\n",
    "\n",
    "histogram = Counter(min(grade // 10 * 10, 90) for grade in grades)\n",
    "\n",
    "plt.bar([x + 5 for x in histogram.keys()],  \n",
    "        histogram.values(),                 \n",
    "        10,                                 \n",
    "        edgecolor=(0, 0, 0))                \n",
    "\n",
    "plt.axis([-5, 105, 0, 5])                  \n",
    "                                           \n",
    "\n",
    "plt.xticks([10 * i for i in range(11)])    \n",
    "plt.xlabel(\"Decile\")\n",
    "plt.ylabel(\"# of Students\")\n",
    "plt.title(\"Distribution of Exam 1 Grades\")\n",
    "plt.show()"
   ]
  },
  {
   "cell_type": "markdown",
   "metadata": {},
   "source": [
    "## 선 그래프"
   ]
  },
  {
   "cell_type": "markdown",
   "metadata": {},
   "source": [
    "선 그래프는 막대 그래프의 상단 중심부를 선분으로 연결하여 범주별 변화를 비교하는 그래프이다. \n",
    "시계열 데이터에 대한 정보를 전달할 때 유용하다."
   ]
  },
  {
   "cell_type": "markdown",
   "metadata": {},
   "source": [
    "### 선 그래프 예제 1\n",
    "\n",
    "1950년 부터 10년 주기로 국내총생산(GDP)를 정리한 표가 다음과 같다. \n",
    "단위는 10억달러이다. "
   ]
  },
  {
   "cell_type": "markdown",
   "metadata": {},
   "source": [
    "<p>\n",
    "<table cellspacing=\"20\">\n",
    "<tr>\n",
    "    <td>연도</td>\n",
    "    <td>1950</td>\n",
    "    <td>1960</td>\n",
    "    <td>1970</td>\n",
    "    <td>1980</td>\n",
    "    <td>1990</td>\n",
    "    <td>2000</td>\n",
    "    <td>2010</td>\n",
    "</tr>\n",
    "<tr>\n",
    "    <td>GDP</td>\n",
    "    <td>300.2</td>\n",
    "    <td>543.3</td>\n",
    "    <td>1075.9</td>\n",
    "    <td>2862.5</td>\n",
    "    <td>5979.6</td>\n",
    "    <td>10289.7</td>\n",
    "    <td>14958.3</td>\n",
    "</tr>\n",
    "</table>\n",
    "</p>"
   ]
  },
  {
   "cell_type": "markdown",
   "metadata": {},
   "source": [
    "위 데이터를 선 그래프로 나타내면 다음과 같다."
   ]
  },
  {
   "cell_type": "markdown",
   "metadata": {},
   "source": [
    "* x 축: 연도\n",
    "* y 축: GDP"
   ]
  },
  {
   "cell_type": "code",
   "execution_count": 5,
   "metadata": {},
   "outputs": [
    {
     "data": {
      "image/png": "[encoded data removed]",
      "text/plain": [
       "<Figure size 432x288 with 1 Axes>"
      ]
     },
     "metadata": {
      "needs_background": "light"
     },
     "output_type": "display_data"
    }
   ],
   "source": [
    "years = [1950, 1960, 1970, 1980, 1990, 2000, 2010]\n",
    "gdp = [300.2, 543.3, 1075.9, 2862.5, 5979.6, 10289.7, 14958.3]\n",
    "\n",
    "plt.plot(years, gdp, color='green', marker='o', linestyle='solid')\n",
    "\n",
    "plt.title(\"Nominal GDP\")\n",
    "plt.ylabel(\"Billions of $\")\n",
    "plt.show()"
   ]
  },
  {
   "cell_type": "markdown",
   "metadata": {},
   "source": [
    "### 선 그래프 예제 2\n",
    "\n",
    "머신러닝에서 알고리즘을 학습시킬 때 학습시킨 알고리즘의 예측이 정답으로부터 떨어져 있는 오차를 \n",
    "재는 기준으로 편향(bias)과 분산(variance)를 사용한다. "
   ]
  },
  {
   "cell_type": "markdown",
   "metadata": {},
   "source": [
    "<img src=\"../images/bias-variance.png\" width=\"40%\">"
   ]
  },
  {
   "cell_type": "markdown",
   "metadata": {},
   "source": [
    "일반적으로 편향과 분산은 서로 트레이드오프의 관계에 있으며, 두 값의 합이 예측하는 알고리즘의 오차를 결정한다.\n",
    "아래 이미지는 편향과 분산의 트레이드오프 관계를 보여준다. \n",
    "이 관계를 선 그래프로 나타내면 아래 이미지와 같으며,\n",
    "분산과 편향과 오류합계(분산+편향)의 관계를 나타내는 세 개의 선 그래프를 동시에 표현하였다."
   ]
  },
  {
   "cell_type": "markdown",
   "metadata": {},
   "source": [
    "* x 축: 모델 복잡도\n",
    "* y 축: 분산, 편향, 또는 오류합계"
   ]
  },
  {
   "cell_type": "code",
   "execution_count": 6,
   "metadata": {},
   "outputs": [
    {
     "data": {
      "image/png": "[encoded data removed]",
      "text/plain": [
       "<Figure size 432x288 with 1 Axes>"
      ]
     },
     "metadata": {
      "needs_background": "light"
     },
     "output_type": "display_data"
    }
   ],
   "source": [
    "variance     = [1, 2, 4, 8, 16, 32, 64, 128, 256]\n",
    "bias_squared = [256, 128, 64, 32, 16, 8, 4, 2, 1]\n",
    "total_error  = [x + y for x, y in zip(variance, bias_squared)]\n",
    "xs = [i for i, _ in enumerate(variance)]\n",
    "\n",
    "plt.plot(xs, variance,     'g-',  label='variance')    # green solid line\n",
    "plt.plot(xs, bias_squared, 'r-.', label='bias^2')      # red dot-dashed line\n",
    "plt.plot(xs, total_error,  'b:',  label='total error') # blue dotted line\n",
    "\n",
    "plt.legend(loc=9)\n",
    "plt.xlabel(\"model complexity\")\n",
    "plt.xticks([])\n",
    "plt.title(\"The Bias-Variance Tradeoff\")\n",
    "plt.show()"
   ]
  },
  {
   "cell_type": "markdown",
   "metadata": {},
   "source": [
    "## 산점도"
   ]
  },
  {
   "cell_type": "markdown",
   "metadata": {},
   "source": [
    "산점도는 두 변수 간의 연관 관계를 2차원 평면 상에서 점으로 찍어 보여 주고는 그래프이다. "
   ]
  },
  {
   "cell_type": "markdown",
   "metadata": {},
   "source": [
    "### 산점도 예제\n",
    "\n",
    "어떤 SNS 사이트 회원의 친구 수와 사이트 이용시간 사이의 연관 관계를 담은 표가 다음과 같다."
   ]
  },
  {
   "cell_type": "markdown",
   "metadata": {},
   "source": [
    "<p>\n",
    "<table cellspacing=\"20\">\n",
    "<tr>\n",
    "    <td>친구 수</td>\n",
    "    <td>70</td>\n",
    "    <td>65</td>\n",
    "    <td>72</td>\n",
    "    <td>63</td>\n",
    "    <td>71</td>\n",
    "    <td>64</td>\n",
    "    <td>60</td>\n",
    "    <td>64</td>\n",
    "    <td>67</td>\n",
    "</tr>\n",
    "<tr>\n",
    "    <td>이용 시간</td>\n",
    "    <td>175</td>\n",
    "    <td>170</td>\n",
    "    <td>205</td>\n",
    "    <td>120</td>\n",
    "    <td>220</td>\n",
    "    <td>130</td>\n",
    "    <td>105</td>\n",
    "    <td>145</td>\n",
    "    <td>190</td>\n",
    "</tr>\n",
    "<tr>\n",
    "    <td>사용자 라벨</td>\n",
    "    <td>a</td>\n",
    "    <td>b</td>\n",
    "    <td>c</td>\n",
    "    <td>d</td>\n",
    "    <td>e</td>\n",
    "    <td>f</td>\n",
    "    <td>g</td>\n",
    "    <td>h</td>\n",
    "    <td>i</td>\n",
    "</tr>\n",
    "</table>\n",
    "</p>"
   ]
  },
  {
   "cell_type": "markdown",
   "metadata": {},
   "source": [
    "위 데이터를 선 그래프로 나타내면 다음과 같다."
   ]
  },
  {
   "cell_type": "markdown",
   "metadata": {},
   "source": [
    "* x 축: 친구 수\n",
    "* y 축: 이용 시간"
   ]
  },
  {
   "cell_type": "code",
   "execution_count": 7,
   "metadata": {},
   "outputs": [
    {
     "data": {
      "image/png": "[encoded data removed]",
      "text/plain": [
       "<Figure size 432x288 with 1 Axes>"
      ]
     },
     "metadata": {
      "needs_background": "light"
     },
     "output_type": "display_data"
    }
   ],
   "source": [
    "friends = [ 70,  65,  72,  63,  71,  64,  60,  64,  67]\n",
    "minutes = [175, 170, 205, 120, 220, 130, 105, 145, 190]\n",
    "labels =  ['a', 'b', 'c', 'd', 'e', 'f', 'g', 'h', 'i']\n",
    "\n",
    "plt.scatter(friends, minutes)\n",
    "\n",
    "for label, friend_count, minute_count in zip(labels, friends, minutes):\n",
    "    plt.annotate(label,\n",
    "        xy=(friend_count, minute_count), \n",
    "        xytext=(5, -5),                  \n",
    "        textcoords='offset points')\n",
    "\n",
    "plt.title(\"Daily Minutes vs. Number of Friends\")\n",
    "plt.xlabel(\"# of friends\")\n",
    "plt.ylabel(\"daily minutes spent on the site\")\n",
    "plt.show()"
   ]
  },
  {
   "cell_type": "markdown",
   "metadata": {},
   "source": [
    "### 산점도 유의사항\n",
    "\n",
    "막대 그래프의 경우처럼 축을 지정할 때 조심하지 않으면 오해를 불러일으킬 수 있다.\n",
    "\n",
    "예를 들어, 아래 표는 다섯 명의 1차, 2차 테스트 점수를 보여준다. "
   ]
  },
  {
   "cell_type": "markdown",
   "metadata": {},
   "source": [
    "<p>\n",
    "<table cellspacing=\"20\">\n",
    "<tr>\n",
    "    <td>1차 테스트</td>\n",
    "    <td>99</td>\n",
    "    <td>90</td>\n",
    "    <td>85</td>\n",
    "    <td>97</td>\n",
    "    <td>80</td>\n",
    "</tr>\n",
    "<tr>\n",
    "    <td>2차 테스트</td>\n",
    "    <td>100</td>\n",
    "    <td>85</td>\n",
    "    <td>60</td>\n",
    "    <td>90</td>\n",
    "    <td>70</td>\n",
    "</tr>\n",
    "</table>\n",
    "</p>"
   ]
  },
  {
   "cell_type": "markdown",
   "metadata": {},
   "source": [
    "#### 축 지정\n",
    "\n",
    "* x 축: 1차 테스트 점수\n",
    "* y 축: 2차 테스트 점수"
   ]
  },
  {
   "cell_type": "markdown",
   "metadata": {},
   "source": [
    "#### 양 축의 비율을 다를 경우"
   ]
  },
  {
   "cell_type": "code",
   "execution_count": 8,
   "metadata": {},
   "outputs": [
    {
     "data": {
      "image/png": "[encoded data removed]",
      "text/plain": [
       "<Figure size 432x288 with 1 Axes>"
      ]
     },
     "metadata": {
      "needs_background": "light"
     },
     "output_type": "display_data"
    }
   ],
   "source": [
    "test_1_grades = [ 99, 90, 85, 97, 80]\n",
    "test_2_grades = [100, 85, 60, 90, 70]\n",
    "\n",
    "plt.scatter(test_1_grades, test_2_grades)\n",
    "plt.title(\"Axes Aren't Comparable\")\n",
    "plt.xlabel(\"test 1 grade\")\n",
    "plt.ylabel(\"test 2 grade\")\n",
    "plt.show()"
   ]
  },
  {
   "cell_type": "markdown",
   "metadata": {},
   "source": [
    "결론: 1차 테스트, 2차 테스트 점수가 별 변동이 없는 것으로 보인다."
   ]
  },
  {
   "cell_type": "markdown",
   "metadata": {},
   "source": [
    "#### 양 축의 비율이 같을 경우"
   ]
  },
  {
   "cell_type": "code",
   "execution_count": 9,
   "metadata": {},
   "outputs": [
    {
     "data": {
      "image/png": "[encoded data removed]",
      "text/plain": [
       "<Figure size 432x288 with 1 Axes>"
      ]
     },
     "metadata": {
      "needs_background": "light"
     },
     "output_type": "display_data"
    }
   ],
   "source": [
    "test_1_grades = [ 99, 90, 85, 97, 80]\n",
    "test_2_grades = [100, 85, 60, 90, 70]\n",
    "plt.scatter(test_1_grades, test_2_grades)\n",
    "plt.title(\"Axes Are Comparable\")\n",
    "plt.axis(\"equal\")                  # 양 축의 비율을 동일하게 함\n",
    "plt.xlabel(\"test 1 grade\")\n",
    "plt.ylabel(\"test 2 grade\")\n",
    "plt.show()"
   ]
  },
  {
   "cell_type": "markdown",
   "metadata": {},
   "source": [
    "결론: 1차 테스트 점수가 높은 친구가 2차 테스트에서 보다 높은 점수를 얻었음을 알 수 있다."
   ]
  }
 ],
 "metadata": {
  "kernelspec": {
   "display_name": "Python 3",
   "language": "python",
   "name": "python3"
  },
  "language_info": {
   "codemirror_mode": {
    "name": "ipython",
    "version": 3
   },
   "file_extension": ".py",
   "mimetype": "text/x-python",
   "name": "python",
   "nbconvert_exporter": "python",
   "pygments_lexer": "ipython3",
   "version": "3.6.8"
  }
 },
 "nbformat": 4,
 "nbformat_minor": 2
}
