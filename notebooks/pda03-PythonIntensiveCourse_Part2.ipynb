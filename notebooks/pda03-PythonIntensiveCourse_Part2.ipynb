{
 "cells": [
  {
   "cell_type": "markdown",
   "metadata": {},
   "source": [
    "# 파이썬 특강 2부"
   ]
  },
  {
   "cell_type": "markdown",
   "metadata": {},
   "source": [
    "## 사전(`dict`) 자료형"
   ]
  },
  {
   "cell_type": "markdown",
   "metadata": {},
   "source": [
    "사전(`dict`, dictionary) 자료형은 키(key)와 키에 할당된 값(value)으로 \n",
    "이루어진 쌍들의 집합으로 생각할 수 있다.\n",
    "\n",
    "영어 사전을 '영어 단어'와 '단어의 뜻'으로 이루어진 쌍들의 집합으로 볼 수 있다는 것과\n",
    "유사하다는 의미에서 사전 자료형이라 불린다.\n",
    "실제로 '영어 단어'를 키(key)로, '단어의 뜻'을 해당 단어의 값(value)으로 이해할 수 있다."
   ]
  },
  {
   "cell_type": "markdown",
   "metadata": {},
   "source": [
    "사전 자료형을 나타내는 기호는 집합기호인 중괄호(`{}`)이며, \n",
    "빈 사전은 아래와 같이 생성한다."
   ]
  },
  {
   "cell_type": "code",
   "execution_count": 1,
   "metadata": {},
   "outputs": [],
   "source": [
    "empty_dict1 = dict()"
   ]
  },
  {
   "cell_type": "markdown",
   "metadata": {},
   "source": [
    "빈 사전을 아래와 같이 공집합 기호를 사용할 수도 있지만, \n",
    "혼란 방지를 위해 위 방식을 추천한다."
   ]
  },
  {
   "cell_type": "code",
   "execution_count": 2,
   "metadata": {},
   "outputs": [
    {
     "data": {
      "text/plain": [
       "dict"
      ]
     },
     "execution_count": 2,
     "metadata": {},
     "output_type": "execute_result"
    }
   ],
   "source": [
    "empty_dict2 = {} \n",
    "type(empty_dict2)"
   ]
  },
  {
   "cell_type": "markdown",
   "metadata": {},
   "source": [
    "`dict` 자료형은 보통 아래 형태이다."
   ]
  },
  {
   "cell_type": "code",
   "execution_count": 3,
   "metadata": {},
   "outputs": [],
   "source": [
    "grades = {\"Joel\": 80, \"Tim\": 95}"
   ]
  },
  {
   "cell_type": "markdown",
   "metadata": {},
   "source": [
    "특정 키에 해당하는 값을 확인하려면 리스트의 인덱싱처럼 대괄호를 사용한다.\n",
    "다만 인덱스 숫자 대신에 키 이름을 사용한다.\n",
    "\n",
    "예를 들어, `\"Joel\"`의 점수(grade)를 확인하려면 다음과 같이 실행한다."
   ]
  },
  {
   "cell_type": "code",
   "execution_count": 4,
   "metadata": {},
   "outputs": [
    {
     "data": {
      "text/plain": [
       "80"
      ]
     },
     "execution_count": 4,
     "metadata": {},
     "output_type": "execute_result"
    }
   ],
   "source": [
    "grades[\"Joel\"]"
   ]
  },
  {
   "cell_type": "markdown",
   "metadata": {},
   "source": [
    "없는 키를 사용하면 오류가 발생한다."
   ]
  },
  {
   "cell_type": "code",
   "execution_count": 5,
   "metadata": {},
   "outputs": [
    {
     "name": "stdout",
     "output_type": "stream",
     "text": [
      "Kate 점수가 없어요!\n"
     ]
    }
   ],
   "source": [
    "try:\n",
    "    kates_grade = grades[\"Kate\"]\n",
    "except KeyError:\n",
    "    print(\"Kate 점수가 없어요!\")"
   ]
  },
  {
   "cell_type": "markdown",
   "metadata": {},
   "source": [
    "키의 존재여부는 `in` 연산자를 이용해서 확인한다."
   ]
  },
  {
   "cell_type": "code",
   "execution_count": 6,
   "metadata": {},
   "outputs": [
    {
     "data": {
      "text/plain": [
       "True"
      ]
     },
     "execution_count": 6,
     "metadata": {},
     "output_type": "execute_result"
    }
   ],
   "source": [
    "\"Joel\" in grades"
   ]
  },
  {
   "cell_type": "code",
   "execution_count": 7,
   "metadata": {},
   "outputs": [
    {
     "data": {
      "text/plain": [
       "False"
      ]
     },
     "execution_count": 7,
     "metadata": {},
     "output_type": "execute_result"
    }
   ],
   "source": [
    "\"Kate\" in grades"
   ]
  },
  {
   "cell_type": "markdown",
   "metadata": {},
   "source": [
    "`dict` 자료형의 `get` 메소드를 사용하면 키가 존재하지 않아도 오류가 발생하지 않는다.\n",
    "\n",
    "키가 존재하면 해당 값을 리턴한다."
   ]
  },
  {
   "cell_type": "code",
   "execution_count": 8,
   "metadata": {},
   "outputs": [
    {
     "data": {
      "text/plain": [
       "80"
      ]
     },
     "execution_count": 8,
     "metadata": {},
     "output_type": "execute_result"
    }
   ],
   "source": [
    "grades.get(\"Joel\")"
   ]
  },
  {
   "cell_type": "markdown",
   "metadata": {},
   "source": [
    "키가 존재하지 않으면 논(`None`)을 리턴한다."
   ]
  },
  {
   "cell_type": "code",
   "execution_count": 9,
   "metadata": {},
   "outputs": [],
   "source": [
    "grades.get(\"Kate\")"
   ]
  },
  {
   "cell_type": "markdown",
   "metadata": {},
   "source": [
    "**주의:** \n",
    "* `None`은 '아무 값도 아니다'를 의미하는 일종의 값이다. C, Javd 등의 널(null) 값에 해당한다.\n",
    "    따라서 함수를 실행해도 아무 것도 보여주지 않는다.\n",
    "* 파이썬의 모든 함수는 반환값이 있다. 다만, 함수를 정의할 때 리턴(`return`) 키워드가 없는 경우\n",
    "    `None`을 반환값으로 사용한다.\n",
    "* `get` 메소드는 둘째 인자를 받을 수 있으며, 해당 키가 존재하지 않을 경우 `None` 대신에 지정된 둘째 인자를 반환한다.\n",
    "    키가 존재하면 둘째 인자는 무시된다."
   ]
  },
  {
   "cell_type": "code",
   "execution_count": 10,
   "metadata": {},
   "outputs": [
    {
     "data": {
      "text/plain": [
       "'해당 키가 없어요'"
      ]
     },
     "execution_count": 10,
     "metadata": {},
     "output_type": "execute_result"
    }
   ],
   "source": [
    "grades.get(\"Kate\", \"해당 키가 없어요\")"
   ]
  },
  {
   "cell_type": "code",
   "execution_count": 11,
   "metadata": {},
   "outputs": [
    {
     "data": {
      "text/plain": [
       "80"
      ]
     },
     "execution_count": 11,
     "metadata": {},
     "output_type": "execute_result"
    }
   ],
   "source": [
    "grades.get(\"Joel\", 0)"
   ]
  },
  {
   "cell_type": "markdown",
   "metadata": {},
   "source": [
    "### 키(key)로 사용될 수 있는 자료형\n",
    "\n",
    "수정할 수 없는 자료형만 사용할 수 있다.\n",
    "\n",
    "* 숫자\n",
    "* 문자열\n",
    "* 튜플\n",
    "\n",
    "반면에, 리스트, 사전 자료형은 키로 사용될 수 없다."
   ]
  },
  {
   "cell_type": "markdown",
   "metadata": {},
   "source": [
    "### 사전 자료형 수정\n",
    "\n",
    "대괄호(`[]`)를 사용하여 기존 키 값을 수정하거나 새로운 항목을 추가할 수 있다.\n",
    "\n",
    "**주의:** 사전 자료형은 순서는 아무런 의미가 없다. "
   ]
  },
  {
   "cell_type": "code",
   "execution_count": 12,
   "metadata": {},
   "outputs": [
    {
     "name": "stdout",
     "output_type": "stream",
     "text": [
      "{'Joel': 80, 'Tim': 95}\n"
     ]
    }
   ],
   "source": [
    "print(grades)"
   ]
  },
  {
   "cell_type": "code",
   "execution_count": 13,
   "metadata": {},
   "outputs": [
    {
     "name": "stdout",
     "output_type": "stream",
     "text": [
      "{'Joel': 80, 'Tim': 99, 'Kate': 100}\n"
     ]
    }
   ],
   "source": [
    "grades[\"Tim\"] = 99\n",
    "grades[\"Kate\"] = 100 \n",
    "print(grades)"
   ]
  },
  {
   "cell_type": "markdown",
   "metadata": {},
   "source": [
    "### 활용 예제\n",
    "\n",
    "사전 자료형은 체계적으로 정리된 자료들을 효율적으로 다룬다."
   ]
  },
  {
   "cell_type": "code",
   "execution_count": 14,
   "metadata": {},
   "outputs": [],
   "source": [
    "tweet = {\n",
    "    \"사용자\" : \"길동\",\n",
    "    \"문장\" : \"데이터 과학 멋져요!\",\n",
    "    \"리트윗 수\" : 100,\n",
    "    \"해시태그\" : [\"#데이터\", \"#과학\", \"#데이터과학\", \"#멋져요\"]\n",
    "}"
   ]
  },
  {
   "cell_type": "code",
   "execution_count": 15,
   "metadata": {},
   "outputs": [
    {
     "data": {
      "text/plain": [
       "{'사용자': '길동',\n",
       " '문장': '데이터 과학 멋져요!',\n",
       " '리트윗 수': 100,\n",
       " '해시태그': ['#데이터', '#과학', '#데이터과학', '#멋져요']}"
      ]
     },
     "execution_count": 15,
     "metadata": {},
     "output_type": "execute_result"
    }
   ],
   "source": [
    "tweet"
   ]
  },
  {
   "cell_type": "markdown",
   "metadata": {},
   "source": [
    "### 주요 메서드: `keys`, `values`, `items`"
   ]
  },
  {
   "cell_type": "markdown",
   "metadata": {},
   "source": [
    "키만 또는 값만 따로따로 모아서 확인 및 활용할 수 있다."
   ]
  },
  {
   "cell_type": "code",
   "execution_count": 16,
   "metadata": {},
   "outputs": [
    {
     "data": {
      "text/plain": [
       "dict_keys(['사용자', '문장', '리트윗 수', '해시태그'])"
      ]
     },
     "execution_count": 16,
     "metadata": {},
     "output_type": "execute_result"
    }
   ],
   "source": [
    "tweet_keys = tweet.keys()\n",
    "tweet_keys"
   ]
  },
  {
   "cell_type": "code",
   "execution_count": 17,
   "metadata": {},
   "outputs": [
    {
     "data": {
      "text/plain": [
       "dict_values(['길동', '데이터 과학 멋져요!', 100, ['#데이터', '#과학', '#데이터과학', '#멋져요']])"
      ]
     },
     "execution_count": 17,
     "metadata": {},
     "output_type": "execute_result"
    }
   ],
   "source": [
    "tweet_values= tweet.values()\n",
    "tweet_values"
   ]
  },
  {
   "cell_type": "markdown",
   "metadata": {},
   "source": [
    "사전 자료형에 포함된 키와 값으로 이루어진 쌍들을 일종의 리스트로 확인할 수도 있다."
   ]
  },
  {
   "cell_type": "code",
   "execution_count": 18,
   "metadata": {},
   "outputs": [
    {
     "data": {
      "text/plain": [
       "dict_items([('사용자', '길동'), ('문장', '데이터 과학 멋져요!'), ('리트윗 수', 100), ('해시태그', ['#데이터', '#과학', '#데이터과학', '#멋져요'])])"
      ]
     },
     "execution_count": 18,
     "metadata": {},
     "output_type": "execute_result"
    }
   ],
   "source": [
    "tweet_items = tweet.items()\n",
    "tweet_items"
   ]
  },
  {
   "cell_type": "markdown",
   "metadata": {},
   "source": [
    "#### 메서드 활용법"
   ]
  },
  {
   "cell_type": "markdown",
   "metadata": {},
   "source": [
    "`dict_keys`, `dict_values`, `dict_items`는 \n",
    "사전 자료형과 관련된 새로운 자료형들이지만,\n",
    "여기서는 자세히 알 필요가 없다. \n",
    "다만, 아래와 같이 항목들을 `for` 반복문을 이용하여 접근할 수 \n",
    "있다는 점은 기억해야 한다."
   ]
  },
  {
   "cell_type": "code",
   "execution_count": 19,
   "metadata": {},
   "outputs": [
    {
     "name": "stdout",
     "output_type": "stream",
     "text": [
      "사용자\n",
      "문장\n",
      "리트윗 수\n",
      "해시태그\n"
     ]
    }
   ],
   "source": [
    "for item in tweet_keys:\n",
    "    print(item)"
   ]
  },
  {
   "cell_type": "markdown",
   "metadata": {},
   "source": [
    "또는 아래와 같이 리스트로 형변환해서 사용할 수도 있다."
   ]
  },
  {
   "cell_type": "code",
   "execution_count": 20,
   "metadata": {},
   "outputs": [
    {
     "data": {
      "text/plain": [
       "[('사용자', '길동'),\n",
       " ('문장', '데이터 과학 멋져요!'),\n",
       " ('리트윗 수', 100),\n",
       " ('해시태그', ['#데이터', '#과학', '#데이터과학', '#멋져요'])]"
      ]
     },
     "execution_count": 20,
     "metadata": {},
     "output_type": "execute_result"
    }
   ],
   "source": [
    "list(tweet_items)"
   ]
  },
  {
   "cell_type": "markdown",
   "metadata": {},
   "source": [
    "### `in` 연산자 처리속도"
   ]
  },
  {
   "cell_type": "markdown",
   "metadata": {},
   "source": [
    "리스트에서 사용되는 `in` 연산자와 사전에서 사용되는 `in` 연산자는 내부적으로 서로 다르게 작동한다.\n",
    "여기서는 처리속도 관련해서만 설명한다. \n",
    "\n",
    "* 리스트의 `in` 연산자 검색 속도: 평균적으로 사용되는 리스트의 길이에 비례\n",
    "* 사전의 `in` 연산자 검색 속도: 평균적으로 사전의 길이에 상관없음. 다만 최악의 경우 길이에 비례.\n",
    "\n",
    "자세한 내용은 \n",
    "[시간 복잡도](https://wiki.python.org/moin/TimeComplexity)를\n",
    "참조할 수 있다."
   ]
  },
  {
   "cell_type": "markdown",
   "metadata": {},
   "source": [
    "## `defaultdict` 클래스 활용"
   ]
  },
  {
   "cell_type": "markdown",
   "metadata": {},
   "source": [
    "문서에서 단어 빈도수를 확인하고자 할 때 보통 사전 자료형을 이용하며,\n",
    "빈 사전을 만든 다음에 단어를 키로, 빈도수를 값으로 항목을 추가한다."
   ]
  },
  {
   "cell_type": "markdown",
   "metadata": {},
   "source": [
    "#### 방법 1: `if ... else...` 조건문 활용\n",
    "\n",
    "단어가 기존에 없으면 새로운 키-값 쌍을 생성하여 추가하고, 기존에 있으면 해당 키값에 1을 더한다."
   ]
  },
  {
   "cell_type": "code",
   "execution_count": 25,
   "metadata": {},
   "outputs": [
    {
     "data": {
      "text/plain": [
       "{'data': 2, 'science': 1, 'from': 2, 'scratch': 1}"
      ]
     },
     "execution_count": 25,
     "metadata": {},
     "output_type": "execute_result"
    }
   ],
   "source": [
    "document = [\"data\", \"science\", \"from\", \"scratch\", \"data\", \"from\"]\n",
    "\n",
    "word_counts = {}\n",
    "for word in document:              # 단어가 키로 사용되었는지 여부 확인\n",
    "    if word in word_counts:        # 이미 추가된 단어가 다시 나올 때\n",
    "        word_counts[word] += 1\n",
    "    else:                          # 새 단어를 추가할 때\n",
    "        word_counts[word] = 1\n",
    "        \n",
    "word_counts"
   ]
  },
  {
   "cell_type": "markdown",
   "metadata": {},
   "source": [
    "#### 방법 2: `try ... except` 예외 처리 활용\n",
    "\n",
    "사전에 새로운 키-값 항목을 추가할 때 발생할 수 있는 오류에 대비하여 처리한다."
   ]
  },
  {
   "cell_type": "code",
   "execution_count": 26,
   "metadata": {},
   "outputs": [
    {
     "data": {
      "text/plain": [
       "{'data': 2, 'science': 1, 'from': 2, 'scratch': 1}"
      ]
     },
     "execution_count": 26,
     "metadata": {},
     "output_type": "execute_result"
    }
   ],
   "source": [
    "word_counts = {}\n",
    "for word in document:\n",
    "    try:                            # 이미 추가된 단어가 다시 나올 때\n",
    "        word_counts[word] += 1\n",
    "    except KeyError:                # 새 단어 추가과정에서 오류가 발생할 때\n",
    "        word_counts[word] = 1\n",
    "\n",
    "word_counts"
   ]
  },
  {
   "cell_type": "markdown",
   "metadata": {},
   "source": [
    "#### 방법 3: `get` 메소드 활용\n",
    "\n",
    "`get` 메소드의 둘째 인자를 활용할 수 있다."
   ]
  },
  {
   "cell_type": "code",
   "execution_count": 27,
   "metadata": {},
   "outputs": [
    {
     "data": {
      "text/plain": [
       "{'data': 2, 'science': 1, 'from': 2, 'scratch': 1}"
      ]
     },
     "execution_count": 27,
     "metadata": {},
     "output_type": "execute_result"
    }
   ],
   "source": [
    "word_counts = {}\n",
    "\n",
    "for word in document:\n",
    "    previous_count = word_counts.get(word, 0)   # 새 단어가 추가될 때 0을 사용\n",
    "    word_counts[word] = previous_count + 1\n",
    "\n",
    "word_counts"
   ]
  },
  {
   "cell_type": "markdown",
   "metadata": {},
   "source": [
    "### 추천 방법: `defaultdict` 클래스 활용\n",
    "\n",
    "앞서 설명한 세 가지 방식 모두 약간 복잡하다.\n",
    "하지만 `collections` 모듈에서 정의된 `defaultdict` 클래스를 활용하면\n",
    "단어가 이미 나왔었는지 여부를 구분하지 않으면서 \n",
    "일을 진행할 수 있다."
   ]
  },
  {
   "cell_type": "code",
   "execution_count": 28,
   "metadata": {},
   "outputs": [],
   "source": [
    "from collections import defaultdict"
   ]
  },
  {
   "cell_type": "code",
   "execution_count": 29,
   "metadata": {},
   "outputs": [
    {
     "data": {
      "text/plain": [
       "defaultdict(int, {'data': 2, 'science': 1, 'from': 2, 'scratch': 1})"
      ]
     },
     "execution_count": 29,
     "metadata": {},
     "output_type": "execute_result"
    }
   ],
   "source": [
    "word_counts = defaultdict(int)\n",
    "for word in document:\n",
    "    word_counts[word] += 1\n",
    "    \n",
    "word_counts"
   ]
  },
  {
   "cell_type": "markdown",
   "metadata": {},
   "source": [
    "`defaultdict(int)` 의 의미는 다음과 같다.\n",
    "\n",
    "* 빈 사전 자료형을 생성한다.\n",
    "* 값:\n",
    "    * 인트(`int`), 즉 정수형 사용.\n",
    "    * 0이 기본값으로 지정된다.\n",
    "* 키값이 0으로 초기화 되어 있기에 새로운 키를 추가해도 오류가 나지 않는다."
   ]
  },
  {
   "cell_type": "markdown",
   "metadata": {},
   "source": [
    "#### `defaultdict(list)` 활용\n",
    "\n",
    "* 빈 사전 자료형을 생성한다.\n",
    "* 값:\n",
    "    * 리스트(`list`) 자료형\n",
    "    * 빈 리스트(`[]`)가 기본값으로 지정된다.\n",
    "* 키값이 `[]`으로 초기화 되어 있기에 새로운 키를 추가해도 오류가 나지 않는다.\n",
    "    * 리스트의 `append` 메소드 활용"
   ]
  },
  {
   "cell_type": "code",
   "execution_count": 30,
   "metadata": {},
   "outputs": [
    {
     "name": "stdout",
     "output_type": "stream",
     "text": [
      "defaultdict(<class 'list'>, {2: [1]})\n"
     ]
    }
   ],
   "source": [
    "dd_list = defaultdict(list)\n",
    "dd_list[2].append(1)       \n",
    "print(dd_list)"
   ]
  },
  {
   "cell_type": "code",
   "execution_count": 31,
   "metadata": {},
   "outputs": [
    {
     "data": {
      "text/plain": [
       "collections.defaultdict"
      ]
     },
     "execution_count": 31,
     "metadata": {},
     "output_type": "execute_result"
    }
   ],
   "source": [
    "type(dd_list)"
   ]
  },
  {
   "cell_type": "markdown",
   "metadata": {},
   "source": [
    "#### `defaultdict(dict)` 활용\n",
    "\n",
    "* 빈 사전 자료형을 생성한다.\n",
    "* 값:\n",
    "    * 사전(`dict`) 자료형\n",
    "    * 빈 사전(`{}`)이 기본값으로 지정된다.\n",
    "* 키값이 `{}`로 초기화 되어 있기에 새로운 키를 추가해도 오류가 나지 않는다.\n",
    "    * 사전 자료형의 대괄호(`[]`) 활용"
   ]
  },
  {
   "cell_type": "markdown",
   "metadata": {},
   "source": [
    "아래와 같이 사전 자료형을 값으로 갖는 사전을 생성할 수 있다."
   ]
  },
  {
   "cell_type": "code",
   "execution_count": 32,
   "metadata": {},
   "outputs": [],
   "source": [
    "dd_dict = defaultdict(dict)\n",
    "\n",
    "dd_dict[\"홍길동\"][\"성별\"] = \"남성\"\n",
    "dd_dict[\"홍길동\"][\"생년월일\"] = \"2000.03.08\"\n",
    "dd_dict[\"홍길동\"][\"전공\"] = \"컴퓨터공학\"\n",
    "\n",
    "dd_dict[\"성춘향\"][\"성별\"] = \"여성\"\n",
    "dd_dict[\"성춘향\"][\"생년월일\"] = \"2001.08.03\"\n",
    "dd_dict[\"성춘향\"][\"전공\"] = \"응용수학\""
   ]
  },
  {
   "cell_type": "code",
   "execution_count": 33,
   "metadata": {},
   "outputs": [
    {
     "name": "stdout",
     "output_type": "stream",
     "text": [
      "홍길동:{'성별': '남성', '생년월일': '2000.03.08', '전공': '컴퓨터공학'}\n",
      "성춘향:{'성별': '여성', '생년월일': '2001.08.03', '전공': '응용수학'}\n"
     ]
    }
   ],
   "source": [
    "for student in dd_dict:\n",
    "    print(student, dd_dict[student], sep=':')"
   ]
  },
  {
   "cell_type": "markdown",
   "metadata": {},
   "source": [
    "#### `defaultdict(lambda: value)` 활용\n",
    "\n",
    "* 빈 사전 자료형을 생성한다.\n",
    "* 값:\n",
    "    * `value`에 지정된 자료형 사용\n",
    "    * `value`로 사용된 값을 기본값으로 사용\n",
    "* 사용된 기본 키값에 맞추어 키값을 수정할 수 있다."
   ]
  },
  {
   "cell_type": "code",
   "execution_count": 34,
   "metadata": {},
   "outputs": [
    {
     "data": {
      "text/plain": [
       "defaultdict(<function __main__.<lambda>()>, {2: [0, 1]})"
      ]
     },
     "execution_count": 34,
     "metadata": {},
     "output_type": "execute_result"
    }
   ],
   "source": [
    "dd_pair = defaultdict(lambda: [0, 0])    # 길이가 2인 리스트를 값으로 활용. 초기값은 모두 0.\n",
    "dd_pair[2][1] = 1                        # 키 2에 해당하는 값을 [0, 1]로 지정\n",
    "dd_pair"
   ]
  },
  {
   "cell_type": "markdown",
   "metadata": {},
   "source": [
    "**주의:** \n",
    "\n",
    "* `dd_pair[2]` 원래 `[0, 0]` 임. \n",
    "* 따라서 `dd_pair[2][1] = 1`은 `[0, 0][1] = 1`에 해당함.\n",
    "* 즉 리스트 인덱싱에 해당하며, 1번 인덱스의 값을 1로 수정함."
   ]
  },
  {
   "cell_type": "markdown",
   "metadata": {},
   "source": [
    "## Counter 클래스 활용"
   ]
  },
  {
   "cell_type": "markdown",
   "metadata": {},
   "source": [
    "문자열, 리스트, 튜플, 사전 자료형 등 여러 개의 값을 모둠으로 갖는 값으로부터\n",
    "항목들의 빈도수를 측정하여 담은 `defaultdict` 자료형과 유사하지만\n",
    "보다 강력한 기능을 가진 `Counter` 자료형을 반환한다."
   ]
  },
  {
   "cell_type": "code",
   "execution_count": 35,
   "metadata": {},
   "outputs": [],
   "source": [
    "from collections import Counter"
   ]
  },
  {
   "cell_type": "code",
   "execution_count": 36,
   "metadata": {},
   "outputs": [
    {
     "data": {
      "text/plain": [
       "Counter({0: 2, 1: 1, 2: 2})"
      ]
     },
     "execution_count": 36,
     "metadata": {},
     "output_type": "execute_result"
    }
   ],
   "source": [
    "num_count = Counter([0, 1, 2, 0, 2])\n",
    "num_count"
   ]
  },
  {
   "cell_type": "markdown",
   "metadata": {},
   "source": [
    "앞서 여러 방식으로 다루었던 `document`에 사용된 단어들의 빈도수를 아래와 같이 쉽게 구할 수 있다."
   ]
  },
  {
   "cell_type": "code",
   "execution_count": 37,
   "metadata": {},
   "outputs": [
    {
     "data": {
      "text/plain": [
       "['data', 'science', 'from', 'scratch', 'data', 'from']"
      ]
     },
     "execution_count": 37,
     "metadata": {},
     "output_type": "execute_result"
    }
   ],
   "source": [
    "document"
   ]
  },
  {
   "cell_type": "code",
   "execution_count": 38,
   "metadata": {},
   "outputs": [
    {
     "data": {
      "text/plain": [
       "Counter({'data': 2, 'science': 1, 'from': 2, 'scratch': 1})"
      ]
     },
     "execution_count": 38,
     "metadata": {},
     "output_type": "execute_result"
    }
   ],
   "source": [
    "word_counts = Counter(document)\n",
    "word_counts"
   ]
  },
  {
   "cell_type": "markdown",
   "metadata": {},
   "source": [
    "### `most_common` 메소드\n",
    "\n",
    "`Counter` 자료형의 메소드 중에 `most_common` 메소드가 유용하게 사용되며,\n",
    "빈도수를 기준으로 내림차순으로 정렬해준다.\n",
    "\n",
    "예를 들어, 빈도수가 가장 높은 항목 세 개를 내림차순으로 보려주려면 다음과 같이 실행한다."
   ]
  },
  {
   "cell_type": "code",
   "execution_count": 39,
   "metadata": {},
   "outputs": [
    {
     "name": "stdout",
     "output_type": "stream",
     "text": [
      "('data', 2)\n",
      "('from', 2)\n",
      "('science', 1)\n"
     ]
    }
   ],
   "source": [
    "for item in word_counts.most_common(3):\n",
    "    print(item)"
   ]
  },
  {
   "cell_type": "code",
   "execution_count": 40,
   "metadata": {},
   "outputs": [
    {
     "name": "stdout",
     "output_type": "stream",
     "text": [
      "data 2\n",
      "from 2\n",
      "science 1\n"
     ]
    }
   ],
   "source": [
    "for word, count in word_counts.most_common(3):\n",
    "    print(word, count)"
   ]
  },
  {
   "cell_type": "markdown",
   "metadata": {},
   "source": [
    "## 집합(set) 자료형"
   ]
  },
  {
   "cell_type": "markdown",
   "metadata": {},
   "source": [
    "`set` 자료형은 집합에 해당하는 자료형이며, 수학에서 배운 집합 개념과 동일하다.\n",
    "\n",
    "* 원소들 사이의 순서가 없다.\n",
    "* 중복된 원소를 인정하지 않는다."
   ]
  },
  {
   "cell_type": "code",
   "execution_count": 41,
   "metadata": {},
   "outputs": [
    {
     "data": {
      "text/plain": [
       "{2, 3, 5, 7}"
      ]
     },
     "execution_count": 41,
     "metadata": {},
     "output_type": "execute_result"
    }
   ],
   "source": [
    "primes_below_10 = {2, 3, 7, 5, 7, 3}\n",
    "primes_below_10"
   ]
  },
  {
   "cell_type": "markdown",
   "metadata": {},
   "source": [
    "원소의 개수는 `len` 함수를 이용하여 확인한다."
   ]
  },
  {
   "cell_type": "code",
   "execution_count": 42,
   "metadata": {},
   "outputs": [
    {
     "data": {
      "text/plain": [
       "4"
      ]
     },
     "execution_count": 42,
     "metadata": {},
     "output_type": "execute_result"
    }
   ],
   "source": [
    "len(primes_below_10)"
   ]
  },
  {
   "cell_type": "markdown",
   "metadata": {},
   "source": [
    "공집합은 `set()`으로 생성하며, 원소 추가는 `add` 메소드를 활용한다."
   ]
  },
  {
   "cell_type": "code",
   "execution_count": 43,
   "metadata": {},
   "outputs": [
    {
     "name": "stdout",
     "output_type": "stream",
     "text": [
      "{1, 2}\n"
     ]
    }
   ],
   "source": [
    "s = set()\n",
    "s.add(1)\n",
    "s.add(2)\n",
    "s.add(2)\n",
    "\n",
    "print(s)"
   ]
  },
  {
   "cell_type": "markdown",
   "metadata": {},
   "source": [
    "원소의 포함여부는 `in` 연산자를 활용하여 확인한다."
   ]
  },
  {
   "cell_type": "code",
   "execution_count": 44,
   "metadata": {},
   "outputs": [
    {
     "data": {
      "text/plain": [
       "True"
      ]
     },
     "execution_count": 44,
     "metadata": {},
     "output_type": "execute_result"
    }
   ],
   "source": [
    "2 in s"
   ]
  },
  {
   "cell_type": "code",
   "execution_count": 45,
   "metadata": {},
   "outputs": [
    {
     "data": {
      "text/plain": [
       "False"
      ]
     },
     "execution_count": 45,
     "metadata": {},
     "output_type": "execute_result"
    }
   ],
   "source": [
    "3 in s"
   ]
  },
  {
   "cell_type": "markdown",
   "metadata": {},
   "source": [
    "### 집합 자료형 사용 이유"
   ]
  },
  {
   "cell_type": "markdown",
   "metadata": {},
   "source": [
    "#### 예제\n",
    "\n",
    "리스트에 중복으로 포함된 항목을 쉽게 제거할 수 있다."
   ]
  },
  {
   "cell_type": "code",
   "execution_count": 3,
   "metadata": {},
   "outputs": [
    {
     "name": "stdout",
     "output_type": "stream",
     "text": [
      "[1, 2, 3]\n"
     ]
    }
   ],
   "source": [
    "item_list = [1, 2, 3, 1, 2, 3]\n",
    "\n",
    "item_set = set(item_list) \n",
    "distinct_item_list = list(item_set)\n",
    "\n",
    "print(distinct_item_list)"
   ]
  },
  {
   "cell_type": "markdown",
   "metadata": {},
   "source": [
    "#### 예제\n",
    "\n",
    "리스트에 중복으로 포함된 항목이 존재하는가를 쉽게 판단할 수 있다.\n",
    "예를 들어, 아래 함수는 중복 함수의 포함여부를 판단해준다."
   ]
  },
  {
   "cell_type": "code",
   "execution_count": 6,
   "metadata": {},
   "outputs": [],
   "source": [
    "def has_duplicates(t):\n",
    "    return len(set(t)) < len(t)"
   ]
  },
  {
   "cell_type": "code",
   "execution_count": 7,
   "metadata": {},
   "outputs": [
    {
     "data": {
      "text/plain": [
       "True"
      ]
     },
     "execution_count": 7,
     "metadata": {},
     "output_type": "execute_result"
    }
   ],
   "source": [
    "has_duplicates(item_list)"
   ]
  },
  {
   "cell_type": "markdown",
   "metadata": {},
   "source": [
    "#### 예제\n",
    "\n",
    "길이가 매우 긴 리스트를 대상으로 항목의 존재여부를 판단할 때 집합 자료형으로 형변환을 하면 \n",
    "매우 빠르게 해결할 수 있다."
   ]
  },
  {
   "cell_type": "code",
   "execution_count": 8,
   "metadata": {},
   "outputs": [
    {
     "name": "stdout",
     "output_type": "stream",
     "text": [
      "False\n",
      "False\n"
     ]
    }
   ],
   "source": [
    "hundreds_of_other_words = []  # 매우 긴 리스트라 상상한다.\n",
    "stopwords_list = [\"a\", \"an\", \"at\"] \\\n",
    "                + hundreds_of_other_words + [\"yet\", \"you\"]\n",
    "\n",
    "print(\"zip\" in stopwords_list)     # 확인 과정이 느리다.\n",
    "\n",
    "stopwords_set = set(stopwords_list)\n",
    "print(\"zip\" in stopwords_set)      # 매우 빠르게 확인한다."
   ]
  },
  {
   "cell_type": "markdown",
   "metadata": {},
   "source": [
    "#### 예제\n",
    "\n",
    "부분집합 관계를 이용할 수 있다.\n",
    "예를 들어, 아래 함수는 첫째 인자의 리스트에 포함된 모든 원소가,\n",
    "둘째 인자의 리스트에 항목으로 포하되는지 여부를 판단한다.\n",
    "\n",
    "**주의:** `<=` 연산자는 집합을 대상으로 할 경우 부분집합 관계를 결정한다."
   ]
  },
  {
   "cell_type": "code",
   "execution_count": 10,
   "metadata": {},
   "outputs": [],
   "source": [
    "def sublist(list1, list2):\n",
    "    return set(list1) <= set(list2)"
   ]
  },
  {
   "cell_type": "code",
   "execution_count": 11,
   "metadata": {},
   "outputs": [
    {
     "data": {
      "text/plain": [
       "True"
      ]
     },
     "execution_count": 11,
     "metadata": {},
     "output_type": "execute_result"
    }
   ],
   "source": [
    "sublist(item_list, distinct_item_list)"
   ]
  },
  {
   "cell_type": "markdown",
   "metadata": {},
   "source": [
    "## 흐름 제어: `if` 조건문 활용"
   ]
  },
  {
   "cell_type": "markdown",
   "metadata": {},
   "source": [
    "이프(`if`) 조건문을 이용하여 상황에 따른 프로그램을 수행하도록 하는 것은 여느 프로그래밍 언어와 유사하다.\n",
    "\n",
    "**주의:** \n",
    "* 들여쓰기와 콜론(`:`) 사용에 주의해야 한다.\n",
    "* 중괄호(`{}`)는 사용하지 않는다."
   ]
  },
  {
   "cell_type": "code",
   "execution_count": 48,
   "metadata": {},
   "outputs": [
    {
     "name": "stdout",
     "output_type": "stream",
     "text": [
      "앞서 언급된 조건이 모두 적용되지 않을 때 사용\n"
     ]
    }
   ],
   "source": [
    "if 1 > 2:\n",
    "    message = \"1이 2보다 크기를 바라지만...\"\n",
    "elif 1 > 3:\n",
    "    message = \"elif는 'else if'의 줄임말임.\"\n",
    "else:\n",
    "    message = \"앞서 언급된 조건이 모두 적용되지 않을 때 사용\"\n",
    "    \n",
    "print(message)"
   ]
  },
  {
   "cell_type": "markdown",
   "metadata": {},
   "source": [
    "### 한 줄 `if` 조건문\n",
    "\n",
    "간단한 한 줄 조건문을 종종 사용할 것이다."
   ]
  },
  {
   "cell_type": "code",
   "execution_count": 49,
   "metadata": {},
   "outputs": [
    {
     "name": "stdout",
     "output_type": "stream",
     "text": [
      "짝수\n"
     ]
    }
   ],
   "source": [
    "x = 10\n",
    "parity = \"짝수\" if x % 2 == 0 else \"홀수\"\n",
    "\n",
    "print(parity)"
   ]
  },
  {
   "cell_type": "markdown",
   "metadata": {},
   "source": [
    "## 흐름 제어: `while` 반복문 활용\n",
    "\n",
    "여느 프로그래밍 언어에서처럼 `while` 반복문도 제공된다.\n",
    "역시 콜론과 들여쓰기에 주의한다."
   ]
  },
  {
   "cell_type": "code",
   "execution_count": 50,
   "metadata": {},
   "outputs": [
    {
     "name": "stdout",
     "output_type": "stream",
     "text": [
      "0는(은) 10보다 작다.\n",
      "1는(은) 10보다 작다.\n",
      "2는(은) 10보다 작다.\n",
      "3는(은) 10보다 작다.\n",
      "4는(은) 10보다 작다.\n",
      "5는(은) 10보다 작다.\n",
      "6는(은) 10보다 작다.\n",
      "7는(은) 10보다 작다.\n",
      "8는(은) 10보다 작다.\n",
      "9는(은) 10보다 작다.\n"
     ]
    }
   ],
   "source": [
    "x = 0\n",
    "while x < 10:\n",
    "    print(f\"{x}는(은) 10보다 작다.\")\n",
    "    x += 1"
   ]
  },
  {
   "cell_type": "markdown",
   "metadata": {},
   "source": [
    "## 흐름 제어: `for ... in ...` 반복문 활용\n",
    "\n",
    "`while` 반복문 보다 `for ... in ...` 반복문을 보다 많이 사용할 것이다.\n",
    "특히, `range` 함수와 찰떡궁합이라서 활용도가 매우 높다."
   ]
  },
  {
   "cell_type": "markdown",
   "metadata": {},
   "source": [
    "### `range` 함수\n",
    "\n",
    "지정된 범위의 정수 수열을 생성하는 함수이다. 자료형은 리스트와 비슷하다.\n",
    "\n",
    "0부터 9까지의 정수로 구성된 수열을 생성하기:"
   ]
  },
  {
   "cell_type": "code",
   "execution_count": 51,
   "metadata": {},
   "outputs": [
    {
     "data": {
      "text/plain": [
       "range(0, 10)"
      ]
     },
     "execution_count": 51,
     "metadata": {},
     "output_type": "execute_result"
    }
   ],
   "source": [
    "range(10)"
   ]
  },
  {
   "cell_type": "code",
   "execution_count": 52,
   "metadata": {},
   "outputs": [
    {
     "name": "stdout",
     "output_type": "stream",
     "text": [
      "0는 10보다 작아요.\n",
      "1는 10보다 작아요.\n",
      "2는 10보다 작아요.\n",
      "3는 10보다 작아요.\n",
      "4는 10보다 작아요.\n",
      "5는 10보다 작아요.\n",
      "6는 10보다 작아요.\n",
      "7는 10보다 작아요.\n",
      "8는 10보다 작아요.\n",
      "9는 10보다 작아요.\n"
     ]
    }
   ],
   "source": [
    "for x in range(10):\n",
    "    # x 는 0부터 9까지 움직이며 가리킨다.\n",
    "    print(f\"{x}는 10보다 작아요.\")"
   ]
  },
  {
   "cell_type": "markdown",
   "metadata": {},
   "source": [
    "리스트의 슬라이싱에서 사용하는 구간의 처음과 끝, 스텝(step)을 이용할 수도 있다."
   ]
  },
  {
   "cell_type": "markdown",
   "metadata": {},
   "source": [
    "* 구간의 시작"
   ]
  },
  {
   "cell_type": "code",
   "execution_count": 5,
   "metadata": {},
   "outputs": [
    {
     "name": "stdout",
     "output_type": "stream",
     "text": [
      "5\n",
      "6\n",
      "7\n",
      "8\n",
      "9\n"
     ]
    }
   ],
   "source": [
    "for item in range(5,10):\n",
    "    # 5부터 시작한다.\n",
    "    print(item)"
   ]
  },
  {
   "cell_type": "markdown",
   "metadata": {},
   "source": [
    "* 스텝 지정"
   ]
  },
  {
   "cell_type": "code",
   "execution_count": 6,
   "metadata": {},
   "outputs": [
    {
     "name": "stdout",
     "output_type": "stream",
     "text": [
      "1\n",
      "3\n",
      "5\n",
      "7\n",
      "9\n"
     ]
    }
   ],
   "source": [
    "for item in range(1,10, 2):\n",
    "    # 2계단씩 건너 뛴다.\n",
    "    print(item)"
   ]
  },
  {
   "cell_type": "markdown",
   "metadata": {},
   "source": [
    "### `continue`와 `break`\n",
    "\n",
    "`for ... in ...` 반복문을 이용하여 좀 더 복잡한 알고리즘을 구성하려면 `continue`와 `break`를 잘 활용하면 된다."
   ]
  },
  {
   "cell_type": "code",
   "execution_count": 53,
   "metadata": {},
   "outputs": [
    {
     "name": "stdout",
     "output_type": "stream",
     "text": [
      "0\n",
      "1\n",
      "2\n",
      "4\n"
     ]
    }
   ],
   "source": [
    "for x in range(10):\n",
    "    if x == 3:\n",
    "        continue  # 반복이 다음 단계로 넘어 간다. \n",
    "                  # 즉, x가 바로 다음 값으로 변하고 아래 명령문은 실행하지 않는다.\n",
    "                  # 따라서 x = 3 인 경우를 건너뛴다. \n",
    "    if x == 5:\n",
    "        break     # 이 명령문을 감싸는 for 반복문을 바로 종료한다.\n",
    "    print(x)"
   ]
  },
  {
   "cell_type": "markdown",
   "metadata": {},
   "source": [
    "## 부울(`bool`) 자료형: 진리값\n",
    "\n",
    "파이썬에서 사용되는 진리값은 모두 대문자로 시작한다: `True`(참), `False`(거짓)"
   ]
  },
  {
   "cell_type": "code",
   "execution_count": 54,
   "metadata": {},
   "outputs": [],
   "source": [
    "one_is_less_than_two = 1 < 2\n",
    "\n",
    "true_equals_false = True == False"
   ]
  },
  {
   "cell_type": "code",
   "execution_count": 55,
   "metadata": {},
   "outputs": [
    {
     "name": "stdout",
     "output_type": "stream",
     "text": [
      "True\n"
     ]
    }
   ],
   "source": [
    "print(one_is_less_than_two)"
   ]
  },
  {
   "cell_type": "markdown",
   "metadata": {},
   "source": [
    "### 진리값 연산자: `and`, `or`, `not`\n",
    "\n",
    "논리합(`and`), 논리곱(`or`), 부정(`not`) 연산자는 진리값을 대상으로 하며\n",
    "여느 프로그래밍 언어에서 배운 내용과 동일하게 작동한다."
   ]
  },
  {
   "cell_type": "code",
   "execution_count": 56,
   "metadata": {},
   "outputs": [
    {
     "name": "stdout",
     "output_type": "stream",
     "text": [
      "False\n",
      "True\n",
      "True\n"
     ]
    }
   ],
   "source": [
    "print(one_is_less_than_two and true_equals_false)\n",
    "print(one_is_less_than_two or true_equals_false)\n",
    "print(not true_equals_false)"
   ]
  },
  {
   "cell_type": "markdown",
   "metadata": {},
   "source": [
    "### `None` 값\n",
    "\n",
    "C, Java 언어에서 사용되는 널(null) 값에 해당하는 것이 파이썬에서는 `None` 이며,\n",
    "다른 언어에서와의 차이점을 `None` 도 하나의 값이라는 점이다.\n",
    "즉, 변수에 저장하고 다른 값과 비교할 수 있다."
   ]
  },
  {
   "cell_type": "code",
   "execution_count": 57,
   "metadata": {},
   "outputs": [
    {
     "name": "stdout",
     "output_type": "stream",
     "text": [
      "True\n"
     ]
    }
   ],
   "source": [
    "x = None\n",
    "print(x == None)"
   ]
  },
  {
   "cell_type": "markdown",
   "metadata": {},
   "source": [
    "아래와 같이 `assert` 키워드를 이용하여 원하는 결과가 나오는지를 테스팅할 수 있다."
   ]
  },
  {
   "cell_type": "code",
   "execution_count": 58,
   "metadata": {},
   "outputs": [],
   "source": [
    "assert x is None"
   ]
  },
  {
   "cell_type": "markdown",
   "metadata": {},
   "source": [
    "주장이 참이면 아무 것도 보여주지 않는다. \n",
    "하지만 주장이 틀리면 오류를 발생시킨다."
   ]
  },
  {
   "cell_type": "code",
   "execution_count": 59,
   "metadata": {},
   "outputs": [
    {
     "ename": "AssertionError",
     "evalue": "",
     "output_type": "error",
     "traceback": [
      "\u001b[0;31m---------------------------------------------------------------------------\u001b[0m",
      "\u001b[0;31mAssertionError\u001b[0m                            Traceback (most recent call last)",
      "\u001b[0;32m<ipython-input-59-787561859c79>\u001b[0m in \u001b[0;36m<module>\u001b[0;34m\u001b[0m\n\u001b[0;32m----> 1\u001b[0;31m \u001b[0;32massert\u001b[0m \u001b[0mx\u001b[0m \u001b[0;32mis\u001b[0m \u001b[0;36m1\u001b[0m\u001b[0;34m\u001b[0m\u001b[0;34m\u001b[0m\u001b[0m\n\u001b[0m",
      "\u001b[0;31mAssertionError\u001b[0m: "
     ]
    }
   ],
   "source": [
    "assert x is 1"
   ]
  },
  {
   "cell_type": "markdown",
   "metadata": {},
   "source": [
    "예외 처리를 이용하여 주장이 왜 틀렸는지 등을 보여줄 수 있다."
   ]
  },
  {
   "cell_type": "code",
   "execution_count": 60,
   "metadata": {},
   "outputs": [
    {
     "ename": "AssertionError",
     "evalue": "x는 None이 할당되어 있다.",
     "output_type": "error",
     "traceback": [
      "\u001b[0;31m---------------------------------------------------------------------------\u001b[0m",
      "\u001b[0;31mAssertionError\u001b[0m                            Traceback (most recent call last)",
      "\u001b[0;32m<ipython-input-60-44728a1b0677>\u001b[0m in \u001b[0;36m<module>\u001b[0;34m\u001b[0m\n\u001b[0;32m----> 1\u001b[0;31m \u001b[0;32massert\u001b[0m \u001b[0mx\u001b[0m \u001b[0;32mis\u001b[0m \u001b[0;36m1\u001b[0m\u001b[0;34m,\u001b[0m \u001b[0;34m\"x는 None이 할당되어 있다.\"\u001b[0m\u001b[0;34m\u001b[0m\u001b[0;34m\u001b[0m\u001b[0m\n\u001b[0m",
      "\u001b[0;31mAssertionError\u001b[0m: x는 None이 할당되어 있다."
     ]
    }
   ],
   "source": [
    "assert x is 1, \"x는 None이 할당되어 있다.\""
   ]
  },
  {
   "cell_type": "markdown",
   "metadata": {},
   "source": [
    "**주의:** `assert`에 대해서는 파이썬 속성 강좌 2부에서 좀 더 다룬다."
   ]
  },
  {
   "cell_type": "markdown",
   "metadata": {},
   "source": [
    "### 거짓(`False`)으로 간주되는 값\n",
    "\n",
    "아래 값들은 상황에 따라 부울 자료형의 거짓(`False`)으로 간주된다.\n",
    "\n",
    "* `None`\n",
    "* `[]`    (빈 리스트)\n",
    "* `{}`    (빈 사전)\n",
    "* `\"\"`    (빈 문자열)\n",
    "* `set()` (공집합)\n",
    "* `0`     (정수 0)\n",
    "* `0.0`   (실수 0.0)\n",
    "\n",
    "나머지 값들의 대부분은 상황에 따라 부울 자료형의 참(`True`)으로 간주된다."
   ]
  },
  {
   "cell_type": "markdown",
   "metadata": {},
   "source": [
    "예제 1: 빈 문자열을 반환하는 함수의 반환값은 거짓으로 취급됨."
   ]
  },
  {
   "cell_type": "code",
   "execution_count": 61,
   "metadata": {},
   "outputs": [],
   "source": [
    "def some_function_that_returns_a_string():\n",
    "    return \"\"\n",
    "\n",
    "s = some_function_that_returns_a_string()\n",
    "\n",
    "if s:\n",
    "    first_char = s[0]\n",
    "else:\n",
    "    first_char = \"\""
   ]
  },
  {
   "cell_type": "code",
   "execution_count": 62,
   "metadata": {},
   "outputs": [
    {
     "data": {
      "text/plain": [
       "True"
      ]
     },
     "execution_count": 62,
     "metadata": {},
     "output_type": "execute_result"
    }
   ],
   "source": [
    "first_char == \"\""
   ]
  },
  {
   "cell_type": "markdown",
   "metadata": {},
   "source": [
    "**주의:** `==` 는 양측의 값의 동일성을 결정한다."
   ]
  },
  {
   "cell_type": "markdown",
   "metadata": {},
   "source": [
    "### `and` 연산자 작동방식\n",
    "위 코드는 아래와 같이 한 줄로 작성할 수 있다."
   ]
  },
  {
   "cell_type": "code",
   "execution_count": 63,
   "metadata": {},
   "outputs": [],
   "source": [
    "first_char = s and s[0]"
   ]
  },
  {
   "cell_type": "markdown",
   "metadata": {},
   "source": [
    "이유는 `and` 연산자의 작동방식에 찾을 수 있다.\n",
    "\n",
    "* `s`가 참이면 `s[0]`의 참, 거짓을 판단.\n",
    "* `s`가 거짓이면 `False`로 판단하며 `s[0]`은 아예 확인조차 하지 않음."
   ]
  },
  {
   "cell_type": "markdown",
   "metadata": {},
   "source": [
    "### `or` 연산자 작동방식"
   ]
  },
  {
   "cell_type": "markdown",
   "metadata": {},
   "source": [
    "`A or B`는 다음처럼 작동한다. \n",
    "\n",
    "* `A`가 참이면 `True`로 판단하며, `B`는 아예 확인조자 하지 않음.\n",
    "* `A`가 거짓이면 `B`로 판단."
   ]
  },
  {
   "cell_type": "markdown",
   "metadata": {},
   "source": [
    "예제 2: 아래 두 명령문은 동일한 일을 수행한다."
   ]
  },
  {
   "cell_type": "code",
   "execution_count": 64,
   "metadata": {},
   "outputs": [],
   "source": [
    "safe_x = x or 0\n",
    "safe_x = x if x is not None else 0"
   ]
  },
  {
   "cell_type": "markdown",
   "metadata": {},
   "source": [
    "## `all`과 `any` 함수"
   ]
  },
  {
   "cell_type": "markdown",
   "metadata": {},
   "source": [
    "리스트에 대해\n",
    "\n",
    "* `all` 함수: 모든 항목이 참이면 `True` 반환\n",
    "* `any` 함수: 항목 하나라도 참이면 `True` 반환"
   ]
  },
  {
   "cell_type": "code",
   "execution_count": 65,
   "metadata": {},
   "outputs": [
    {
     "data": {
      "text/plain": [
       "True"
      ]
     },
     "execution_count": 65,
     "metadata": {},
     "output_type": "execute_result"
    }
   ],
   "source": [
    "all([True, 1, {3}])   # True, all are truthy"
   ]
  },
  {
   "cell_type": "code",
   "execution_count": 66,
   "metadata": {},
   "outputs": [
    {
     "data": {
      "text/plain": [
       "False"
      ]
     },
     "execution_count": 66,
     "metadata": {},
     "output_type": "execute_result"
    }
   ],
   "source": [
    "all([True, 1, {}])    # False, {} is falsy"
   ]
  },
  {
   "cell_type": "code",
   "execution_count": 67,
   "metadata": {},
   "outputs": [
    {
     "data": {
      "text/plain": [
       "True"
      ]
     },
     "execution_count": 67,
     "metadata": {},
     "output_type": "execute_result"
    }
   ],
   "source": [
    "any([True, 1, {}])    # True, True is truthy"
   ]
  },
  {
   "cell_type": "code",
   "execution_count": 68,
   "metadata": {},
   "outputs": [
    {
     "data": {
      "text/plain": [
       "True"
      ]
     },
     "execution_count": 68,
     "metadata": {},
     "output_type": "execute_result"
    }
   ],
   "source": [
    "all([])               # True, no falsy elements in the list"
   ]
  },
  {
   "cell_type": "code",
   "execution_count": 69,
   "metadata": {},
   "outputs": [
    {
     "data": {
      "text/plain": [
       "False"
      ]
     },
     "execution_count": 69,
     "metadata": {},
     "output_type": "execute_result"
    }
   ],
   "source": [
    "any([])               # False, no truthy elements in the list"
   ]
  }
 ],
 "metadata": {
  "kernelspec": {
   "display_name": "Python 3",
   "language": "python",
   "name": "python3"
  },
  "language_info": {
   "codemirror_mode": {
    "name": "ipython",
    "version": 3
   },
   "file_extension": ".py",
   "mimetype": "text/x-python",
   "name": "python",
   "nbconvert_exporter": "python",
   "pygments_lexer": "ipython3",
   "version": "3.6.8"
  }
 },
 "nbformat": 4,
 "nbformat_minor": 4
}
