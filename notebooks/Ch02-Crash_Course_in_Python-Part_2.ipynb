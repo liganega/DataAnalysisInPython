{
 "cells": [
  {
   "cell_type": "markdown",
   "metadata": {},
   "source": [
    "# 2장 파이썬 속성 강좌 2부"
   ]
  },
  {
   "cell_type": "markdown",
   "metadata": {},
   "source": [
    "## 고급 파이썬 프로그래밍"
   ]
  },
  {
   "cell_type": "markdown",
   "metadata": {},
   "source": [
    "### 정렬(sorting)"
   ]
  },
  {
   "cell_type": "markdown",
   "metadata": {},
   "source": [
    "리스트의 소트(`sort`) 메소드를 이용하여 항목을 크기 순으로 정렬할 수 있다."
   ]
  },
  {
   "cell_type": "code",
   "execution_count": 1,
   "metadata": {},
   "outputs": [
    {
     "name": "stdout",
     "output_type": "stream",
     "text": [
      "[1, 2, 3, 4]\n"
     ]
    }
   ],
   "source": [
    "x = [4, 1, 2, 3]\n",
    "x.sort()\n",
    "print(x)"
   ]
  },
  {
   "cell_type": "markdown",
   "metadata": {},
   "source": [
    "기존의 리스트를 건드리지 않으면서 항목을 정렬하여 활용하고 싶으면 소티드(`sorted`) 함수를 활용한다.\n",
    "\n",
    "**주의:** `sorted` 함수는 리스트 메소드가 아니라 일반 함수이다."
   ]
  },
  {
   "cell_type": "code",
   "execution_count": 2,
   "metadata": {},
   "outputs": [
    {
     "name": "stdout",
     "output_type": "stream",
     "text": [
      "x = [4, 1, 2, 3]\n",
      "y = [1, 2, 3, 4]\n"
     ]
    }
   ],
   "source": [
    "x = [4, 1, 2, 3]\n",
    "y = sorted(x)\n",
    "print(f\"x = {x}\", f\"y = {y}\", sep='\\n')"
   ]
  },
  {
   "cell_type": "markdown",
   "metadata": {},
   "source": [
    "`sort` 메소드와 `sorted` 함수 모두 오름차순 정렬을 기본으로 한다. \n",
    "내림차순으로 정렬하려면 `reverse` 매개변수의 키워드 인자값을 `True`로 지정하면 된다."
   ]
  },
  {
   "cell_type": "code",
   "execution_count": 3,
   "metadata": {},
   "outputs": [
    {
     "name": "stdout",
     "output_type": "stream",
     "text": [
      "[4, 3, 2, 1]\n"
     ]
    }
   ],
   "source": [
    "x = [4, 1, 2, 3]\n",
    "x.sort(reverse=True)\n",
    "print(x)"
   ]
  },
  {
   "cell_type": "code",
   "execution_count": 4,
   "metadata": {},
   "outputs": [
    {
     "name": "stdout",
     "output_type": "stream",
     "text": [
      "[4, 3, 2, 1]\n"
     ]
    }
   ],
   "source": [
    "x = [4, 1, 2, 3]\n",
    "y = sorted(x, reverse=True)\n",
    "print(y)"
   ]
  },
  {
   "cell_type": "markdown",
   "metadata": {},
   "source": [
    "#### 정렬 기준 지정\n",
    "\n",
    "정렬 기준은 기본적으로 알려진 크기이다.\n",
    "\n",
    "* 정수형, 실수형: 숫자들의 크기\n",
    "* 문자열: 알파벳 순서 (일반 사전식 정렬)"
   ]
  },
  {
   "cell_type": "code",
   "execution_count": 5,
   "metadata": {},
   "outputs": [
    {
     "name": "stdout",
     "output_type": "stream",
     "text": [
      "['abc', 'ba', 'badc', 'cdabe', 'dabc']\n"
     ]
    }
   ],
   "source": [
    "x = ['dabc', 'cdabe', 'badc', 'ba', 'abc']\n",
    "x.sort()\n",
    "print(x)"
   ]
  },
  {
   "cell_type": "markdown",
   "metadata": {},
   "source": [
    "하지만 `key` 매개변수의 키워드 인자값을 지정하여 정렬 기준을 변경할 수 있다.\n",
    "`key` 매개변수의 키워드 인자값은 일변수 함수이어야 한다.\n",
    "예를 들어, 숫자들의 절대닶의 크기를 기준으로 정렬하려면 다음과 같이 해야 한다."
   ]
  },
  {
   "cell_type": "code",
   "execution_count": 6,
   "metadata": {},
   "outputs": [
    {
     "name": "stdout",
     "output_type": "stream",
     "text": [
      "[1, -2, 3, -4]\n"
     ]
    }
   ],
   "source": [
    "x = sorted([-4, 1, -2, 3], key=abs)\n",
    "print(x)"
   ]
  },
  {
   "cell_type": "markdown",
   "metadata": {},
   "source": [
    "**주의:** `abs`는 입력받은 숫자의 절대값을 반환하는 함수이다."
   ]
  },
  {
   "cell_type": "markdown",
   "metadata": {},
   "source": [
    "물론 절대값 기준 내림차순으로도 가능하다."
   ]
  },
  {
   "cell_type": "code",
   "execution_count": 7,
   "metadata": {},
   "outputs": [],
   "source": [
    "x = sorted([-4, 1, -2, 3], key=abs, reverse=True)"
   ]
  },
  {
   "cell_type": "markdown",
   "metadata": {},
   "source": [
    "다른 예제를 살펴보자.\n",
    "\n",
    "1부에서 살펴보았던 `word_counts` 변수에 저장된 단어 빈도수 목록을 살펴보자."
   ]
  },
  {
   "cell_type": "code",
   "execution_count": 8,
   "metadata": {},
   "outputs": [
    {
     "data": {
      "text/plain": [
       "defaultdict(int, {'data': 2, 'science': 1, 'from': 2, 'scratch': 1})"
      ]
     },
     "execution_count": 8,
     "metadata": {},
     "output_type": "execute_result"
    }
   ],
   "source": [
    "from collections import defaultdict, Counter\n",
    "\n",
    "document = [\"data\", \"science\", \"from\", \"scratch\", \"data\", \"from\"]\n",
    "\n",
    "word_counts = defaultdict(int)\n",
    "for word in document:\n",
    "    word_counts[word] += 1\n",
    "    \n",
    "word_counts"
   ]
  },
  {
   "cell_type": "markdown",
   "metadata": {},
   "source": [
    "`word_counts`의 항목들을 빈도수 기준 내림차순으로 정렬하고자 한다면 어떻게 해야 하는가?\n",
    "가장 단순한 방법은 `Counter` 자료형의 `most_common` 메소드를 활용하면되다.\n",
    "\n",
    "즉, 먼저 `word_counts`를 `Counter` 자료형으로 변환시킨 후 `most_common` 메소드를 적용한다."
   ]
  },
  {
   "cell_type": "code",
   "execution_count": 9,
   "metadata": {},
   "outputs": [
    {
     "data": {
      "text/plain": [
       "[('data', 2), ('from', 2), ('science', 1), ('scratch', 1)]"
      ]
     },
     "execution_count": 9,
     "metadata": {},
     "output_type": "execute_result"
    }
   ],
   "source": [
    "Counter(word_counts).most_common()"
   ]
  },
  {
   "cell_type": "markdown",
   "metadata": {},
   "source": [
    "하지만 `Counter` 자료형을 사용하지 않고도 가능하다. \n",
    "`sorted` 함수와 `sort` 메소드의 매개변수인 `key`의 키원드 인자값을 아래와 같이 지정하면 \n",
    "동일한 결과를 얻는다.\n",
    "\n",
    "`key` 매개변수의 키원드 인자로는 다음 함수를 사용한다."
   ]
  },
  {
   "cell_type": "code",
   "execution_count": 10,
   "metadata": {},
   "outputs": [],
   "source": [
    "word_counts_to_counts = lambda word_and_count: word_and_count[1]"
   ]
  },
  {
   "cell_type": "markdown",
   "metadata": {},
   "source": [
    "즉, `key`의 키워드 인자값은 정렬해야할 대상들을 입력 받아 무엇을 기준으로 정렬할지를\n",
    "반환값으로 알려주는 함수가 되어야 한다.\n",
    "\n",
    "여기서는 `word_counts.items()` 항목이 길이가 2인 튜플이며, 1번 인덱스 값, 즉, 둘째 항목인 빈도수를 기준으로 \n",
    "정렬하라고 알려주는 함수가 바로 `word_counts_to_counts`이다."
   ]
  },
  {
   "cell_type": "code",
   "execution_count": 11,
   "metadata": {},
   "outputs": [
    {
     "data": {
      "text/plain": [
       "dict_items([('data', 2), ('science', 1), ('from', 2), ('scratch', 1)])"
      ]
     },
     "execution_count": 11,
     "metadata": {},
     "output_type": "execute_result"
    }
   ],
   "source": [
    "word_counts.items()"
   ]
  },
  {
   "cell_type": "code",
   "execution_count": 12,
   "metadata": {},
   "outputs": [
    {
     "name": "stdout",
     "output_type": "stream",
     "text": [
      "[('data', 2), ('from', 2), ('science', 1), ('scratch', 1)]\n"
     ]
    }
   ],
   "source": [
    "wc = sorted(word_counts.items(),\n",
    "            key=word_counts_to_counts,\n",
    "            reverse=True)\n",
    "print(wc)"
   ]
  },
  {
   "cell_type": "markdown",
   "metadata": {},
   "source": [
    "**주의:** `wc` 는 보통 워드 카운트(word count, 단어 빈도수)의 줄임말이다."
   ]
  },
  {
   "cell_type": "markdown",
   "metadata": {},
   "source": [
    "### 조건제시법(list comprehension)"
   ]
  },
  {
   "cell_type": "markdown",
   "metadata": {},
   "source": [
    "집합을 정의하기 위해 사용하는 조건제시법을 리스트, 집합, 사전(`dict`)에도 적용할 수 있다.\n",
    "\n",
    "예를 들어 0 ~ 4 까지의 정수 중에서 짝수만으로 이루어진 집합을 다음과 같이 \n",
    "조건제시법으로 정의할 수 있다.\n",
    "\n",
    "$$\\{x \\mid 0 \\le x < 5, \\text{단 } x는 짝수\\}$$\n",
    "\n",
    "동일한 조건으로 리스트를 생성하려면 다음과 같이 `for ... in ... if ...`문을 활용한다.\n",
    "형식은 다음과 같다. \n",
    "\n",
    "```python\n",
    "[x for x in range(5) if x % 2 == 0]\n",
    "```\n",
    "* `for`: 파이프($|$, 일명 짝대기) 기호에 대응.\n",
    "* `x in range(5)`: '$0 \\le x < 5$ 이며, $x$'는 정수를 표현.\n",
    "* `if` : '단', 즉, 조건부에 대응.\n",
    "* `x % 2 == 0`: `x`를 2로 나눈 나머지가 0과 같아야 한다는 조건, 즉, 짝수 조건 표현."
   ]
  },
  {
   "cell_type": "code",
   "execution_count": 13,
   "metadata": {},
   "outputs": [
    {
     "name": "stdout",
     "output_type": "stream",
     "text": [
      "[0, 2, 4]\n"
     ]
    }
   ],
   "source": [
    "even_numbers = [x for x in range(5) if x % 2 == 0]\n",
    "print(even_numbers)"
   ]
  },
  {
   "cell_type": "markdown",
   "metadata": {},
   "source": [
    "집합에 대한 조건제시법 적용은 다음과 같다."
   ]
  },
  {
   "cell_type": "code",
   "execution_count": 14,
   "metadata": {},
   "outputs": [
    {
     "name": "stdout",
     "output_type": "stream",
     "text": [
      "{0, 2, 4}\n"
     ]
    }
   ],
   "source": [
    "even_numbers_set = {x for x in range(5) if x % 2 == 0}\n",
    "print(even_numbers_set)"
   ]
  },
  {
   "cell_type": "markdown",
   "metadata": {},
   "source": [
    "아래 `squares`는 다음 집합에 대응한다.\n",
    "\n",
    "$$\\{x^2 \\mid 0 \\le x < 5 \\text{ 이고 } x \\text{ 는 정수}\\} = \\{0, 1, 4, 9, 16\\}$$\n"
   ]
  },
  {
   "cell_type": "code",
   "execution_count": 15,
   "metadata": {},
   "outputs": [
    {
     "name": "stdout",
     "output_type": "stream",
     "text": [
      "[0, 1, 4, 9, 16]\n"
     ]
    }
   ],
   "source": [
    "squares = [x * x for x in range(5)]\n",
    "print(squares)"
   ]
  },
  {
   "cell_type": "markdown",
   "metadata": {},
   "source": [
    "아래 `even_squares`는 다음 집합에 대응한다.\n",
    "\n",
    "$$\\{x^2 \\mid x \\in \\text{even_numbers}\\} = \\{0, 4,16\\}$$\n"
   ]
  },
  {
   "cell_type": "code",
   "execution_count": 16,
   "metadata": {},
   "outputs": [
    {
     "name": "stdout",
     "output_type": "stream",
     "text": [
      "[0, 4, 16]\n"
     ]
    }
   ],
   "source": [
    "even_squares = [x * x for x in even_numbers]\n",
    "print(even_squares)"
   ]
  },
  {
   "cell_type": "markdown",
   "metadata": {},
   "source": [
    "사전(`dict`) 자료형에 대해서도 조건제시법을 적용할 수 있다."
   ]
  },
  {
   "cell_type": "code",
   "execution_count": 17,
   "metadata": {},
   "outputs": [
    {
     "name": "stdout",
     "output_type": "stream",
     "text": [
      "{0: 0, 1: 1, 2: 4, 3: 9, 4: 16}\n"
     ]
    }
   ],
   "source": [
    "square_dict = {x: x * x for x in range(5)}\n",
    "print(square_dict)"
   ]
  },
  {
   "cell_type": "markdown",
   "metadata": {},
   "source": [
    "* 키: `range(5)`의 항목들, 즉, 0, 1, 2, 3, 4\n",
    "* 키값: 키의 제곱, 즉, 각각 0, 1, 4, 9, 16"
   ]
  },
  {
   "cell_type": "markdown",
   "metadata": {},
   "source": [
    "조건제시법에서 불필요한 것은 밑줄(`_`)로 처리한다.\n",
    "\n",
    "예를 들어, 동일한 항복을 반복 생성하고자 할 때 아래와 같이 할 수 있다."
   ]
  },
  {
   "cell_type": "code",
   "execution_count": 18,
   "metadata": {},
   "outputs": [
    {
     "name": "stdout",
     "output_type": "stream",
     "text": [
      "[0, 0, 0]\n"
     ]
    }
   ],
   "source": [
    "zeros = [0 for _ in even_numbers]\n",
    "print(zeros)"
   ]
  },
  {
   "cell_type": "markdown",
   "metadata": {},
   "source": [
    "**주의:** 위와 같이 하면 `even_numbers`와 동일한 길이의 리스트가 생성되며, \n",
    "모든 항목은 0으로 동일하다. 따라서 `for ... in ...`에 사용되어야 하는 변수가\n",
    "아무런 역할도 수행하지 않는다. 따라서 밑줄로 처리하는 것이다.\n",
    "\n",
    "실제로 아래와 같이 해도 동일한 결과를 얻는다.\n",
    "이유는 `x`가 리스트의 항목을 생성하는데 아무런 역할도 수행하지 않기 때문이다."
   ]
  },
  {
   "cell_type": "code",
   "execution_count": 19,
   "metadata": {},
   "outputs": [
    {
     "name": "stdout",
     "output_type": "stream",
     "text": [
      "[0, 0, 0]\n"
     ]
    }
   ],
   "source": [
    "zeros = [0 for x in even_numbers]\n",
    "print(zeros)"
   ]
  },
  {
   "cell_type": "markdown",
   "metadata": {},
   "source": [
    "조건제십법에 여러 개의 `for ... in ...` 문을 사용할 수 있다."
   ]
  },
  {
   "cell_type": "code",
   "execution_count": 20,
   "metadata": {},
   "outputs": [],
   "source": [
    "pairs = [(x, y)\n",
    "         for x in range(10)\n",
    "         for y in range(10)]"
   ]
  },
  {
   "cell_type": "markdown",
   "metadata": {},
   "source": [
    "`pairs`는 아래 집합에 대응한다.\n",
    "\n",
    "$$\\{(x, y) \\mid 0 \\le x, y < 10 \\text{ 이고 } x, y \\text{는 정수} \\}$$\n",
    "\n",
    "따라서 `pairs`에는 총 100개의 순서쌍이 들어 있다. \n",
    "첫 10개의 항목을 확인해보자."
   ]
  },
  {
   "cell_type": "code",
   "execution_count": 21,
   "metadata": {},
   "outputs": [
    {
     "data": {
      "text/plain": [
       "[(0, 0),\n",
       " (0, 1),\n",
       " (0, 2),\n",
       " (0, 3),\n",
       " (0, 4),\n",
       " (0, 5),\n",
       " (0, 6),\n",
       " (0, 7),\n",
       " (0, 8),\n",
       " (0, 9)]"
      ]
     },
     "execution_count": 21,
     "metadata": {},
     "output_type": "execute_result"
    }
   ],
   "source": [
    "pairs[:10]"
   ]
  },
  {
   "cell_type": "markdown",
   "metadata": {},
   "source": [
    "그 다음 10개를 아래와 같다."
   ]
  },
  {
   "cell_type": "code",
   "execution_count": 22,
   "metadata": {},
   "outputs": [
    {
     "data": {
      "text/plain": [
       "[(1, 0),\n",
       " (1, 1),\n",
       " (1, 2),\n",
       " (1, 3),\n",
       " (1, 4),\n",
       " (1, 5),\n",
       " (1, 6),\n",
       " (1, 7),\n",
       " (1, 8),\n",
       " (1, 9)]"
      ]
     },
     "execution_count": 22,
     "metadata": {},
     "output_type": "execute_result"
    }
   ],
   "source": [
    "pairs[10:20]"
   ]
  },
  {
   "cell_type": "markdown",
   "metadata": {},
   "source": [
    "마지막 10개를 확인해보자."
   ]
  },
  {
   "cell_type": "code",
   "execution_count": 23,
   "metadata": {},
   "outputs": [
    {
     "data": {
      "text/plain": [
       "[(9, 0),\n",
       " (9, 1),\n",
       " (9, 2),\n",
       " (9, 3),\n",
       " (9, 4),\n",
       " (9, 5),\n",
       " (9, 6),\n",
       " (9, 7),\n",
       " (9, 8),\n",
       " (9, 9)]"
      ]
     },
     "execution_count": 23,
     "metadata": {},
     "output_type": "execute_result"
    }
   ],
   "source": [
    "pairs[-10:]"
   ]
  },
  {
   "cell_type": "markdown",
   "metadata": {},
   "source": [
    "두 개의 `for ... in ...` 문이 어떻게 움직이는지 감잡았을 것이다.\n",
    "\n",
    "* `x`를 0부터 시작하여 1씩 증가시켜 9까지 변경할 때마다\n",
    "    `y`를 0부터 9까지 변화시킨다."
   ]
  },
  {
   "cell_type": "markdown",
   "metadata": {},
   "source": [
    "다음 예제는 조금 다르게 작동한다.\n",
    "\n",
    "* `x`를 0부터 시작하여 1씩 증가시켜 9까지 변경할 때마다\n",
    "    `y`를 `x`+1부터 9까지 변화시킨다."
   ]
  },
  {
   "cell_type": "code",
   "execution_count": 24,
   "metadata": {},
   "outputs": [],
   "source": [
    "increasing_pairs = [(x, y)                       \n",
    "                    for x in range(10)           \n",
    "                    for y in range(x + 1, 10)]   "
   ]
  },
  {
   "cell_type": "code",
   "execution_count": 25,
   "metadata": {},
   "outputs": [
    {
     "data": {
      "text/plain": [
       "[(0, 1), (0, 2), (0, 3), (0, 4), (0, 5), (0, 6), (0, 7), (0, 8), (0, 9)]"
      ]
     },
     "execution_count": 25,
     "metadata": {},
     "output_type": "execute_result"
    }
   ],
   "source": [
    "increasing_pairs[:9]"
   ]
  },
  {
   "cell_type": "code",
   "execution_count": 26,
   "metadata": {},
   "outputs": [
    {
     "data": {
      "text/plain": [
       "[(1, 3), (1, 4), (1, 5), (1, 6), (1, 7), (1, 8), (1, 9)]"
      ]
     },
     "execution_count": 26,
     "metadata": {},
     "output_type": "execute_result"
    }
   ],
   "source": [
    "increasing_pairs[10:17]"
   ]
  },
  {
   "cell_type": "code",
   "execution_count": 27,
   "metadata": {},
   "outputs": [
    {
     "data": {
      "text/plain": [
       "[(7, 9), (8, 9)]"
      ]
     },
     "execution_count": 27,
     "metadata": {},
     "output_type": "execute_result"
    }
   ],
   "source": [
    "increasing_pairs[-2:]"
   ]
  },
  {
   "cell_type": "markdown",
   "metadata": {},
   "source": [
    "`increasing_pairs`의 길이는 9 + 8 + 7 + 6 + 5 + 4 + 3 + 2 + 1, 즉, 45이다."
   ]
  },
  {
   "cell_type": "code",
   "execution_count": 28,
   "metadata": {},
   "outputs": [
    {
     "data": {
      "text/plain": [
       "45"
      ]
     },
     "execution_count": 28,
     "metadata": {},
     "output_type": "execute_result"
    }
   ],
   "source": [
    "len(increasing_pairs)"
   ]
  },
  {
   "cell_type": "markdown",
   "metadata": {},
   "source": [
    "또한 만약 (`x`, `y`) $\\in$ `increasing_pairs` 이면  `x`가 `y` 보다 작다."
   ]
  },
  {
   "cell_type": "code",
   "execution_count": 29,
   "metadata": {},
   "outputs": [
    {
     "data": {
      "text/plain": [
       "True"
      ]
     },
     "execution_count": 29,
     "metadata": {},
     "output_type": "execute_result"
    }
   ],
   "source": [
    "all(x < y for x, y in increasing_pairs)"
   ]
  },
  {
   "cell_type": "markdown",
   "metadata": {},
   "source": [
    "### 자동 테스팅: `assert` 활용"
   ]
  },
  {
   "cell_type": "markdown",
   "metadata": {},
   "source": [
    "작성된 코드가 의도한 대로 작동하는지를 확인하는 여러 방법이 있다.\n",
    "이 강좌에서는 가장 단순한 `assert` 테스팅 기법만 사용한다.\n",
    "\n",
    "어서트(`assert`, 주장) 이후에 나오는 문장의 참/거짓을 판단하여 \n",
    "참이면 그냥 넘어가고, 거짓이면 오류를 발생시킨다."
   ]
  },
  {
   "cell_type": "code",
   "execution_count": 30,
   "metadata": {},
   "outputs": [],
   "source": [
    "assert 1 + 1 == 2"
   ]
  },
  {
   "cell_type": "code",
   "execution_count": 31,
   "metadata": {},
   "outputs": [
    {
     "ename": "AssertionError",
     "evalue": "",
     "output_type": "error",
     "traceback": [
      "\u001b[0;31m---------------------------------------------------------------------------\u001b[0m",
      "\u001b[0;31mAssertionError\u001b[0m                            Traceback (most recent call last)",
      "\u001b[0;32m<ipython-input-31-8a19892df295>\u001b[0m in \u001b[0;36m<module>\u001b[0;34m\u001b[0m\n\u001b[0;32m----> 1\u001b[0;31m \u001b[0;32massert\u001b[0m \u001b[0;36m1\u001b[0m \u001b[0;34m+\u001b[0m \u001b[0;36m1\u001b[0m \u001b[0;34m==\u001b[0m \u001b[0;36m3\u001b[0m\u001b[0;34m\u001b[0m\u001b[0;34m\u001b[0m\u001b[0m\n\u001b[0m",
      "\u001b[0;31mAssertionError\u001b[0m: "
     ]
    }
   ],
   "source": [
    "assert 1 + 1 == 3"
   ]
  },
  {
   "cell_type": "markdown",
   "metadata": {},
   "source": [
    "예외처리 기능을 활용할 수도 있다."
   ]
  },
  {
   "cell_type": "code",
   "execution_count": 32,
   "metadata": {},
   "outputs": [
    {
     "ename": "AssertionError",
     "evalue": "1 + 1 should equal 2 but didn't",
     "output_type": "error",
     "traceback": [
      "\u001b[0;31m---------------------------------------------------------------------------\u001b[0m",
      "\u001b[0;31mAssertionError\u001b[0m                            Traceback (most recent call last)",
      "\u001b[0;32m<ipython-input-32-6217297f2f37>\u001b[0m in \u001b[0;36m<module>\u001b[0;34m\u001b[0m\n\u001b[0;32m----> 1\u001b[0;31m \u001b[0;32massert\u001b[0m \u001b[0;36m1\u001b[0m \u001b[0;34m+\u001b[0m \u001b[0;36m1\u001b[0m \u001b[0;34m==\u001b[0m \u001b[0;36m3\u001b[0m\u001b[0;34m,\u001b[0m \u001b[0;34m\"1 + 1 should equal 2 but didn't\"\u001b[0m\u001b[0;34m\u001b[0m\u001b[0;34m\u001b[0m\u001b[0m\n\u001b[0m",
      "\u001b[0;31mAssertionError\u001b[0m: 1 + 1 should equal 2 but didn't"
     ]
    }
   ],
   "source": [
    "assert 1 + 1 == 3, \"1 + 1 should equal 2 but didn't\""
   ]
  },
  {
   "cell_type": "markdown",
   "metadata": {},
   "source": [
    "`assert` 테스팅은 주로 함수의 구현을 테스팅할 때 활용한다.\n",
    "\n",
    "예를 들어, 숫자들의 리스트를 인자로 받아 최소값을 반환하는 함수를 아래와 같이 구현했다고 하자."
   ]
  },
  {
   "cell_type": "code",
   "execution_count": 33,
   "metadata": {},
   "outputs": [],
   "source": [
    "def smallest_item(xs):\n",
    "    return min(xs)"
   ]
  },
  {
   "cell_type": "markdown",
   "metadata": {},
   "source": [
    "이제 위 구현이 제대로 작동하는지 아래처럼 테스팅할 수 있다."
   ]
  },
  {
   "cell_type": "code",
   "execution_count": 34,
   "metadata": {},
   "outputs": [],
   "source": [
    "assert smallest_item([10, 20, 5, 40]) == 5\n",
    "assert smallest_item([1, 0, -1, 2]) == -1"
   ]
  },
  {
   "cell_type": "markdown",
   "metadata": {},
   "source": [
    "오류가 발생하지 않기에 위 구현이 테스팅을 통과한 것으로 간주할 수 있다.\n",
    "\n",
    "**주의:** 테스팅을 통과했다고 해서 구현이 제대로 되었다고 보장할 수는 없다.\n",
    "테스팅은 몇 가지 경우에서 확인하니 잘 된다는 의미일 뿐이며, 모든 경우에 올바르게 작동한다는 \n",
    "보장은 하지 못한다. \n",
    "그래도 이런 테스팅을 통해 구현된 코드에 대한 신뢰도를 많이 높일 수 있다. "
   ]
  },
  {
   "cell_type": "markdown",
   "metadata": {},
   "source": [
    "함수의 인자로 제대로된 값들이 입력되는지 여부를 확인하기 위해서도 `assert`가 활용될 수 있다."
   ]
  },
  {
   "cell_type": "code",
   "execution_count": 35,
   "metadata": {},
   "outputs": [],
   "source": [
    "def smallest_item_assert(xs):\n",
    "    assert xs, \"빈 리스트엔 최소값이 없어요!\"\n",
    "    return min(xs)"
   ]
  },
  {
   "cell_type": "markdown",
   "metadata": {},
   "source": [
    "이제 빈 리스트(`[]`)를 인자로 사용하면 오류가 발생하는 대신에 바로 예외처리가 진행되어\n",
    "`AssertionError`가 발생하고 발생 이유를 설명한다."
   ]
  },
  {
   "cell_type": "code",
   "execution_count": 36,
   "metadata": {},
   "outputs": [
    {
     "ename": "AssertionError",
     "evalue": "빈 리스트엔 최소값이 없어요!",
     "output_type": "error",
     "traceback": [
      "\u001b[0;31m---------------------------------------------------------------------------\u001b[0m",
      "\u001b[0;31mAssertionError\u001b[0m                            Traceback (most recent call last)",
      "\u001b[0;32m<ipython-input-36-ee97604c514b>\u001b[0m in \u001b[0;36m<module>\u001b[0;34m\u001b[0m\n\u001b[0;32m----> 1\u001b[0;31m \u001b[0msmallest_item_assert\u001b[0m\u001b[0;34m(\u001b[0m\u001b[0;34m[\u001b[0m\u001b[0;34m]\u001b[0m\u001b[0;34m)\u001b[0m\u001b[0;34m\u001b[0m\u001b[0;34m\u001b[0m\u001b[0m\n\u001b[0m",
      "\u001b[0;32m<ipython-input-35-f4b3e95cc1bc>\u001b[0m in \u001b[0;36msmallest_item_assert\u001b[0;34m(xs)\u001b[0m\n\u001b[1;32m      1\u001b[0m \u001b[0;32mdef\u001b[0m \u001b[0msmallest_item_assert\u001b[0m\u001b[0;34m(\u001b[0m\u001b[0mxs\u001b[0m\u001b[0;34m)\u001b[0m\u001b[0;34m:\u001b[0m\u001b[0;34m\u001b[0m\u001b[0;34m\u001b[0m\u001b[0m\n\u001b[0;32m----> 2\u001b[0;31m     \u001b[0;32massert\u001b[0m \u001b[0mxs\u001b[0m\u001b[0;34m,\u001b[0m \u001b[0;34m\"빈 리스트엔 최소값이 없어요!\"\u001b[0m\u001b[0;34m\u001b[0m\u001b[0;34m\u001b[0m\u001b[0m\n\u001b[0m\u001b[1;32m      3\u001b[0m     \u001b[0;32mreturn\u001b[0m \u001b[0mmin\u001b[0m\u001b[0;34m(\u001b[0m\u001b[0mxs\u001b[0m\u001b[0;34m)\u001b[0m\u001b[0;34m\u001b[0m\u001b[0;34m\u001b[0m\u001b[0m\n",
      "\u001b[0;31mAssertionError\u001b[0m: 빈 리스트엔 최소값이 없어요!"
     ]
    }
   ],
   "source": [
    "smallest_item_assert([])"
   ]
  },
  {
   "cell_type": "markdown",
   "metadata": {},
   "source": [
    "반면에 `smallest_item` 함수의 경우 빈 리스트의 최소값이 존재하지 않는다는 `ValueError`가 \n",
    "발생한다."
   ]
  },
  {
   "cell_type": "code",
   "execution_count": 37,
   "metadata": {},
   "outputs": [
    {
     "ename": "ValueError",
     "evalue": "min() arg is an empty sequence",
     "output_type": "error",
     "traceback": [
      "\u001b[0;31m---------------------------------------------------------------------------\u001b[0m",
      "\u001b[0;31mValueError\u001b[0m                                Traceback (most recent call last)",
      "\u001b[0;32m<ipython-input-37-b3e736932245>\u001b[0m in \u001b[0;36m<module>\u001b[0;34m\u001b[0m\n\u001b[0;32m----> 1\u001b[0;31m \u001b[0msmallest_item\u001b[0m\u001b[0;34m(\u001b[0m\u001b[0;34m[\u001b[0m\u001b[0;34m]\u001b[0m\u001b[0;34m)\u001b[0m\u001b[0;34m\u001b[0m\u001b[0;34m\u001b[0m\u001b[0m\n\u001b[0m",
      "\u001b[0;32m<ipython-input-33-8d4a9b647158>\u001b[0m in \u001b[0;36msmallest_item\u001b[0;34m(xs)\u001b[0m\n\u001b[1;32m      1\u001b[0m \u001b[0;32mdef\u001b[0m \u001b[0msmallest_item\u001b[0m\u001b[0;34m(\u001b[0m\u001b[0mxs\u001b[0m\u001b[0;34m)\u001b[0m\u001b[0;34m:\u001b[0m\u001b[0;34m\u001b[0m\u001b[0;34m\u001b[0m\u001b[0m\n\u001b[0;32m----> 2\u001b[0;31m     \u001b[0;32mreturn\u001b[0m \u001b[0mmin\u001b[0m\u001b[0;34m(\u001b[0m\u001b[0mxs\u001b[0m\u001b[0;34m)\u001b[0m\u001b[0;34m\u001b[0m\u001b[0;34m\u001b[0m\u001b[0m\n\u001b[0m",
      "\u001b[0;31mValueError\u001b[0m: min() arg is an empty sequence"
     ]
    }
   ],
   "source": [
    "smallest_item([])"
   ]
  },
  {
   "cell_type": "markdown",
   "metadata": {},
   "source": [
    "### 객체 지향 프로그래밍"
   ]
  },
  {
   "cell_type": "markdown",
   "metadata": {},
   "source": [
    "파이썬은 소위 **객체 지향 프로그래밍**을 지원하는 언어이다.\n",
    "이 강좌에서는 객체 지행 프로그래밍의 정체를 논하지 않는다.\n",
    "다만, 객체 지향 프로그래밍의 핵심 요소인 클래스(class)와 인스턴스(instance)를 \n",
    "어떻게 정의하고 활용하는지 예제 두 개를 이용하여 보여준다.\n",
    "\n",
    "앞으로 클래스와 인스턴스를 수 없이 보고 사용할 것이다.\n",
    "사실, 지금까지도 많은 클래스와 인스턴스를 살펴 보았다.\n",
    "\n",
    "* `str`: 문자열 클래스\n",
    "    * 인스턴스: `\"abc\"`, `\"홍길동\"` 등\n",
    "\n",
    "\n",
    "* `list`: 리스트 클래스\n",
    "    * 인스턴스: `[1, 2, 3]`, `['ab', 1, [0, 1]]` 등\n",
    "\n",
    "\n",
    "* `set`: 집합 클래스\n",
    "    * 인스턴스: `set(), {1, 2, 3}`, `{'ab', 1, [0, 1]}` 등\n",
    "\n",
    "\n",
    "* `dict`: 사전 클래스\n",
    "    * 인스턴스: `{\"이름\":\"홍길동\", \"출신\":\"한양\"}` 등\n",
    "\n",
    "\n",
    "* `defaultdict`: 디폴트딕트 클래스\n",
    "    * 인스턴스: `defaultdict(int)`, `defaultdict(list)` 등\n",
    "\n",
    "\n",
    "* `Counter`: 카운터 클래스\n",
    "    * 인스턴스: `Counter([1, 2, 1, 3, 0])` 등"
   ]
  },
  {
   "cell_type": "markdown",
   "metadata": {},
   "source": [
    "#### 클래스의 활용\n",
    "\n",
    "클래스는 크게 세 가지 방식으로 사용된다.\n",
    "\n",
    "1. 자료형 및 메소드 정의\n",
    "    * 여기에서 주로 사용되는 방식이며, 앞서 언급한 클래스들이 여기에 해당한다.\n",
    "1. 관련된 기능을 갖는 함수들의 모둠, 일종의 도구 상자\n",
    "    * 아래 둘째 예제가 여기에 해당함.\n",
    "1. 동일한 기능을 갖는 객체를 쉽고 다양한 방식으로 생성할 수 있도록 도와주는 기계틀 역할으 수행하는 도구\n",
    "    * 게임 프로그래밍 등에서 게임 캐릭터, 배경, 도구 등을 쉽게 생성할 때 기본적으로 사용되는 방식임."
   ]
  },
  {
   "cell_type": "markdown",
   "metadata": {},
   "source": [
    "#### 첫째 예제: 집합 클래스 구현하기\n",
    "\n",
    "집합 자료형인 `set`이 없다고 가정하고 직접 집합 자료형을 `MySet` 클래스를 이용하여 정의해보자."
   ]
  },
  {
   "cell_type": "code",
   "execution_count": 38,
   "metadata": {},
   "outputs": [],
   "source": [
    "class MySet: \n",
    "\n",
    "    # 메소드 정의:\n",
    "    # 모든 메소드의 첫째 매개변수는 관습적으로 \"self\"라 부른다.\n",
    "    # \"self\"에는 어떤 \"MySet\" 객체가 인자로 입력되어야 한다.\n",
    "\n",
    "    def __init__(self, values=None):\n",
    "        \"\"\"이 메소드는 생성자이다. 모든 클래스의 생성자는 이 이름을 사용한다.\n",
    "        클래스의 인스턴스를 생성할 때 눈에 보이지 않지만 이 메소드가 호출되어 실행된다.\n",
    "        아래 형식으로 활용된다.\n",
    "        s1 = MySet()          # 공집합 생성\n",
    "        s2 = MySet([1,2,2,3]) # 원소를 지정하면서 집합 생성\"\"\"\n",
    "\n",
    "        self.dict = {}  # \"self\"에 입력된 MySet 클래스의 객체에 빈 사전을 기본으로 포함시킴.\n",
    "                        # self.dict 에 원소를 추가할 것임.\n",
    "            \n",
    "        if values is not None:    # values에 포함된 항목을 모두 self.dict에 추가\n",
    "            for value in values:\n",
    "                self.add(value)   # add 메소드 정의는 아래에 있음.\n",
    "\n",
    "    def __repr__(self):\n",
    "        \"\"\"MySet 자료형의 값을 출력할 때 보여주는 방식을 지정함.\n",
    "        print 또는 str 함수의 인자로 사용할 때 지정된 값으로 출력/변환된다.\n",
    "        모든 클래스에는 이 메소드가 동일한 이름으로 포함된다.\"\"\"\n",
    "        return \"MySet: \" + str(self.dict.keys())\n",
    "    \n",
    "    # 키에 사용된 값들만 MySet의 원소로 인정한다. \n",
    "    # 즉, 키값은 중요하지 않으며, 여기서는 True를 사용한다.\n",
    "    # 따라서 새로운 값을 원소로 추가할 때 '값:True' 형식으로 self.dict 에 추가한다.\n",
    "    def add(self, value): \n",
    "        self.dict[value] = True\n",
    "        \n",
    "    # 원소 포함여부는 in 연산자를 활용한다.\n",
    "    def contains(self, value): \n",
    "        return value in self.dict\n",
    "    \n",
    "    # 원소를 제거하는 메소드도 있다.\n",
    "    def remove(self, value): \n",
    "        del self.dict[value]"
   ]
  },
  {
   "cell_type": "markdown",
   "metadata": {},
   "source": [
    "#### 매직 메소드\n",
    "\n",
    "이닛(`__init__`), 레퍼(`__repr__`) 메소드처럼 두 개의 밑줄(underscores)로 감싸인 메소드를\n",
    "**매직 메소드**(magic methods)라 부르며, 모든 파이썬 클래스에 동일한 이름으로 포함되어 있다.\n",
    "기타 많은 매직 메소드가 존재하며 명시적으로 선언되지 않은 매직 메소드는 기본 함수가 자동으로 지정된다."
   ]
  },
  {
   "cell_type": "markdown",
   "metadata": {},
   "source": [
    "#### 클래스와 인스턴스"
   ]
  },
  {
   "cell_type": "markdown",
   "metadata": {},
   "source": [
    "1, 2, 3을 원소로 갖는 `MySet`을 다음처럼 생성한다."
   ]
  },
  {
   "cell_type": "code",
   "execution_count": 39,
   "metadata": {},
   "outputs": [],
   "source": [
    "s = MySet([1,2,3]) "
   ]
  },
  {
   "cell_type": "markdown",
   "metadata": {},
   "source": [
    "여기서 변수 `s`에 할당된 값을 `MySet` 클래스의 인스턴스라 부르며,\n",
    "이 경우에는 특별히 `MySet` 자료형이라 부를 수 있다.\n",
    "`set` 클래스의 인스턴스를 집합 자료형이라 부르는 것과 동일하다."
   ]
  },
  {
   "cell_type": "markdown",
   "metadata": {},
   "source": [
    "**주의:** \n",
    "* 위와 같이 실행하면 실제로는 `MySet`의 `__init__` 메소드가 호출된다.\n",
    "    그런데 `__init__` 메소드의 첫째 매개변수인 `self`에 대한 인자는 입력하지 않으며\n",
    "    `Values`의 인자만 사용한 것에 주의하라. \n",
    "* 기타 모든 메소드에 대해서도 마찬가지이다.\n",
    "* `self`의 용도는 아래에서 상속을 설명할 때 알아본다."
   ]
  },
  {
   "cell_type": "markdown",
   "metadata": {},
   "source": [
    "이제 `MySet` 자료형인 `s`에 원소를 추가/삭제하는 방법과 결과를 확인해보자."
   ]
  },
  {
   "cell_type": "code",
   "execution_count": 40,
   "metadata": {},
   "outputs": [
    {
     "name": "stdout",
     "output_type": "stream",
     "text": [
      "MySet: dict_keys([1, 2, 3])\n",
      "True\n",
      "MySet: dict_keys([1, 2, 3, 4])\n",
      "False\n",
      "MySet: dict_keys([1, 2, 4])\n"
     ]
    }
   ],
   "source": [
    "print(s)\n",
    "\n",
    "s.add(4)\n",
    "print(s.contains(4))\n",
    "print(s)\n",
    "\n",
    "s.remove(3)\n",
    "print(s.contains(3))\n",
    "print(s)"
   ]
  },
  {
   "cell_type": "markdown",
   "metadata": {},
   "source": [
    "#### 둘째 예제: 클릭수 세기\n",
    "\n",
    "웹페이지의 방문자 수를 확인하는 앱을 구현하고자 할 때 아래 도구들이 필요하다.\n",
    "\n",
    "* 클릭수를 저장할 변수\n",
    "* 클릭수를 1씩 키워주는 도구\n",
    "* 현재 클릭수를 읽어주는 도구\n",
    "* 클릭수를 초기화하는 도구\n",
    "\n",
    "언급한 변수 한 개와 네 개의 도구를 포함한 일종의 도구상자를\n",
    "아래 `CountingClicker` 클래스로 구현한다."
   ]
  },
  {
   "cell_type": "code",
   "execution_count": 41,
   "metadata": {},
   "outputs": [],
   "source": [
    "class CountingClicker:\n",
    "    \"\"\"함수의 경우처럼 문서화 문자열을 사용할 수 있다.\n",
    "    클래스 정보를 확인할 때 보여지는 내용을 여기에 작성한다.\"\"\"\n",
    "\n",
    "    # 생성자\n",
    "    # 클릭수 초기값을 0으로 지정\n",
    "    def __init__(self, count = 0):\n",
    "        self.count = count\n",
    "\n",
    "    # 출력 메소드\n",
    "    def __repr__(self):\n",
    "        return f\"CountingClicker(count={self.count})\"\n",
    "\n",
    "    # 클릭 이벤트가 발생하면 클릭수를 1씩 키워주는 도구 역할 함수\n",
    "    def click(self, num_times = 1):\n",
    "        \"\"\"Click the clicker some number of times.\"\"\"\n",
    "        self.count += num_times\n",
    "\n",
    "    # 현재 클릭수를 읽어주는 도구 역할 함수\n",
    "    def read(self):\n",
    "        return self.count\n",
    "    \n",
    "    # 클릭수를 초기화하는 도구 역할 함수\n",
    "    def reset(self):\n",
    "        self.count = 0"
   ]
  },
  {
   "cell_type": "markdown",
   "metadata": {},
   "source": [
    "아래 코드를 실행하면 `CountingClass`의 인스턴스를 하나 생성하면 앞서 언급한 변수 한 개와 네 개의 도구를 \n",
    "포함한 하나의 도구상자를 얻게 되며, 도구상자의 이름은 `clicker`이다."
   ]
  },
  {
   "cell_type": "code",
   "execution_count": 42,
   "metadata": {},
   "outputs": [],
   "source": [
    "clicker = CountingClicker()"
   ]
  },
  {
   "cell_type": "markdown",
   "metadata": {},
   "source": [
    "`clicker` 도구상자의 도구를 이용하려면 아래와 같이 실행한다.\n",
    "\n",
    "```python\n",
    "clicker.도구역할함수이름(인자,....)\n",
    "```"
   ]
  },
  {
   "cell_type": "markdown",
   "metadata": {},
   "source": [
    "먼저 클릭수가 0으로 초기화되어 있음을 확인하자.\n",
    "이유는 아무도 클릭하지 않았기 때문이다.\n",
    "실제로 `clicker` 도구상자를 생성할 때 호출되는 `__init__` 메소드의 인자가 지정되지 않아서\n",
    "`count` 매개변수의 키워드 인자로 기본값인 0이 사용되어, `self.count` 변수에 할당되었다."
   ]
  },
  {
   "cell_type": "code",
   "execution_count": 43,
   "metadata": {},
   "outputs": [],
   "source": [
    "assert clicker.read() == 0, \"클릭수는 0부터 시작해야 합니다.\""
   ]
  },
  {
   "cell_type": "markdown",
   "metadata": {},
   "source": [
    "#### 인스턴스 변수\n",
    "\n",
    "* `self.count`와 같은 변수를 **인스턴스 변수**라 부른다.\n",
    "* 이유는 인스턴스가 생성되어야만 존재의미를 갖는 변수이기 때문이다.\n",
    "* 인스턴스 변수 이외에 **클래스 변수**가 클래스를 선언할 때 사용될 수 있다.\n",
    "    클래스 변수는 인스턴스가 생성되지 않아도 존재의미를 갖는다.\n",
    "    이에 대해서는 나중에 기회 있을 때 자세히 설명한다."
   ]
  },
  {
   "cell_type": "markdown",
   "metadata": {},
   "source": [
    "이제 클릭을 두 번 했다가 가정하자. \n",
    "즉, `click` 메소드를 두 번 호출되어야 한다."
   ]
  },
  {
   "cell_type": "code",
   "execution_count": 44,
   "metadata": {},
   "outputs": [],
   "source": [
    "clicker.click()\n",
    "clicker.click()"
   ]
  },
  {
   "cell_type": "markdown",
   "metadata": {},
   "source": [
    "그러면 클릭수가 2가 되어 있어야 한다."
   ]
  },
  {
   "cell_type": "code",
   "execution_count": 45,
   "metadata": {},
   "outputs": [],
   "source": [
    "assert clicker.read() == 2, \"두 번 클릭했으니 클릭수는 2이어야 함.\""
   ]
  },
  {
   "cell_type": "markdown",
   "metadata": {},
   "source": [
    "이제 클릭수를 초기화하자."
   ]
  },
  {
   "cell_type": "code",
   "execution_count": 46,
   "metadata": {},
   "outputs": [],
   "source": [
    "clicker.reset()"
   ]
  },
  {
   "cell_type": "markdown",
   "metadata": {},
   "source": [
    "그러면 클릭수가 다시 0이 되어야 한다."
   ]
  },
  {
   "cell_type": "code",
   "execution_count": 47,
   "metadata": {},
   "outputs": [],
   "source": [
    "assert clicker.read() == 0, \"클릭수를 초기화하면 0이 된다.\""
   ]
  },
  {
   "cell_type": "markdown",
   "metadata": {},
   "source": [
    "클릭수를 지정하면서 `CountingClicker`의 인스턴스를 생성할 수 있다."
   ]
  },
  {
   "cell_type": "code",
   "execution_count": 51,
   "metadata": {},
   "outputs": [],
   "source": [
    "clicker50 = CountingClicker(50)"
   ]
  },
  {
   "cell_type": "markdown",
   "metadata": {},
   "source": [
    "클릭수가 50으로 설정되었음을 확인할 수 있다."
   ]
  },
  {
   "cell_type": "code",
   "execution_count": 53,
   "metadata": {},
   "outputs": [
    {
     "data": {
      "text/plain": [
       "50"
      ]
     },
     "execution_count": 53,
     "metadata": {},
     "output_type": "execute_result"
    }
   ],
   "source": [
    "clicker50.read()"
   ]
  },
  {
   "cell_type": "markdown",
   "metadata": {},
   "source": [
    "#### 클래스 상속"
   ]
  },
  {
   "cell_type": "markdown",
   "metadata": {},
   "source": [
    "부모 클래스로부터 많은 기능을 물려받을 수 있는 자식 클래스를 상속을 이용하여 선언할 수 있다.\n",
    "\n",
    "예를 들어, 클릭수를 초기화할 수 없는 자식 클래스 `NoResetClicker`를 아래와 같이 선언한다.\n",
    "클릭수 초기화 기능을 없애기 위해서는 `reset` 메소드를 재정의(overriding)해야 한다."
   ]
  },
  {
   "cell_type": "code",
   "execution_count": 55,
   "metadata": {},
   "outputs": [],
   "source": [
    "class NoResetClicker(CountingClicker):\n",
    "    # 부모 클래스인 CountingClicker의 모든 메소드를 물려 받는다.\n",
    "    # 다만, reset 함수의 초기화 기능을 없애기 위해 다음처럼 재정의한다. \n",
    "    # 재정의하지 않는 메소드는 부모 클래스에서 정의된 그대로 물려 받는다.\n",
    "    \n",
    "    def reset(self):\n",
    "        pass"
   ]
  },
  {
   "cell_type": "markdown",
   "metadata": {},
   "source": [
    "이제 `NoResetClicker`의 인스턴스를 생성한 후 클릭수 초기화가 이루어지지 않을 확인할 수 있다."
   ]
  },
  {
   "cell_type": "code",
   "execution_count": 58,
   "metadata": {},
   "outputs": [
    {
     "name": "stdout",
     "output_type": "stream",
     "text": [
      "2\n",
      "2\n"
     ]
    }
   ],
   "source": [
    "clicker2 = NoResetClicker()\n",
    "clicker2.click()\n",
    "clicker2.click()\n",
    "print(clicker2.read())\n",
    "clicker2.reset()\n",
    "print(clicker2.read())"
   ]
  },
  {
   "cell_type": "markdown",
   "metadata": {},
   "source": [
    "### 이터러블(iterable) 자료형와 제너레이터(generator)\n",
    "\n",
    "`for ... in ...` 반복문과 리스트 자료형은 서로 찰떡궁합 관계이다. \n",
    "특정 명령을 지정한 횟수만큼 쉽게 반복적으로 처리할 수 있도록 만들 수 있기 때문이다. "
   ]
  },
  {
   "cell_type": "code",
   "execution_count": 60,
   "metadata": {},
   "outputs": [
    {
     "data": {
      "text/plain": [
       "range"
      ]
     },
     "execution_count": 60,
     "metadata": {},
     "output_type": "execute_result"
    }
   ],
   "source": [
    "type(range(10))"
   ]
  },
  {
   "cell_type": "code",
   "execution_count": 62,
   "metadata": {},
   "outputs": [
    {
     "name": "stdout",
     "output_type": "stream",
     "text": [
      "0\n",
      "1\n",
      "2\n",
      "3\n",
      "4\n"
     ]
    }
   ],
   "source": [
    "for i in [0, 1, 2, 3, 4]:\n",
    "    print(i)"
   ]
  },
  {
   "cell_type": "code",
   "execution_count": 63,
   "metadata": {},
   "outputs": [
    {
     "name": "stdout",
     "output_type": "stream",
     "text": [
      "0\n",
      "1\n",
      "2\n",
      "3\n",
      "4\n"
     ]
    }
   ],
   "source": [
    "for i in range(5):\n",
    "    print(i)"
   ]
  },
  {
   "cell_type": "markdown",
   "metadata": {},
   "source": [
    "리스트처럼 `for ... in ...` 등의 반복문에서 항목을 차례대로 읽어 활용하는 것을 가능하게 해주는 자료형을 이터러블 자료형이다.\n",
    "\n",
    "하지만 리스트의 항목은 엄청 많으면 리스트를 저장하는 데에 막대한 메모리가 요구된다.\n",
    "게다가 한 번만 사용하고 말 리스트라는 문제가 더욱 심각하다.\n",
    "따라서 필요한 만큼만 항목을 생성해주는 도구가 필요하며, 그런 도구를 제너레이터(generator)라 부른다."
   ]
  },
  {
   "cell_type": "markdown",
   "metadata": {},
   "source": [
    "#### `range` 함수\n",
    "\n",
    "실제로 앞서 다루었던 `range` 함수가 제너레이터의 일종이다. \n",
    "\n",
    "예를 들어, `range(5)`는 `for ... in ...` 반복문에서 리스트 `[0, 1, 2, 3, 4]`와 동일한 기능을 수행한다. "
   ]
  },
  {
   "cell_type": "markdown",
   "metadata": {},
   "source": [
    "하지만 리스트의 항목은 엄청 많으면 리스트를 저장하는 데에 막대한 메모리가 요구된다.\n",
    "따라서 필요한만큼만 항목을 생성하는"
   ]
  },
  {
   "cell_type": "code",
   "execution_count": 64,
   "metadata": {},
   "outputs": [
    {
     "name": "stdout",
     "output_type": "stream",
     "text": [
      "0\n",
      "1\n",
      "2\n",
      "3\n",
      "4\n"
     ]
    }
   ],
   "source": [
    "for i in range(5):\n",
    "    print(i)"
   ]
  },
  {
   "cell_type": "markdown",
   "metadata": {},
   "source": [
    "#### 제너레이터 구현\n",
    "\n",
    "제너레이터 구현은 함수를 정의하는 방식과 거의 동일하다.\n",
    "반환값을 지정하는 `return` 키워드 대신에 요청될 때 값을 생성하는 일드(`yield`) 키워드가 사용될 뿐이다.\n",
    "\n",
    "예를 들어, `range(n)`과 동일한 기능을 수행하는 `generate_range` 제너레이터를 아래와 같이 정의할 수 있다."
   ]
  },
  {
   "cell_type": "code",
   "execution_count": 2,
   "metadata": {},
   "outputs": [],
   "source": [
    "def generate_range(n):\n",
    "    i = 0\n",
    "    while i < n:\n",
    "        yield i       # yield 가 호출될 때마다 제너레이터의 값을 생성한다.\n",
    "        i += 1"
   ]
  },
  {
   "cell_type": "markdown",
   "metadata": {},
   "source": [
    "아래 반복문을 실행한다고 해서 `generate_range(10)`이 0부터 9까지의 정수를 한꺼번에 생성하지는 않는다.\n",
    "대신에 `for` 반복문이 한 번씩 반복해서 실행될 때마다 차례대로 0, 1, 2, ... 등을 생성해서 변수 `i`에 할당한다."
   ]
  },
  {
   "cell_type": "code",
   "execution_count": 69,
   "metadata": {},
   "outputs": [
    {
     "name": "stdout",
     "output_type": "stream",
     "text": [
      "i = 0\n",
      "i = 1\n",
      "i = 2\n",
      "i = 3\n",
      "i = 4\n",
      "i = 5\n",
      "i = 6\n",
      "i = 7\n",
      "i = 8\n",
      "i = 9\n"
     ]
    }
   ],
   "source": [
    "for i in generate_range(10):\n",
    "    print(f\"i = {i}\")"
   ]
  },
  {
   "cell_type": "markdown",
   "metadata": {},
   "source": [
    "#### 소극적(lazy) 계산과 적극적(eager) 계산\n",
    "\n",
    "`range`, `generate_range` 등 처럼 모든 값을 미리 생성해서 준비해 놓는 대신에 필요할 때 필요한 항목을 생성하는 함수를 \n",
    "소극적 함수(lazy function)이라 부른다.\n",
    "\n",
    "**주의:** 파이썬에서 정의되는 함수는 실행될 때 기본적으로 적극적으로 값을 생성하며 계산한다.\n"
   ]
  },
  {
   "cell_type": "markdown",
   "metadata": {},
   "source": [
    "#### 무한 수열 생성\n",
    "\n",
    "제너레이터를 이용하면 무한 수열도 생성할 수 있다.\n",
    "이유는 제너레이터는 항상 요구되는 만큼만 생성하고,\n",
    "따라서 절대로 무한히 많은 값들을 생성하려고 하지 않기 때문이다.\n",
    "\n",
    "예를 들어, 아래 `natural_numbers` 함수는 모든 자연수를 생성할 준비가 된 제너레이터이다."
   ]
  },
  {
   "cell_type": "code",
   "execution_count": 7,
   "metadata": {},
   "outputs": [],
   "source": [
    "def natural_numbers():\n",
    "    \"\"\"returns 1, 2, 3, ...\"\"\"\n",
    "    n = 1\n",
    "    while True:\n",
    "        yield n\n",
    "        n += 1"
   ]
  },
  {
   "cell_type": "markdown",
   "metadata": {},
   "source": [
    "물론 위와 같이 무한 수열을 생성하는 제너레이터는 매우 조심스럽게 사용해야 한다. \n",
    "예를 들어 아래와 같이 사용하면 무한 반복(loop)이 발생한다. \n",
    "\n",
    "```python\n",
    "for i in natural_number():\n",
    "    print(i)\n",
    "```\n",
    "\n",
    "무한 수열을 생성하는 제너레이터는 `break` 명령문과 함께 적절하게 사용할 수는 있다."
   ]
  },
  {
   "cell_type": "code",
   "execution_count": 71,
   "metadata": {},
   "outputs": [
    {
     "name": "stdout",
     "output_type": "stream",
     "text": [
      "1\n",
      "2\n",
      "3\n",
      "4\n",
      "5\n"
     ]
    }
   ],
   "source": [
    "for i in natural_numbers():\n",
    "    if i > 5:\n",
    "        break\n",
    "    print(i)"
   ]
  },
  {
   "cell_type": "markdown",
   "metadata": {},
   "source": [
    "#### 이터레이터 재활용\n",
    "\n",
    "생성된 이터레이터는 한 번 사용하면 다시 사용할 수 없으며,\n",
    "필요할 때마다 다시 이터레이터를 생성해야 한다. \n",
    "\n",
    "예를 들어, 아래와 같이 이터레이터를 생성하여 변수에 저장하자."
   ]
  },
  {
   "cell_type": "code",
   "execution_count": 75,
   "metadata": {},
   "outputs": [],
   "source": [
    "iterator_once = generate_range(5)"
   ]
  },
  {
   "cell_type": "markdown",
   "metadata": {},
   "source": [
    "그러고 나서 변수를 이용하여 반복문을 돌리자."
   ]
  },
  {
   "cell_type": "code",
   "execution_count": 76,
   "metadata": {},
   "outputs": [
    {
     "name": "stdout",
     "output_type": "stream",
     "text": [
      "0\n",
      "1\n",
      "2\n",
      "3\n",
      "4\n"
     ]
    }
   ],
   "source": [
    "for i in iterator_once:\n",
    "    print(i)"
   ]
  },
  {
   "cell_type": "markdown",
   "metadata": {},
   "source": [
    "이제 다시 동일한 변수를 이용하여 반복문을 돌리면 아무 것도 하지 않을 것이다.\n",
    "이유는 지정된 이터레이터가 이미 모든 값을 생성하였기 때문이다."
   ]
  },
  {
   "cell_type": "code",
   "execution_count": 77,
   "metadata": {},
   "outputs": [],
   "source": [
    "for i in iterator_once:\n",
    "    print(i)"
   ]
  },
  {
   "cell_type": "markdown",
   "metadata": {},
   "source": [
    "해결책은 해당 이터레이터를 다시 생성하는 것 뿐이다. "
   ]
  },
  {
   "cell_type": "code",
   "execution_count": 78,
   "metadata": {},
   "outputs": [
    {
     "name": "stdout",
     "output_type": "stream",
     "text": [
      "0\n",
      "1\n",
      "2\n",
      "3\n",
      "4\n"
     ]
    }
   ],
   "source": [
    "iterator_once = generate_range(5)\n",
    "\n",
    "for i in iterator_once:\n",
    "    print(i)"
   ]
  },
  {
   "cell_type": "markdown",
   "metadata": {},
   "source": [
    "따라서 이터레이터가 반복적으로 사용되어야 한다면 차라리 리스트로 정의해서 활용하는 것이 나을 수 있다."
   ]
  },
  {
   "cell_type": "markdown",
   "metadata": {},
   "source": [
    "#### 제너레이터 조건제시법"
   ]
  },
  {
   "cell_type": "markdown",
   "metadata": {},
   "source": [
    "리스트와 사전 자료형의 경우에서처럼 조건제시법으로 제너레이터를 생성할 수 있다.\n",
    "사용하는 기호는 소괄호(`()`)이며, 마치 조건제시법으로 튜플을 생성하는 것처럼 보인다."
   ]
  },
  {
   "cell_type": "code",
   "execution_count": 3,
   "metadata": {},
   "outputs": [],
   "source": [
    "evens_below_20 = (i for i in generate_range(20) if i % 2 == 0)"
   ]
  },
  {
   "cell_type": "markdown",
   "metadata": {},
   "source": [
    "화면에 출력하고 싶어도 할 수 없다.\n",
    "제너레이터이기 때문에 정의된 되어 있을 뿐이며, 아무 것도 생성하지 않았기 때문이다."
   ]
  },
  {
   "cell_type": "code",
   "execution_count": 4,
   "metadata": {},
   "outputs": [
    {
     "name": "stdout",
     "output_type": "stream",
     "text": [
      "<generator object <genexpr> at 0x7f751cf61518>\n"
     ]
    }
   ],
   "source": [
    "print(evens_below_20)"
   ]
  },
  {
   "cell_type": "markdown",
   "metadata": {},
   "source": [
    "하지만 `for ... in ...` 반복문을 이용하여 원소들을 확인할 수 있다."
   ]
  },
  {
   "cell_type": "code",
   "execution_count": 5,
   "metadata": {},
   "outputs": [
    {
     "name": "stdout",
     "output_type": "stream",
     "text": [
      "0\n",
      "2\n",
      "4\n",
      "6\n",
      "8\n",
      "10\n",
      "12\n",
      "14\n",
      "16\n",
      "18\n"
     ]
    }
   ],
   "source": [
    "for x in evens_below_20:\n",
    "    print(x)"
   ]
  },
  {
   "cell_type": "markdown",
   "metadata": {},
   "source": [
    "동일한 이유로 아래 정의들은 무한 수열을 정의하지만 전혀 문제가 없다.\n",
    "이유는 반복문을 실행하기 전까지 아무런 계산도 하지 않기 때문이다."
   ]
  },
  {
   "cell_type": "code",
   "execution_count": 8,
   "metadata": {},
   "outputs": [],
   "source": [
    "data = natural_numbers()\n",
    "evens = (x for x in data if x % 2 == 0)\n",
    "even_squares = (x ** 2 for x in evens)\n",
    "even_squares_ending_in_six = (x for x in even_squares if x % 10 == 6)\n",
    "# 등등"
   ]
  },
  {
   "cell_type": "markdown",
   "metadata": {},
   "source": [
    "#### `next` 함수\n",
    "\n",
    "넥스트(`next`) 함수는 이터레이터에서 아직 생성되지 않는 다음 항목을 계산해내는 함수이다."
   ]
  },
  {
   "cell_type": "code",
   "execution_count": 9,
   "metadata": {},
   "outputs": [
    {
     "data": {
      "text/plain": [
       "16"
      ]
     },
     "execution_count": 9,
     "metadata": {},
     "output_type": "execute_result"
    }
   ],
   "source": [
    "next(even_squares_ending_in_six)"
   ]
  },
  {
   "cell_type": "code",
   "execution_count": 10,
   "metadata": {},
   "outputs": [
    {
     "data": {
      "text/plain": [
       "36"
      ]
     },
     "execution_count": 10,
     "metadata": {},
     "output_type": "execute_result"
    }
   ],
   "source": [
    "next(even_squares_ending_in_six)"
   ]
  },
  {
   "cell_type": "code",
   "execution_count": 11,
   "metadata": {},
   "outputs": [
    {
     "data": {
      "text/plain": [
       "196"
      ]
     },
     "execution_count": 11,
     "metadata": {},
     "output_type": "execute_result"
    }
   ],
   "source": [
    "next(even_squares_ending_in_six)"
   ]
  },
  {
   "cell_type": "markdown",
   "metadata": {},
   "source": [
    "#### `enumerate` 함수\n",
    "\n",
    "리스트 또는 제너레이터를 대상으로 반복문을 실행할 때\n",
    "각 항목고 함께 해당 항목의 인덱스를 함께 사용해야 할 때가 있다.\n",
    "이럴 때 이뉴머레이트(`enumerate`) 함수가 유용하다."
   ]
  },
  {
   "cell_type": "code",
   "execution_count": 13,
   "metadata": {},
   "outputs": [],
   "source": [
    "names = [\"Alice\", \"Bob\", \"Charlie\", \"Debbie\"]"
   ]
  },
  {
   "cell_type": "code",
   "execution_count": 16,
   "metadata": {},
   "outputs": [
    {
     "name": "stdout",
     "output_type": "stream",
     "text": [
      "0번 이름은 Alice입니다.\n",
      "1번 이름은 Bob입니다.\n",
      "2번 이름은 Charlie입니다.\n",
      "3번 이름은 Debbie입니다.\n"
     ]
    }
   ],
   "source": [
    "for i, name in enumerate(names):\n",
    "    print(f\"{i}번 이름은 {name}입니다.\")"
   ]
  },
  {
   "cell_type": "markdown",
   "metadata": {},
   "source": [
    "아래 두 방식도 가능하지만 `enumerate` 함수를 사용하는 것에 비하면\n",
    "별로 좋아 보이지 않는다."
   ]
  },
  {
   "cell_type": "code",
   "execution_count": 17,
   "metadata": {},
   "outputs": [
    {
     "name": "stdout",
     "output_type": "stream",
     "text": [
      "0번 이름은 Debbie입니다.\n",
      "1번 이름은 Debbie입니다.\n",
      "2번 이름은 Debbie입니다.\n",
      "3번 이름은 Debbie입니다.\n"
     ]
    }
   ],
   "source": [
    "for i in range(len(names)):\n",
    "    print(f\"{i}번 이름은 {name}입니다.\")"
   ]
  },
  {
   "cell_type": "code",
   "execution_count": 18,
   "metadata": {},
   "outputs": [
    {
     "name": "stdout",
     "output_type": "stream",
     "text": [
      "0번 이름은 Alice입니다.\n",
      "1번 이름은 Bob입니다.\n",
      "2번 이름은 Charlie입니다.\n",
      "3번 이름은 Debbie입니다.\n"
     ]
    }
   ],
   "source": [
    "i = 0\n",
    "for name in names:\n",
    "    print(f\"{i}번 이름은 {name}입니다.\")\n",
    "    i += 1"
   ]
  },
  {
   "cell_type": "markdown",
   "metadata": {},
   "source": [
    "### 난수 생성"
   ]
  },
  {
   "cell_type": "markdown",
   "metadata": {},
   "source": [
    "무작위 수를 생성할 필요가 종종 있다.\n",
    "무작위로 생성된 수를 난수(random number)라 부르며,\n",
    "난수 생성을 위해 랜덤(`random`) 모듈을 사용할 수 있다."
   ]
  },
  {
   "cell_type": "code",
   "execution_count": 19,
   "metadata": {},
   "outputs": [],
   "source": [
    "import random"
   ]
  },
  {
   "cell_type": "markdown",
   "metadata": {},
   "source": [
    "#### `random` 함수\n",
    "\n",
    "0과 1 사이의 실수를 무작위로, 하지만 균등하게(uniformly) 선택한다.\n",
    "여기서 균등성은 한 영역에 치우치지 전 영역에서 골고루 선택함을 의미한다."
   ]
  },
  {
   "cell_type": "code",
   "execution_count": 32,
   "metadata": {},
   "outputs": [
    {
     "data": {
      "text/plain": [
       "[0.9824132490111909,\n",
       " 0.9693881604049188,\n",
       " 0.613326820546709,\n",
       " 0.0442606328646209,\n",
       " 0.004055144158407464,\n",
       " 0.13397252704913387,\n",
       " 0.941002271395834,\n",
       " 0.3028605620290723,\n",
       " 0.3661456016604264,\n",
       " 0.8981962445391883]"
      ]
     },
     "execution_count": 32,
     "metadata": {},
     "output_type": "execute_result"
    }
   ],
   "source": [
    "[random.random() for _ in range(10)]"
   ]
  },
  {
   "cell_type": "markdown",
   "metadata": {},
   "source": [
    "**주의:** 난수 생성이 엄밀히 말하면 완전히 무작위는 아니다. \n",
    "모든 컴퓨터 안에 난수표가 있어서 `random` 같은 함수를 실행할 때마다\n",
    "난수표에서 차례대로 읽어서 보여주는 것에 불과하다.\n",
    "하지만 우리 인간에게는 무작위적으로 보이며, 실제로 매우 유용하게 활용된다."
   ]
  },
  {
   "cell_type": "markdown",
   "metadata": {},
   "source": [
    "#### 시드(`seed`) 함수\n",
    "\n",
    "코드를 실행할 때 마다 동일한 난수를 얻으려면,\n",
    "즉, 동일한 환경에서 데이터 분석 실험을 반복하려면 \n",
    "`seed` 함수를 먼저 실행해야 한다.\n",
    "\n",
    "간단한게 설명하면, `seed` 함수에 입력된 정수 인자가\n",
    "난수를 생성하는 기준을 제시한다.\n",
    "따라서 어떤 환경에서도 `seed` 함수의 입력값이 동일하면 \n",
    "동일한 난수가 생성된다."
   ]
  },
  {
   "cell_type": "code",
   "execution_count": 33,
   "metadata": {},
   "outputs": [
    {
     "name": "stdout",
     "output_type": "stream",
     "text": [
      "0.5714025946899135\n",
      "0.5714025946899135\n"
     ]
    }
   ],
   "source": [
    "random.seed(10)         # 시드를 10으로 지정\n",
    "print(random.random())\n",
    "random.seed(10)       \n",
    "print(random.random())"
   ]
  },
  {
   "cell_type": "markdown",
   "metadata": {},
   "source": [
    "시드를 지정하지 않으면 `random` 함수가 매번 다른 값을 생성한다."
   ]
  },
  {
   "cell_type": "code",
   "execution_count": 35,
   "metadata": {},
   "outputs": [
    {
     "name": "stdout",
     "output_type": "stream",
     "text": [
      "0.5780913011344704\n"
     ]
    }
   ],
   "source": [
    "print(random.random())"
   ]
  },
  {
   "cell_type": "code",
   "execution_count": 36,
   "metadata": {},
   "outputs": [
    {
     "name": "stdout",
     "output_type": "stream",
     "text": [
      "0.20609823213950174\n"
     ]
    }
   ],
   "source": [
    "print(random.random())"
   ]
  },
  {
   "cell_type": "code",
   "execution_count": 37,
   "metadata": {},
   "outputs": [
    {
     "name": "stdout",
     "output_type": "stream",
     "text": [
      "0.81332125135732\n"
     ]
    }
   ],
   "source": [
    "print(random.random())"
   ]
  },
  {
   "cell_type": "markdown",
   "metadata": {},
   "source": [
    "#### `randrange` 함수\n",
    "\n",
    "지정된 범위 안에서 정수를 무작위로 선택하는 함수이다. \n",
    "\n",
    "예를 들어, 0부터 9 사이의 정수중에서 임의로 하나의 수를 선택하려면 다음과 같이 실행한다."
   ]
  },
  {
   "cell_type": "code",
   "execution_count": 40,
   "metadata": {},
   "outputs": [
    {
     "data": {
      "text/plain": [
       "2"
      ]
     },
     "execution_count": 40,
     "metadata": {},
     "output_type": "execute_result"
    }
   ],
   "source": [
    "random.randrange(10)"
   ]
  },
  {
   "cell_type": "markdown",
   "metadata": {},
   "source": [
    "실행할 때마다 다른 값을 반환한다."
   ]
  },
  {
   "cell_type": "code",
   "execution_count": 41,
   "metadata": {},
   "outputs": [
    {
     "data": {
      "text/plain": [
       "0"
      ]
     },
     "execution_count": 41,
     "metadata": {},
     "output_type": "execute_result"
    }
   ],
   "source": [
    "random.randrange(10)"
   ]
  },
  {
   "cell_type": "markdown",
   "metadata": {},
   "source": [
    "그리고, 예를 들어, 3과 7 사이의 정수 중에서 임의로 하나를 선택하려면 다음과 같이 실행한다."
   ]
  },
  {
   "cell_type": "code",
   "execution_count": 42,
   "metadata": {},
   "outputs": [
    {
     "data": {
      "text/plain": [
       "6"
      ]
     },
     "execution_count": 42,
     "metadata": {},
     "output_type": "execute_result"
    }
   ],
   "source": [
    "random.randrange(3, 7)"
   ]
  },
  {
   "cell_type": "markdown",
   "metadata": {},
   "source": [
    "역시 실행할 때마다 다른 값을 반환한다."
   ]
  },
  {
   "cell_type": "code",
   "execution_count": 43,
   "metadata": {},
   "outputs": [
    {
     "data": {
      "text/plain": [
       "5"
      ]
     },
     "execution_count": 43,
     "metadata": {},
     "output_type": "execute_result"
    }
   ],
   "source": [
    "random.randrange(3, 7)"
   ]
  },
  {
   "cell_type": "markdown",
   "metadata": {},
   "source": [
    "하지만 `seed` 를 지정하면 매번 동일한 값을 반환한다."
   ]
  },
  {
   "cell_type": "code",
   "execution_count": 47,
   "metadata": {},
   "outputs": [
    {
     "data": {
      "text/plain": [
       "6"
      ]
     },
     "execution_count": 47,
     "metadata": {},
     "output_type": "execute_result"
    }
   ],
   "source": [
    "random.seed(0)\n",
    "random.randrange(3,7)"
   ]
  },
  {
   "cell_type": "code",
   "execution_count": 48,
   "metadata": {},
   "outputs": [
    {
     "data": {
      "text/plain": [
       "6"
      ]
     },
     "execution_count": 48,
     "metadata": {},
     "output_type": "execute_result"
    }
   ],
   "source": [
    "random.seed(0)\n",
    "random.randrange(3,7)"
   ]
  },
  {
   "cell_type": "code",
   "execution_count": 49,
   "metadata": {},
   "outputs": [
    {
     "data": {
      "text/plain": [
       "6"
      ]
     },
     "execution_count": 49,
     "metadata": {},
     "output_type": "execute_result"
    }
   ],
   "source": [
    "random.seed(0)\n",
    "random.randrange(3,7)"
   ]
  },
  {
   "cell_type": "markdown",
   "metadata": {},
   "source": [
    "#### `shuffle` 함수\n",
    "\n",
    "리스트의 항목들을 무작위로 섞고자 할 때 사용한다."
   ]
  },
  {
   "cell_type": "code",
   "execution_count": 52,
   "metadata": {},
   "outputs": [
    {
     "name": "stdout",
     "output_type": "stream",
     "text": [
      "[4, 8, 2, 10, 7, 6, 1, 5, 3, 9]\n"
     ]
    }
   ],
   "source": [
    "up_to_ten = [1, 2, 3, 4, 5, 6, 7, 8, 9, 10]\n",
    "random.shuffle(up_to_ten)\n",
    "print(up_to_ten)"
   ]
  },
  {
   "cell_type": "markdown",
   "metadata": {},
   "source": [
    "역시 실행할 때마다 다르게 섞는다."
   ]
  },
  {
   "cell_type": "code",
   "execution_count": 53,
   "metadata": {},
   "outputs": [
    {
     "name": "stdout",
     "output_type": "stream",
     "text": [
      "[1, 3, 9, 4, 2, 8, 5, 10, 7, 6]\n"
     ]
    }
   ],
   "source": [
    "up_to_ten = [1, 2, 3, 4, 5, 6, 7, 8, 9, 10]\n",
    "random.shuffle(up_to_ten)\n",
    "print(up_to_ten)"
   ]
  },
  {
   "cell_type": "markdown",
   "metadata": {},
   "source": [
    "하지만 시드를 지정하면 항상 동일한 결과를 보인다."
   ]
  },
  {
   "cell_type": "code",
   "execution_count": 54,
   "metadata": {},
   "outputs": [
    {
     "name": "stdout",
     "output_type": "stream",
     "text": [
      "[9, 7, 1, 3, 4, 2, 10, 6, 5, 8]\n"
     ]
    }
   ],
   "source": [
    "random.seed(50)\n",
    "up_to_ten = [1, 2, 3, 4, 5, 6, 7, 8, 9, 10]\n",
    "random.shuffle(up_to_ten)\n",
    "print(up_to_ten)"
   ]
  },
  {
   "cell_type": "code",
   "execution_count": 55,
   "metadata": {},
   "outputs": [
    {
     "name": "stdout",
     "output_type": "stream",
     "text": [
      "[9, 7, 1, 3, 4, 2, 10, 6, 5, 8]\n"
     ]
    }
   ],
   "source": [
    "random.seed(50)\n",
    "up_to_ten = [1, 2, 3, 4, 5, 6, 7, 8, 9, 10]\n",
    "random.shuffle(up_to_ten)\n",
    "print(up_to_ten)"
   ]
  },
  {
   "cell_type": "markdown",
   "metadata": {},
   "source": [
    "#### `choice` 함수\n",
    "\n",
    "리스트에서 임의로 하나의 항목을 선택할 때 사용한다."
   ]
  },
  {
   "cell_type": "code",
   "execution_count": 60,
   "metadata": {},
   "outputs": [
    {
     "data": {
      "text/plain": [
       "'Alice'"
      ]
     },
     "execution_count": 60,
     "metadata": {},
     "output_type": "execute_result"
    }
   ],
   "source": [
    "random.choice([\"Alice\", \"Bob\", \"Charlie\"])"
   ]
  },
  {
   "cell_type": "markdown",
   "metadata": {},
   "source": [
    "실행할 때마다 값이 달라질 수 있다. 그리고 중복 선택이 가능하다."
   ]
  },
  {
   "cell_type": "code",
   "execution_count": 61,
   "metadata": {},
   "outputs": [
    {
     "data": {
      "text/plain": [
       "'Bob'"
      ]
     },
     "execution_count": 61,
     "metadata": {},
     "output_type": "execute_result"
    }
   ],
   "source": [
    "random.choice([\"Alice\", \"Bob\", \"Charlie\"])"
   ]
  },
  {
   "cell_type": "code",
   "execution_count": 73,
   "metadata": {},
   "outputs": [
    {
     "data": {
      "text/plain": [
       "'Alice'"
      ]
     },
     "execution_count": 73,
     "metadata": {},
     "output_type": "execute_result"
    }
   ],
   "source": [
    "random.choice([\"Alice\", \"Bob\", \"Charlie\"])"
   ]
  },
  {
   "cell_type": "markdown",
   "metadata": {},
   "source": [
    "시드를 지정하면 동일한 결과를 얻는다."
   ]
  },
  {
   "cell_type": "code",
   "execution_count": 74,
   "metadata": {},
   "outputs": [
    {
     "data": {
      "text/plain": [
       "'Alice'"
      ]
     },
     "execution_count": 74,
     "metadata": {},
     "output_type": "execute_result"
    }
   ],
   "source": [
    "random.seed(100)\n",
    "random.choice([\"Alice\", \"Bob\", \"Charlie\"])"
   ]
  },
  {
   "cell_type": "code",
   "execution_count": 75,
   "metadata": {},
   "outputs": [
    {
     "data": {
      "text/plain": [
       "'Alice'"
      ]
     },
     "execution_count": 75,
     "metadata": {},
     "output_type": "execute_result"
    }
   ],
   "source": [
    "random.seed(100)\n",
    "random.choice([\"Alice\", \"Bob\", \"Charlie\"])"
   ]
  },
  {
   "cell_type": "code",
   "execution_count": 76,
   "metadata": {},
   "outputs": [
    {
     "data": {
      "text/plain": [
       "'Alice'"
      ]
     },
     "execution_count": 76,
     "metadata": {},
     "output_type": "execute_result"
    }
   ],
   "source": [
    "random.seed(100)\n",
    "random.choice([\"Alice\", \"Bob\", \"Charlie\"])"
   ]
  },
  {
   "cell_type": "markdown",
   "metadata": {},
   "source": [
    "#### `sample`  함수\n",
    "\n",
    "리스트에서 지정한 개수만큼의 항목을 무작위로 선택해서 새로운 리스트를 생성할 수도 있다.\n",
    "중복선택이 없다. 따라서 일종의 로또 뽑기와 비슷하게 작동한다."
   ]
  },
  {
   "cell_type": "code",
   "execution_count": 78,
   "metadata": {},
   "outputs": [
    {
     "data": {
      "text/plain": [
       "[46, 22, 27, 32, 51, 7]"
      ]
     },
     "execution_count": 78,
     "metadata": {},
     "output_type": "execute_result"
    }
   ],
   "source": [
    "lottery_numbers = range(60)\n",
    "random.sample(lottery_numbers, 6)"
   ]
  },
  {
   "cell_type": "markdown",
   "metadata": {},
   "source": [
    "실행할 때 마다 다르게 선택한다."
   ]
  },
  {
   "cell_type": "code",
   "execution_count": 79,
   "metadata": {},
   "outputs": [
    {
     "data": {
      "text/plain": [
       "[34, 7, 5, 47, 29, 16]"
      ]
     },
     "execution_count": 79,
     "metadata": {},
     "output_type": "execute_result"
    }
   ],
   "source": [
    "lottery_numbers = range(60)\n",
    "random.sample(lottery_numbers, 6)"
   ]
  },
  {
   "cell_type": "markdown",
   "metadata": {},
   "source": [
    "시드를 지정하면 변하지 않는다."
   ]
  },
  {
   "cell_type": "code",
   "execution_count": 80,
   "metadata": {},
   "outputs": [
    {
     "data": {
      "text/plain": [
       "[54, 24, 48, 56, 26, 2]"
      ]
     },
     "execution_count": 80,
     "metadata": {},
     "output_type": "execute_result"
    }
   ],
   "source": [
    "random.seed(0)\n",
    "lottery_numbers = range(60)\n",
    "random.sample(lottery_numbers, 6)"
   ]
  },
  {
   "cell_type": "code",
   "execution_count": 81,
   "metadata": {},
   "outputs": [
    {
     "data": {
      "text/plain": [
       "[54, 24, 48, 56, 26, 2]"
      ]
     },
     "execution_count": 81,
     "metadata": {},
     "output_type": "execute_result"
    }
   ],
   "source": [
    "random.seed(0)\n",
    "lottery_numbers = range(60)\n",
    "random.sample(lottery_numbers, 6)"
   ]
  },
  {
   "cell_type": "markdown",
   "metadata": {},
   "source": [
    "#### `choice`와 `range`의 합작\n",
    "\n",
    "두 함수를 합작하면 `sample` 유사하게 작동하는 코드를 구현할 수 있다.\n",
    "차이점은 중복 선택이 가능하다라는 점이다.\n",
    "\n",
    "예를 들어, 0부터 99 사이의 정수 중에서 중복을 허락하면서 무작위로 10개의 정수를 선택하고자 \n",
    "할 때 다음과 같이 실행한다."
   ]
  },
  {
   "cell_type": "code",
   "execution_count": 87,
   "metadata": {},
   "outputs": [
    {
     "name": "stdout",
     "output_type": "stream",
     "text": [
      "[12, 93, 9, 87, 42, 60, 71, 12, 45, 55]\n"
     ]
    }
   ],
   "source": [
    "four_with_replacement = [random.choice(range(100)) for _ in range(10)]\n",
    "print(four_with_replacement)"
   ]
  },
  {
   "cell_type": "markdown",
   "metadata": {},
   "source": [
    "실행할 때마다 결과가 다르다."
   ]
  },
  {
   "cell_type": "code",
   "execution_count": 88,
   "metadata": {},
   "outputs": [
    {
     "name": "stdout",
     "output_type": "stream",
     "text": [
      "[40, 78, 81, 26, 70, 61, 56, 66, 33, 7]\n"
     ]
    }
   ],
   "source": [
    "four_with_replacement = [random.choice(range(100)) for _ in range(10)]\n",
    "print(four_with_replacement)"
   ]
  },
  {
   "cell_type": "markdown",
   "metadata": {},
   "source": [
    "시드를 지정하면 항상 동일하다."
   ]
  },
  {
   "cell_type": "code",
   "execution_count": 90,
   "metadata": {},
   "outputs": [
    {
     "name": "stdout",
     "output_type": "stream",
     "text": [
      "[79, 32, 94, 45, 88, 94, 83, 67, 3, 59]\n"
     ]
    }
   ],
   "source": [
    "random.seed(5)\n",
    "four_with_replacement = [random.choice(range(100)) for _ in range(10)]\n",
    "print(four_with_replacement)"
   ]
  },
  {
   "cell_type": "code",
   "execution_count": 91,
   "metadata": {},
   "outputs": [
    {
     "name": "stdout",
     "output_type": "stream",
     "text": [
      "[79, 32, 94, 45, 88, 94, 83, 67, 3, 59]\n"
     ]
    }
   ],
   "source": [
    "random.seed(5)\n",
    "four_with_replacement = [random.choice(range(100)) for _ in range(10)]\n",
    "print(four_with_replacement)"
   ]
  },
  {
   "cell_type": "markdown",
   "metadata": {},
   "source": [
    "### 정규표현식"
   ]
  },
  {
   "cell_type": "code",
   "execution_count": 51,
   "metadata": {},
   "outputs": [
    {
     "name": "stdout",
     "output_type": "stream",
     "text": [
      "[2, 1, 9, 4]\n",
      "add expects two inputs\n",
      "as defined, g only takes one argument\n",
      "unnamed args: (1, 2)\n",
      "keyword args: {'key': 'word', 'key2': 'word2'}\n",
      "cannot add an int to a string\n"
     ]
    }
   ],
   "source": [
    "import re\n",
    "\n",
    "re_examples = [                        # all of these are true, because\n",
    "    not re.match(\"a\", \"cat\"),              #  'cat' doesn't start with 'a'\n",
    "    re.search(\"a\", \"cat\"),                 #  'cat' has an 'a' in it\n",
    "    not re.search(\"c\", \"dog\"),             #  'dog' doesn't have a 'c' in it\n",
    "    3 == len(re.split(\"[ab]\", \"carbs\")),   #  split on a or b to ['c','r','s']\n",
    "    \"R-D-\" == re.sub(\"[0-9]\", \"-\", \"R2D2\") #  replace digits with dashes\n",
    "    ]\n",
    "\n",
    "assert all(re_examples), \"all the regex examples should be True\"\n",
    "\n",
    "list1 = ['a', 'b', 'c']\n",
    "list2 = [1, 2, 3]\n",
    "\n",
    "# zip is lazy, so you have to do something like the following\n",
    "[pair for pair in zip(list1, list2)]    # is [('a', 1), ('b', 2), ('c', 3)]\n",
    "\n",
    "\n",
    "assert [pair for pair in zip(list1, list2)] == [('a', 1), ('b', 2), ('c', 3)]\n",
    "\n",
    "pairs = [('a', 1), ('b', 2), ('c', 3)]\n",
    "letters, numbers = zip(*pairs)\n",
    "\n",
    "letters, numbers = zip(('a', 1), ('b', 2), ('c', 3))\n",
    "\n",
    "def add(a, b): return a + b\n",
    "\n",
    "add(1, 2)      # returns 3\n",
    "try:\n",
    "    add([1, 2])\n",
    "except TypeError:\n",
    "    print(\"add expects two inputs\")\n",
    "add(*[1, 2])   # returns 3\n",
    "\n",
    "def doubler(f):\n",
    "    # Here we define a new function that keeps a reference to f\n",
    "    def g(x):\n",
    "        return 2 * f(x)\n",
    "\n",
    "    # And return that new function.\n",
    "    return g\n",
    "\n",
    "def f1(x):\n",
    "    return x + 1\n",
    "\n",
    "g = doubler(f1)\n",
    "assert g(3) == 8,  \"(3 + 1) * 2 should equal 8\"\n",
    "assert g(-1) == 0, \"(-1 + 1) * 2 should equal 0\"\n",
    "\n",
    "def f2(x, y):\n",
    "    return x + y\n",
    "\n",
    "g = doubler(f2)\n",
    "try:\n",
    "    g(1, 2)\n",
    "except TypeError:\n",
    "    print(\"as defined, g only takes one argument\")\n",
    "\n",
    "def magic(*args, **kwargs):\n",
    "    print(\"unnamed args:\", args)\n",
    "    print(\"keyword args:\", kwargs)\n",
    "\n",
    "magic(1, 2, key=\"word\", key2=\"word2\")\n",
    "\n",
    "# prints\n",
    "#  unnamed args: (1, 2)\n",
    "#  keyword args: {'key': 'word', 'key2': 'word2'}\n",
    "\n",
    "def other_way_magic(x, y, z):\n",
    "    return x + y + z\n",
    "\n",
    "x_y_list = [1, 2]\n",
    "z_dict = {\"z\": 3}\n",
    "assert other_way_magic(*x_y_list, **z_dict) == 6, \"1 + 2 + 3 should be 6\"\n",
    "\n",
    "def doubler_correct(f):\n",
    "    \"\"\"works no matter what kind of inputs f expects\"\"\"\n",
    "    def g(*args, **kwargs):\n",
    "        \"\"\"whatever arguments g is supplied, pass them through to f\"\"\"\n",
    "        return 2 * f(*args, **kwargs)\n",
    "    return g\n",
    "\n",
    "g = doubler_correct(f2)\n",
    "assert g(1, 2) == 6, \"doubler should work now\"\n",
    "\n",
    "def add(a, b):\n",
    "    return a + b\n",
    "\n",
    "assert add(10, 5) == 15,                  \"+ is valid for numbers\"\n",
    "assert add([1, 2], [3]) == [1, 2, 3],     \"+ is valid for lists\"\n",
    "assert add(\"hi \", \"there\") == \"hi there\", \"+ is valid for strings\"\n",
    "\n",
    "try:\n",
    "    add(10, \"five\")\n",
    "except TypeError:\n",
    "    print(\"cannot add an int to a string\")\n",
    "\n",
    "def add(a: int, b: int) -> int:\n",
    "    return a + b\n",
    "\n",
    "add(10, 5)           # you'd like this to be OK\n",
    "add(\"hi \", \"there\")  # you'd like this to be not OK\n",
    "\n",
    "\n",
    "# This is not in the book, but it's needed\n",
    "# to make the `dot_product` stubs not error out.\n",
    "from typing import List\n",
    "Vector = List[float]\n",
    "\n",
    "def dot_product(x, y): ...\n",
    "\n",
    "# we have not yet defined Vector, but imagine we had\n",
    "def dot_product(x: Vector, y: Vector) -> float: ...\n",
    "\n",
    "from typing import Union\n",
    "\n",
    "def secretly_ugly_function(value, operation): ...\n",
    "\n",
    "def ugly_function(value: int, operation: Union[str, int, float, bool]) -> int:\n",
    "    ...\n",
    "\n",
    "def total(xs: list) -> float:\n",
    "    return sum(xs)\n",
    "\n",
    "from typing import List  # note capital L\n",
    "\n",
    "def total(xs: List[float]) -> float:\n",
    "    return sum(xs)\n",
    "\n",
    "# This is how to type-annotate variables when you define them.\n",
    "# But this is unnecessary; it's \"obvious\" x is an int.\n",
    "x: int = 5\n",
    "\n",
    "values = []         # what's my type?\n",
    "best_so_far = None  # what's my type?\n",
    "\n",
    "from typing import Optional\n",
    "\n",
    "values: List[int] = []\n",
    "best_so_far: Optional[float] = None  # allowed to be either a float or None\n",
    "\n",
    "\n",
    "lazy = True\n",
    "\n",
    "# the type annotations in this snippet are all unnecessary\n",
    "from typing import Dict, Iterable, Tuple\n",
    "\n",
    "# keys are strings, values are ints\n",
    "counts: Dict[str, int] = {'data': 1, 'science': 2}\n",
    "\n",
    "# lists and generators are both iterable\n",
    "if lazy:\n",
    "    evens: Iterable[int] = (x for x in range(10) if x % 2 == 0)\n",
    "else:\n",
    "    evens = [0, 2, 4, 6, 8]\n",
    "\n",
    "# tuples specify a type for each element\n",
    "triple: Tuple[int, float, int] = (10, 2.3, 5)\n",
    "\n",
    "from typing import Callable\n",
    "\n",
    "# The type hint says that repeater is a function that takes\n",
    "# two arguments, a string and an int, and returns a string.\n",
    "def twice(repeater: Callable[[str, int], str], s: str) -> str:\n",
    "    return repeater(s, 2)\n",
    "\n",
    "def comma_repeater(s: str, n: int) -> str:\n",
    "    n_copies = [s for _ in range(n)]\n",
    "    return ', '.join(n_copies)\n",
    "\n",
    "assert twice(comma_repeater, \"type hints\") == \"type hints, type hints\"\n",
    "\n",
    "Number = int\n",
    "Numbers = List[Number]\n",
    "\n",
    "def total(xs: Numbers) -> Number:\n",
    "    return sum(xs)"
   ]
  },
  {
   "cell_type": "markdown",
   "metadata": {},
   "source": [
    "#### 모둠 자료형(collection data types)\n",
    "\n",
    "* `list`\n",
    "    * `list`의 `append` 메소드\n",
    "* `tuple`\n",
    "* `dict` 유사점과 차이점\n",
    "    * 사전 자료형에 포함된 항목들의 순서는 전혀 의미가 없다.\n",
    "    * `defaultdict` 개념과 활용\n",
    "        * [여기](https://docs.python.org/3/library/collections.html#collections.defaultdict) 설명 참조"
   ]
  },
  {
   "cell_type": "markdown",
   "metadata": {},
   "source": [
    "#### 리스트 정렬\n",
    "* 옵션: 키(`key`), 리버스(`reverse`)\n",
    "* 리스트의 길이가 매우 큰 경우 정렬이 아닌 다른 방법을 활용하는 것이 좋다. \n",
    "    정렬은 (시간적/공간적) 비용이 많이 들기 때문이다. \n",
    "    즉, 시간도 많이 들고 메모리도 많이 사용한다."
   ]
  },
  {
   "cell_type": "markdown",
   "metadata": {},
   "source": [
    "#### 조건제시법\n",
    "* 튜플, 리스트, 딕셔너리 조건제시법\n",
    "* 집합 조건제시법과 유사"
   ]
  },
  {
   "cell_type": "markdown",
   "metadata": {},
   "source": [
    "#### `Counter` 자료형 및 함수\n",
    "* `Counter` 클래스 활용법 익히기"
   ]
  },
  {
   "cell_type": "markdown",
   "metadata": {},
   "source": [
    "#### 함수\n",
    "\n",
    "* 파이썬에서 함수 정의하는 법\n",
    "* `lambda` 함수"
   ]
  },
  {
   "cell_type": "markdown",
   "metadata": {},
   "source": [
    "#### 확률과 통계 기초\n",
    "\n",
    "* 평균\n",
    "    * 평균값(average, 애버리지)\n",
    "    * 중앙값(median, 미디언)\n",
    "    * 최빈값(mode, 모드)\n",
    "\n",
    "* 산점도"
   ]
  },
  {
   "cell_type": "markdown",
   "metadata": {},
   "source": [
    "#### 파이썬으로 그래프 그리기\n",
    "\n",
    "* 맷플롯립(`matplotlib`) 라이브러리를 활용하여 그래프 그리기\n",
    "    * 3장에서 좀 더 다양한 그래프 그리는 방법을 다룰 예정임."
   ]
  },
  {
   "cell_type": "code",
   "execution_count": null,
   "metadata": {},
   "outputs": [],
   "source": []
  }
 ],
 "metadata": {
  "kernelspec": {
   "display_name": "Python 3",
   "language": "python",
   "name": "python3"
  },
  "language_info": {
   "codemirror_mode": {
    "name": "ipython",
    "version": 3
   },
   "file_extension": ".py",
   "mimetype": "text/x-python",
   "name": "python",
   "nbconvert_exporter": "python",
   "pygments_lexer": "ipython3",
   "version": "3.6.8"
  }
 },
 "nbformat": 4,
 "nbformat_minor": 2
}
